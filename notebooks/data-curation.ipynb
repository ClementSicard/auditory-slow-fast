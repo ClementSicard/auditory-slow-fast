{
 "cells": [
  {
   "cell_type": "markdown",
   "metadata": {},
   "source": [
    "# Data curation on `EPIC-KITCHENS-100` annotations\n"
   ]
  },
  {
   "cell_type": "markdown",
   "metadata": {},
   "source": [
    "## 0. Install dependencies & clone datasets\n"
   ]
  },
  {
   "cell_type": "code",
   "execution_count": 1,
   "metadata": {},
   "outputs": [
    {
     "name": "stdout",
     "output_type": "stream",
     "text": [
      "Requirement already satisfied: pandas in /scratch/cs7561/venv/lib/python3.10/site-packages (2.1.1)\n",
      "Requirement already satisfied: numpy>=1.22.4 in /scratch/cs7561/venv/lib/python3.10/site-packages (from pandas) (1.24.4)\n",
      "Requirement already satisfied: python-dateutil>=2.8.2 in /scratch/cs7561/venv/lib/python3.10/site-packages (from pandas) (2.8.2)\n",
      "Requirement already satisfied: pytz>=2020.1 in /scratch/cs7561/venv/lib/python3.10/site-packages (from pandas) (2023.3.post1)\n",
      "Requirement already satisfied: tzdata>=2022.1 in /scratch/cs7561/venv/lib/python3.10/site-packages (from pandas) (2023.3)\n",
      "Requirement already satisfied: six>=1.5 in /scratch/cs7561/venv/lib/python3.10/site-packages (from python-dateutil>=2.8.2->pandas) (1.16.0)\n",
      "Note: you may need to restart the kernel to use updated packages.\n",
      "Requirement already satisfied: plotly in /scratch/cs7561/venv/lib/python3.10/site-packages (5.17.0)\n",
      "Requirement already satisfied: tenacity>=6.2.0 in /scratch/cs7561/venv/lib/python3.10/site-packages (from plotly) (8.2.3)\n",
      "Requirement already satisfied: packaging in /scratch/cs7561/venv/lib/python3.10/site-packages (from plotly) (23.1)\n",
      "Note: you may need to restart the kernel to use updated packages.\n"
     ]
    }
   ],
   "source": [
    "%pip install -U pandas\n",
    "%pip install -U plotly"
   ]
  },
  {
   "cell_type": "code",
   "execution_count": 2,
   "metadata": {
    "vscode": {
     "languageId": "shellscript"
    }
   },
   "outputs": [],
   "source": [
    "%%bash\n",
    "# Clone the repositories if they don't exist\n",
    "DATA_DIR=\"./data\"\n",
    "EK_REPO_NAME=\"epic-kitchens-100-annotations\"\n",
    "ES_REPO_NAME=\"epic-sounds-annotations\"\n",
    "\n",
    "cd .. && make data"
   ]
  },
  {
   "cell_type": "markdown",
   "metadata": {},
   "source": [
    "## 1. Imports\n"
   ]
  },
  {
   "cell_type": "code",
   "execution_count": 3,
   "metadata": {},
   "outputs": [],
   "source": [
    "import pandas as pd\n",
    "\n",
    "# Use plotly as backend for pandas\n",
    "pd.options.plotting.backend = \"plotly\"\n"
   ]
  },
  {
   "cell_type": "markdown",
   "metadata": {},
   "source": [
    "## 2. Load annotations\n"
   ]
  },
  {
   "cell_type": "code",
   "execution_count": 3,
   "metadata": {},
   "outputs": [
    {
     "data": {
      "text/html": [
       "<div>\n",
       "<style scoped>\n",
       "    .dataframe tbody tr th:only-of-type {\n",
       "        vertical-align: middle;\n",
       "    }\n",
       "\n",
       "    .dataframe tbody tr th {\n",
       "        vertical-align: top;\n",
       "    }\n",
       "\n",
       "    .dataframe thead th {\n",
       "        text-align: right;\n",
       "    }\n",
       "</style>\n",
       "<table border=\"1\" class=\"dataframe\">\n",
       "  <thead>\n",
       "    <tr style=\"text-align: right;\">\n",
       "      <th></th>\n",
       "      <th>key</th>\n",
       "      <th>instances</th>\n",
       "      <th>category</th>\n",
       "    </tr>\n",
       "    <tr>\n",
       "      <th>id</th>\n",
       "      <th></th>\n",
       "      <th></th>\n",
       "      <th></th>\n",
       "    </tr>\n",
       "  </thead>\n",
       "  <tbody>\n",
       "    <tr>\n",
       "      <th>0</th>\n",
       "      <td>take</td>\n",
       "      <td>['collect-from', 'collect-into', 'draw', 'fetc...</td>\n",
       "      <td>retrieve</td>\n",
       "    </tr>\n",
       "    <tr>\n",
       "      <th>1</th>\n",
       "      <td>put</td>\n",
       "      <td>['create', 'dose', 'lay', 'lay-down', 'lay-on'...</td>\n",
       "      <td>leave</td>\n",
       "    </tr>\n",
       "    <tr>\n",
       "      <th>2</th>\n",
       "      <td>wash</td>\n",
       "      <td>['clean', 'clean-around', 'clean-from', 'clean...</td>\n",
       "      <td>clean</td>\n",
       "    </tr>\n",
       "    <tr>\n",
       "      <th>3</th>\n",
       "      <td>open</td>\n",
       "      <td>['lever-open', 'open', 'open-in', 'open-on', '...</td>\n",
       "      <td>access</td>\n",
       "    </tr>\n",
       "    <tr>\n",
       "      <th>4</th>\n",
       "      <td>close</td>\n",
       "      <td>['close', 'close-off', 'close-with', 'screw-on...</td>\n",
       "      <td>block</td>\n",
       "    </tr>\n",
       "  </tbody>\n",
       "</table>\n",
       "</div>"
      ],
      "text/plain": [
       "      key                                          instances  category\n",
       "id                                                                    \n",
       "0    take  ['collect-from', 'collect-into', 'draw', 'fetc...  retrieve\n",
       "1     put  ['create', 'dose', 'lay', 'lay-down', 'lay-on'...     leave\n",
       "2    wash  ['clean', 'clean-around', 'clean-from', 'clean...     clean\n",
       "3    open  ['lever-open', 'open', 'open-in', 'open-on', '...    access\n",
       "4   close  ['close', 'close-off', 'close-with', 'screw-on...     block"
      ]
     },
     "execution_count": 3,
     "metadata": {},
     "output_type": "execute_result"
    }
   ],
   "source": [
    "ek_verbs_path = \"../data/epic-kitchens-100-annotations/EPIC_100_verb_classes.csv\"\n",
    "\n",
    "verbs_df = pd.read_csv(ek_verbs_path, header=0, index_col=0)\n",
    "verbs_df.head()"
   ]
  },
  {
   "cell_type": "code",
   "execution_count": 4,
   "metadata": {},
   "outputs": [
    {
     "name": "stdout",
     "output_type": "stream",
     "text": [
      "Number of verbs: 97\n"
     ]
    }
   ],
   "source": [
    "verbs = sorted(verbs_df.key.unique())\n",
    "print(f\"Number of verbs: {len(verbs)}\")"
   ]
  },
  {
   "cell_type": "markdown",
   "metadata": {},
   "source": [
    "We want to select for now only the verbs that relate a clear and dramatic audio event (i.e. something that breaks). Here are some of them:\n"
   ]
  },
  {
   "cell_type": "code",
   "execution_count": 5,
   "metadata": {},
   "outputs": [],
   "source": [
    "INTERESTING_VERB_CLASSES = {\n",
    "    \"break\",\n",
    "    \"crush\",\n",
    "    \"pat\",\n",
    "    \"put\",\n",
    "    # \"shake\",\n",
    "    \"sharpen\",\n",
    "    \"smell\",\n",
    "    \"throw\",\n",
    "    \"water\",\n",
    "}"
   ]
  },
  {
   "cell_type": "markdown",
   "metadata": {},
   "source": [
    "Make sure all the selected verb classes are well in the dataset (i.e. there are no typos)\n"
   ]
  },
  {
   "cell_type": "code",
   "execution_count": 6,
   "metadata": {},
   "outputs": [],
   "source": [
    "assert INTERESTING_VERB_CLASSES.issubset(\n",
    "    verbs\n",
    "), f\"Some verb classes are not in the list of verbs: {INTERESTING_VERB_CLASSES - set(verbs)}\""
   ]
  },
  {
   "cell_type": "markdown",
   "metadata": {},
   "source": [
    "Get all the IDs corresponding to the verb classes we want to keep\n"
   ]
  },
  {
   "cell_type": "code",
   "execution_count": 7,
   "metadata": {},
   "outputs": [
    {
     "data": {
      "text/plain": [
       "[1, 13, 30, 32, 49, 58, 62, 75]"
      ]
     },
     "execution_count": 7,
     "metadata": {},
     "output_type": "execute_result"
    }
   ],
   "source": [
    "INTERESTING_VERB_CLASSES_IDS = verbs_df[verbs_df.key.isin(INTERESTING_VERB_CLASSES)].index.to_list()\n",
    "INTERESTING_VERB_CLASSES_IDS"
   ]
  },
  {
   "cell_type": "markdown",
   "metadata": {},
   "source": [
    "## 3. Plot how frequent these verbs show up in the dataset\n"
   ]
  },
  {
   "cell_type": "code",
   "execution_count": 8,
   "metadata": {},
   "outputs": [
    {
     "data": {
      "text/html": [
       "<div>\n",
       "<style scoped>\n",
       "    .dataframe tbody tr th:only-of-type {\n",
       "        vertical-align: middle;\n",
       "    }\n",
       "\n",
       "    .dataframe tbody tr th {\n",
       "        vertical-align: top;\n",
       "    }\n",
       "\n",
       "    .dataframe thead th {\n",
       "        text-align: right;\n",
       "    }\n",
       "</style>\n",
       "<table border=\"1\" class=\"dataframe\">\n",
       "  <thead>\n",
       "    <tr style=\"text-align: right;\">\n",
       "      <th></th>\n",
       "      <th>participant_id</th>\n",
       "      <th>video_id</th>\n",
       "      <th>narration_timestamp</th>\n",
       "      <th>start_timestamp</th>\n",
       "      <th>stop_timestamp</th>\n",
       "      <th>start_frame</th>\n",
       "      <th>stop_frame</th>\n",
       "      <th>narration</th>\n",
       "      <th>verb</th>\n",
       "      <th>verb_class</th>\n",
       "      <th>noun</th>\n",
       "      <th>noun_class</th>\n",
       "      <th>all_nouns</th>\n",
       "      <th>all_noun_classes</th>\n",
       "      <th>duration_in_s</th>\n",
       "    </tr>\n",
       "    <tr>\n",
       "      <th>narration_id</th>\n",
       "      <th></th>\n",
       "      <th></th>\n",
       "      <th></th>\n",
       "      <th></th>\n",
       "      <th></th>\n",
       "      <th></th>\n",
       "      <th></th>\n",
       "      <th></th>\n",
       "      <th></th>\n",
       "      <th></th>\n",
       "      <th></th>\n",
       "      <th></th>\n",
       "      <th></th>\n",
       "      <th></th>\n",
       "      <th></th>\n",
       "    </tr>\n",
       "  </thead>\n",
       "  <tbody>\n",
       "    <tr>\n",
       "      <th>P01_01_0</th>\n",
       "      <td>P01</td>\n",
       "      <td>P01_01</td>\n",
       "      <td>00:00:01.089</td>\n",
       "      <td>00:00:00.14</td>\n",
       "      <td>00:00:03.37</td>\n",
       "      <td>8</td>\n",
       "      <td>202</td>\n",
       "      <td>open door</td>\n",
       "      <td>open</td>\n",
       "      <td>3</td>\n",
       "      <td>door</td>\n",
       "      <td>3</td>\n",
       "      <td>[door]</td>\n",
       "      <td>[3]</td>\n",
       "      <td>3.23</td>\n",
       "    </tr>\n",
       "    <tr>\n",
       "      <th>P01_01_1</th>\n",
       "      <td>P01</td>\n",
       "      <td>P01_01</td>\n",
       "      <td>00:00:02.629</td>\n",
       "      <td>00:00:04.37</td>\n",
       "      <td>00:00:06.17</td>\n",
       "      <td>262</td>\n",
       "      <td>370</td>\n",
       "      <td>turn on light</td>\n",
       "      <td>turn-on</td>\n",
       "      <td>6</td>\n",
       "      <td>light</td>\n",
       "      <td>114</td>\n",
       "      <td>[light]</td>\n",
       "      <td>[114]</td>\n",
       "      <td>1.80</td>\n",
       "    </tr>\n",
       "    <tr>\n",
       "      <th>P01_01_10</th>\n",
       "      <td>P01</td>\n",
       "      <td>P01_01</td>\n",
       "      <td>00:00:23.340</td>\n",
       "      <td>00:00:24.97</td>\n",
       "      <td>00:00:26.20</td>\n",
       "      <td>1498</td>\n",
       "      <td>1572</td>\n",
       "      <td>open drawer</td>\n",
       "      <td>open</td>\n",
       "      <td>3</td>\n",
       "      <td>drawer</td>\n",
       "      <td>8</td>\n",
       "      <td>[drawer]</td>\n",
       "      <td>[8]</td>\n",
       "      <td>1.23</td>\n",
       "    </tr>\n",
       "    <tr>\n",
       "      <th>P01_01_100</th>\n",
       "      <td>P01</td>\n",
       "      <td>P01_01</td>\n",
       "      <td>00:07:57.919</td>\n",
       "      <td>00:07:59.75</td>\n",
       "      <td>00:08:00.88</td>\n",
       "      <td>28785</td>\n",
       "      <td>28852</td>\n",
       "      <td>take cup</td>\n",
       "      <td>take</td>\n",
       "      <td>0</td>\n",
       "      <td>cup</td>\n",
       "      <td>13</td>\n",
       "      <td>[cup]</td>\n",
       "      <td>[13]</td>\n",
       "      <td>1.13</td>\n",
       "    </tr>\n",
       "    <tr>\n",
       "      <th>P01_01_101</th>\n",
       "      <td>P01</td>\n",
       "      <td>P01_01</td>\n",
       "      <td>00:08:00.020</td>\n",
       "      <td>00:08:01.47</td>\n",
       "      <td>00:08:02.21</td>\n",
       "      <td>28888</td>\n",
       "      <td>28932</td>\n",
       "      <td>open cupboard</td>\n",
       "      <td>open</td>\n",
       "      <td>3</td>\n",
       "      <td>cupboard</td>\n",
       "      <td>3</td>\n",
       "      <td>[cupboard]</td>\n",
       "      <td>[3]</td>\n",
       "      <td>0.74</td>\n",
       "    </tr>\n",
       "    <tr>\n",
       "      <th>P01_01_102</th>\n",
       "      <td>P01</td>\n",
       "      <td>P01_01</td>\n",
       "      <td>00:08:01.229</td>\n",
       "      <td>00:08:02.13</td>\n",
       "      <td>00:08:03.00</td>\n",
       "      <td>28927</td>\n",
       "      <td>28980</td>\n",
       "      <td>put cup into cupboard</td>\n",
       "      <td>put-into</td>\n",
       "      <td>5</td>\n",
       "      <td>cup</td>\n",
       "      <td>13</td>\n",
       "      <td>[cup, cupboard]</td>\n",
       "      <td>[13, 3]</td>\n",
       "      <td>0.87</td>\n",
       "    </tr>\n",
       "    <tr>\n",
       "      <th>P01_01_103</th>\n",
       "      <td>P01</td>\n",
       "      <td>P01_01</td>\n",
       "      <td>00:08:03.919</td>\n",
       "      <td>00:08:05.22</td>\n",
       "      <td>00:08:07.21</td>\n",
       "      <td>29113</td>\n",
       "      <td>29232</td>\n",
       "      <td>take container and lid</td>\n",
       "      <td>take</td>\n",
       "      <td>0</td>\n",
       "      <td>container</td>\n",
       "      <td>21</td>\n",
       "      <td>[container, lid]</td>\n",
       "      <td>[21, 6]</td>\n",
       "      <td>1.99</td>\n",
       "    </tr>\n",
       "    <tr>\n",
       "      <th>P01_01_104</th>\n",
       "      <td>P01</td>\n",
       "      <td>P01_01</td>\n",
       "      <td>00:08:07.610</td>\n",
       "      <td>00:08:08.38</td>\n",
       "      <td>00:08:09.12</td>\n",
       "      <td>29302</td>\n",
       "      <td>29347</td>\n",
       "      <td>put container on top of counter</td>\n",
       "      <td>put-on</td>\n",
       "      <td>1</td>\n",
       "      <td>container</td>\n",
       "      <td>21</td>\n",
       "      <td>[container, top:counter]</td>\n",
       "      <td>[21, 42]</td>\n",
       "      <td>0.74</td>\n",
       "    </tr>\n",
       "    <tr>\n",
       "      <th>P01_01_105</th>\n",
       "      <td>P01</td>\n",
       "      <td>P01_01</td>\n",
       "      <td>00:08:09.860</td>\n",
       "      <td>00:08:12.00</td>\n",
       "      <td>00:08:12.74</td>\n",
       "      <td>29520</td>\n",
       "      <td>29564</td>\n",
       "      <td>open container</td>\n",
       "      <td>open</td>\n",
       "      <td>3</td>\n",
       "      <td>container</td>\n",
       "      <td>21</td>\n",
       "      <td>[container]</td>\n",
       "      <td>[21]</td>\n",
       "      <td>0.74</td>\n",
       "    </tr>\n",
       "    <tr>\n",
       "      <th>P01_01_106</th>\n",
       "      <td>P01</td>\n",
       "      <td>P01_01</td>\n",
       "      <td>00:08:12.900</td>\n",
       "      <td>00:08:13.22</td>\n",
       "      <td>00:08:14.37</td>\n",
       "      <td>29593</td>\n",
       "      <td>29662</td>\n",
       "      <td>put container inside container</td>\n",
       "      <td>put-inside</td>\n",
       "      <td>5</td>\n",
       "      <td>container</td>\n",
       "      <td>21</td>\n",
       "      <td>[container, container]</td>\n",
       "      <td>[21, 21]</td>\n",
       "      <td>1.15</td>\n",
       "    </tr>\n",
       "    <tr>\n",
       "      <th>P01_01_107</th>\n",
       "      <td>P01</td>\n",
       "      <td>P01_01</td>\n",
       "      <td>00:08:14.550</td>\n",
       "      <td>00:08:15.80</td>\n",
       "      <td>00:08:16.99</td>\n",
       "      <td>29748</td>\n",
       "      <td>29819</td>\n",
       "      <td>close lid</td>\n",
       "      <td>close</td>\n",
       "      <td>4</td>\n",
       "      <td>lid</td>\n",
       "      <td>6</td>\n",
       "      <td>[lid]</td>\n",
       "      <td>[6]</td>\n",
       "      <td>1.19</td>\n",
       "    </tr>\n",
       "    <tr>\n",
       "      <th>P01_01_108</th>\n",
       "      <td>P01</td>\n",
       "      <td>P01_01</td>\n",
       "      <td>00:08:18.039</td>\n",
       "      <td>00:08:19.64</td>\n",
       "      <td>00:08:20.60</td>\n",
       "      <td>29978</td>\n",
       "      <td>30036</td>\n",
       "      <td>put container in cupboard</td>\n",
       "      <td>put-in</td>\n",
       "      <td>5</td>\n",
       "      <td>container</td>\n",
       "      <td>21</td>\n",
       "      <td>[container, cupboard]</td>\n",
       "      <td>[21, 3]</td>\n",
       "      <td>0.96</td>\n",
       "    </tr>\n",
       "    <tr>\n",
       "      <th>P01_01_109</th>\n",
       "      <td>P01</td>\n",
       "      <td>P01_01</td>\n",
       "      <td>00:08:21.050</td>\n",
       "      <td>00:08:22.35</td>\n",
       "      <td>00:08:23.31</td>\n",
       "      <td>30141</td>\n",
       "      <td>30198</td>\n",
       "      <td>take plate</td>\n",
       "      <td>take</td>\n",
       "      <td>0</td>\n",
       "      <td>plate</td>\n",
       "      <td>2</td>\n",
       "      <td>[plate]</td>\n",
       "      <td>[2]</td>\n",
       "      <td>0.96</td>\n",
       "    </tr>\n",
       "    <tr>\n",
       "      <th>P01_01_11</th>\n",
       "      <td>P01</td>\n",
       "      <td>P01_01</td>\n",
       "      <td>00:00:27.960</td>\n",
       "      <td>00:00:29.22</td>\n",
       "      <td>00:00:31.32</td>\n",
       "      <td>1753</td>\n",
       "      <td>1879</td>\n",
       "      <td>close fridge</td>\n",
       "      <td>close</td>\n",
       "      <td>4</td>\n",
       "      <td>fridge</td>\n",
       "      <td>12</td>\n",
       "      <td>[fridge]</td>\n",
       "      <td>[12]</td>\n",
       "      <td>2.10</td>\n",
       "    </tr>\n",
       "    <tr>\n",
       "      <th>P01_01_110</th>\n",
       "      <td>P01</td>\n",
       "      <td>P01_01</td>\n",
       "      <td>00:08:25.669</td>\n",
       "      <td>00:08:24.66</td>\n",
       "      <td>00:08:27.92</td>\n",
       "      <td>30279</td>\n",
       "      <td>30475</td>\n",
       "      <td>put plate down</td>\n",
       "      <td>put-down</td>\n",
       "      <td>1</td>\n",
       "      <td>plate</td>\n",
       "      <td>2</td>\n",
       "      <td>[plate]</td>\n",
       "      <td>[2]</td>\n",
       "      <td>3.26</td>\n",
       "    </tr>\n",
       "    <tr>\n",
       "      <th>P01_01_111</th>\n",
       "      <td>P01</td>\n",
       "      <td>P01_01</td>\n",
       "      <td>00:08:26.759</td>\n",
       "      <td>00:08:28.16</td>\n",
       "      <td>00:08:29.94</td>\n",
       "      <td>30489</td>\n",
       "      <td>30596</td>\n",
       "      <td>open drawer</td>\n",
       "      <td>open</td>\n",
       "      <td>3</td>\n",
       "      <td>drawer</td>\n",
       "      <td>8</td>\n",
       "      <td>[drawer]</td>\n",
       "      <td>[8]</td>\n",
       "      <td>1.78</td>\n",
       "    </tr>\n",
       "    <tr>\n",
       "      <th>P01_01_112</th>\n",
       "      <td>P01</td>\n",
       "      <td>P01_01</td>\n",
       "      <td>00:08:29.879</td>\n",
       "      <td>00:08:29.29</td>\n",
       "      <td>00:08:31.54</td>\n",
       "      <td>30557</td>\n",
       "      <td>30692</td>\n",
       "      <td>take something</td>\n",
       "      <td>take</td>\n",
       "      <td>0</td>\n",
       "      <td>drawer</td>\n",
       "      <td>8</td>\n",
       "      <td>[drawer]</td>\n",
       "      <td>[8]</td>\n",
       "      <td>2.25</td>\n",
       "    </tr>\n",
       "    <tr>\n",
       "      <th>P01_01_113</th>\n",
       "      <td>P01</td>\n",
       "      <td>P01_01</td>\n",
       "      <td>00:08:32.200</td>\n",
       "      <td>00:08:32.66</td>\n",
       "      <td>00:08:34.43</td>\n",
       "      <td>30759</td>\n",
       "      <td>30865</td>\n",
       "      <td>put down something</td>\n",
       "      <td>put-down</td>\n",
       "      <td>1</td>\n",
       "      <td>drawer</td>\n",
       "      <td>8</td>\n",
       "      <td>[drawer]</td>\n",
       "      <td>[8]</td>\n",
       "      <td>1.77</td>\n",
       "    </tr>\n",
       "    <tr>\n",
       "      <th>P01_01_114</th>\n",
       "      <td>P01</td>\n",
       "      <td>P01_01</td>\n",
       "      <td>00:08:35.200</td>\n",
       "      <td>00:08:36.81</td>\n",
       "      <td>00:08:38.05</td>\n",
       "      <td>31008</td>\n",
       "      <td>31082</td>\n",
       "      <td>open drawer</td>\n",
       "      <td>open</td>\n",
       "      <td>3</td>\n",
       "      <td>drawer</td>\n",
       "      <td>8</td>\n",
       "      <td>[drawer]</td>\n",
       "      <td>[8]</td>\n",
       "      <td>1.24</td>\n",
       "    </tr>\n",
       "    <tr>\n",
       "      <th>P01_01_115</th>\n",
       "      <td>P01</td>\n",
       "      <td>P01_01</td>\n",
       "      <td>00:08:36.460</td>\n",
       "      <td>00:08:37.88</td>\n",
       "      <td>00:08:39.13</td>\n",
       "      <td>31072</td>\n",
       "      <td>31147</td>\n",
       "      <td>take fork</td>\n",
       "      <td>take</td>\n",
       "      <td>0</td>\n",
       "      <td>fork</td>\n",
       "      <td>14</td>\n",
       "      <td>[fork]</td>\n",
       "      <td>[14]</td>\n",
       "      <td>1.25</td>\n",
       "    </tr>\n",
       "  </tbody>\n",
       "</table>\n",
       "</div>"
      ],
      "text/plain": [
       "             participant_id video_id narration_timestamp start_timestamp  \\\n",
       "narration_id                                                               \n",
       "P01_01_0                P01   P01_01        00:00:01.089     00:00:00.14   \n",
       "P01_01_1                P01   P01_01        00:00:02.629     00:00:04.37   \n",
       "P01_01_10               P01   P01_01        00:00:23.340     00:00:24.97   \n",
       "P01_01_100              P01   P01_01        00:07:57.919     00:07:59.75   \n",
       "P01_01_101              P01   P01_01        00:08:00.020     00:08:01.47   \n",
       "P01_01_102              P01   P01_01        00:08:01.229     00:08:02.13   \n",
       "P01_01_103              P01   P01_01        00:08:03.919     00:08:05.22   \n",
       "P01_01_104              P01   P01_01        00:08:07.610     00:08:08.38   \n",
       "P01_01_105              P01   P01_01        00:08:09.860     00:08:12.00   \n",
       "P01_01_106              P01   P01_01        00:08:12.900     00:08:13.22   \n",
       "P01_01_107              P01   P01_01        00:08:14.550     00:08:15.80   \n",
       "P01_01_108              P01   P01_01        00:08:18.039     00:08:19.64   \n",
       "P01_01_109              P01   P01_01        00:08:21.050     00:08:22.35   \n",
       "P01_01_11               P01   P01_01        00:00:27.960     00:00:29.22   \n",
       "P01_01_110              P01   P01_01        00:08:25.669     00:08:24.66   \n",
       "P01_01_111              P01   P01_01        00:08:26.759     00:08:28.16   \n",
       "P01_01_112              P01   P01_01        00:08:29.879     00:08:29.29   \n",
       "P01_01_113              P01   P01_01        00:08:32.200     00:08:32.66   \n",
       "P01_01_114              P01   P01_01        00:08:35.200     00:08:36.81   \n",
       "P01_01_115              P01   P01_01        00:08:36.460     00:08:37.88   \n",
       "\n",
       "             stop_timestamp  start_frame  stop_frame  \\\n",
       "narration_id                                           \n",
       "P01_01_0        00:00:03.37            8         202   \n",
       "P01_01_1        00:00:06.17          262         370   \n",
       "P01_01_10       00:00:26.20         1498        1572   \n",
       "P01_01_100      00:08:00.88        28785       28852   \n",
       "P01_01_101      00:08:02.21        28888       28932   \n",
       "P01_01_102      00:08:03.00        28927       28980   \n",
       "P01_01_103      00:08:07.21        29113       29232   \n",
       "P01_01_104      00:08:09.12        29302       29347   \n",
       "P01_01_105      00:08:12.74        29520       29564   \n",
       "P01_01_106      00:08:14.37        29593       29662   \n",
       "P01_01_107      00:08:16.99        29748       29819   \n",
       "P01_01_108      00:08:20.60        29978       30036   \n",
       "P01_01_109      00:08:23.31        30141       30198   \n",
       "P01_01_11       00:00:31.32         1753        1879   \n",
       "P01_01_110      00:08:27.92        30279       30475   \n",
       "P01_01_111      00:08:29.94        30489       30596   \n",
       "P01_01_112      00:08:31.54        30557       30692   \n",
       "P01_01_113      00:08:34.43        30759       30865   \n",
       "P01_01_114      00:08:38.05        31008       31082   \n",
       "P01_01_115      00:08:39.13        31072       31147   \n",
       "\n",
       "                                    narration        verb  verb_class  \\\n",
       "narration_id                                                            \n",
       "P01_01_0                            open door        open           3   \n",
       "P01_01_1                        turn on light     turn-on           6   \n",
       "P01_01_10                         open drawer        open           3   \n",
       "P01_01_100                           take cup        take           0   \n",
       "P01_01_101                      open cupboard        open           3   \n",
       "P01_01_102              put cup into cupboard    put-into           5   \n",
       "P01_01_103             take container and lid        take           0   \n",
       "P01_01_104    put container on top of counter      put-on           1   \n",
       "P01_01_105                     open container        open           3   \n",
       "P01_01_106     put container inside container  put-inside           5   \n",
       "P01_01_107                          close lid       close           4   \n",
       "P01_01_108          put container in cupboard      put-in           5   \n",
       "P01_01_109                         take plate        take           0   \n",
       "P01_01_11                        close fridge       close           4   \n",
       "P01_01_110                     put plate down    put-down           1   \n",
       "P01_01_111                        open drawer        open           3   \n",
       "P01_01_112                     take something        take           0   \n",
       "P01_01_113                 put down something    put-down           1   \n",
       "P01_01_114                        open drawer        open           3   \n",
       "P01_01_115                          take fork        take           0   \n",
       "\n",
       "                   noun  noun_class                 all_nouns  \\\n",
       "narration_id                                                    \n",
       "P01_01_0           door           3                    [door]   \n",
       "P01_01_1          light         114                   [light]   \n",
       "P01_01_10        drawer           8                  [drawer]   \n",
       "P01_01_100          cup          13                     [cup]   \n",
       "P01_01_101     cupboard           3                [cupboard]   \n",
       "P01_01_102          cup          13           [cup, cupboard]   \n",
       "P01_01_103    container          21          [container, lid]   \n",
       "P01_01_104    container          21  [container, top:counter]   \n",
       "P01_01_105    container          21               [container]   \n",
       "P01_01_106    container          21    [container, container]   \n",
       "P01_01_107          lid           6                     [lid]   \n",
       "P01_01_108    container          21     [container, cupboard]   \n",
       "P01_01_109        plate           2                   [plate]   \n",
       "P01_01_11        fridge          12                  [fridge]   \n",
       "P01_01_110        plate           2                   [plate]   \n",
       "P01_01_111       drawer           8                  [drawer]   \n",
       "P01_01_112       drawer           8                  [drawer]   \n",
       "P01_01_113       drawer           8                  [drawer]   \n",
       "P01_01_114       drawer           8                  [drawer]   \n",
       "P01_01_115         fork          14                    [fork]   \n",
       "\n",
       "             all_noun_classes  duration_in_s  \n",
       "narration_id                                  \n",
       "P01_01_0                  [3]           3.23  \n",
       "P01_01_1                [114]           1.80  \n",
       "P01_01_10                 [8]           1.23  \n",
       "P01_01_100               [13]           1.13  \n",
       "P01_01_101                [3]           0.74  \n",
       "P01_01_102            [13, 3]           0.87  \n",
       "P01_01_103            [21, 6]           1.99  \n",
       "P01_01_104           [21, 42]           0.74  \n",
       "P01_01_105               [21]           0.74  \n",
       "P01_01_106           [21, 21]           1.15  \n",
       "P01_01_107                [6]           1.19  \n",
       "P01_01_108            [21, 3]           0.96  \n",
       "P01_01_109                [2]           0.96  \n",
       "P01_01_11                [12]           2.10  \n",
       "P01_01_110                [2]           3.26  \n",
       "P01_01_111                [8]           1.78  \n",
       "P01_01_112                [8]           2.25  \n",
       "P01_01_113                [8]           1.77  \n",
       "P01_01_114                [8]           1.24  \n",
       "P01_01_115               [14]           1.25  "
      ]
     },
     "execution_count": 8,
     "metadata": {},
     "output_type": "execute_result"
    }
   ],
   "source": [
    "ek_train_path = \"../data/epic-kitchens-100-annotations/EPIC_100_train.pkl\"\n",
    "\n",
    "ek_train_df = pd.read_pickle(ek_train_path)\n",
    "ek_train_df[\"start_ts_td\"] = pd.to_timedelta(ek_train_df[\"start_timestamp\"])\n",
    "ek_train_df[\"stop_ts_td\"] = pd.to_timedelta(ek_train_df[\"stop_timestamp\"])\n",
    "ek_train_df[\"duration_in_s\"] = (ek_train_df[\"stop_ts_td\"] - ek_train_df[\"start_ts_td\"]).dt.total_seconds()\n",
    "del ek_train_df[\"start_ts_td\"]\n",
    "del ek_train_df[\"stop_ts_td\"]\n",
    "\n",
    "ek_train_df.head(20)"
   ]
  },
  {
   "cell_type": "markdown",
   "metadata": {},
   "source": [
    "Compute a summed duration for each verb class and sort them by duration\n"
   ]
  },
  {
   "cell_type": "code",
   "execution_count": 9,
   "metadata": {},
   "outputs": [
    {
     "data": {
      "text/html": [
       "<div>\n",
       "<style scoped>\n",
       "    .dataframe tbody tr th:only-of-type {\n",
       "        vertical-align: middle;\n",
       "    }\n",
       "\n",
       "    .dataframe tbody tr th {\n",
       "        vertical-align: top;\n",
       "    }\n",
       "\n",
       "    .dataframe thead th {\n",
       "        text-align: right;\n",
       "    }\n",
       "</style>\n",
       "<table border=\"1\" class=\"dataframe\">\n",
       "  <thead>\n",
       "    <tr style=\"text-align: right;\">\n",
       "      <th></th>\n",
       "      <th>duration_in_s</th>\n",
       "      <th>verb_class_name</th>\n",
       "    </tr>\n",
       "    <tr>\n",
       "      <th>verb_class</th>\n",
       "      <th></th>\n",
       "      <th></th>\n",
       "    </tr>\n",
       "  </thead>\n",
       "  <tbody>\n",
       "    <tr>\n",
       "      <th>2</th>\n",
       "      <td>38479.65</td>\n",
       "      <td>wash</td>\n",
       "    </tr>\n",
       "    <tr>\n",
       "      <th>0</th>\n",
       "      <td>25655.79</td>\n",
       "      <td>take</td>\n",
       "    </tr>\n",
       "    <tr>\n",
       "      <th>1</th>\n",
       "      <td>21787.86</td>\n",
       "      <td>put</td>\n",
       "    </tr>\n",
       "    <tr>\n",
       "      <th>7</th>\n",
       "      <td>17386.92</td>\n",
       "      <td>cut</td>\n",
       "    </tr>\n",
       "    <tr>\n",
       "      <th>10</th>\n",
       "      <td>16973.70</td>\n",
       "      <td>mix</td>\n",
       "    </tr>\n",
       "    <tr>\n",
       "      <th>...</th>\n",
       "      <td>...</td>\n",
       "      <td>...</td>\n",
       "    </tr>\n",
       "    <tr>\n",
       "      <th>83</th>\n",
       "      <td>16.24</td>\n",
       "      <td>uncover</td>\n",
       "    </tr>\n",
       "    <tr>\n",
       "      <th>90</th>\n",
       "      <td>15.22</td>\n",
       "      <td>season</td>\n",
       "    </tr>\n",
       "    <tr>\n",
       "      <th>91</th>\n",
       "      <td>11.73</td>\n",
       "      <td>unlock</td>\n",
       "    </tr>\n",
       "    <tr>\n",
       "      <th>93</th>\n",
       "      <td>1.43</td>\n",
       "      <td>bake</td>\n",
       "    </tr>\n",
       "    <tr>\n",
       "      <th>95</th>\n",
       "      <td>1.10</td>\n",
       "      <td>bend</td>\n",
       "    </tr>\n",
       "  </tbody>\n",
       "</table>\n",
       "<p>97 rows × 2 columns</p>\n",
       "</div>"
      ],
      "text/plain": [
       "            duration_in_s verb_class_name\n",
       "verb_class                               \n",
       "2                38479.65            wash\n",
       "0                25655.79            take\n",
       "1                21787.86             put\n",
       "7                17386.92             cut\n",
       "10               16973.70             mix\n",
       "...                   ...             ...\n",
       "83                  16.24         uncover\n",
       "90                  15.22          season\n",
       "91                  11.73          unlock\n",
       "93                   1.43            bake\n",
       "95                   1.10            bend\n",
       "\n",
       "[97 rows x 2 columns]"
      ]
     },
     "execution_count": 9,
     "metadata": {},
     "output_type": "execute_result"
    }
   ],
   "source": [
    "agg_df = ek_train_df.groupby(\"verb_class\").agg({\"duration_in_s\": \"sum\"}).sort_values(\"duration_in_s\", ascending=False)\n",
    "agg_df[\"verb_class_name\"] = agg_df.index.map(lambda x: verbs_df.loc[x].key)\n",
    "agg_df"
   ]
  },
  {
   "cell_type": "code",
   "execution_count": 10,
   "metadata": {},
   "outputs": [
    {
     "data": {
      "application/vnd.plotly.v1+json": {
       "config": {
        "plotlyServerURL": "https://plot.ly"
       },
       "data": [
        {
         "alignmentgroup": "True",
         "hovertemplate": "Verb class=%{x}<br>Total aggregated duration (in s)=%{text}<extra></extra>",
         "legendgroup": "",
         "marker": {
          "color": "#636efa",
          "pattern": {
           "shape": ""
          }
         },
         "name": "",
         "offsetgroup": "",
         "orientation": "v",
         "showlegend": false,
         "text": [
          38479.65,
          25655.79,
          21787.86,
          17386.92,
          16973.7,
          9170.84,
          8459.99,
          7584.04,
          5629.07,
          4796.42,
          3750.02,
          3668.11,
          3435.41,
          3171.45,
          2372.16,
          1745.12,
          1677.13,
          1599.48,
          1387.58,
          1326.85,
          1291.99,
          1276.91,
          1262.23,
          1258.36,
          1256.33,
          1197.29,
          1182.57,
          1140.92,
          1001.97,
          902.63,
          848.98,
          831.62,
          738.62,
          670.4399999999999,
          664.95,
          639.13,
          637.06,
          628.31,
          576.73,
          567.45,
          557.11,
          556.89,
          546.62,
          517.33,
          496.27,
          492.5,
          486.3,
          420.67,
          400.72,
          398.9
         ],
         "textposition": "auto",
         "texttemplate": "%{y}",
         "type": "bar",
         "x": [
          "wash",
          "take",
          "put",
          "cut",
          "mix",
          "open",
          "insert",
          "pour",
          "close",
          "remove",
          "turn-on",
          "move",
          "peel",
          "dry",
          "turn-off",
          "scoop",
          "throw",
          "turn",
          "apply",
          "shake",
          "squeeze",
          "scrub",
          "scrape",
          "flip",
          "adjust",
          "press",
          "break",
          "empty",
          "check",
          "fill",
          "knead",
          "divide",
          "cook",
          "crush",
          "roll",
          "hold",
          "sprinkle",
          "filter",
          "search",
          "wait",
          "look",
          "fold",
          "brush",
          "grate",
          "wrap",
          "sort",
          "unroll",
          "add",
          "eat",
          "lift"
         ],
         "xaxis": "x",
         "y": [
          38479.65,
          25655.79,
          21787.86,
          17386.92,
          16973.7,
          9170.84,
          8459.99,
          7584.04,
          5629.07,
          4796.42,
          3750.02,
          3668.11,
          3435.41,
          3171.45,
          2372.16,
          1745.12,
          1677.13,
          1599.48,
          1387.58,
          1326.85,
          1291.99,
          1276.91,
          1262.23,
          1258.36,
          1256.33,
          1197.29,
          1182.57,
          1140.92,
          1001.97,
          902.63,
          848.98,
          831.62,
          738.62,
          670.4399999999999,
          664.95,
          639.13,
          637.06,
          628.31,
          576.73,
          567.45,
          557.11,
          556.89,
          546.62,
          517.33,
          496.27,
          492.5,
          486.3,
          420.67,
          400.72,
          398.9
         ],
         "yaxis": "y"
        }
       ],
       "layout": {
        "barmode": "relative",
        "height": 600,
        "legend": {
         "tracegroupgap": 0
        },
        "template": {
         "data": {
          "bar": [
           {
            "error_x": {
             "color": "#2a3f5f"
            },
            "error_y": {
             "color": "#2a3f5f"
            },
            "marker": {
             "line": {
              "color": "white",
              "width": 0.5
             },
             "pattern": {
              "fillmode": "overlay",
              "size": 10,
              "solidity": 0.2
             }
            },
            "type": "bar"
           }
          ],
          "barpolar": [
           {
            "marker": {
             "line": {
              "color": "white",
              "width": 0.5
             },
             "pattern": {
              "fillmode": "overlay",
              "size": 10,
              "solidity": 0.2
             }
            },
            "type": "barpolar"
           }
          ],
          "carpet": [
           {
            "aaxis": {
             "endlinecolor": "#2a3f5f",
             "gridcolor": "#C8D4E3",
             "linecolor": "#C8D4E3",
             "minorgridcolor": "#C8D4E3",
             "startlinecolor": "#2a3f5f"
            },
            "baxis": {
             "endlinecolor": "#2a3f5f",
             "gridcolor": "#C8D4E3",
             "linecolor": "#C8D4E3",
             "minorgridcolor": "#C8D4E3",
             "startlinecolor": "#2a3f5f"
            },
            "type": "carpet"
           }
          ],
          "choropleth": [
           {
            "colorbar": {
             "outlinewidth": 0,
             "ticks": ""
            },
            "type": "choropleth"
           }
          ],
          "contour": [
           {
            "colorbar": {
             "outlinewidth": 0,
             "ticks": ""
            },
            "colorscale": [
             [
              0,
              "#0d0887"
             ],
             [
              0.1111111111111111,
              "#46039f"
             ],
             [
              0.2222222222222222,
              "#7201a8"
             ],
             [
              0.3333333333333333,
              "#9c179e"
             ],
             [
              0.4444444444444444,
              "#bd3786"
             ],
             [
              0.5555555555555556,
              "#d8576b"
             ],
             [
              0.6666666666666666,
              "#ed7953"
             ],
             [
              0.7777777777777778,
              "#fb9f3a"
             ],
             [
              0.8888888888888888,
              "#fdca26"
             ],
             [
              1,
              "#f0f921"
             ]
            ],
            "type": "contour"
           }
          ],
          "contourcarpet": [
           {
            "colorbar": {
             "outlinewidth": 0,
             "ticks": ""
            },
            "type": "contourcarpet"
           }
          ],
          "heatmap": [
           {
            "colorbar": {
             "outlinewidth": 0,
             "ticks": ""
            },
            "colorscale": [
             [
              0,
              "#0d0887"
             ],
             [
              0.1111111111111111,
              "#46039f"
             ],
             [
              0.2222222222222222,
              "#7201a8"
             ],
             [
              0.3333333333333333,
              "#9c179e"
             ],
             [
              0.4444444444444444,
              "#bd3786"
             ],
             [
              0.5555555555555556,
              "#d8576b"
             ],
             [
              0.6666666666666666,
              "#ed7953"
             ],
             [
              0.7777777777777778,
              "#fb9f3a"
             ],
             [
              0.8888888888888888,
              "#fdca26"
             ],
             [
              1,
              "#f0f921"
             ]
            ],
            "type": "heatmap"
           }
          ],
          "heatmapgl": [
           {
            "colorbar": {
             "outlinewidth": 0,
             "ticks": ""
            },
            "colorscale": [
             [
              0,
              "#0d0887"
             ],
             [
              0.1111111111111111,
              "#46039f"
             ],
             [
              0.2222222222222222,
              "#7201a8"
             ],
             [
              0.3333333333333333,
              "#9c179e"
             ],
             [
              0.4444444444444444,
              "#bd3786"
             ],
             [
              0.5555555555555556,
              "#d8576b"
             ],
             [
              0.6666666666666666,
              "#ed7953"
             ],
             [
              0.7777777777777778,
              "#fb9f3a"
             ],
             [
              0.8888888888888888,
              "#fdca26"
             ],
             [
              1,
              "#f0f921"
             ]
            ],
            "type": "heatmapgl"
           }
          ],
          "histogram": [
           {
            "marker": {
             "pattern": {
              "fillmode": "overlay",
              "size": 10,
              "solidity": 0.2
             }
            },
            "type": "histogram"
           }
          ],
          "histogram2d": [
           {
            "colorbar": {
             "outlinewidth": 0,
             "ticks": ""
            },
            "colorscale": [
             [
              0,
              "#0d0887"
             ],
             [
              0.1111111111111111,
              "#46039f"
             ],
             [
              0.2222222222222222,
              "#7201a8"
             ],
             [
              0.3333333333333333,
              "#9c179e"
             ],
             [
              0.4444444444444444,
              "#bd3786"
             ],
             [
              0.5555555555555556,
              "#d8576b"
             ],
             [
              0.6666666666666666,
              "#ed7953"
             ],
             [
              0.7777777777777778,
              "#fb9f3a"
             ],
             [
              0.8888888888888888,
              "#fdca26"
             ],
             [
              1,
              "#f0f921"
             ]
            ],
            "type": "histogram2d"
           }
          ],
          "histogram2dcontour": [
           {
            "colorbar": {
             "outlinewidth": 0,
             "ticks": ""
            },
            "colorscale": [
             [
              0,
              "#0d0887"
             ],
             [
              0.1111111111111111,
              "#46039f"
             ],
             [
              0.2222222222222222,
              "#7201a8"
             ],
             [
              0.3333333333333333,
              "#9c179e"
             ],
             [
              0.4444444444444444,
              "#bd3786"
             ],
             [
              0.5555555555555556,
              "#d8576b"
             ],
             [
              0.6666666666666666,
              "#ed7953"
             ],
             [
              0.7777777777777778,
              "#fb9f3a"
             ],
             [
              0.8888888888888888,
              "#fdca26"
             ],
             [
              1,
              "#f0f921"
             ]
            ],
            "type": "histogram2dcontour"
           }
          ],
          "mesh3d": [
           {
            "colorbar": {
             "outlinewidth": 0,
             "ticks": ""
            },
            "type": "mesh3d"
           }
          ],
          "parcoords": [
           {
            "line": {
             "colorbar": {
              "outlinewidth": 0,
              "ticks": ""
             }
            },
            "type": "parcoords"
           }
          ],
          "pie": [
           {
            "automargin": true,
            "type": "pie"
           }
          ],
          "scatter": [
           {
            "fillpattern": {
             "fillmode": "overlay",
             "size": 10,
             "solidity": 0.2
            },
            "type": "scatter"
           }
          ],
          "scatter3d": [
           {
            "line": {
             "colorbar": {
              "outlinewidth": 0,
              "ticks": ""
             }
            },
            "marker": {
             "colorbar": {
              "outlinewidth": 0,
              "ticks": ""
             }
            },
            "type": "scatter3d"
           }
          ],
          "scattercarpet": [
           {
            "marker": {
             "colorbar": {
              "outlinewidth": 0,
              "ticks": ""
             }
            },
            "type": "scattercarpet"
           }
          ],
          "scattergeo": [
           {
            "marker": {
             "colorbar": {
              "outlinewidth": 0,
              "ticks": ""
             }
            },
            "type": "scattergeo"
           }
          ],
          "scattergl": [
           {
            "marker": {
             "colorbar": {
              "outlinewidth": 0,
              "ticks": ""
             }
            },
            "type": "scattergl"
           }
          ],
          "scattermapbox": [
           {
            "marker": {
             "colorbar": {
              "outlinewidth": 0,
              "ticks": ""
             }
            },
            "type": "scattermapbox"
           }
          ],
          "scatterpolar": [
           {
            "marker": {
             "colorbar": {
              "outlinewidth": 0,
              "ticks": ""
             }
            },
            "type": "scatterpolar"
           }
          ],
          "scatterpolargl": [
           {
            "marker": {
             "colorbar": {
              "outlinewidth": 0,
              "ticks": ""
             }
            },
            "type": "scatterpolargl"
           }
          ],
          "scatterternary": [
           {
            "marker": {
             "colorbar": {
              "outlinewidth": 0,
              "ticks": ""
             }
            },
            "type": "scatterternary"
           }
          ],
          "surface": [
           {
            "colorbar": {
             "outlinewidth": 0,
             "ticks": ""
            },
            "colorscale": [
             [
              0,
              "#0d0887"
             ],
             [
              0.1111111111111111,
              "#46039f"
             ],
             [
              0.2222222222222222,
              "#7201a8"
             ],
             [
              0.3333333333333333,
              "#9c179e"
             ],
             [
              0.4444444444444444,
              "#bd3786"
             ],
             [
              0.5555555555555556,
              "#d8576b"
             ],
             [
              0.6666666666666666,
              "#ed7953"
             ],
             [
              0.7777777777777778,
              "#fb9f3a"
             ],
             [
              0.8888888888888888,
              "#fdca26"
             ],
             [
              1,
              "#f0f921"
             ]
            ],
            "type": "surface"
           }
          ],
          "table": [
           {
            "cells": {
             "fill": {
              "color": "#EBF0F8"
             },
             "line": {
              "color": "white"
             }
            },
            "header": {
             "fill": {
              "color": "#C8D4E3"
             },
             "line": {
              "color": "white"
             }
            },
            "type": "table"
           }
          ]
         },
         "layout": {
          "annotationdefaults": {
           "arrowcolor": "#2a3f5f",
           "arrowhead": 0,
           "arrowwidth": 1
          },
          "autotypenumbers": "strict",
          "coloraxis": {
           "colorbar": {
            "outlinewidth": 0,
            "ticks": ""
           }
          },
          "colorscale": {
           "diverging": [
            [
             0,
             "#8e0152"
            ],
            [
             0.1,
             "#c51b7d"
            ],
            [
             0.2,
             "#de77ae"
            ],
            [
             0.3,
             "#f1b6da"
            ],
            [
             0.4,
             "#fde0ef"
            ],
            [
             0.5,
             "#f7f7f7"
            ],
            [
             0.6,
             "#e6f5d0"
            ],
            [
             0.7,
             "#b8e186"
            ],
            [
             0.8,
             "#7fbc41"
            ],
            [
             0.9,
             "#4d9221"
            ],
            [
             1,
             "#276419"
            ]
           ],
           "sequential": [
            [
             0,
             "#0d0887"
            ],
            [
             0.1111111111111111,
             "#46039f"
            ],
            [
             0.2222222222222222,
             "#7201a8"
            ],
            [
             0.3333333333333333,
             "#9c179e"
            ],
            [
             0.4444444444444444,
             "#bd3786"
            ],
            [
             0.5555555555555556,
             "#d8576b"
            ],
            [
             0.6666666666666666,
             "#ed7953"
            ],
            [
             0.7777777777777778,
             "#fb9f3a"
            ],
            [
             0.8888888888888888,
             "#fdca26"
            ],
            [
             1,
             "#f0f921"
            ]
           ],
           "sequentialminus": [
            [
             0,
             "#0d0887"
            ],
            [
             0.1111111111111111,
             "#46039f"
            ],
            [
             0.2222222222222222,
             "#7201a8"
            ],
            [
             0.3333333333333333,
             "#9c179e"
            ],
            [
             0.4444444444444444,
             "#bd3786"
            ],
            [
             0.5555555555555556,
             "#d8576b"
            ],
            [
             0.6666666666666666,
             "#ed7953"
            ],
            [
             0.7777777777777778,
             "#fb9f3a"
            ],
            [
             0.8888888888888888,
             "#fdca26"
            ],
            [
             1,
             "#f0f921"
            ]
           ]
          },
          "colorway": [
           "#636efa",
           "#EF553B",
           "#00cc96",
           "#ab63fa",
           "#FFA15A",
           "#19d3f3",
           "#FF6692",
           "#B6E880",
           "#FF97FF",
           "#FECB52"
          ],
          "font": {
           "color": "#2a3f5f"
          },
          "geo": {
           "bgcolor": "white",
           "lakecolor": "white",
           "landcolor": "white",
           "showlakes": true,
           "showland": true,
           "subunitcolor": "#C8D4E3"
          },
          "hoverlabel": {
           "align": "left"
          },
          "hovermode": "closest",
          "mapbox": {
           "style": "light"
          },
          "paper_bgcolor": "white",
          "plot_bgcolor": "white",
          "polar": {
           "angularaxis": {
            "gridcolor": "#EBF0F8",
            "linecolor": "#EBF0F8",
            "ticks": ""
           },
           "bgcolor": "white",
           "radialaxis": {
            "gridcolor": "#EBF0F8",
            "linecolor": "#EBF0F8",
            "ticks": ""
           }
          },
          "scene": {
           "xaxis": {
            "backgroundcolor": "white",
            "gridcolor": "#DFE8F3",
            "gridwidth": 2,
            "linecolor": "#EBF0F8",
            "showbackground": true,
            "ticks": "",
            "zerolinecolor": "#EBF0F8"
           },
           "yaxis": {
            "backgroundcolor": "white",
            "gridcolor": "#DFE8F3",
            "gridwidth": 2,
            "linecolor": "#EBF0F8",
            "showbackground": true,
            "ticks": "",
            "zerolinecolor": "#EBF0F8"
           },
           "zaxis": {
            "backgroundcolor": "white",
            "gridcolor": "#DFE8F3",
            "gridwidth": 2,
            "linecolor": "#EBF0F8",
            "showbackground": true,
            "ticks": "",
            "zerolinecolor": "#EBF0F8"
           }
          },
          "shapedefaults": {
           "line": {
            "color": "#2a3f5f"
           }
          },
          "ternary": {
           "aaxis": {
            "gridcolor": "#DFE8F3",
            "linecolor": "#A2B1C6",
            "ticks": ""
           },
           "baxis": {
            "gridcolor": "#DFE8F3",
            "linecolor": "#A2B1C6",
            "ticks": ""
           },
           "bgcolor": "white",
           "caxis": {
            "gridcolor": "#DFE8F3",
            "linecolor": "#A2B1C6",
            "ticks": ""
           }
          },
          "title": {
           "x": 0.05
          },
          "xaxis": {
           "automargin": true,
           "gridcolor": "#EBF0F8",
           "linecolor": "#EBF0F8",
           "ticks": "",
           "title": {
            "standoff": 15
           },
           "zerolinecolor": "#EBF0F8",
           "zerolinewidth": 2
          },
          "yaxis": {
           "automargin": true,
           "gridcolor": "#EBF0F8",
           "linecolor": "#EBF0F8",
           "ticks": "",
           "title": {
            "standoff": 15
           },
           "zerolinecolor": "#EBF0F8",
           "zerolinewidth": 2
          }
         }
        },
        "title": {
         "text": "Top 50 most present verb classes in the whole dataset"
        },
        "xaxis": {
         "anchor": "y",
         "domain": [
          0,
          1
         ],
         "title": {
          "text": "Verb class"
         }
        },
        "yaxis": {
         "anchor": "x",
         "domain": [
          0,
          1
         ],
         "title": {
          "text": "Total aggregated duration (in s)"
         }
        }
       }
      }
     },
     "metadata": {},
     "output_type": "display_data"
    }
   ],
   "source": [
    "import plotly.express as px\n",
    "\n",
    "n = 50\n",
    "px.bar(\n",
    "    agg_df[:n],\n",
    "    y=\"duration_in_s\",\n",
    "    x=\"verb_class_name\",\n",
    "    labels={\n",
    "        \"verb_class_name\": \"Verb class\",\n",
    "        \"duration_in_s\": \"Total aggregated duration (in s)\",\n",
    "    },\n",
    "    title=f\"Top {n} most present verb classes in the whole dataset\",\n",
    "    text=\"duration_in_s\",\n",
    "    template=\"plotly_white\",\n",
    "    text_auto=True,\n",
    "    height=600,\n",
    ")\n"
   ]
  },
  {
   "cell_type": "code",
   "execution_count": 11,
   "metadata": {},
   "outputs": [
    {
     "data": {
      "text/html": [
       "<div>\n",
       "<style scoped>\n",
       "    .dataframe tbody tr th:only-of-type {\n",
       "        vertical-align: middle;\n",
       "    }\n",
       "\n",
       "    .dataframe tbody tr th {\n",
       "        vertical-align: top;\n",
       "    }\n",
       "\n",
       "    .dataframe thead th {\n",
       "        text-align: right;\n",
       "    }\n",
       "</style>\n",
       "<table border=\"1\" class=\"dataframe\">\n",
       "  <thead>\n",
       "    <tr style=\"text-align: right;\">\n",
       "      <th></th>\n",
       "      <th>duration_in_s</th>\n",
       "      <th>verb_class_name</th>\n",
       "    </tr>\n",
       "    <tr>\n",
       "      <th>verb_class</th>\n",
       "      <th></th>\n",
       "      <th></th>\n",
       "    </tr>\n",
       "  </thead>\n",
       "  <tbody>\n",
       "    <tr>\n",
       "      <th>1</th>\n",
       "      <td>21787.86</td>\n",
       "      <td>put</td>\n",
       "    </tr>\n",
       "    <tr>\n",
       "      <th>13</th>\n",
       "      <td>1677.13</td>\n",
       "      <td>throw</td>\n",
       "    </tr>\n",
       "    <tr>\n",
       "      <th>30</th>\n",
       "      <td>1182.57</td>\n",
       "      <td>break</td>\n",
       "    </tr>\n",
       "    <tr>\n",
       "      <th>49</th>\n",
       "      <td>670.44</td>\n",
       "      <td>crush</td>\n",
       "    </tr>\n",
       "    <tr>\n",
       "      <th>32</th>\n",
       "      <td>366.08</td>\n",
       "      <td>pat</td>\n",
       "    </tr>\n",
       "    <tr>\n",
       "      <th>58</th>\n",
       "      <td>261.40</td>\n",
       "      <td>sharpen</td>\n",
       "    </tr>\n",
       "    <tr>\n",
       "      <th>62</th>\n",
       "      <td>78.73</td>\n",
       "      <td>water</td>\n",
       "    </tr>\n",
       "    <tr>\n",
       "      <th>75</th>\n",
       "      <td>54.04</td>\n",
       "      <td>smell</td>\n",
       "    </tr>\n",
       "  </tbody>\n",
       "</table>\n",
       "</div>"
      ],
      "text/plain": [
       "            duration_in_s verb_class_name\n",
       "verb_class                               \n",
       "1                21787.86             put\n",
       "13                1677.13           throw\n",
       "30                1182.57           break\n",
       "49                 670.44           crush\n",
       "32                 366.08             pat\n",
       "58                 261.40         sharpen\n",
       "62                  78.73           water\n",
       "75                  54.04           smell"
      ]
     },
     "execution_count": 11,
     "metadata": {},
     "output_type": "execute_result"
    }
   ],
   "source": [
    "agg_df.loc[INTERESTING_VERB_CLASSES_IDS].sort_values(\"duration_in_s\", ascending=False)"
   ]
  },
  {
   "cell_type": "markdown",
   "metadata": {},
   "source": [
    "Now we plot the distribution of instances of the selected verb classes in the dataset\n"
   ]
  },
  {
   "cell_type": "code",
   "execution_count": 12,
   "metadata": {},
   "outputs": [
    {
     "data": {
      "application/vnd.plotly.v1+json": {
       "config": {
        "plotlyServerURL": "https://plot.ly"
       },
       "data": [
        {
         "alignmentgroup": "True",
         "hovertemplate": "Verb class=%{x}<br>Total aggregated duration (in s)=%{text}<extra></extra>",
         "legendgroup": "",
         "marker": {
          "color": "#636efa",
          "pattern": {
           "shape": ""
          }
         },
         "name": "",
         "offsetgroup": "",
         "orientation": "v",
         "showlegend": false,
         "text": [
          21787.86,
          1677.13,
          1182.57,
          670.4399999999999,
          366.08,
          261.4,
          78.73,
          54.04
         ],
         "textposition": "auto",
         "texttemplate": "%{y}",
         "type": "bar",
         "x": [
          "put",
          "throw",
          "break",
          "crush",
          "pat",
          "sharpen",
          "water",
          "smell"
         ],
         "xaxis": "x",
         "y": [
          21787.86,
          1677.13,
          1182.57,
          670.4399999999999,
          366.08,
          261.4,
          78.73,
          54.04
         ],
         "yaxis": "y"
        }
       ],
       "layout": {
        "barmode": "relative",
        "height": 600,
        "legend": {
         "tracegroupgap": 0
        },
        "template": {
         "data": {
          "bar": [
           {
            "error_x": {
             "color": "#2a3f5f"
            },
            "error_y": {
             "color": "#2a3f5f"
            },
            "marker": {
             "line": {
              "color": "white",
              "width": 0.5
             },
             "pattern": {
              "fillmode": "overlay",
              "size": 10,
              "solidity": 0.2
             }
            },
            "type": "bar"
           }
          ],
          "barpolar": [
           {
            "marker": {
             "line": {
              "color": "white",
              "width": 0.5
             },
             "pattern": {
              "fillmode": "overlay",
              "size": 10,
              "solidity": 0.2
             }
            },
            "type": "barpolar"
           }
          ],
          "carpet": [
           {
            "aaxis": {
             "endlinecolor": "#2a3f5f",
             "gridcolor": "#C8D4E3",
             "linecolor": "#C8D4E3",
             "minorgridcolor": "#C8D4E3",
             "startlinecolor": "#2a3f5f"
            },
            "baxis": {
             "endlinecolor": "#2a3f5f",
             "gridcolor": "#C8D4E3",
             "linecolor": "#C8D4E3",
             "minorgridcolor": "#C8D4E3",
             "startlinecolor": "#2a3f5f"
            },
            "type": "carpet"
           }
          ],
          "choropleth": [
           {
            "colorbar": {
             "outlinewidth": 0,
             "ticks": ""
            },
            "type": "choropleth"
           }
          ],
          "contour": [
           {
            "colorbar": {
             "outlinewidth": 0,
             "ticks": ""
            },
            "colorscale": [
             [
              0,
              "#0d0887"
             ],
             [
              0.1111111111111111,
              "#46039f"
             ],
             [
              0.2222222222222222,
              "#7201a8"
             ],
             [
              0.3333333333333333,
              "#9c179e"
             ],
             [
              0.4444444444444444,
              "#bd3786"
             ],
             [
              0.5555555555555556,
              "#d8576b"
             ],
             [
              0.6666666666666666,
              "#ed7953"
             ],
             [
              0.7777777777777778,
              "#fb9f3a"
             ],
             [
              0.8888888888888888,
              "#fdca26"
             ],
             [
              1,
              "#f0f921"
             ]
            ],
            "type": "contour"
           }
          ],
          "contourcarpet": [
           {
            "colorbar": {
             "outlinewidth": 0,
             "ticks": ""
            },
            "type": "contourcarpet"
           }
          ],
          "heatmap": [
           {
            "colorbar": {
             "outlinewidth": 0,
             "ticks": ""
            },
            "colorscale": [
             [
              0,
              "#0d0887"
             ],
             [
              0.1111111111111111,
              "#46039f"
             ],
             [
              0.2222222222222222,
              "#7201a8"
             ],
             [
              0.3333333333333333,
              "#9c179e"
             ],
             [
              0.4444444444444444,
              "#bd3786"
             ],
             [
              0.5555555555555556,
              "#d8576b"
             ],
             [
              0.6666666666666666,
              "#ed7953"
             ],
             [
              0.7777777777777778,
              "#fb9f3a"
             ],
             [
              0.8888888888888888,
              "#fdca26"
             ],
             [
              1,
              "#f0f921"
             ]
            ],
            "type": "heatmap"
           }
          ],
          "heatmapgl": [
           {
            "colorbar": {
             "outlinewidth": 0,
             "ticks": ""
            },
            "colorscale": [
             [
              0,
              "#0d0887"
             ],
             [
              0.1111111111111111,
              "#46039f"
             ],
             [
              0.2222222222222222,
              "#7201a8"
             ],
             [
              0.3333333333333333,
              "#9c179e"
             ],
             [
              0.4444444444444444,
              "#bd3786"
             ],
             [
              0.5555555555555556,
              "#d8576b"
             ],
             [
              0.6666666666666666,
              "#ed7953"
             ],
             [
              0.7777777777777778,
              "#fb9f3a"
             ],
             [
              0.8888888888888888,
              "#fdca26"
             ],
             [
              1,
              "#f0f921"
             ]
            ],
            "type": "heatmapgl"
           }
          ],
          "histogram": [
           {
            "marker": {
             "pattern": {
              "fillmode": "overlay",
              "size": 10,
              "solidity": 0.2
             }
            },
            "type": "histogram"
           }
          ],
          "histogram2d": [
           {
            "colorbar": {
             "outlinewidth": 0,
             "ticks": ""
            },
            "colorscale": [
             [
              0,
              "#0d0887"
             ],
             [
              0.1111111111111111,
              "#46039f"
             ],
             [
              0.2222222222222222,
              "#7201a8"
             ],
             [
              0.3333333333333333,
              "#9c179e"
             ],
             [
              0.4444444444444444,
              "#bd3786"
             ],
             [
              0.5555555555555556,
              "#d8576b"
             ],
             [
              0.6666666666666666,
              "#ed7953"
             ],
             [
              0.7777777777777778,
              "#fb9f3a"
             ],
             [
              0.8888888888888888,
              "#fdca26"
             ],
             [
              1,
              "#f0f921"
             ]
            ],
            "type": "histogram2d"
           }
          ],
          "histogram2dcontour": [
           {
            "colorbar": {
             "outlinewidth": 0,
             "ticks": ""
            },
            "colorscale": [
             [
              0,
              "#0d0887"
             ],
             [
              0.1111111111111111,
              "#46039f"
             ],
             [
              0.2222222222222222,
              "#7201a8"
             ],
             [
              0.3333333333333333,
              "#9c179e"
             ],
             [
              0.4444444444444444,
              "#bd3786"
             ],
             [
              0.5555555555555556,
              "#d8576b"
             ],
             [
              0.6666666666666666,
              "#ed7953"
             ],
             [
              0.7777777777777778,
              "#fb9f3a"
             ],
             [
              0.8888888888888888,
              "#fdca26"
             ],
             [
              1,
              "#f0f921"
             ]
            ],
            "type": "histogram2dcontour"
           }
          ],
          "mesh3d": [
           {
            "colorbar": {
             "outlinewidth": 0,
             "ticks": ""
            },
            "type": "mesh3d"
           }
          ],
          "parcoords": [
           {
            "line": {
             "colorbar": {
              "outlinewidth": 0,
              "ticks": ""
             }
            },
            "type": "parcoords"
           }
          ],
          "pie": [
           {
            "automargin": true,
            "type": "pie"
           }
          ],
          "scatter": [
           {
            "fillpattern": {
             "fillmode": "overlay",
             "size": 10,
             "solidity": 0.2
            },
            "type": "scatter"
           }
          ],
          "scatter3d": [
           {
            "line": {
             "colorbar": {
              "outlinewidth": 0,
              "ticks": ""
             }
            },
            "marker": {
             "colorbar": {
              "outlinewidth": 0,
              "ticks": ""
             }
            },
            "type": "scatter3d"
           }
          ],
          "scattercarpet": [
           {
            "marker": {
             "colorbar": {
              "outlinewidth": 0,
              "ticks": ""
             }
            },
            "type": "scattercarpet"
           }
          ],
          "scattergeo": [
           {
            "marker": {
             "colorbar": {
              "outlinewidth": 0,
              "ticks": ""
             }
            },
            "type": "scattergeo"
           }
          ],
          "scattergl": [
           {
            "marker": {
             "colorbar": {
              "outlinewidth": 0,
              "ticks": ""
             }
            },
            "type": "scattergl"
           }
          ],
          "scattermapbox": [
           {
            "marker": {
             "colorbar": {
              "outlinewidth": 0,
              "ticks": ""
             }
            },
            "type": "scattermapbox"
           }
          ],
          "scatterpolar": [
           {
            "marker": {
             "colorbar": {
              "outlinewidth": 0,
              "ticks": ""
             }
            },
            "type": "scatterpolar"
           }
          ],
          "scatterpolargl": [
           {
            "marker": {
             "colorbar": {
              "outlinewidth": 0,
              "ticks": ""
             }
            },
            "type": "scatterpolargl"
           }
          ],
          "scatterternary": [
           {
            "marker": {
             "colorbar": {
              "outlinewidth": 0,
              "ticks": ""
             }
            },
            "type": "scatterternary"
           }
          ],
          "surface": [
           {
            "colorbar": {
             "outlinewidth": 0,
             "ticks": ""
            },
            "colorscale": [
             [
              0,
              "#0d0887"
             ],
             [
              0.1111111111111111,
              "#46039f"
             ],
             [
              0.2222222222222222,
              "#7201a8"
             ],
             [
              0.3333333333333333,
              "#9c179e"
             ],
             [
              0.4444444444444444,
              "#bd3786"
             ],
             [
              0.5555555555555556,
              "#d8576b"
             ],
             [
              0.6666666666666666,
              "#ed7953"
             ],
             [
              0.7777777777777778,
              "#fb9f3a"
             ],
             [
              0.8888888888888888,
              "#fdca26"
             ],
             [
              1,
              "#f0f921"
             ]
            ],
            "type": "surface"
           }
          ],
          "table": [
           {
            "cells": {
             "fill": {
              "color": "#EBF0F8"
             },
             "line": {
              "color": "white"
             }
            },
            "header": {
             "fill": {
              "color": "#C8D4E3"
             },
             "line": {
              "color": "white"
             }
            },
            "type": "table"
           }
          ]
         },
         "layout": {
          "annotationdefaults": {
           "arrowcolor": "#2a3f5f",
           "arrowhead": 0,
           "arrowwidth": 1
          },
          "autotypenumbers": "strict",
          "coloraxis": {
           "colorbar": {
            "outlinewidth": 0,
            "ticks": ""
           }
          },
          "colorscale": {
           "diverging": [
            [
             0,
             "#8e0152"
            ],
            [
             0.1,
             "#c51b7d"
            ],
            [
             0.2,
             "#de77ae"
            ],
            [
             0.3,
             "#f1b6da"
            ],
            [
             0.4,
             "#fde0ef"
            ],
            [
             0.5,
             "#f7f7f7"
            ],
            [
             0.6,
             "#e6f5d0"
            ],
            [
             0.7,
             "#b8e186"
            ],
            [
             0.8,
             "#7fbc41"
            ],
            [
             0.9,
             "#4d9221"
            ],
            [
             1,
             "#276419"
            ]
           ],
           "sequential": [
            [
             0,
             "#0d0887"
            ],
            [
             0.1111111111111111,
             "#46039f"
            ],
            [
             0.2222222222222222,
             "#7201a8"
            ],
            [
             0.3333333333333333,
             "#9c179e"
            ],
            [
             0.4444444444444444,
             "#bd3786"
            ],
            [
             0.5555555555555556,
             "#d8576b"
            ],
            [
             0.6666666666666666,
             "#ed7953"
            ],
            [
             0.7777777777777778,
             "#fb9f3a"
            ],
            [
             0.8888888888888888,
             "#fdca26"
            ],
            [
             1,
             "#f0f921"
            ]
           ],
           "sequentialminus": [
            [
             0,
             "#0d0887"
            ],
            [
             0.1111111111111111,
             "#46039f"
            ],
            [
             0.2222222222222222,
             "#7201a8"
            ],
            [
             0.3333333333333333,
             "#9c179e"
            ],
            [
             0.4444444444444444,
             "#bd3786"
            ],
            [
             0.5555555555555556,
             "#d8576b"
            ],
            [
             0.6666666666666666,
             "#ed7953"
            ],
            [
             0.7777777777777778,
             "#fb9f3a"
            ],
            [
             0.8888888888888888,
             "#fdca26"
            ],
            [
             1,
             "#f0f921"
            ]
           ]
          },
          "colorway": [
           "#636efa",
           "#EF553B",
           "#00cc96",
           "#ab63fa",
           "#FFA15A",
           "#19d3f3",
           "#FF6692",
           "#B6E880",
           "#FF97FF",
           "#FECB52"
          ],
          "font": {
           "color": "#2a3f5f"
          },
          "geo": {
           "bgcolor": "white",
           "lakecolor": "white",
           "landcolor": "white",
           "showlakes": true,
           "showland": true,
           "subunitcolor": "#C8D4E3"
          },
          "hoverlabel": {
           "align": "left"
          },
          "hovermode": "closest",
          "mapbox": {
           "style": "light"
          },
          "paper_bgcolor": "white",
          "plot_bgcolor": "white",
          "polar": {
           "angularaxis": {
            "gridcolor": "#EBF0F8",
            "linecolor": "#EBF0F8",
            "ticks": ""
           },
           "bgcolor": "white",
           "radialaxis": {
            "gridcolor": "#EBF0F8",
            "linecolor": "#EBF0F8",
            "ticks": ""
           }
          },
          "scene": {
           "xaxis": {
            "backgroundcolor": "white",
            "gridcolor": "#DFE8F3",
            "gridwidth": 2,
            "linecolor": "#EBF0F8",
            "showbackground": true,
            "ticks": "",
            "zerolinecolor": "#EBF0F8"
           },
           "yaxis": {
            "backgroundcolor": "white",
            "gridcolor": "#DFE8F3",
            "gridwidth": 2,
            "linecolor": "#EBF0F8",
            "showbackground": true,
            "ticks": "",
            "zerolinecolor": "#EBF0F8"
           },
           "zaxis": {
            "backgroundcolor": "white",
            "gridcolor": "#DFE8F3",
            "gridwidth": 2,
            "linecolor": "#EBF0F8",
            "showbackground": true,
            "ticks": "",
            "zerolinecolor": "#EBF0F8"
           }
          },
          "shapedefaults": {
           "line": {
            "color": "#2a3f5f"
           }
          },
          "ternary": {
           "aaxis": {
            "gridcolor": "#DFE8F3",
            "linecolor": "#A2B1C6",
            "ticks": ""
           },
           "baxis": {
            "gridcolor": "#DFE8F3",
            "linecolor": "#A2B1C6",
            "ticks": ""
           },
           "bgcolor": "white",
           "caxis": {
            "gridcolor": "#DFE8F3",
            "linecolor": "#A2B1C6",
            "ticks": ""
           }
          },
          "title": {
           "x": 0.05
          },
          "xaxis": {
           "automargin": true,
           "gridcolor": "#EBF0F8",
           "linecolor": "#EBF0F8",
           "ticks": "",
           "title": {
            "standoff": 15
           },
           "zerolinecolor": "#EBF0F8",
           "zerolinewidth": 2
          },
          "yaxis": {
           "automargin": true,
           "gridcolor": "#EBF0F8",
           "linecolor": "#EBF0F8",
           "ticks": "",
           "title": {
            "standoff": 15
           },
           "zerolinecolor": "#EBF0F8",
           "zerolinewidth": 2
          }
         }
        },
        "title": {
         "text": "Interesting verb classes in the whole dataset"
        },
        "xaxis": {
         "anchor": "y",
         "domain": [
          0,
          1
         ],
         "title": {
          "text": "Verb class"
         }
        },
        "yaxis": {
         "anchor": "x",
         "domain": [
          0,
          1
         ],
         "title": {
          "text": "Total aggregated duration (in s)"
         }
        }
       }
      }
     },
     "metadata": {},
     "output_type": "display_data"
    }
   ],
   "source": [
    "px.bar(\n",
    "    agg_df.loc[INTERESTING_VERB_CLASSES_IDS].sort_values(\n",
    "        \"duration_in_s\", ascending=False\n",
    "    ),\n",
    "    x=\"verb_class_name\",\n",
    "    y=\"duration_in_s\",\n",
    "    labels={\n",
    "        \"verb_class_name\": \"Verb class\",\n",
    "        \"duration_in_s\": \"Total aggregated duration (in s)\",\n",
    "    },\n",
    "    title=\"Interesting verb classes in the whole dataset\",\n",
    "    text=\"duration_in_s\",\n",
    "    template=\"plotly_white\",\n",
    "    text_auto=True,\n",
    "    height=600,\n",
    ")\n"
   ]
  },
  {
   "cell_type": "markdown",
   "metadata": {},
   "source": [
    "## 4. Check the proportions of these actions which have a clear audio event associated with them\n"
   ]
  },
  {
   "cell_type": "markdown",
   "metadata": {},
   "source": [
    "First we load `EPIC-SOUNDS` dataset\n"
   ]
  },
  {
   "cell_type": "code",
   "execution_count": 13,
   "metadata": {},
   "outputs": [
    {
     "data": {
      "text/html": [
       "<div>\n",
       "<style scoped>\n",
       "    .dataframe tbody tr th:only-of-type {\n",
       "        vertical-align: middle;\n",
       "    }\n",
       "\n",
       "    .dataframe tbody tr th {\n",
       "        vertical-align: top;\n",
       "    }\n",
       "\n",
       "    .dataframe thead th {\n",
       "        text-align: right;\n",
       "    }\n",
       "</style>\n",
       "<table border=\"1\" class=\"dataframe\">\n",
       "  <thead>\n",
       "    <tr style=\"text-align: right;\">\n",
       "      <th></th>\n",
       "      <th>participant_id</th>\n",
       "      <th>video_id</th>\n",
       "      <th>start_timestamp</th>\n",
       "      <th>stop_timestamp</th>\n",
       "      <th>start_sample</th>\n",
       "      <th>stop_sample</th>\n",
       "      <th>description</th>\n",
       "      <th>class</th>\n",
       "      <th>class_id</th>\n",
       "      <th>duration_in_s</th>\n",
       "    </tr>\n",
       "    <tr>\n",
       "      <th>annotation_id</th>\n",
       "      <th></th>\n",
       "      <th></th>\n",
       "      <th></th>\n",
       "      <th></th>\n",
       "      <th></th>\n",
       "      <th></th>\n",
       "      <th></th>\n",
       "      <th></th>\n",
       "      <th></th>\n",
       "      <th></th>\n",
       "    </tr>\n",
       "  </thead>\n",
       "  <tbody>\n",
       "    <tr>\n",
       "      <th>P01_01_0</th>\n",
       "      <td>P01</td>\n",
       "      <td>P01_01</td>\n",
       "      <td>00:00:02.466</td>\n",
       "      <td>00:00:05.315</td>\n",
       "      <td>59184</td>\n",
       "      <td>127560</td>\n",
       "      <td>clang / clatter</td>\n",
       "      <td>plastic-only collision</td>\n",
       "      <td>6</td>\n",
       "      <td>2.849</td>\n",
       "    </tr>\n",
       "    <tr>\n",
       "      <th>P01_01_1</th>\n",
       "      <td>P01</td>\n",
       "      <td>P01_01</td>\n",
       "      <td>00:00:08.981</td>\n",
       "      <td>00:00:09.871</td>\n",
       "      <td>215544</td>\n",
       "      <td>236904</td>\n",
       "      <td>put object on surface</td>\n",
       "      <td>open / close</td>\n",
       "      <td>3</td>\n",
       "      <td>0.890</td>\n",
       "    </tr>\n",
       "    <tr>\n",
       "      <th>P01_01_2</th>\n",
       "      <td>P01</td>\n",
       "      <td>P01_01</td>\n",
       "      <td>00:00:10.190</td>\n",
       "      <td>00:00:12.731</td>\n",
       "      <td>244560</td>\n",
       "      <td>305544</td>\n",
       "      <td>footstep</td>\n",
       "      <td>footstep</td>\n",
       "      <td>7</td>\n",
       "      <td>2.541</td>\n",
       "    </tr>\n",
       "    <tr>\n",
       "      <th>P01_01_3</th>\n",
       "      <td>P01</td>\n",
       "      <td>P01_01</td>\n",
       "      <td>00:00:14.023</td>\n",
       "      <td>00:00:15.044</td>\n",
       "      <td>336552</td>\n",
       "      <td>361056</td>\n",
       "      <td>scrub / scrape / scour / wipe</td>\n",
       "      <td>scrub / scrape / scour / wipe</td>\n",
       "      <td>1</td>\n",
       "      <td>1.021</td>\n",
       "    </tr>\n",
       "    <tr>\n",
       "      <th>P01_01_4</th>\n",
       "      <td>P01</td>\n",
       "      <td>P01_01</td>\n",
       "      <td>00:00:15.148</td>\n",
       "      <td>00:00:19.729</td>\n",
       "      <td>363552</td>\n",
       "      <td>473496</td>\n",
       "      <td>paper rustle</td>\n",
       "      <td>rustle</td>\n",
       "      <td>4</td>\n",
       "      <td>4.581</td>\n",
       "    </tr>\n",
       "  </tbody>\n",
       "</table>\n",
       "</div>"
      ],
      "text/plain": [
       "              participant_id video_id start_timestamp stop_timestamp  \\\n",
       "annotation_id                                                          \n",
       "P01_01_0                 P01   P01_01    00:00:02.466   00:00:05.315   \n",
       "P01_01_1                 P01   P01_01    00:00:08.981   00:00:09.871   \n",
       "P01_01_2                 P01   P01_01    00:00:10.190   00:00:12.731   \n",
       "P01_01_3                 P01   P01_01    00:00:14.023   00:00:15.044   \n",
       "P01_01_4                 P01   P01_01    00:00:15.148   00:00:19.729   \n",
       "\n",
       "               start_sample  stop_sample                    description  \\\n",
       "annotation_id                                                             \n",
       "P01_01_0              59184       127560                clang / clatter   \n",
       "P01_01_1             215544       236904          put object on surface   \n",
       "P01_01_2             244560       305544                       footstep   \n",
       "P01_01_3             336552       361056  scrub / scrape / scour / wipe   \n",
       "P01_01_4             363552       473496                   paper rustle   \n",
       "\n",
       "                                       class  class_id  duration_in_s  \n",
       "annotation_id                                                          \n",
       "P01_01_0              plastic-only collision         6          2.849  \n",
       "P01_01_1                        open / close         3          0.890  \n",
       "P01_01_2                            footstep         7          2.541  \n",
       "P01_01_3       scrub / scrape / scour / wipe         1          1.021  \n",
       "P01_01_4                              rustle         4          4.581  "
      ]
     },
     "execution_count": 13,
     "metadata": {},
     "output_type": "execute_result"
    }
   ],
   "source": [
    "es_train_path = \"../data/epic-sounds-annotations/EPIC_Sounds_train.csv\"\n",
    "\n",
    "es_train_df = pd.read_csv(es_train_path, header=0, index_col=0)\n",
    "es_train_df[\"start_ts_td\"] = pd.to_timedelta(es_train_df[\"start_timestamp\"])\n",
    "es_train_df[\"stop_ts_td\"] = pd.to_timedelta(es_train_df[\"stop_timestamp\"])\n",
    "es_train_df[\"duration_in_s\"] = (\n",
    "    es_train_df[\"stop_ts_td\"] - es_train_df[\"start_ts_td\"]\n",
    ").dt.total_seconds()\n",
    "del es_train_df[\"start_ts_td\"]\n",
    "del es_train_df[\"stop_ts_td\"]\n",
    "\n",
    "es_train_df.head()\n"
   ]
  },
  {
   "cell_type": "code",
   "execution_count": 14,
   "metadata": {},
   "outputs": [],
   "source": [
    "import os\n",
    "from tqdm import tqdm\n",
    "\n",
    "\n",
    "def strict_overlap(row_k: pd.Series, row_s: pd.Series) -> bool:\n",
    "    \"\"\"\n",
    "    Returns `True` only if the sound event and the action are strictly overlapping,\n",
    "    i.e. the sound event is contained in the action, temporally speaking.\n",
    "\n",
    "    Parameters\n",
    "    ----------\n",
    "    `row_k` : `pd.Series`\n",
    "        The row from EPIC-KITCHENS\n",
    "    `row_s` : `pd.Series`\n",
    "        The row from EPIC-SOUNDS\n",
    "\n",
    "    Returns\n",
    "    -------\n",
    "    `bool`\n",
    "        `True` if the sound event and the action are strictly overlapping, `False` otherwise\n",
    "    \"\"\"\n",
    "    s_k, e_k = row_k[\"start_timestamp\"], row_k[\"stop_timestamp\"]\n",
    "    s_s, e_s = row_s[\"start_timestamp\"], row_s[\"stop_timestamp\"]\n",
    "\n",
    "    overlap = False\n",
    "    overlap |= (s_k <= s_s) and (e_s <= e_k)\n",
    "\n",
    "    return overlap\n",
    "\n",
    "\n",
    "def loose_overlap(row_k: pd.Series, row_s: pd.Series) -> bool:\n",
    "    \"\"\"\n",
    "    Returns `True` only if the sound event and the action are loosely overlapping,\n",
    "    namely:\n",
    "    1. The sound event is strictly contained in the action\n",
    "    2. The action is strictly contained in the sound event\n",
    "    3. The sound event starts before the action and ends after the action\n",
    "    4. The action starts before the sound event and ends after the sound event\n",
    "\n",
    "    Parameters\n",
    "    ----------\n",
    "    `row_k` : `pd.Series`\n",
    "        The row from EPIC-KITCHENS\n",
    "    `row_s` : `pd.Series`\n",
    "        The row from EPIC-SOUNDS\n",
    "\n",
    "    Returns\n",
    "    -------\n",
    "    `bool`\n",
    "        `True` if the EPIC-KITCHEN action as a loosely overlapping corresponding sound event\n",
    "        in EPIC-SOUNDS, `False` otherwise\n",
    "    \"\"\"\n",
    "    s_k, e_k = row_k[\"start_timestamp\"], row_k[\"stop_timestamp\"]\n",
    "    s_s, e_s = row_s[\"start_timestamp\"], row_s[\"stop_timestamp\"]\n",
    "\n",
    "    overlap = False\n",
    "    overlap |= strict_overlap(row_k, row_s)\n",
    "    overlap |= strict_overlap(row_s, row_k)\n",
    "    overlap |= (s_s <= s_k) and (s_k <= e_s)\n",
    "    overlap |= (s_k <= s_s) and (s_s <= e_k)\n",
    "\n",
    "    return overlap\n",
    "\n",
    "\n",
    "# Run this cell only if the output file does not exist\n",
    "if not os.path.exists(\"output/ek_es_overlaps.csv\"):\n",
    "    filtered_df = (\n",
    "        ek_train_df[ek_train_df.verb_class.isin(INTERESTING_VERB_CLASSES_IDS)]\n",
    "        .reset_index()\n",
    "        .copy()\n",
    "    )\n",
    "    filtered_df[\"strict_es_overlap\"] = False\n",
    "    filtered_df[\"loose_es_overlap\"] = False\n",
    "\n",
    "    for i, row_k in tqdm(\n",
    "        filtered_df.iterrows(), total=len(filtered_df), desc=\"EPIC-KITCHENS\", unit=\"row\"\n",
    "    ):\n",
    "        for _, row_s in es_train_df.reset_index().iterrows():\n",
    "            if row_s[\"start_timestamp\"] > row_k[\"stop_timestamp\"]:\n",
    "                break\n",
    "            strict = strict_overlap(row_k=row_k, row_s=row_s)\n",
    "            loose = loose_overlap(row_k=row_k, row_s=row_s)\n",
    "            if strict or loose:\n",
    "                filtered_df.loc[i, \"strict_es_overlap\"] = strict\n",
    "                filtered_df.loc[i, \"loose_es_overlap\"] = loose\n",
    "                break\n",
    "\n",
    "    os.makedirs(\"output\", exist_ok=True)\n",
    "    filtered_df.to_csv(\"output/ek_es_overlaps.csv\")\n"
   ]
  },
  {
   "cell_type": "code",
   "execution_count": 15,
   "metadata": {},
   "outputs": [
    {
     "data": {
      "text/html": [
       "<div>\n",
       "<style scoped>\n",
       "    .dataframe tbody tr th:only-of-type {\n",
       "        vertical-align: middle;\n",
       "    }\n",
       "\n",
       "    .dataframe tbody tr th {\n",
       "        vertical-align: top;\n",
       "    }\n",
       "\n",
       "    .dataframe thead th {\n",
       "        text-align: right;\n",
       "    }\n",
       "</style>\n",
       "<table border=\"1\" class=\"dataframe\">\n",
       "  <thead>\n",
       "    <tr style=\"text-align: right;\">\n",
       "      <th></th>\n",
       "      <th>narration_id</th>\n",
       "      <th>participant_id</th>\n",
       "      <th>video_id</th>\n",
       "      <th>narration_timestamp</th>\n",
       "      <th>start_timestamp</th>\n",
       "      <th>stop_timestamp</th>\n",
       "      <th>start_frame</th>\n",
       "      <th>stop_frame</th>\n",
       "      <th>narration</th>\n",
       "      <th>verb</th>\n",
       "      <th>verb_class</th>\n",
       "      <th>noun</th>\n",
       "      <th>noun_class</th>\n",
       "      <th>all_nouns</th>\n",
       "      <th>all_noun_classes</th>\n",
       "      <th>duration_in_s</th>\n",
       "      <th>strict_es_overlap</th>\n",
       "      <th>loose_es_overlap</th>\n",
       "    </tr>\n",
       "  </thead>\n",
       "  <tbody>\n",
       "    <tr>\n",
       "      <th>0</th>\n",
       "      <td>P01_01_104</td>\n",
       "      <td>P01</td>\n",
       "      <td>P01_01</td>\n",
       "      <td>00:08:07.610</td>\n",
       "      <td>00:08:08.38</td>\n",
       "      <td>00:08:09.12</td>\n",
       "      <td>29302</td>\n",
       "      <td>29347</td>\n",
       "      <td>put container on top of counter</td>\n",
       "      <td>put-on</td>\n",
       "      <td>1</td>\n",
       "      <td>container</td>\n",
       "      <td>21</td>\n",
       "      <td>['container', 'top:counter']</td>\n",
       "      <td>[21, 42]</td>\n",
       "      <td>0.74</td>\n",
       "      <td>False</td>\n",
       "      <td>True</td>\n",
       "    </tr>\n",
       "    <tr>\n",
       "      <th>1</th>\n",
       "      <td>P01_01_110</td>\n",
       "      <td>P01</td>\n",
       "      <td>P01_01</td>\n",
       "      <td>00:08:25.669</td>\n",
       "      <td>00:08:24.66</td>\n",
       "      <td>00:08:27.92</td>\n",
       "      <td>30279</td>\n",
       "      <td>30475</td>\n",
       "      <td>put plate down</td>\n",
       "      <td>put-down</td>\n",
       "      <td>1</td>\n",
       "      <td>plate</td>\n",
       "      <td>2</td>\n",
       "      <td>['plate']</td>\n",
       "      <td>[2]</td>\n",
       "      <td>3.26</td>\n",
       "      <td>True</td>\n",
       "      <td>True</td>\n",
       "    </tr>\n",
       "    <tr>\n",
       "      <th>2</th>\n",
       "      <td>P01_01_113</td>\n",
       "      <td>P01</td>\n",
       "      <td>P01_01</td>\n",
       "      <td>00:08:32.200</td>\n",
       "      <td>00:08:32.66</td>\n",
       "      <td>00:08:34.43</td>\n",
       "      <td>30759</td>\n",
       "      <td>30865</td>\n",
       "      <td>put down something</td>\n",
       "      <td>put-down</td>\n",
       "      <td>1</td>\n",
       "      <td>drawer</td>\n",
       "      <td>8</td>\n",
       "      <td>['drawer']</td>\n",
       "      <td>[8]</td>\n",
       "      <td>1.77</td>\n",
       "      <td>False</td>\n",
       "      <td>False</td>\n",
       "    </tr>\n",
       "    <tr>\n",
       "      <th>3</th>\n",
       "      <td>P01_01_116</td>\n",
       "      <td>P01</td>\n",
       "      <td>P01_01</td>\n",
       "      <td>00:08:37.650</td>\n",
       "      <td>00:08:39.34</td>\n",
       "      <td>00:08:40.25</td>\n",
       "      <td>31160</td>\n",
       "      <td>31215</td>\n",
       "      <td>put down fork</td>\n",
       "      <td>put-down</td>\n",
       "      <td>1</td>\n",
       "      <td>fork</td>\n",
       "      <td>14</td>\n",
       "      <td>['fork']</td>\n",
       "      <td>[14]</td>\n",
       "      <td>0.91</td>\n",
       "      <td>False</td>\n",
       "      <td>False</td>\n",
       "    </tr>\n",
       "    <tr>\n",
       "      <th>4</th>\n",
       "      <td>P01_01_12</td>\n",
       "      <td>P01</td>\n",
       "      <td>P01_01</td>\n",
       "      <td>00:00:29.539</td>\n",
       "      <td>00:00:36.68</td>\n",
       "      <td>00:00:37.78</td>\n",
       "      <td>2200</td>\n",
       "      <td>2266</td>\n",
       "      <td>put down vegetables</td>\n",
       "      <td>put-down</td>\n",
       "      <td>1</td>\n",
       "      <td>vegetable</td>\n",
       "      <td>94</td>\n",
       "      <td>['vegetable']</td>\n",
       "      <td>[94]</td>\n",
       "      <td>1.10</td>\n",
       "      <td>False</td>\n",
       "      <td>True</td>\n",
       "    </tr>\n",
       "  </tbody>\n",
       "</table>\n",
       "</div>"
      ],
      "text/plain": [
       "  narration_id participant_id video_id narration_timestamp start_timestamp  \\\n",
       "0   P01_01_104            P01   P01_01        00:08:07.610     00:08:08.38   \n",
       "1   P01_01_110            P01   P01_01        00:08:25.669     00:08:24.66   \n",
       "2   P01_01_113            P01   P01_01        00:08:32.200     00:08:32.66   \n",
       "3   P01_01_116            P01   P01_01        00:08:37.650     00:08:39.34   \n",
       "4    P01_01_12            P01   P01_01        00:00:29.539     00:00:36.68   \n",
       "\n",
       "  stop_timestamp  start_frame  stop_frame                        narration  \\\n",
       "0    00:08:09.12        29302       29347  put container on top of counter   \n",
       "1    00:08:27.92        30279       30475                   put plate down   \n",
       "2    00:08:34.43        30759       30865               put down something   \n",
       "3    00:08:40.25        31160       31215                    put down fork   \n",
       "4    00:00:37.78         2200        2266              put down vegetables   \n",
       "\n",
       "       verb  verb_class       noun  noun_class                     all_nouns  \\\n",
       "0    put-on           1  container          21  ['container', 'top:counter']   \n",
       "1  put-down           1      plate           2                     ['plate']   \n",
       "2  put-down           1     drawer           8                    ['drawer']   \n",
       "3  put-down           1       fork          14                      ['fork']   \n",
       "4  put-down           1  vegetable          94                 ['vegetable']   \n",
       "\n",
       "  all_noun_classes  duration_in_s  strict_es_overlap  loose_es_overlap  \n",
       "0         [21, 42]           0.74              False              True  \n",
       "1              [2]           3.26               True              True  \n",
       "2              [8]           1.77              False             False  \n",
       "3             [14]           0.91              False             False  \n",
       "4             [94]           1.10              False              True  "
      ]
     },
     "execution_count": 15,
     "metadata": {},
     "output_type": "execute_result"
    }
   ],
   "source": [
    "overlap_df = pd.read_csv(\"output/ek_es_overlaps.csv\", index_col=0, header=0)\n",
    "overlap_df.head()"
   ]
  },
  {
   "cell_type": "markdown",
   "metadata": {},
   "source": [
    "We now plot again the distribution of instances of the selected verb classes in the dataset, with the percentage of instances that have a clear audio event associated with them\n"
   ]
  },
  {
   "cell_type": "code",
   "execution_count": 16,
   "metadata": {},
   "outputs": [
    {
     "data": {
      "text/html": [
       "<div>\n",
       "<style scoped>\n",
       "    .dataframe tbody tr th:only-of-type {\n",
       "        vertical-align: middle;\n",
       "    }\n",
       "\n",
       "    .dataframe tbody tr th {\n",
       "        vertical-align: top;\n",
       "    }\n",
       "\n",
       "    .dataframe thead th {\n",
       "        text-align: right;\n",
       "    }\n",
       "</style>\n",
       "<table border=\"1\" class=\"dataframe\">\n",
       "  <thead>\n",
       "    <tr style=\"text-align: right;\">\n",
       "      <th></th>\n",
       "      <th>narration_id</th>\n",
       "      <th>participant_id</th>\n",
       "      <th>video_id</th>\n",
       "      <th>narration_timestamp</th>\n",
       "      <th>start_timestamp</th>\n",
       "      <th>stop_timestamp</th>\n",
       "      <th>start_frame</th>\n",
       "      <th>stop_frame</th>\n",
       "      <th>narration</th>\n",
       "      <th>verb</th>\n",
       "      <th>verb_class</th>\n",
       "      <th>noun</th>\n",
       "      <th>noun_class</th>\n",
       "      <th>all_nouns</th>\n",
       "      <th>all_noun_classes</th>\n",
       "      <th>duration_in_s</th>\n",
       "      <th>strict_es_overlap</th>\n",
       "      <th>loose_es_overlap</th>\n",
       "      <th>duration_w_strict_overlap</th>\n",
       "      <th>duration_w_loose_overlap</th>\n",
       "    </tr>\n",
       "  </thead>\n",
       "  <tbody>\n",
       "    <tr>\n",
       "      <th>0</th>\n",
       "      <td>P01_01_104</td>\n",
       "      <td>P01</td>\n",
       "      <td>P01_01</td>\n",
       "      <td>00:08:07.610</td>\n",
       "      <td>00:08:08.38</td>\n",
       "      <td>00:08:09.12</td>\n",
       "      <td>29302</td>\n",
       "      <td>29347</td>\n",
       "      <td>put container on top of counter</td>\n",
       "      <td>put-on</td>\n",
       "      <td>1</td>\n",
       "      <td>container</td>\n",
       "      <td>21</td>\n",
       "      <td>['container', 'top:counter']</td>\n",
       "      <td>[21, 42]</td>\n",
       "      <td>0.74</td>\n",
       "      <td>False</td>\n",
       "      <td>True</td>\n",
       "      <td>NaN</td>\n",
       "      <td>0.74</td>\n",
       "    </tr>\n",
       "    <tr>\n",
       "      <th>1</th>\n",
       "      <td>P01_01_110</td>\n",
       "      <td>P01</td>\n",
       "      <td>P01_01</td>\n",
       "      <td>00:08:25.669</td>\n",
       "      <td>00:08:24.66</td>\n",
       "      <td>00:08:27.92</td>\n",
       "      <td>30279</td>\n",
       "      <td>30475</td>\n",
       "      <td>put plate down</td>\n",
       "      <td>put-down</td>\n",
       "      <td>1</td>\n",
       "      <td>plate</td>\n",
       "      <td>2</td>\n",
       "      <td>['plate']</td>\n",
       "      <td>[2]</td>\n",
       "      <td>3.26</td>\n",
       "      <td>True</td>\n",
       "      <td>True</td>\n",
       "      <td>3.26</td>\n",
       "      <td>3.26</td>\n",
       "    </tr>\n",
       "    <tr>\n",
       "      <th>2</th>\n",
       "      <td>P01_01_113</td>\n",
       "      <td>P01</td>\n",
       "      <td>P01_01</td>\n",
       "      <td>00:08:32.200</td>\n",
       "      <td>00:08:32.66</td>\n",
       "      <td>00:08:34.43</td>\n",
       "      <td>30759</td>\n",
       "      <td>30865</td>\n",
       "      <td>put down something</td>\n",
       "      <td>put-down</td>\n",
       "      <td>1</td>\n",
       "      <td>drawer</td>\n",
       "      <td>8</td>\n",
       "      <td>['drawer']</td>\n",
       "      <td>[8]</td>\n",
       "      <td>1.77</td>\n",
       "      <td>False</td>\n",
       "      <td>False</td>\n",
       "      <td>NaN</td>\n",
       "      <td>NaN</td>\n",
       "    </tr>\n",
       "    <tr>\n",
       "      <th>3</th>\n",
       "      <td>P01_01_116</td>\n",
       "      <td>P01</td>\n",
       "      <td>P01_01</td>\n",
       "      <td>00:08:37.650</td>\n",
       "      <td>00:08:39.34</td>\n",
       "      <td>00:08:40.25</td>\n",
       "      <td>31160</td>\n",
       "      <td>31215</td>\n",
       "      <td>put down fork</td>\n",
       "      <td>put-down</td>\n",
       "      <td>1</td>\n",
       "      <td>fork</td>\n",
       "      <td>14</td>\n",
       "      <td>['fork']</td>\n",
       "      <td>[14]</td>\n",
       "      <td>0.91</td>\n",
       "      <td>False</td>\n",
       "      <td>False</td>\n",
       "      <td>NaN</td>\n",
       "      <td>NaN</td>\n",
       "    </tr>\n",
       "    <tr>\n",
       "      <th>4</th>\n",
       "      <td>P01_01_12</td>\n",
       "      <td>P01</td>\n",
       "      <td>P01_01</td>\n",
       "      <td>00:00:29.539</td>\n",
       "      <td>00:00:36.68</td>\n",
       "      <td>00:00:37.78</td>\n",
       "      <td>2200</td>\n",
       "      <td>2266</td>\n",
       "      <td>put down vegetables</td>\n",
       "      <td>put-down</td>\n",
       "      <td>1</td>\n",
       "      <td>vegetable</td>\n",
       "      <td>94</td>\n",
       "      <td>['vegetable']</td>\n",
       "      <td>[94]</td>\n",
       "      <td>1.10</td>\n",
       "      <td>False</td>\n",
       "      <td>True</td>\n",
       "      <td>NaN</td>\n",
       "      <td>1.10</td>\n",
       "    </tr>\n",
       "  </tbody>\n",
       "</table>\n",
       "</div>"
      ],
      "text/plain": [
       "  narration_id participant_id video_id narration_timestamp start_timestamp  \\\n",
       "0   P01_01_104            P01   P01_01        00:08:07.610     00:08:08.38   \n",
       "1   P01_01_110            P01   P01_01        00:08:25.669     00:08:24.66   \n",
       "2   P01_01_113            P01   P01_01        00:08:32.200     00:08:32.66   \n",
       "3   P01_01_116            P01   P01_01        00:08:37.650     00:08:39.34   \n",
       "4    P01_01_12            P01   P01_01        00:00:29.539     00:00:36.68   \n",
       "\n",
       "  stop_timestamp  start_frame  stop_frame                        narration  \\\n",
       "0    00:08:09.12        29302       29347  put container on top of counter   \n",
       "1    00:08:27.92        30279       30475                   put plate down   \n",
       "2    00:08:34.43        30759       30865               put down something   \n",
       "3    00:08:40.25        31160       31215                    put down fork   \n",
       "4    00:00:37.78         2200        2266              put down vegetables   \n",
       "\n",
       "       verb  verb_class       noun  noun_class                     all_nouns  \\\n",
       "0    put-on           1  container          21  ['container', 'top:counter']   \n",
       "1  put-down           1      plate           2                     ['plate']   \n",
       "2  put-down           1     drawer           8                    ['drawer']   \n",
       "3  put-down           1       fork          14                      ['fork']   \n",
       "4  put-down           1  vegetable          94                 ['vegetable']   \n",
       "\n",
       "  all_noun_classes  duration_in_s  strict_es_overlap  loose_es_overlap  \\\n",
       "0         [21, 42]           0.74              False              True   \n",
       "1              [2]           3.26               True              True   \n",
       "2              [8]           1.77              False             False   \n",
       "3             [14]           0.91              False             False   \n",
       "4             [94]           1.10              False              True   \n",
       "\n",
       "   duration_w_strict_overlap  duration_w_loose_overlap  \n",
       "0                        NaN                      0.74  \n",
       "1                       3.26                      3.26  \n",
       "2                        NaN                       NaN  \n",
       "3                        NaN                       NaN  \n",
       "4                        NaN                      1.10  "
      ]
     },
     "execution_count": 16,
     "metadata": {},
     "output_type": "execute_result"
    }
   ],
   "source": [
    "overlap_df[\"duration_w_strict_overlap\"] = overlap_df[\"duration_in_s\"].where(overlap_df[\"strict_es_overlap\"], None)\n",
    "overlap_df[\"duration_w_loose_overlap\"] = overlap_df[\"duration_in_s\"].where(overlap_df[\"loose_es_overlap\"], None)\n",
    "overlap_df.head()"
   ]
  },
  {
   "cell_type": "code",
   "execution_count": 17,
   "metadata": {},
   "outputs": [
    {
     "data": {
      "text/html": [
       "<div>\n",
       "<style scoped>\n",
       "    .dataframe tbody tr th:only-of-type {\n",
       "        vertical-align: middle;\n",
       "    }\n",
       "\n",
       "    .dataframe tbody tr th {\n",
       "        vertical-align: top;\n",
       "    }\n",
       "\n",
       "    .dataframe thead th {\n",
       "        text-align: right;\n",
       "    }\n",
       "</style>\n",
       "<table border=\"1\" class=\"dataframe\">\n",
       "  <thead>\n",
       "    <tr style=\"text-align: right;\">\n",
       "      <th></th>\n",
       "      <th>duration_w_strict_overlap</th>\n",
       "      <th>duration_w_loose_overlap</th>\n",
       "      <th>duration_in_s</th>\n",
       "      <th>verb_class_name</th>\n",
       "      <th>percentage_loose_overlap</th>\n",
       "      <th>percentage_strict_overlap</th>\n",
       "    </tr>\n",
       "    <tr>\n",
       "      <th>verb_class</th>\n",
       "      <th></th>\n",
       "      <th></th>\n",
       "      <th></th>\n",
       "      <th></th>\n",
       "      <th></th>\n",
       "      <th></th>\n",
       "    </tr>\n",
       "  </thead>\n",
       "  <tbody>\n",
       "    <tr>\n",
       "      <th>1</th>\n",
       "      <td>2141.54</td>\n",
       "      <td>19510.41</td>\n",
       "      <td>21787.86</td>\n",
       "      <td>put</td>\n",
       "      <td>89.55</td>\n",
       "      <td>9.83</td>\n",
       "    </tr>\n",
       "    <tr>\n",
       "      <th>13</th>\n",
       "      <td>243.83</td>\n",
       "      <td>1535.20</td>\n",
       "      <td>1677.13</td>\n",
       "      <td>throw</td>\n",
       "      <td>91.54</td>\n",
       "      <td>14.54</td>\n",
       "    </tr>\n",
       "    <tr>\n",
       "      <th>30</th>\n",
       "      <td>284.94</td>\n",
       "      <td>1149.39</td>\n",
       "      <td>1182.57</td>\n",
       "      <td>break</td>\n",
       "      <td>97.19</td>\n",
       "      <td>24.09</td>\n",
       "    </tr>\n",
       "    <tr>\n",
       "      <th>49</th>\n",
       "      <td>103.36</td>\n",
       "      <td>667.53</td>\n",
       "      <td>670.44</td>\n",
       "      <td>crush</td>\n",
       "      <td>99.57</td>\n",
       "      <td>15.42</td>\n",
       "    </tr>\n",
       "    <tr>\n",
       "      <th>32</th>\n",
       "      <td>68.61</td>\n",
       "      <td>348.00</td>\n",
       "      <td>366.08</td>\n",
       "      <td>pat</td>\n",
       "      <td>95.06</td>\n",
       "      <td>18.74</td>\n",
       "    </tr>\n",
       "    <tr>\n",
       "      <th>58</th>\n",
       "      <td>85.79</td>\n",
       "      <td>252.94</td>\n",
       "      <td>261.40</td>\n",
       "      <td>sharpen</td>\n",
       "      <td>96.76</td>\n",
       "      <td>32.82</td>\n",
       "    </tr>\n",
       "    <tr>\n",
       "      <th>62</th>\n",
       "      <td>4.81</td>\n",
       "      <td>70.55</td>\n",
       "      <td>78.73</td>\n",
       "      <td>water</td>\n",
       "      <td>89.61</td>\n",
       "      <td>6.11</td>\n",
       "    </tr>\n",
       "    <tr>\n",
       "      <th>75</th>\n",
       "      <td>4.92</td>\n",
       "      <td>53.01</td>\n",
       "      <td>54.04</td>\n",
       "      <td>smell</td>\n",
       "      <td>98.09</td>\n",
       "      <td>9.10</td>\n",
       "    </tr>\n",
       "  </tbody>\n",
       "</table>\n",
       "</div>"
      ],
      "text/plain": [
       "            duration_w_strict_overlap  duration_w_loose_overlap  \\\n",
       "verb_class                                                        \n",
       "1                             2141.54                  19510.41   \n",
       "13                             243.83                   1535.20   \n",
       "30                             284.94                   1149.39   \n",
       "49                             103.36                    667.53   \n",
       "32                              68.61                    348.00   \n",
       "58                              85.79                    252.94   \n",
       "62                               4.81                     70.55   \n",
       "75                               4.92                     53.01   \n",
       "\n",
       "            duration_in_s verb_class_name  percentage_loose_overlap  \\\n",
       "verb_class                                                            \n",
       "1                21787.86             put                     89.55   \n",
       "13                1677.13           throw                     91.54   \n",
       "30                1182.57           break                     97.19   \n",
       "49                 670.44           crush                     99.57   \n",
       "32                 366.08             pat                     95.06   \n",
       "58                 261.40         sharpen                     96.76   \n",
       "62                  78.73           water                     89.61   \n",
       "75                  54.04           smell                     98.09   \n",
       "\n",
       "            percentage_strict_overlap  \n",
       "verb_class                             \n",
       "1                                9.83  \n",
       "13                              14.54  \n",
       "30                              24.09  \n",
       "49                              15.42  \n",
       "32                              18.74  \n",
       "58                              32.82  \n",
       "62                               6.11  \n",
       "75                               9.10  "
      ]
     },
     "execution_count": 17,
     "metadata": {},
     "output_type": "execute_result"
    }
   ],
   "source": [
    "agg_df_overlap = (\n",
    "    overlap_df.groupby(\"verb_class\")\n",
    "    .agg(\n",
    "        {\n",
    "            \"duration_w_strict_overlap\": \"sum\",\n",
    "            \"duration_w_loose_overlap\": \"sum\",\n",
    "            \"duration_in_s\": \"sum\",\n",
    "        }\n",
    "    )\n",
    "    .sort_values(\"duration_w_loose_overlap\", ascending=False)\n",
    ")\n",
    "agg_df_overlap[\"verb_class_name\"] = agg_df_overlap.index.map(lambda x: verbs_df.loc[x].key)\n",
    "agg_df_overlap[\"percentage_loose_overlap\"] = (\n",
    "    agg_df_overlap[\"duration_w_loose_overlap\"] / agg_df_overlap[\"duration_in_s\"] * 100\n",
    ").round(2)\n",
    "agg_df_overlap[\"percentage_strict_overlap\"] = (\n",
    "    agg_df_overlap[\"duration_w_strict_overlap\"] / agg_df_overlap[\"duration_in_s\"] * 100\n",
    ").round(2)\n",
    "\n",
    "for col in [\"duration_w_strict_overlap\", \"duration_w_loose_overlap\", \"duration_in_s\"]:\n",
    "    agg_df_overlap[col] = agg_df_overlap[col].round(2)\n",
    "\n",
    "agg_df_overlap"
   ]
  },
  {
   "cell_type": "code",
   "execution_count": 18,
   "metadata": {},
   "outputs": [
    {
     "data": {
      "application/vnd.plotly.v1+json": {
       "config": {
        "plotlyServerURL": "https://plot.ly"
       },
       "data": [
        {
         "alignmentgroup": "True",
         "hovertemplate": "variable=duration_in_s<br>Verb class=%{x}<br>Total aggregated duration (in s)=%{y}<br>percentage_loose_overlap=%{text}<extra></extra>",
         "legendgroup": "duration_in_s",
         "marker": {
          "color": "#636efa",
          "pattern": {
           "shape": ""
          }
         },
         "name": "Duration (in s)",
         "offsetgroup": "duration_in_s",
         "orientation": "v",
         "showlegend": true,
         "text": [
          89.55,
          91.54,
          97.19,
          99.57,
          95.06,
          96.76,
          89.61,
          98.09
         ],
         "textposition": "auto",
         "texttemplate": "%{y}",
         "type": "bar",
         "x": [
          "put",
          "throw",
          "break",
          "crush",
          "pat",
          "sharpen",
          "water",
          "smell"
         ],
         "xaxis": "x",
         "y": [
          21787.86,
          1677.13,
          1182.57,
          670.44,
          366.08,
          261.4,
          78.73,
          54.04
         ],
         "yaxis": "y"
        },
        {
         "alignmentgroup": "True",
         "hovertemplate": "variable=duration_w_loose_overlap<br>Verb class=%{x}<br>Total aggregated duration (in s)=%{y}<br>percentage_loose_overlap=%{text}<extra></extra>",
         "legendgroup": "duration_w_loose_overlap",
         "marker": {
          "color": "#EF553B",
          "pattern": {
           "shape": ""
          }
         },
         "name": "Duration with 'Loose' EPIC-SOUND Overlap",
         "offsetgroup": "duration_w_loose_overlap",
         "orientation": "v",
         "showlegend": true,
         "text": [
          89.55,
          91.54,
          97.19,
          99.57,
          95.06,
          96.76,
          89.61,
          98.09
         ],
         "textposition": "auto",
         "texttemplate": "%{y}",
         "type": "bar",
         "x": [
          "put",
          "throw",
          "break",
          "crush",
          "pat",
          "sharpen",
          "water",
          "smell"
         ],
         "xaxis": "x",
         "y": [
          19510.41,
          1535.2,
          1149.39,
          667.53,
          348,
          252.94,
          70.55,
          53.01
         ],
         "yaxis": "y"
        },
        {
         "alignmentgroup": "True",
         "hovertemplate": "variable=duration_w_strict_overlap<br>Verb class=%{x}<br>Total aggregated duration (in s)=%{y}<br>percentage_loose_overlap=%{text}<extra></extra>",
         "legendgroup": "duration_w_strict_overlap",
         "marker": {
          "color": "#00cc96",
          "pattern": {
           "shape": ""
          }
         },
         "name": "Duration with 'Strict' EPIC-SOUND Overlap",
         "offsetgroup": "duration_w_strict_overlap",
         "orientation": "v",
         "showlegend": true,
         "text": [
          89.55,
          91.54,
          97.19,
          99.57,
          95.06,
          96.76,
          89.61,
          98.09
         ],
         "textposition": "auto",
         "texttemplate": "%{y}",
         "type": "bar",
         "x": [
          "put",
          "throw",
          "break",
          "crush",
          "pat",
          "sharpen",
          "water",
          "smell"
         ],
         "xaxis": "x",
         "y": [
          2141.54,
          243.83,
          284.94,
          103.36,
          68.61,
          85.79,
          4.81,
          4.92
         ],
         "yaxis": "y"
        }
       ],
       "layout": {
        "barmode": "group",
        "legend": {
         "title": {
          "text": "variable"
         },
         "tracegroupgap": 0
        },
        "margin": {
         "t": 60
        },
        "template": {
         "data": {
          "bar": [
           {
            "error_x": {
             "color": "#2a3f5f"
            },
            "error_y": {
             "color": "#2a3f5f"
            },
            "marker": {
             "line": {
              "color": "#E5ECF6",
              "width": 0.5
             },
             "pattern": {
              "fillmode": "overlay",
              "size": 10,
              "solidity": 0.2
             }
            },
            "type": "bar"
           }
          ],
          "barpolar": [
           {
            "marker": {
             "line": {
              "color": "#E5ECF6",
              "width": 0.5
             },
             "pattern": {
              "fillmode": "overlay",
              "size": 10,
              "solidity": 0.2
             }
            },
            "type": "barpolar"
           }
          ],
          "carpet": [
           {
            "aaxis": {
             "endlinecolor": "#2a3f5f",
             "gridcolor": "white",
             "linecolor": "white",
             "minorgridcolor": "white",
             "startlinecolor": "#2a3f5f"
            },
            "baxis": {
             "endlinecolor": "#2a3f5f",
             "gridcolor": "white",
             "linecolor": "white",
             "minorgridcolor": "white",
             "startlinecolor": "#2a3f5f"
            },
            "type": "carpet"
           }
          ],
          "choropleth": [
           {
            "colorbar": {
             "outlinewidth": 0,
             "ticks": ""
            },
            "type": "choropleth"
           }
          ],
          "contour": [
           {
            "colorbar": {
             "outlinewidth": 0,
             "ticks": ""
            },
            "colorscale": [
             [
              0,
              "#0d0887"
             ],
             [
              0.1111111111111111,
              "#46039f"
             ],
             [
              0.2222222222222222,
              "#7201a8"
             ],
             [
              0.3333333333333333,
              "#9c179e"
             ],
             [
              0.4444444444444444,
              "#bd3786"
             ],
             [
              0.5555555555555556,
              "#d8576b"
             ],
             [
              0.6666666666666666,
              "#ed7953"
             ],
             [
              0.7777777777777778,
              "#fb9f3a"
             ],
             [
              0.8888888888888888,
              "#fdca26"
             ],
             [
              1,
              "#f0f921"
             ]
            ],
            "type": "contour"
           }
          ],
          "contourcarpet": [
           {
            "colorbar": {
             "outlinewidth": 0,
             "ticks": ""
            },
            "type": "contourcarpet"
           }
          ],
          "heatmap": [
           {
            "colorbar": {
             "outlinewidth": 0,
             "ticks": ""
            },
            "colorscale": [
             [
              0,
              "#0d0887"
             ],
             [
              0.1111111111111111,
              "#46039f"
             ],
             [
              0.2222222222222222,
              "#7201a8"
             ],
             [
              0.3333333333333333,
              "#9c179e"
             ],
             [
              0.4444444444444444,
              "#bd3786"
             ],
             [
              0.5555555555555556,
              "#d8576b"
             ],
             [
              0.6666666666666666,
              "#ed7953"
             ],
             [
              0.7777777777777778,
              "#fb9f3a"
             ],
             [
              0.8888888888888888,
              "#fdca26"
             ],
             [
              1,
              "#f0f921"
             ]
            ],
            "type": "heatmap"
           }
          ],
          "heatmapgl": [
           {
            "colorbar": {
             "outlinewidth": 0,
             "ticks": ""
            },
            "colorscale": [
             [
              0,
              "#0d0887"
             ],
             [
              0.1111111111111111,
              "#46039f"
             ],
             [
              0.2222222222222222,
              "#7201a8"
             ],
             [
              0.3333333333333333,
              "#9c179e"
             ],
             [
              0.4444444444444444,
              "#bd3786"
             ],
             [
              0.5555555555555556,
              "#d8576b"
             ],
             [
              0.6666666666666666,
              "#ed7953"
             ],
             [
              0.7777777777777778,
              "#fb9f3a"
             ],
             [
              0.8888888888888888,
              "#fdca26"
             ],
             [
              1,
              "#f0f921"
             ]
            ],
            "type": "heatmapgl"
           }
          ],
          "histogram": [
           {
            "marker": {
             "pattern": {
              "fillmode": "overlay",
              "size": 10,
              "solidity": 0.2
             }
            },
            "type": "histogram"
           }
          ],
          "histogram2d": [
           {
            "colorbar": {
             "outlinewidth": 0,
             "ticks": ""
            },
            "colorscale": [
             [
              0,
              "#0d0887"
             ],
             [
              0.1111111111111111,
              "#46039f"
             ],
             [
              0.2222222222222222,
              "#7201a8"
             ],
             [
              0.3333333333333333,
              "#9c179e"
             ],
             [
              0.4444444444444444,
              "#bd3786"
             ],
             [
              0.5555555555555556,
              "#d8576b"
             ],
             [
              0.6666666666666666,
              "#ed7953"
             ],
             [
              0.7777777777777778,
              "#fb9f3a"
             ],
             [
              0.8888888888888888,
              "#fdca26"
             ],
             [
              1,
              "#f0f921"
             ]
            ],
            "type": "histogram2d"
           }
          ],
          "histogram2dcontour": [
           {
            "colorbar": {
             "outlinewidth": 0,
             "ticks": ""
            },
            "colorscale": [
             [
              0,
              "#0d0887"
             ],
             [
              0.1111111111111111,
              "#46039f"
             ],
             [
              0.2222222222222222,
              "#7201a8"
             ],
             [
              0.3333333333333333,
              "#9c179e"
             ],
             [
              0.4444444444444444,
              "#bd3786"
             ],
             [
              0.5555555555555556,
              "#d8576b"
             ],
             [
              0.6666666666666666,
              "#ed7953"
             ],
             [
              0.7777777777777778,
              "#fb9f3a"
             ],
             [
              0.8888888888888888,
              "#fdca26"
             ],
             [
              1,
              "#f0f921"
             ]
            ],
            "type": "histogram2dcontour"
           }
          ],
          "mesh3d": [
           {
            "colorbar": {
             "outlinewidth": 0,
             "ticks": ""
            },
            "type": "mesh3d"
           }
          ],
          "parcoords": [
           {
            "line": {
             "colorbar": {
              "outlinewidth": 0,
              "ticks": ""
             }
            },
            "type": "parcoords"
           }
          ],
          "pie": [
           {
            "automargin": true,
            "type": "pie"
           }
          ],
          "scatter": [
           {
            "fillpattern": {
             "fillmode": "overlay",
             "size": 10,
             "solidity": 0.2
            },
            "type": "scatter"
           }
          ],
          "scatter3d": [
           {
            "line": {
             "colorbar": {
              "outlinewidth": 0,
              "ticks": ""
             }
            },
            "marker": {
             "colorbar": {
              "outlinewidth": 0,
              "ticks": ""
             }
            },
            "type": "scatter3d"
           }
          ],
          "scattercarpet": [
           {
            "marker": {
             "colorbar": {
              "outlinewidth": 0,
              "ticks": ""
             }
            },
            "type": "scattercarpet"
           }
          ],
          "scattergeo": [
           {
            "marker": {
             "colorbar": {
              "outlinewidth": 0,
              "ticks": ""
             }
            },
            "type": "scattergeo"
           }
          ],
          "scattergl": [
           {
            "marker": {
             "colorbar": {
              "outlinewidth": 0,
              "ticks": ""
             }
            },
            "type": "scattergl"
           }
          ],
          "scattermapbox": [
           {
            "marker": {
             "colorbar": {
              "outlinewidth": 0,
              "ticks": ""
             }
            },
            "type": "scattermapbox"
           }
          ],
          "scatterpolar": [
           {
            "marker": {
             "colorbar": {
              "outlinewidth": 0,
              "ticks": ""
             }
            },
            "type": "scatterpolar"
           }
          ],
          "scatterpolargl": [
           {
            "marker": {
             "colorbar": {
              "outlinewidth": 0,
              "ticks": ""
             }
            },
            "type": "scatterpolargl"
           }
          ],
          "scatterternary": [
           {
            "marker": {
             "colorbar": {
              "outlinewidth": 0,
              "ticks": ""
             }
            },
            "type": "scatterternary"
           }
          ],
          "surface": [
           {
            "colorbar": {
             "outlinewidth": 0,
             "ticks": ""
            },
            "colorscale": [
             [
              0,
              "#0d0887"
             ],
             [
              0.1111111111111111,
              "#46039f"
             ],
             [
              0.2222222222222222,
              "#7201a8"
             ],
             [
              0.3333333333333333,
              "#9c179e"
             ],
             [
              0.4444444444444444,
              "#bd3786"
             ],
             [
              0.5555555555555556,
              "#d8576b"
             ],
             [
              0.6666666666666666,
              "#ed7953"
             ],
             [
              0.7777777777777778,
              "#fb9f3a"
             ],
             [
              0.8888888888888888,
              "#fdca26"
             ],
             [
              1,
              "#f0f921"
             ]
            ],
            "type": "surface"
           }
          ],
          "table": [
           {
            "cells": {
             "fill": {
              "color": "#EBF0F8"
             },
             "line": {
              "color": "white"
             }
            },
            "header": {
             "fill": {
              "color": "#C8D4E3"
             },
             "line": {
              "color": "white"
             }
            },
            "type": "table"
           }
          ]
         },
         "layout": {
          "annotationdefaults": {
           "arrowcolor": "#2a3f5f",
           "arrowhead": 0,
           "arrowwidth": 1
          },
          "autotypenumbers": "strict",
          "coloraxis": {
           "colorbar": {
            "outlinewidth": 0,
            "ticks": ""
           }
          },
          "colorscale": {
           "diverging": [
            [
             0,
             "#8e0152"
            ],
            [
             0.1,
             "#c51b7d"
            ],
            [
             0.2,
             "#de77ae"
            ],
            [
             0.3,
             "#f1b6da"
            ],
            [
             0.4,
             "#fde0ef"
            ],
            [
             0.5,
             "#f7f7f7"
            ],
            [
             0.6,
             "#e6f5d0"
            ],
            [
             0.7,
             "#b8e186"
            ],
            [
             0.8,
             "#7fbc41"
            ],
            [
             0.9,
             "#4d9221"
            ],
            [
             1,
             "#276419"
            ]
           ],
           "sequential": [
            [
             0,
             "#0d0887"
            ],
            [
             0.1111111111111111,
             "#46039f"
            ],
            [
             0.2222222222222222,
             "#7201a8"
            ],
            [
             0.3333333333333333,
             "#9c179e"
            ],
            [
             0.4444444444444444,
             "#bd3786"
            ],
            [
             0.5555555555555556,
             "#d8576b"
            ],
            [
             0.6666666666666666,
             "#ed7953"
            ],
            [
             0.7777777777777778,
             "#fb9f3a"
            ],
            [
             0.8888888888888888,
             "#fdca26"
            ],
            [
             1,
             "#f0f921"
            ]
           ],
           "sequentialminus": [
            [
             0,
             "#0d0887"
            ],
            [
             0.1111111111111111,
             "#46039f"
            ],
            [
             0.2222222222222222,
             "#7201a8"
            ],
            [
             0.3333333333333333,
             "#9c179e"
            ],
            [
             0.4444444444444444,
             "#bd3786"
            ],
            [
             0.5555555555555556,
             "#d8576b"
            ],
            [
             0.6666666666666666,
             "#ed7953"
            ],
            [
             0.7777777777777778,
             "#fb9f3a"
            ],
            [
             0.8888888888888888,
             "#fdca26"
            ],
            [
             1,
             "#f0f921"
            ]
           ]
          },
          "colorway": [
           "#636efa",
           "#EF553B",
           "#00cc96",
           "#ab63fa",
           "#FFA15A",
           "#19d3f3",
           "#FF6692",
           "#B6E880",
           "#FF97FF",
           "#FECB52"
          ],
          "font": {
           "color": "#2a3f5f"
          },
          "geo": {
           "bgcolor": "white",
           "lakecolor": "white",
           "landcolor": "#E5ECF6",
           "showlakes": true,
           "showland": true,
           "subunitcolor": "white"
          },
          "hoverlabel": {
           "align": "left"
          },
          "hovermode": "closest",
          "mapbox": {
           "style": "light"
          },
          "paper_bgcolor": "white",
          "plot_bgcolor": "#E5ECF6",
          "polar": {
           "angularaxis": {
            "gridcolor": "white",
            "linecolor": "white",
            "ticks": ""
           },
           "bgcolor": "#E5ECF6",
           "radialaxis": {
            "gridcolor": "white",
            "linecolor": "white",
            "ticks": ""
           }
          },
          "scene": {
           "xaxis": {
            "backgroundcolor": "#E5ECF6",
            "gridcolor": "white",
            "gridwidth": 2,
            "linecolor": "white",
            "showbackground": true,
            "ticks": "",
            "zerolinecolor": "white"
           },
           "yaxis": {
            "backgroundcolor": "#E5ECF6",
            "gridcolor": "white",
            "gridwidth": 2,
            "linecolor": "white",
            "showbackground": true,
            "ticks": "",
            "zerolinecolor": "white"
           },
           "zaxis": {
            "backgroundcolor": "#E5ECF6",
            "gridcolor": "white",
            "gridwidth": 2,
            "linecolor": "white",
            "showbackground": true,
            "ticks": "",
            "zerolinecolor": "white"
           }
          },
          "shapedefaults": {
           "line": {
            "color": "#2a3f5f"
           }
          },
          "ternary": {
           "aaxis": {
            "gridcolor": "white",
            "linecolor": "white",
            "ticks": ""
           },
           "baxis": {
            "gridcolor": "white",
            "linecolor": "white",
            "ticks": ""
           },
           "bgcolor": "#E5ECF6",
           "caxis": {
            "gridcolor": "white",
            "linecolor": "white",
            "ticks": ""
           }
          },
          "title": {
           "x": 0.05
          },
          "xaxis": {
           "automargin": true,
           "gridcolor": "white",
           "linecolor": "white",
           "ticks": "",
           "title": {
            "standoff": 15
           },
           "zerolinecolor": "white",
           "zerolinewidth": 2
          },
          "yaxis": {
           "automargin": true,
           "gridcolor": "white",
           "linecolor": "white",
           "ticks": "",
           "title": {
            "standoff": 15
           },
           "zerolinecolor": "white",
           "zerolinewidth": 2
          }
         }
        },
        "xaxis": {
         "anchor": "y",
         "domain": [
          0,
          1
         ],
         "title": {
          "text": "Verb class"
         }
        },
        "yaxis": {
         "anchor": "x",
         "domain": [
          0,
          1
         ],
         "title": {
          "text": "Total aggregated duration (in s)"
         }
        }
       }
      }
     },
     "metadata": {},
     "output_type": "display_data"
    }
   ],
   "source": [
    "fig = px.bar(\n",
    "    agg_df_overlap,\n",
    "    y=[\n",
    "        \"duration_in_s\",\n",
    "        \"duration_w_loose_overlap\",\n",
    "        \"duration_w_strict_overlap\",\n",
    "    ],\n",
    "    x=\"verb_class_name\",\n",
    "    labels={\"verb_class_name\": \"Verb class\", \"value\": \"Total aggregated duration (in s)\"},\n",
    "    barmode=\"group\",\n",
    "    text=\"percentage_loose_overlap\",\n",
    "    text_auto=True,\n",
    ")\n",
    "\n",
    "# Update legend labels\n",
    "fig.data[0].name = \"Duration (in s)\"\n",
    "fig.data[1].name = \"Duration with 'Loose' EPIC-SOUND Overlap\"\n",
    "fig.data[2].name = \"Duration with 'Strict' EPIC-SOUND Overlap\"\n",
    "\n",
    "fig.show()"
   ]
  },
  {
   "cell_type": "markdown",
   "metadata": {},
   "source": [
    "- **\"Loose\"** overlap means that the audio event is not necessarily contained within the action timestamps, but is at least partially overlapping with it.\n",
    "- **\"Strict\"** overlap means that the audio event is fully contained within the action timestamps.\n"
   ]
  },
  {
   "cell_type": "code",
   "execution_count": 19,
   "metadata": {},
   "outputs": [
    {
     "name": "stdout",
     "output_type": "stream",
     "text": [
      "1: put\n",
      "13: throw\n",
      "30: break\n",
      "32: pat\n",
      "49: crush\n",
      "58: sharpen\n",
      "62: water\n",
      "75: smell\n"
     ]
    }
   ],
   "source": [
    "for i in INTERESTING_VERB_CLASSES_IDS:\n",
    "    print(f\"{i}: {verbs_df.loc[i].key}\")"
   ]
  },
  {
   "cell_type": "code",
   "execution_count": 25,
   "metadata": {},
   "outputs": [
    {
     "data": {
      "text/html": [
       "<div>\n",
       "<style scoped>\n",
       "    .dataframe tbody tr th:only-of-type {\n",
       "        vertical-align: middle;\n",
       "    }\n",
       "\n",
       "    .dataframe tbody tr th {\n",
       "        vertical-align: top;\n",
       "    }\n",
       "\n",
       "    .dataframe thead th {\n",
       "        text-align: right;\n",
       "    }\n",
       "</style>\n",
       "<table border=\"1\" class=\"dataframe\">\n",
       "  <thead>\n",
       "    <tr style=\"text-align: right;\">\n",
       "      <th></th>\n",
       "      <th>narration_id</th>\n",
       "      <th>participant_id</th>\n",
       "      <th>video_id</th>\n",
       "      <th>narration_timestamp</th>\n",
       "      <th>start_timestamp</th>\n",
       "      <th>stop_timestamp</th>\n",
       "      <th>start_frame</th>\n",
       "      <th>stop_frame</th>\n",
       "      <th>narration</th>\n",
       "      <th>verb</th>\n",
       "      <th>verb_class</th>\n",
       "      <th>noun</th>\n",
       "      <th>noun_class</th>\n",
       "      <th>all_nouns</th>\n",
       "      <th>all_noun_classes</th>\n",
       "      <th>duration_in_s</th>\n",
       "      <th>strict_es_overlap</th>\n",
       "      <th>loose_es_overlap</th>\n",
       "      <th>duration_w_strict_overlap</th>\n",
       "      <th>duration_w_loose_overlap</th>\n",
       "    </tr>\n",
       "  </thead>\n",
       "  <tbody>\n",
       "    <tr>\n",
       "      <th>0</th>\n",
       "      <td>P10_04_111</td>\n",
       "      <td>P10</td>\n",
       "      <td>P10_04</td>\n",
       "      <td>00:12:01.699</td>\n",
       "      <td>00:12:04.87</td>\n",
       "      <td>00:12:06.59</td>\n",
       "      <td>43492</td>\n",
       "      <td>43595</td>\n",
       "      <td>throw away the bottle</td>\n",
       "      <td>throw</td>\n",
       "      <td>13</td>\n",
       "      <td>bottle</td>\n",
       "      <td>15</td>\n",
       "      <td>['bottle']</td>\n",
       "      <td>[15]</td>\n",
       "      <td>1.72</td>\n",
       "      <td>False</td>\n",
       "      <td>True</td>\n",
       "      <td>NaN</td>\n",
       "      <td>1.72</td>\n",
       "    </tr>\n",
       "    <tr>\n",
       "      <th>1</th>\n",
       "      <td>P10_04_123</td>\n",
       "      <td>P10</td>\n",
       "      <td>P10_04</td>\n",
       "      <td>00:13:52.509</td>\n",
       "      <td>00:13:56.07</td>\n",
       "      <td>00:13:57.58</td>\n",
       "      <td>50164</td>\n",
       "      <td>50254</td>\n",
       "      <td>put the ginger back into the plastic container</td>\n",
       "      <td>put</td>\n",
       "      <td>1</td>\n",
       "      <td>ginger</td>\n",
       "      <td>131</td>\n",
       "      <td>['ginger', 'container:plastic']</td>\n",
       "      <td>[131, 21]</td>\n",
       "      <td>1.51</td>\n",
       "      <td>False</td>\n",
       "      <td>True</td>\n",
       "      <td>NaN</td>\n",
       "      <td>1.51</td>\n",
       "    </tr>\n",
       "    <tr>\n",
       "      <th>2</th>\n",
       "      <td>P10_04_167</td>\n",
       "      <td>P10</td>\n",
       "      <td>P10_04</td>\n",
       "      <td>00:19:05.970</td>\n",
       "      <td>00:19:12.13</td>\n",
       "      <td>00:19:13.65</td>\n",
       "      <td>69127</td>\n",
       "      <td>69219</td>\n",
       "      <td>put the cover on top of the water filter jar</td>\n",
       "      <td>put-on</td>\n",
       "      <td>1</td>\n",
       "      <td>cover</td>\n",
       "      <td>89</td>\n",
       "      <td>['cover', 'top', 'jar:water:filter']</td>\n",
       "      <td>[89, 42, 66]</td>\n",
       "      <td>1.52</td>\n",
       "      <td>False</td>\n",
       "      <td>True</td>\n",
       "      <td>NaN</td>\n",
       "      <td>1.52</td>\n",
       "    </tr>\n",
       "    <tr>\n",
       "      <th>3</th>\n",
       "      <td>P10_04_183</td>\n",
       "      <td>P10</td>\n",
       "      <td>P10_04</td>\n",
       "      <td>00:20:08.870</td>\n",
       "      <td>00:20:16.14</td>\n",
       "      <td>00:20:17.92</td>\n",
       "      <td>72968</td>\n",
       "      <td>73075</td>\n",
       "      <td>put it on one side</td>\n",
       "      <td>put-on</td>\n",
       "      <td>1</td>\n",
       "      <td>side</td>\n",
       "      <td>42</td>\n",
       "      <td>['side']</td>\n",
       "      <td>[42]</td>\n",
       "      <td>1.78</td>\n",
       "      <td>False</td>\n",
       "      <td>True</td>\n",
       "      <td>NaN</td>\n",
       "      <td>1.78</td>\n",
       "    </tr>\n",
       "    <tr>\n",
       "      <th>4</th>\n",
       "      <td>P10_04_198</td>\n",
       "      <td>P10</td>\n",
       "      <td>P10_04</td>\n",
       "      <td>00:21:31.380</td>\n",
       "      <td>00:21:38.01</td>\n",
       "      <td>00:21:39.85</td>\n",
       "      <td>77880</td>\n",
       "      <td>77991</td>\n",
       "      <td>put the bowl on the utensil shelf</td>\n",
       "      <td>put-on</td>\n",
       "      <td>1</td>\n",
       "      <td>bowl</td>\n",
       "      <td>7</td>\n",
       "      <td>['bowl', 'shelf:utensil']</td>\n",
       "      <td>[7, 247]</td>\n",
       "      <td>1.84</td>\n",
       "      <td>False</td>\n",
       "      <td>True</td>\n",
       "      <td>NaN</td>\n",
       "      <td>1.84</td>\n",
       "    </tr>\n",
       "    <tr>\n",
       "      <th>5</th>\n",
       "      <td>P10_04_206</td>\n",
       "      <td>P10</td>\n",
       "      <td>P10_04</td>\n",
       "      <td>00:22:03.280</td>\n",
       "      <td>00:22:10.66</td>\n",
       "      <td>00:22:12.08</td>\n",
       "      <td>79839</td>\n",
       "      <td>79924</td>\n",
       "      <td>put some liquid on the brusher</td>\n",
       "      <td>put-on</td>\n",
       "      <td>1</td>\n",
       "      <td>liquid</td>\n",
       "      <td>150</td>\n",
       "      <td>['liquid', 'brusher']</td>\n",
       "      <td>[150, 103]</td>\n",
       "      <td>1.42</td>\n",
       "      <td>False</td>\n",
       "      <td>True</td>\n",
       "      <td>NaN</td>\n",
       "      <td>1.42</td>\n",
       "    </tr>\n",
       "    <tr>\n",
       "      <th>6</th>\n",
       "      <td>P10_04_213</td>\n",
       "      <td>P10</td>\n",
       "      <td>P10_04</td>\n",
       "      <td>00:22:42.150</td>\n",
       "      <td>00:22:49.79</td>\n",
       "      <td>00:22:51.13</td>\n",
       "      <td>82187</td>\n",
       "      <td>82267</td>\n",
       "      <td>put the pot on the hob</td>\n",
       "      <td>put-on</td>\n",
       "      <td>1</td>\n",
       "      <td>pot</td>\n",
       "      <td>29</td>\n",
       "      <td>['pot', 'hob']</td>\n",
       "      <td>[29, 24]</td>\n",
       "      <td>1.34</td>\n",
       "      <td>False</td>\n",
       "      <td>True</td>\n",
       "      <td>NaN</td>\n",
       "      <td>1.34</td>\n",
       "    </tr>\n",
       "    <tr>\n",
       "      <th>7</th>\n",
       "      <td>P10_04_215</td>\n",
       "      <td>P10</td>\n",
       "      <td>P10_04</td>\n",
       "      <td>00:22:45.490</td>\n",
       "      <td>00:22:55.85</td>\n",
       "      <td>00:22:57.47</td>\n",
       "      <td>82551</td>\n",
       "      <td>82648</td>\n",
       "      <td>put the bowl of lettuce on the table</td>\n",
       "      <td>put-on</td>\n",
       "      <td>1</td>\n",
       "      <td>bowl:lettuce</td>\n",
       "      <td>7</td>\n",
       "      <td>['bowl:lettuce', 'table']</td>\n",
       "      <td>[7, 42]</td>\n",
       "      <td>1.62</td>\n",
       "      <td>False</td>\n",
       "      <td>True</td>\n",
       "      <td>NaN</td>\n",
       "      <td>1.62</td>\n",
       "    </tr>\n",
       "    <tr>\n",
       "      <th>8</th>\n",
       "      <td>P10_04_234</td>\n",
       "      <td>P10</td>\n",
       "      <td>P10_04</td>\n",
       "      <td>00:25:16.960</td>\n",
       "      <td>00:25:24.50</td>\n",
       "      <td>00:25:25.60</td>\n",
       "      <td>91470</td>\n",
       "      <td>91536</td>\n",
       "      <td>throw away the skin of garlic</td>\n",
       "      <td>throw-away</td>\n",
       "      <td>13</td>\n",
       "      <td>skin:garlic</td>\n",
       "      <td>48</td>\n",
       "      <td>['skin:garlic']</td>\n",
       "      <td>[48]</td>\n",
       "      <td>1.10</td>\n",
       "      <td>False</td>\n",
       "      <td>True</td>\n",
       "      <td>NaN</td>\n",
       "      <td>1.10</td>\n",
       "    </tr>\n",
       "    <tr>\n",
       "      <th>9</th>\n",
       "      <td>P10_04_278</td>\n",
       "      <td>P10</td>\n",
       "      <td>P10_04</td>\n",
       "      <td>00:30:32.720</td>\n",
       "      <td>00:30:38.91</td>\n",
       "      <td>00:30:40.08</td>\n",
       "      <td>110334</td>\n",
       "      <td>110404</td>\n",
       "      <td>put the pot on the hob</td>\n",
       "      <td>put-on</td>\n",
       "      <td>1</td>\n",
       "      <td>pot</td>\n",
       "      <td>29</td>\n",
       "      <td>['pot', 'hob']</td>\n",
       "      <td>[29, 24]</td>\n",
       "      <td>1.17</td>\n",
       "      <td>False</td>\n",
       "      <td>True</td>\n",
       "      <td>NaN</td>\n",
       "      <td>1.17</td>\n",
       "    </tr>\n",
       "    <tr>\n",
       "      <th>10</th>\n",
       "      <td>P10_04_288</td>\n",
       "      <td>P10</td>\n",
       "      <td>P10_04</td>\n",
       "      <td>00:31:47.020</td>\n",
       "      <td>00:31:49.52</td>\n",
       "      <td>00:31:51.49</td>\n",
       "      <td>114571</td>\n",
       "      <td>114689</td>\n",
       "      <td>hit the garlic using the knife</td>\n",
       "      <td>hit</td>\n",
       "      <td>32</td>\n",
       "      <td>garlic</td>\n",
       "      <td>51</td>\n",
       "      <td>['garlic', 'knife']</td>\n",
       "      <td>[51, 4]</td>\n",
       "      <td>1.97</td>\n",
       "      <td>False</td>\n",
       "      <td>True</td>\n",
       "      <td>NaN</td>\n",
       "      <td>1.97</td>\n",
       "    </tr>\n",
       "    <tr>\n",
       "      <th>11</th>\n",
       "      <td>P10_04_307</td>\n",
       "      <td>P10</td>\n",
       "      <td>P10_04</td>\n",
       "      <td>00:34:04.620</td>\n",
       "      <td>00:34:01.40</td>\n",
       "      <td>00:34:02.87</td>\n",
       "      <td>122484</td>\n",
       "      <td>122572</td>\n",
       "      <td>hit the garlic with the side of knife</td>\n",
       "      <td>hit-with</td>\n",
       "      <td>32</td>\n",
       "      <td>garlic</td>\n",
       "      <td>51</td>\n",
       "      <td>['garlic', 'side:knife']</td>\n",
       "      <td>[51, 4]</td>\n",
       "      <td>1.47</td>\n",
       "      <td>False</td>\n",
       "      <td>True</td>\n",
       "      <td>NaN</td>\n",
       "      <td>1.47</td>\n",
       "    </tr>\n",
       "    <tr>\n",
       "      <th>12</th>\n",
       "      <td>P10_04_308</td>\n",
       "      <td>P10</td>\n",
       "      <td>P10_04</td>\n",
       "      <td>00:33:58.880</td>\n",
       "      <td>00:34:03.93</td>\n",
       "      <td>00:34:05.29</td>\n",
       "      <td>122635</td>\n",
       "      <td>122717</td>\n",
       "      <td>hit the garlic with the side of knife</td>\n",
       "      <td>hit-with</td>\n",
       "      <td>32</td>\n",
       "      <td>garlic</td>\n",
       "      <td>51</td>\n",
       "      <td>['garlic', 'side:knife']</td>\n",
       "      <td>[51, 4]</td>\n",
       "      <td>1.36</td>\n",
       "      <td>False</td>\n",
       "      <td>True</td>\n",
       "      <td>NaN</td>\n",
       "      <td>1.36</td>\n",
       "    </tr>\n",
       "    <tr>\n",
       "      <th>13</th>\n",
       "      <td>P10_04_338</td>\n",
       "      <td>P10</td>\n",
       "      <td>P10_04</td>\n",
       "      <td>00:36:44.769</td>\n",
       "      <td>00:36:28.06</td>\n",
       "      <td>00:36:29.66</td>\n",
       "      <td>131283</td>\n",
       "      <td>131379</td>\n",
       "      <td>put the glass bowl on the desk</td>\n",
       "      <td>put-on</td>\n",
       "      <td>1</td>\n",
       "      <td>bowl:glass</td>\n",
       "      <td>7</td>\n",
       "      <td>['bowl:glass', 'desk']</td>\n",
       "      <td>[7, 42]</td>\n",
       "      <td>1.60</td>\n",
       "      <td>False</td>\n",
       "      <td>True</td>\n",
       "      <td>NaN</td>\n",
       "      <td>1.60</td>\n",
       "    </tr>\n",
       "    <tr>\n",
       "      <th>14</th>\n",
       "      <td>P10_04_339</td>\n",
       "      <td>P10</td>\n",
       "      <td>P10_04</td>\n",
       "      <td>00:36:49.250</td>\n",
       "      <td>00:36:31.56</td>\n",
       "      <td>00:36:32.83</td>\n",
       "      <td>131493</td>\n",
       "      <td>131569</td>\n",
       "      <td>put the spade on the pot</td>\n",
       "      <td>put-on</td>\n",
       "      <td>1</td>\n",
       "      <td>spade</td>\n",
       "      <td>1</td>\n",
       "      <td>['spade', 'pot']</td>\n",
       "      <td>[1, 29]</td>\n",
       "      <td>1.27</td>\n",
       "      <td>False</td>\n",
       "      <td>True</td>\n",
       "      <td>NaN</td>\n",
       "      <td>1.27</td>\n",
       "    </tr>\n",
       "    <tr>\n",
       "      <th>15</th>\n",
       "      <td>P10_04_347</td>\n",
       "      <td>P10</td>\n",
       "      <td>P10_04</td>\n",
       "      <td>00:37:25.140</td>\n",
       "      <td>00:37:13.04</td>\n",
       "      <td>00:37:14.49</td>\n",
       "      <td>133982</td>\n",
       "      <td>134069</td>\n",
       "      <td>put the ginger back into its original place</td>\n",
       "      <td>put</td>\n",
       "      <td>1</td>\n",
       "      <td>ginger</td>\n",
       "      <td>131</td>\n",
       "      <td>['ginger']</td>\n",
       "      <td>[131]</td>\n",
       "      <td>1.45</td>\n",
       "      <td>False</td>\n",
       "      <td>True</td>\n",
       "      <td>NaN</td>\n",
       "      <td>1.45</td>\n",
       "    </tr>\n",
       "    <tr>\n",
       "      <th>16</th>\n",
       "      <td>P10_04_353</td>\n",
       "      <td>P10</td>\n",
       "      <td>P10_04</td>\n",
       "      <td>00:37:56.809</td>\n",
       "      <td>00:37:37.93</td>\n",
       "      <td>00:37:39.83</td>\n",
       "      <td>135475</td>\n",
       "      <td>135589</td>\n",
       "      <td>put it onto the utensil shelf</td>\n",
       "      <td>put-onto</td>\n",
       "      <td>1</td>\n",
       "      <td>shelf:utensil</td>\n",
       "      <td>247</td>\n",
       "      <td>['shelf:utensil']</td>\n",
       "      <td>[247]</td>\n",
       "      <td>1.90</td>\n",
       "      <td>False</td>\n",
       "      <td>True</td>\n",
       "      <td>NaN</td>\n",
       "      <td>1.90</td>\n",
       "    </tr>\n",
       "    <tr>\n",
       "      <th>17</th>\n",
       "      <td>P10_04_391</td>\n",
       "      <td>P10</td>\n",
       "      <td>P10_04</td>\n",
       "      <td>00:42:11.279</td>\n",
       "      <td>00:41:52.36</td>\n",
       "      <td>00:41:53.80</td>\n",
       "      <td>150741</td>\n",
       "      <td>150828</td>\n",
       "      <td>put down the chopstick</td>\n",
       "      <td>put-down</td>\n",
       "      <td>1</td>\n",
       "      <td>chopstick</td>\n",
       "      <td>80</td>\n",
       "      <td>['chopstick']</td>\n",
       "      <td>[80]</td>\n",
       "      <td>1.44</td>\n",
       "      <td>False</td>\n",
       "      <td>True</td>\n",
       "      <td>NaN</td>\n",
       "      <td>1.44</td>\n",
       "    </tr>\n",
       "    <tr>\n",
       "      <th>18</th>\n",
       "      <td>P10_04_423</td>\n",
       "      <td>P10</td>\n",
       "      <td>P10_04</td>\n",
       "      <td>00:45:36.849</td>\n",
       "      <td>00:45:19.59</td>\n",
       "      <td>00:45:20.75</td>\n",
       "      <td>163175</td>\n",
       "      <td>163245</td>\n",
       "      <td>put the spade back</td>\n",
       "      <td>put</td>\n",
       "      <td>1</td>\n",
       "      <td>spade</td>\n",
       "      <td>1</td>\n",
       "      <td>['spade']</td>\n",
       "      <td>[1]</td>\n",
       "      <td>1.16</td>\n",
       "      <td>False</td>\n",
       "      <td>True</td>\n",
       "      <td>NaN</td>\n",
       "      <td>1.16</td>\n",
       "    </tr>\n",
       "    <tr>\n",
       "      <th>19</th>\n",
       "      <td>P10_04_428</td>\n",
       "      <td>P10</td>\n",
       "      <td>P10_04</td>\n",
       "      <td>00:46:02.309</td>\n",
       "      <td>00:45:43.92</td>\n",
       "      <td>00:45:45.22</td>\n",
       "      <td>164635</td>\n",
       "      <td>164713</td>\n",
       "      <td>put down the spate</td>\n",
       "      <td>put-down</td>\n",
       "      <td>1</td>\n",
       "      <td>spatula</td>\n",
       "      <td>20</td>\n",
       "      <td>['spatula']</td>\n",
       "      <td>[20]</td>\n",
       "      <td>1.30</td>\n",
       "      <td>False</td>\n",
       "      <td>True</td>\n",
       "      <td>NaN</td>\n",
       "      <td>1.30</td>\n",
       "    </tr>\n",
       "    <tr>\n",
       "      <th>20</th>\n",
       "      <td>P10_04_442</td>\n",
       "      <td>P10</td>\n",
       "      <td>P10_04</td>\n",
       "      <td>00:48:41.210</td>\n",
       "      <td>00:48:23.07</td>\n",
       "      <td>00:48:24.79</td>\n",
       "      <td>174184</td>\n",
       "      <td>174287</td>\n",
       "      <td>put the cooked sprouts on the table</td>\n",
       "      <td>put-on</td>\n",
       "      <td>1</td>\n",
       "      <td>sprout:cooked</td>\n",
       "      <td>258</td>\n",
       "      <td>['sprout:cooked', 'table']</td>\n",
       "      <td>[258, 42]</td>\n",
       "      <td>1.72</td>\n",
       "      <td>True</td>\n",
       "      <td>True</td>\n",
       "      <td>1.72</td>\n",
       "      <td>1.72</td>\n",
       "    </tr>\n",
       "    <tr>\n",
       "      <th>21</th>\n",
       "      <td>P10_04_462</td>\n",
       "      <td>P10</td>\n",
       "      <td>P10_04</td>\n",
       "      <td>00:50:45.410</td>\n",
       "      <td>00:50:26.63</td>\n",
       "      <td>00:50:28.42</td>\n",
       "      <td>181597</td>\n",
       "      <td>181705</td>\n",
       "      <td>put it on the table</td>\n",
       "      <td>put-on</td>\n",
       "      <td>1</td>\n",
       "      <td>table</td>\n",
       "      <td>42</td>\n",
       "      <td>['table']</td>\n",
       "      <td>[42]</td>\n",
       "      <td>1.79</td>\n",
       "      <td>False</td>\n",
       "      <td>True</td>\n",
       "      <td>NaN</td>\n",
       "      <td>1.79</td>\n",
       "    </tr>\n",
       "    <tr>\n",
       "      <th>22</th>\n",
       "      <td>P10_04_470</td>\n",
       "      <td>P10</td>\n",
       "      <td>P10_04</td>\n",
       "      <td>00:51:59.579</td>\n",
       "      <td>00:51:41.16</td>\n",
       "      <td>00:51:42.84</td>\n",
       "      <td>186069</td>\n",
       "      <td>186170</td>\n",
       "      <td>put it onto the top right heater</td>\n",
       "      <td>put-onto</td>\n",
       "      <td>1</td>\n",
       "      <td>heater:right</td>\n",
       "      <td>267</td>\n",
       "      <td>['heater:right']</td>\n",
       "      <td>[267]</td>\n",
       "      <td>1.68</td>\n",
       "      <td>False</td>\n",
       "      <td>True</td>\n",
       "      <td>NaN</td>\n",
       "      <td>1.68</td>\n",
       "    </tr>\n",
       "    <tr>\n",
       "      <th>23</th>\n",
       "      <td>P10_04_472</td>\n",
       "      <td>P10</td>\n",
       "      <td>P10_04</td>\n",
       "      <td>00:52:17.160</td>\n",
       "      <td>00:51:58.70</td>\n",
       "      <td>00:52:00.14</td>\n",
       "      <td>187122</td>\n",
       "      <td>187208</td>\n",
       "      <td>put it on the desk</td>\n",
       "      <td>put-on</td>\n",
       "      <td>1</td>\n",
       "      <td>desk</td>\n",
       "      <td>42</td>\n",
       "      <td>['desk']</td>\n",
       "      <td>[42]</td>\n",
       "      <td>1.44</td>\n",
       "      <td>False</td>\n",
       "      <td>True</td>\n",
       "      <td>NaN</td>\n",
       "      <td>1.44</td>\n",
       "    </tr>\n",
       "    <tr>\n",
       "      <th>24</th>\n",
       "      <td>P10_04_496</td>\n",
       "      <td>P10</td>\n",
       "      <td>P10_04</td>\n",
       "      <td>00:54:24.539</td>\n",
       "      <td>00:54:06.29</td>\n",
       "      <td>00:54:07.40</td>\n",
       "      <td>194777</td>\n",
       "      <td>194844</td>\n",
       "      <td>put it on the water sink</td>\n",
       "      <td>put-on</td>\n",
       "      <td>1</td>\n",
       "      <td>sink:water</td>\n",
       "      <td>63</td>\n",
       "      <td>['sink:water']</td>\n",
       "      <td>[63]</td>\n",
       "      <td>1.11</td>\n",
       "      <td>False</td>\n",
       "      <td>True</td>\n",
       "      <td>NaN</td>\n",
       "      <td>1.11</td>\n",
       "    </tr>\n",
       "    <tr>\n",
       "      <th>25</th>\n",
       "      <td>P10_04_89</td>\n",
       "      <td>P10</td>\n",
       "      <td>P10_04</td>\n",
       "      <td>00:09:59.519</td>\n",
       "      <td>00:10:02.91</td>\n",
       "      <td>00:10:04.47</td>\n",
       "      <td>36174</td>\n",
       "      <td>36268</td>\n",
       "      <td>put the cover of salt back</td>\n",
       "      <td>put</td>\n",
       "      <td>1</td>\n",
       "      <td>cover:salt</td>\n",
       "      <td>6</td>\n",
       "      <td>['cover:salt']</td>\n",
       "      <td>[6]</td>\n",
       "      <td>1.56</td>\n",
       "      <td>False</td>\n",
       "      <td>True</td>\n",
       "      <td>NaN</td>\n",
       "      <td>1.56</td>\n",
       "    </tr>\n",
       "  </tbody>\n",
       "</table>\n",
       "</div>"
      ],
      "text/plain": [
       "   narration_id participant_id video_id narration_timestamp start_timestamp  \\\n",
       "0    P10_04_111            P10   P10_04        00:12:01.699     00:12:04.87   \n",
       "1    P10_04_123            P10   P10_04        00:13:52.509     00:13:56.07   \n",
       "2    P10_04_167            P10   P10_04        00:19:05.970     00:19:12.13   \n",
       "3    P10_04_183            P10   P10_04        00:20:08.870     00:20:16.14   \n",
       "4    P10_04_198            P10   P10_04        00:21:31.380     00:21:38.01   \n",
       "5    P10_04_206            P10   P10_04        00:22:03.280     00:22:10.66   \n",
       "6    P10_04_213            P10   P10_04        00:22:42.150     00:22:49.79   \n",
       "7    P10_04_215            P10   P10_04        00:22:45.490     00:22:55.85   \n",
       "8    P10_04_234            P10   P10_04        00:25:16.960     00:25:24.50   \n",
       "9    P10_04_278            P10   P10_04        00:30:32.720     00:30:38.91   \n",
       "10   P10_04_288            P10   P10_04        00:31:47.020     00:31:49.52   \n",
       "11   P10_04_307            P10   P10_04        00:34:04.620     00:34:01.40   \n",
       "12   P10_04_308            P10   P10_04        00:33:58.880     00:34:03.93   \n",
       "13   P10_04_338            P10   P10_04        00:36:44.769     00:36:28.06   \n",
       "14   P10_04_339            P10   P10_04        00:36:49.250     00:36:31.56   \n",
       "15   P10_04_347            P10   P10_04        00:37:25.140     00:37:13.04   \n",
       "16   P10_04_353            P10   P10_04        00:37:56.809     00:37:37.93   \n",
       "17   P10_04_391            P10   P10_04        00:42:11.279     00:41:52.36   \n",
       "18   P10_04_423            P10   P10_04        00:45:36.849     00:45:19.59   \n",
       "19   P10_04_428            P10   P10_04        00:46:02.309     00:45:43.92   \n",
       "20   P10_04_442            P10   P10_04        00:48:41.210     00:48:23.07   \n",
       "21   P10_04_462            P10   P10_04        00:50:45.410     00:50:26.63   \n",
       "22   P10_04_470            P10   P10_04        00:51:59.579     00:51:41.16   \n",
       "23   P10_04_472            P10   P10_04        00:52:17.160     00:51:58.70   \n",
       "24   P10_04_496            P10   P10_04        00:54:24.539     00:54:06.29   \n",
       "25    P10_04_89            P10   P10_04        00:09:59.519     00:10:02.91   \n",
       "\n",
       "   stop_timestamp  start_frame  stop_frame  \\\n",
       "0     00:12:06.59        43492       43595   \n",
       "1     00:13:57.58        50164       50254   \n",
       "2     00:19:13.65        69127       69219   \n",
       "3     00:20:17.92        72968       73075   \n",
       "4     00:21:39.85        77880       77991   \n",
       "5     00:22:12.08        79839       79924   \n",
       "6     00:22:51.13        82187       82267   \n",
       "7     00:22:57.47        82551       82648   \n",
       "8     00:25:25.60        91470       91536   \n",
       "9     00:30:40.08       110334      110404   \n",
       "10    00:31:51.49       114571      114689   \n",
       "11    00:34:02.87       122484      122572   \n",
       "12    00:34:05.29       122635      122717   \n",
       "13    00:36:29.66       131283      131379   \n",
       "14    00:36:32.83       131493      131569   \n",
       "15    00:37:14.49       133982      134069   \n",
       "16    00:37:39.83       135475      135589   \n",
       "17    00:41:53.80       150741      150828   \n",
       "18    00:45:20.75       163175      163245   \n",
       "19    00:45:45.22       164635      164713   \n",
       "20    00:48:24.79       174184      174287   \n",
       "21    00:50:28.42       181597      181705   \n",
       "22    00:51:42.84       186069      186170   \n",
       "23    00:52:00.14       187122      187208   \n",
       "24    00:54:07.40       194777      194844   \n",
       "25    00:10:04.47        36174       36268   \n",
       "\n",
       "                                         narration        verb  verb_class  \\\n",
       "0                            throw away the bottle       throw          13   \n",
       "1   put the ginger back into the plastic container         put           1   \n",
       "2     put the cover on top of the water filter jar      put-on           1   \n",
       "3                               put it on one side      put-on           1   \n",
       "4                put the bowl on the utensil shelf      put-on           1   \n",
       "5                   put some liquid on the brusher      put-on           1   \n",
       "6                           put the pot on the hob      put-on           1   \n",
       "7             put the bowl of lettuce on the table      put-on           1   \n",
       "8                    throw away the skin of garlic  throw-away          13   \n",
       "9                           put the pot on the hob      put-on           1   \n",
       "10                  hit the garlic using the knife         hit          32   \n",
       "11           hit the garlic with the side of knife    hit-with          32   \n",
       "12           hit the garlic with the side of knife    hit-with          32   \n",
       "13                  put the glass bowl on the desk      put-on           1   \n",
       "14                        put the spade on the pot      put-on           1   \n",
       "15     put the ginger back into its original place         put           1   \n",
       "16                   put it onto the utensil shelf    put-onto           1   \n",
       "17                          put down the chopstick    put-down           1   \n",
       "18                              put the spade back         put           1   \n",
       "19                              put down the spate    put-down           1   \n",
       "20             put the cooked sprouts on the table      put-on           1   \n",
       "21                             put it on the table      put-on           1   \n",
       "22                put it onto the top right heater    put-onto           1   \n",
       "23                              put it on the desk      put-on           1   \n",
       "24                        put it on the water sink      put-on           1   \n",
       "25                      put the cover of salt back         put           1   \n",
       "\n",
       "             noun  noun_class                             all_nouns  \\\n",
       "0          bottle          15                            ['bottle']   \n",
       "1          ginger         131       ['ginger', 'container:plastic']   \n",
       "2           cover          89  ['cover', 'top', 'jar:water:filter']   \n",
       "3            side          42                              ['side']   \n",
       "4            bowl           7             ['bowl', 'shelf:utensil']   \n",
       "5          liquid         150                 ['liquid', 'brusher']   \n",
       "6             pot          29                        ['pot', 'hob']   \n",
       "7    bowl:lettuce           7             ['bowl:lettuce', 'table']   \n",
       "8     skin:garlic          48                       ['skin:garlic']   \n",
       "9             pot          29                        ['pot', 'hob']   \n",
       "10         garlic          51                   ['garlic', 'knife']   \n",
       "11         garlic          51              ['garlic', 'side:knife']   \n",
       "12         garlic          51              ['garlic', 'side:knife']   \n",
       "13     bowl:glass           7                ['bowl:glass', 'desk']   \n",
       "14          spade           1                      ['spade', 'pot']   \n",
       "15         ginger         131                            ['ginger']   \n",
       "16  shelf:utensil         247                     ['shelf:utensil']   \n",
       "17      chopstick          80                         ['chopstick']   \n",
       "18          spade           1                             ['spade']   \n",
       "19        spatula          20                           ['spatula']   \n",
       "20  sprout:cooked         258            ['sprout:cooked', 'table']   \n",
       "21          table          42                             ['table']   \n",
       "22   heater:right         267                      ['heater:right']   \n",
       "23           desk          42                              ['desk']   \n",
       "24     sink:water          63                        ['sink:water']   \n",
       "25     cover:salt           6                        ['cover:salt']   \n",
       "\n",
       "   all_noun_classes  duration_in_s  strict_es_overlap  loose_es_overlap  \\\n",
       "0              [15]           1.72              False              True   \n",
       "1         [131, 21]           1.51              False              True   \n",
       "2      [89, 42, 66]           1.52              False              True   \n",
       "3              [42]           1.78              False              True   \n",
       "4          [7, 247]           1.84              False              True   \n",
       "5        [150, 103]           1.42              False              True   \n",
       "6          [29, 24]           1.34              False              True   \n",
       "7           [7, 42]           1.62              False              True   \n",
       "8              [48]           1.10              False              True   \n",
       "9          [29, 24]           1.17              False              True   \n",
       "10          [51, 4]           1.97              False              True   \n",
       "11          [51, 4]           1.47              False              True   \n",
       "12          [51, 4]           1.36              False              True   \n",
       "13          [7, 42]           1.60              False              True   \n",
       "14          [1, 29]           1.27              False              True   \n",
       "15            [131]           1.45              False              True   \n",
       "16            [247]           1.90              False              True   \n",
       "17             [80]           1.44              False              True   \n",
       "18              [1]           1.16              False              True   \n",
       "19             [20]           1.30              False              True   \n",
       "20        [258, 42]           1.72               True              True   \n",
       "21             [42]           1.79              False              True   \n",
       "22            [267]           1.68              False              True   \n",
       "23             [42]           1.44              False              True   \n",
       "24             [63]           1.11              False              True   \n",
       "25              [6]           1.56              False              True   \n",
       "\n",
       "    duration_w_strict_overlap  duration_w_loose_overlap  \n",
       "0                         NaN                      1.72  \n",
       "1                         NaN                      1.51  \n",
       "2                         NaN                      1.52  \n",
       "3                         NaN                      1.78  \n",
       "4                         NaN                      1.84  \n",
       "5                         NaN                      1.42  \n",
       "6                         NaN                      1.34  \n",
       "7                         NaN                      1.62  \n",
       "8                         NaN                      1.10  \n",
       "9                         NaN                      1.17  \n",
       "10                        NaN                      1.97  \n",
       "11                        NaN                      1.47  \n",
       "12                        NaN                      1.36  \n",
       "13                        NaN                      1.60  \n",
       "14                        NaN                      1.27  \n",
       "15                        NaN                      1.45  \n",
       "16                        NaN                      1.90  \n",
       "17                        NaN                      1.44  \n",
       "18                        NaN                      1.16  \n",
       "19                        NaN                      1.30  \n",
       "20                       1.72                      1.72  \n",
       "21                        NaN                      1.79  \n",
       "22                        NaN                      1.68  \n",
       "23                        NaN                      1.44  \n",
       "24                        NaN                      1.11  \n",
       "25                        NaN                      1.56  "
      ]
     },
     "execution_count": 25,
     "metadata": {},
     "output_type": "execute_result"
    }
   ],
   "source": [
    "overlap_df[overlap_df.verb_class.isin(INTERESTING_VERB_CLASSES_IDS)].query(\"loose_es_overlap == True and duration_w_loose_overlap < 2 and video_id == 'P10_04'\").reset_index(drop=True)"
   ]
  },
  {
   "cell_type": "code",
   "execution_count": null,
   "metadata": {},
   "outputs": [],
   "source": []
  }
 ],
 "metadata": {
  "kernelspec": {
   "display_name": "epic-kitchens-united-MNRhNdVu-py3.10",
   "language": "python",
   "name": "python3"
  },
  "language_info": {
   "codemirror_mode": {
    "name": "ipython",
    "version": 3
   },
   "file_extension": ".py",
   "mimetype": "text/x-python",
   "name": "python",
   "nbconvert_exporter": "python",
   "pygments_lexer": "ipython3",
   "version": "3.10.13"
  },
  "orig_nbformat": 4
 },
 "nbformat": 4,
 "nbformat_minor": 2
}
