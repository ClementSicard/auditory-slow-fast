{
 "cells": [
  {
   "cell_type": "markdown",
   "metadata": {},
   "source": [
    "# Auditory SlowFast testing notebook\n"
   ]
  },
  {
   "cell_type": "code",
   "execution_count": 1,
   "metadata": {},
   "outputs": [],
   "source": [
    "import sys\n",
    "\n",
    "sys.path.extend([\"../\"])\n",
    "\n",
    "from models.auditory_slowfast import AudioSlowFast"
   ]
  },
  {
   "cell_type": "code",
   "execution_count": 2,
   "metadata": {},
   "outputs": [
    {
     "name": "stderr",
     "output_type": "stream",
     "text": [
      "\u001b[32m2023-09-19 12:09:00.909\u001b[0m | \u001b[32m\u001b[1mSUCCESS \u001b[0m | \u001b[36mmodels.auditory_slowfast\u001b[0m:\u001b[36m__init__\u001b[0m:\u001b[36m52\u001b[0m - \u001b[32m\u001b[1mLoaded config from /Users/csicard/src/github.com/marl/thesis/notebooks/../models/auditory_slow_fast/configs/EPIC-KITCHENS/SLOWFAST_R50.yaml\u001b[0m\n",
      "\u001b[32m2023-09-19 12:09:00.910\u001b[0m | \u001b[32m\u001b[1mSUCCESS \u001b[0m | \u001b[36mmodels.auditory_slowfast\u001b[0m:\u001b[36m__init__\u001b[0m:\u001b[36m60\u001b[0m - \u001b[32m\u001b[1mLoaded vocab from /Users/csicard/src/github.com/marl/thesis/notebooks/../models/auditory_slow_fast/configs/EPIC-KITCHENS/vocab.txt\u001b[0m\n",
      "\u001b[32m2023-09-19 12:09:00.911\u001b[0m | \u001b[1mINFO    \u001b[0m | \u001b[36mmodels.auditory_slowfast\u001b[0m:\u001b[36m__init__\u001b[0m:\u001b[36m70\u001b[0m - \u001b[1mWindow size: 240\u001b[0m\n",
      "\u001b[32m2023-09-19 12:09:00.911\u001b[0m | \u001b[1mINFO    \u001b[0m | \u001b[36mmodels.auditory_slowfast\u001b[0m:\u001b[36m__init__\u001b[0m:\u001b[36m71\u001b[0m - \u001b[1mHop size: 120\u001b[0m\n",
      "\u001b[32m2023-09-19 12:09:00.911\u001b[0m | \u001b[1mINFO    \u001b[0m | \u001b[36mmodels.auditory_slowfast\u001b[0m:\u001b[36m__init__\u001b[0m:\u001b[36m72\u001b[0m - \u001b[1mStep size: 5\u001b[0m\n",
      "\u001b[32m2023-09-19 12:09:00.912\u001b[0m | \u001b[1mINFO    \u001b[0m | \u001b[36mmodels.auditory_slowfast\u001b[0m:\u001b[36m__init__\u001b[0m:\u001b[36m73\u001b[0m - \u001b[1mWindow size: 10\u001b[0m\n",
      "\u001b[32m2023-09-19 12:09:00.912\u001b[0m | \u001b[1mINFO    \u001b[0m | \u001b[36mmodels.auditory_slowfast\u001b[0m:\u001b[36m__init__\u001b[0m:\u001b[36m74\u001b[0m - \u001b[1mNumber of frames: 400\u001b[0m\n",
      "\u001b[32m2023-09-19 12:09:00.912\u001b[0m | \u001b[1mINFO    \u001b[0m | \u001b[36mmodels.auditory_slowfast\u001b[0m:\u001b[36m__init__\u001b[0m:\u001b[36m75\u001b[0m - \u001b[1mNumber of classes: [97, 300]\u001b[0m\n"
     ]
    }
   ],
   "source": [
    "checkpoint = \"../models/weights/auditory_slow_fast/SLOWFAST_EPIC.pyth\"\n",
    "model = AudioSlowFast(\n",
    "    checkpoint=checkpoint,\n",
    ")\n",
    "model.eval()\n",
    "verbs, nouns = model.vocab"
   ]
  },
  {
   "cell_type": "code",
   "execution_count": 3,
   "metadata": {},
   "outputs": [
    {
     "name": "stdout",
     "output_type": "stream",
     "text": [
      "/Users/csicard/Library/Caches/pypoetry/virtualenvs/marl-thesis-3lprv2NG-py3.10/bin/python\n"
     ]
    }
   ],
   "source": []
  }
 ],
 "metadata": {
  "kernelspec": {
   "display_name": "marl-thesis-3lprv2NG-py3.10",
   "language": "python",
   "name": "python3"
  },
  "language_info": {
   "codemirror_mode": {
    "name": "ipython",
    "version": 3
   },
   "file_extension": ".py",
   "mimetype": "text/x-python",
   "name": "python",
   "nbconvert_exporter": "python",
   "pygments_lexer": "ipython3",
   "version": "3.10.12"
  },
  "orig_nbformat": 4
 },
 "nbformat": 4,
 "nbformat_minor": 2
}
