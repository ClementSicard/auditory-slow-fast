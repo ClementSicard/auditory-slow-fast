{
 "cells": [
  {
   "cell_type": "code",
   "execution_count": 2,
   "metadata": {},
   "outputs": [],
   "source": [
    "import pandas as pd"
   ]
  },
  {
   "cell_type": "code",
   "execution_count": 3,
   "metadata": {},
   "outputs": [
    {
     "data": {
      "text/html": [
       "<div>\n",
       "<style scoped>\n",
       "    .dataframe tbody tr th:only-of-type {\n",
       "        vertical-align: middle;\n",
       "    }\n",
       "\n",
       "    .dataframe tbody tr th {\n",
       "        vertical-align: top;\n",
       "    }\n",
       "\n",
       "    .dataframe thead th {\n",
       "        text-align: right;\n",
       "    }\n",
       "</style>\n",
       "<table border=\"1\" class=\"dataframe\">\n",
       "  <thead>\n",
       "    <tr style=\"text-align: right;\">\n",
       "      <th></th>\n",
       "      <th>key</th>\n",
       "      <th>instances</th>\n",
       "      <th>category</th>\n",
       "    </tr>\n",
       "    <tr>\n",
       "      <th>id</th>\n",
       "      <th></th>\n",
       "      <th></th>\n",
       "      <th></th>\n",
       "    </tr>\n",
       "  </thead>\n",
       "  <tbody>\n",
       "    <tr>\n",
       "      <th>0</th>\n",
       "      <td>take</td>\n",
       "      <td>['collect-from', 'collect-into', 'draw', 'fetc...</td>\n",
       "      <td>retrieve</td>\n",
       "    </tr>\n",
       "    <tr>\n",
       "      <th>1</th>\n",
       "      <td>put</td>\n",
       "      <td>['create', 'dose', 'lay', 'lay-down', 'lay-on'...</td>\n",
       "      <td>leave</td>\n",
       "    </tr>\n",
       "    <tr>\n",
       "      <th>2</th>\n",
       "      <td>wash</td>\n",
       "      <td>['clean', 'clean-around', 'clean-from', 'clean...</td>\n",
       "      <td>clean</td>\n",
       "    </tr>\n",
       "    <tr>\n",
       "      <th>3</th>\n",
       "      <td>open</td>\n",
       "      <td>['lever-open', 'open', 'open-in', 'open-on', '...</td>\n",
       "      <td>access</td>\n",
       "    </tr>\n",
       "    <tr>\n",
       "      <th>4</th>\n",
       "      <td>close</td>\n",
       "      <td>['close', 'close-off', 'close-with', 'screw-on...</td>\n",
       "      <td>block</td>\n",
       "    </tr>\n",
       "  </tbody>\n",
       "</table>\n",
       "</div>"
      ],
      "text/plain": [
       "      key                                          instances  category\n",
       "id                                                                    \n",
       "0    take  ['collect-from', 'collect-into', 'draw', 'fetc...  retrieve\n",
       "1     put  ['create', 'dose', 'lay', 'lay-down', 'lay-on'...     leave\n",
       "2    wash  ['clean', 'clean-around', 'clean-from', 'clean...     clean\n",
       "3    open  ['lever-open', 'open', 'open-in', 'open-on', '...    access\n",
       "4   close  ['close', 'close-off', 'close-with', 'screw-on...     block"
      ]
     },
     "execution_count": 3,
     "metadata": {},
     "output_type": "execute_result"
    }
   ],
   "source": [
    "ek_verbs_path = \"../data/epic-kitchens-100-annotations/EPIC_100_verb_classes.csv\"\n",
    "\n",
    "verbs_df = pd.read_csv(ek_verbs_path, header=0, index_col=0)\n",
    "verbs_df.head()"
   ]
  },
  {
   "cell_type": "code",
   "execution_count": 4,
   "metadata": {},
   "outputs": [
    {
     "data": {
      "text/html": [
       "<div>\n",
       "<style scoped>\n",
       "    .dataframe tbody tr th:only-of-type {\n",
       "        vertical-align: middle;\n",
       "    }\n",
       "\n",
       "    .dataframe tbody tr th {\n",
       "        vertical-align: top;\n",
       "    }\n",
       "\n",
       "    .dataframe thead th {\n",
       "        text-align: right;\n",
       "    }\n",
       "</style>\n",
       "<table border=\"1\" class=\"dataframe\">\n",
       "  <thead>\n",
       "    <tr style=\"text-align: right;\">\n",
       "      <th></th>\n",
       "      <th>participant_id</th>\n",
       "      <th>video_id</th>\n",
       "      <th>narration_timestamp</th>\n",
       "      <th>start_timestamp</th>\n",
       "      <th>stop_timestamp</th>\n",
       "      <th>start_frame</th>\n",
       "      <th>stop_frame</th>\n",
       "      <th>narration</th>\n",
       "      <th>verb</th>\n",
       "      <th>verb_class</th>\n",
       "      <th>noun</th>\n",
       "      <th>noun_class</th>\n",
       "      <th>all_nouns</th>\n",
       "      <th>all_noun_classes</th>\n",
       "      <th>duration_in_s</th>\n",
       "    </tr>\n",
       "    <tr>\n",
       "      <th>narration_id</th>\n",
       "      <th></th>\n",
       "      <th></th>\n",
       "      <th></th>\n",
       "      <th></th>\n",
       "      <th></th>\n",
       "      <th></th>\n",
       "      <th></th>\n",
       "      <th></th>\n",
       "      <th></th>\n",
       "      <th></th>\n",
       "      <th></th>\n",
       "      <th></th>\n",
       "      <th></th>\n",
       "      <th></th>\n",
       "      <th></th>\n",
       "    </tr>\n",
       "  </thead>\n",
       "  <tbody>\n",
       "    <tr>\n",
       "      <th>P01_01_0</th>\n",
       "      <td>P01</td>\n",
       "      <td>P01_01</td>\n",
       "      <td>00:00:01.089</td>\n",
       "      <td>00:00:00.14</td>\n",
       "      <td>00:00:03.37</td>\n",
       "      <td>8</td>\n",
       "      <td>202</td>\n",
       "      <td>open door</td>\n",
       "      <td>open</td>\n",
       "      <td>3</td>\n",
       "      <td>door</td>\n",
       "      <td>3</td>\n",
       "      <td>[door]</td>\n",
       "      <td>[3]</td>\n",
       "      <td>3.23</td>\n",
       "    </tr>\n",
       "    <tr>\n",
       "      <th>P01_01_1</th>\n",
       "      <td>P01</td>\n",
       "      <td>P01_01</td>\n",
       "      <td>00:00:02.629</td>\n",
       "      <td>00:00:04.37</td>\n",
       "      <td>00:00:06.17</td>\n",
       "      <td>262</td>\n",
       "      <td>370</td>\n",
       "      <td>turn on light</td>\n",
       "      <td>turn-on</td>\n",
       "      <td>6</td>\n",
       "      <td>light</td>\n",
       "      <td>114</td>\n",
       "      <td>[light]</td>\n",
       "      <td>[114]</td>\n",
       "      <td>1.80</td>\n",
       "    </tr>\n",
       "    <tr>\n",
       "      <th>P01_01_10</th>\n",
       "      <td>P01</td>\n",
       "      <td>P01_01</td>\n",
       "      <td>00:00:23.340</td>\n",
       "      <td>00:00:24.97</td>\n",
       "      <td>00:00:26.20</td>\n",
       "      <td>1498</td>\n",
       "      <td>1572</td>\n",
       "      <td>open drawer</td>\n",
       "      <td>open</td>\n",
       "      <td>3</td>\n",
       "      <td>drawer</td>\n",
       "      <td>8</td>\n",
       "      <td>[drawer]</td>\n",
       "      <td>[8]</td>\n",
       "      <td>1.23</td>\n",
       "    </tr>\n",
       "    <tr>\n",
       "      <th>P01_01_100</th>\n",
       "      <td>P01</td>\n",
       "      <td>P01_01</td>\n",
       "      <td>00:07:57.919</td>\n",
       "      <td>00:07:59.75</td>\n",
       "      <td>00:08:00.88</td>\n",
       "      <td>28785</td>\n",
       "      <td>28852</td>\n",
       "      <td>take cup</td>\n",
       "      <td>take</td>\n",
       "      <td>0</td>\n",
       "      <td>cup</td>\n",
       "      <td>13</td>\n",
       "      <td>[cup]</td>\n",
       "      <td>[13]</td>\n",
       "      <td>1.13</td>\n",
       "    </tr>\n",
       "    <tr>\n",
       "      <th>P01_01_101</th>\n",
       "      <td>P01</td>\n",
       "      <td>P01_01</td>\n",
       "      <td>00:08:00.020</td>\n",
       "      <td>00:08:01.47</td>\n",
       "      <td>00:08:02.21</td>\n",
       "      <td>28888</td>\n",
       "      <td>28932</td>\n",
       "      <td>open cupboard</td>\n",
       "      <td>open</td>\n",
       "      <td>3</td>\n",
       "      <td>cupboard</td>\n",
       "      <td>3</td>\n",
       "      <td>[cupboard]</td>\n",
       "      <td>[3]</td>\n",
       "      <td>0.74</td>\n",
       "    </tr>\n",
       "  </tbody>\n",
       "</table>\n",
       "</div>"
      ],
      "text/plain": [
       "             participant_id video_id narration_timestamp start_timestamp  \\\n",
       "narration_id                                                               \n",
       "P01_01_0                P01   P01_01        00:00:01.089     00:00:00.14   \n",
       "P01_01_1                P01   P01_01        00:00:02.629     00:00:04.37   \n",
       "P01_01_10               P01   P01_01        00:00:23.340     00:00:24.97   \n",
       "P01_01_100              P01   P01_01        00:07:57.919     00:07:59.75   \n",
       "P01_01_101              P01   P01_01        00:08:00.020     00:08:01.47   \n",
       "\n",
       "             stop_timestamp  start_frame  stop_frame      narration     verb  \\\n",
       "narration_id                                                                   \n",
       "P01_01_0        00:00:03.37            8         202      open door     open   \n",
       "P01_01_1        00:00:06.17          262         370  turn on light  turn-on   \n",
       "P01_01_10       00:00:26.20         1498        1572    open drawer     open   \n",
       "P01_01_100      00:08:00.88        28785       28852       take cup     take   \n",
       "P01_01_101      00:08:02.21        28888       28932  open cupboard     open   \n",
       "\n",
       "              verb_class      noun  noun_class   all_nouns all_noun_classes  \\\n",
       "narration_id                                                                  \n",
       "P01_01_0               3      door           3      [door]              [3]   \n",
       "P01_01_1               6     light         114     [light]            [114]   \n",
       "P01_01_10              3    drawer           8    [drawer]              [8]   \n",
       "P01_01_100             0       cup          13       [cup]             [13]   \n",
       "P01_01_101             3  cupboard           3  [cupboard]              [3]   \n",
       "\n",
       "              duration_in_s  \n",
       "narration_id                 \n",
       "P01_01_0               3.23  \n",
       "P01_01_1               1.80  \n",
       "P01_01_10              1.23  \n",
       "P01_01_100             1.13  \n",
       "P01_01_101             0.74  "
      ]
     },
     "execution_count": 4,
     "metadata": {},
     "output_type": "execute_result"
    }
   ],
   "source": [
    "ek_train_path = \"../data/epic-kitchens-100-annotations/EPIC_100_train.pkl\"\n",
    "\n",
    "ek_train_df = pd.read_pickle(ek_train_path)\n",
    "ek_train_df[\"start_ts_td\"] = pd.to_timedelta(ek_train_df[\"start_timestamp\"])\n",
    "ek_train_df[\"stop_ts_td\"] = pd.to_timedelta(ek_train_df[\"stop_timestamp\"])\n",
    "ek_train_df[\"duration_in_s\"] = (ek_train_df[\"stop_ts_td\"] - ek_train_df[\"start_ts_td\"]).dt.total_seconds()\n",
    "del ek_train_df[\"start_ts_td\"]\n",
    "del ek_train_df[\"stop_ts_td\"]\n",
    "\n",
    "ek_train_df.head()"
   ]
  },
  {
   "cell_type": "code",
   "execution_count": 5,
   "metadata": {},
   "outputs": [
    {
     "data": {
      "text/html": [
       "<div>\n",
       "<style scoped>\n",
       "    .dataframe tbody tr th:only-of-type {\n",
       "        vertical-align: middle;\n",
       "    }\n",
       "\n",
       "    .dataframe tbody tr th {\n",
       "        vertical-align: top;\n",
       "    }\n",
       "\n",
       "    .dataframe thead th {\n",
       "        text-align: right;\n",
       "    }\n",
       "</style>\n",
       "<table border=\"1\" class=\"dataframe\">\n",
       "  <thead>\n",
       "    <tr style=\"text-align: right;\">\n",
       "      <th></th>\n",
       "      <th>participant_id</th>\n",
       "      <th>video_id</th>\n",
       "      <th>narration_timestamp</th>\n",
       "      <th>start_timestamp</th>\n",
       "      <th>stop_timestamp</th>\n",
       "      <th>start_frame</th>\n",
       "      <th>stop_frame</th>\n",
       "      <th>narration</th>\n",
       "      <th>verb</th>\n",
       "      <th>verb_class</th>\n",
       "      <th>noun</th>\n",
       "      <th>noun_class</th>\n",
       "      <th>all_nouns</th>\n",
       "      <th>all_noun_classes</th>\n",
       "      <th>duration_in_s</th>\n",
       "    </tr>\n",
       "    <tr>\n",
       "      <th>narration_id</th>\n",
       "      <th></th>\n",
       "      <th></th>\n",
       "      <th></th>\n",
       "      <th></th>\n",
       "      <th></th>\n",
       "      <th></th>\n",
       "      <th></th>\n",
       "      <th></th>\n",
       "      <th></th>\n",
       "      <th></th>\n",
       "      <th></th>\n",
       "      <th></th>\n",
       "      <th></th>\n",
       "      <th></th>\n",
       "      <th></th>\n",
       "    </tr>\n",
       "  </thead>\n",
       "  <tbody>\n",
       "    <tr>\n",
       "      <th>P01_11_0</th>\n",
       "      <td>P01</td>\n",
       "      <td>P01_11</td>\n",
       "      <td>00:00:00.560</td>\n",
       "      <td>00:00:00.00</td>\n",
       "      <td>00:00:01.89</td>\n",
       "      <td>1</td>\n",
       "      <td>113</td>\n",
       "      <td>take plate</td>\n",
       "      <td>take</td>\n",
       "      <td>0</td>\n",
       "      <td>plate</td>\n",
       "      <td>2</td>\n",
       "      <td>[plate]</td>\n",
       "      <td>[2]</td>\n",
       "      <td>1.89</td>\n",
       "    </tr>\n",
       "    <tr>\n",
       "      <th>P01_11_1</th>\n",
       "      <td>P01</td>\n",
       "      <td>P01_11</td>\n",
       "      <td>00:00:01.700</td>\n",
       "      <td>00:00:01.56</td>\n",
       "      <td>00:00:02.45</td>\n",
       "      <td>93</td>\n",
       "      <td>147</td>\n",
       "      <td>put down plate</td>\n",
       "      <td>put-down</td>\n",
       "      <td>1</td>\n",
       "      <td>plate</td>\n",
       "      <td>2</td>\n",
       "      <td>[plate]</td>\n",
       "      <td>[2]</td>\n",
       "      <td>0.89</td>\n",
       "    </tr>\n",
       "    <tr>\n",
       "      <th>P01_11_10</th>\n",
       "      <td>P01</td>\n",
       "      <td>P01_11</td>\n",
       "      <td>00:00:48.500</td>\n",
       "      <td>00:00:49.15</td>\n",
       "      <td>00:00:50.95</td>\n",
       "      <td>2949</td>\n",
       "      <td>3057</td>\n",
       "      <td>take paper</td>\n",
       "      <td>take</td>\n",
       "      <td>0</td>\n",
       "      <td>paper</td>\n",
       "      <td>49</td>\n",
       "      <td>[paper]</td>\n",
       "      <td>[49]</td>\n",
       "      <td>1.80</td>\n",
       "    </tr>\n",
       "    <tr>\n",
       "      <th>P01_11_100</th>\n",
       "      <td>P01</td>\n",
       "      <td>P01_11</td>\n",
       "      <td>00:05:27.840</td>\n",
       "      <td>00:05:27.28</td>\n",
       "      <td>00:05:31.97</td>\n",
       "      <td>19636</td>\n",
       "      <td>19918</td>\n",
       "      <td>wash cloth</td>\n",
       "      <td>wash</td>\n",
       "      <td>2</td>\n",
       "      <td>cloth</td>\n",
       "      <td>17</td>\n",
       "      <td>[cloth]</td>\n",
       "      <td>[17]</td>\n",
       "      <td>4.69</td>\n",
       "    </tr>\n",
       "    <tr>\n",
       "      <th>P01_11_101</th>\n",
       "      <td>P01</td>\n",
       "      <td>P01_11</td>\n",
       "      <td>00:05:26.840</td>\n",
       "      <td>00:05:27.37</td>\n",
       "      <td>00:05:29.86</td>\n",
       "      <td>19642</td>\n",
       "      <td>19791</td>\n",
       "      <td>take cloth</td>\n",
       "      <td>take</td>\n",
       "      <td>0</td>\n",
       "      <td>cloth</td>\n",
       "      <td>17</td>\n",
       "      <td>[cloth]</td>\n",
       "      <td>[17]</td>\n",
       "      <td>2.49</td>\n",
       "    </tr>\n",
       "  </tbody>\n",
       "</table>\n",
       "</div>"
      ],
      "text/plain": [
       "             participant_id video_id narration_timestamp start_timestamp  \\\n",
       "narration_id                                                               \n",
       "P01_11_0                P01   P01_11        00:00:00.560     00:00:00.00   \n",
       "P01_11_1                P01   P01_11        00:00:01.700     00:00:01.56   \n",
       "P01_11_10               P01   P01_11        00:00:48.500     00:00:49.15   \n",
       "P01_11_100              P01   P01_11        00:05:27.840     00:05:27.28   \n",
       "P01_11_101              P01   P01_11        00:05:26.840     00:05:27.37   \n",
       "\n",
       "             stop_timestamp  start_frame  stop_frame       narration  \\\n",
       "narration_id                                                           \n",
       "P01_11_0        00:00:01.89            1         113      take plate   \n",
       "P01_11_1        00:00:02.45           93         147  put down plate   \n",
       "P01_11_10       00:00:50.95         2949        3057      take paper   \n",
       "P01_11_100      00:05:31.97        19636       19918      wash cloth   \n",
       "P01_11_101      00:05:29.86        19642       19791      take cloth   \n",
       "\n",
       "                  verb  verb_class   noun  noun_class all_nouns  \\\n",
       "narration_id                                                      \n",
       "P01_11_0          take           0  plate           2   [plate]   \n",
       "P01_11_1      put-down           1  plate           2   [plate]   \n",
       "P01_11_10         take           0  paper          49   [paper]   \n",
       "P01_11_100        wash           2  cloth          17   [cloth]   \n",
       "P01_11_101        take           0  cloth          17   [cloth]   \n",
       "\n",
       "             all_noun_classes  duration_in_s  \n",
       "narration_id                                  \n",
       "P01_11_0                  [2]           1.89  \n",
       "P01_11_1                  [2]           0.89  \n",
       "P01_11_10                [49]           1.80  \n",
       "P01_11_100               [17]           4.69  \n",
       "P01_11_101               [17]           2.49  "
      ]
     },
     "execution_count": 5,
     "metadata": {},
     "output_type": "execute_result"
    }
   ],
   "source": [
    "ek_val_path = \"../data/epic-kitchens-100-annotations/EPIC_100_validation.pkl\"\n",
    "\n",
    "ek_val_df = pd.read_pickle(ek_val_path)\n",
    "ek_val_df[\"start_ts_td\"] = pd.to_timedelta(ek_val_df[\"start_timestamp\"])\n",
    "ek_val_df[\"stop_ts_td\"] = pd.to_timedelta(ek_val_df[\"stop_timestamp\"])\n",
    "ek_val_df[\"duration_in_s\"] = (ek_val_df[\"stop_ts_td\"] - ek_val_df[\"start_ts_td\"]).dt.total_seconds()\n",
    "del ek_val_df[\"start_ts_td\"]\n",
    "del ek_val_df[\"stop_ts_td\"]\n",
    "\n",
    "ek_val_df.head()"
   ]
  },
  {
   "cell_type": "code",
   "execution_count": 6,
   "metadata": {},
   "outputs": [
    {
     "data": {
      "text/html": [
       "<div>\n",
       "<style scoped>\n",
       "    .dataframe tbody tr th:only-of-type {\n",
       "        vertical-align: middle;\n",
       "    }\n",
       "\n",
       "    .dataframe tbody tr th {\n",
       "        vertical-align: top;\n",
       "    }\n",
       "\n",
       "    .dataframe thead th {\n",
       "        text-align: right;\n",
       "    }\n",
       "</style>\n",
       "<table border=\"1\" class=\"dataframe\">\n",
       "  <thead>\n",
       "    <tr style=\"text-align: right;\">\n",
       "      <th></th>\n",
       "      <th>participant_id</th>\n",
       "      <th>video_id</th>\n",
       "      <th>start_timestamp</th>\n",
       "      <th>stop_timestamp</th>\n",
       "      <th>start_sample</th>\n",
       "      <th>stop_sample</th>\n",
       "      <th>description</th>\n",
       "      <th>class</th>\n",
       "      <th>class_id</th>\n",
       "      <th>duration_in_s</th>\n",
       "    </tr>\n",
       "    <tr>\n",
       "      <th>annotation_id</th>\n",
       "      <th></th>\n",
       "      <th></th>\n",
       "      <th></th>\n",
       "      <th></th>\n",
       "      <th></th>\n",
       "      <th></th>\n",
       "      <th></th>\n",
       "      <th></th>\n",
       "      <th></th>\n",
       "      <th></th>\n",
       "    </tr>\n",
       "  </thead>\n",
       "  <tbody>\n",
       "    <tr>\n",
       "      <th>P01_01_0</th>\n",
       "      <td>P01</td>\n",
       "      <td>P01_01</td>\n",
       "      <td>00:00:02.466</td>\n",
       "      <td>00:00:05.315</td>\n",
       "      <td>59184</td>\n",
       "      <td>127560</td>\n",
       "      <td>clang / clatter</td>\n",
       "      <td>plastic-only collision</td>\n",
       "      <td>6</td>\n",
       "      <td>2.849</td>\n",
       "    </tr>\n",
       "    <tr>\n",
       "      <th>P01_01_1</th>\n",
       "      <td>P01</td>\n",
       "      <td>P01_01</td>\n",
       "      <td>00:00:08.981</td>\n",
       "      <td>00:00:09.871</td>\n",
       "      <td>215544</td>\n",
       "      <td>236904</td>\n",
       "      <td>put object on surface</td>\n",
       "      <td>open / close</td>\n",
       "      <td>3</td>\n",
       "      <td>0.890</td>\n",
       "    </tr>\n",
       "    <tr>\n",
       "      <th>P01_01_2</th>\n",
       "      <td>P01</td>\n",
       "      <td>P01_01</td>\n",
       "      <td>00:00:10.190</td>\n",
       "      <td>00:00:12.731</td>\n",
       "      <td>244560</td>\n",
       "      <td>305544</td>\n",
       "      <td>footstep</td>\n",
       "      <td>footstep</td>\n",
       "      <td>7</td>\n",
       "      <td>2.541</td>\n",
       "    </tr>\n",
       "    <tr>\n",
       "      <th>P01_01_3</th>\n",
       "      <td>P01</td>\n",
       "      <td>P01_01</td>\n",
       "      <td>00:00:14.023</td>\n",
       "      <td>00:00:15.044</td>\n",
       "      <td>336552</td>\n",
       "      <td>361056</td>\n",
       "      <td>scrub / scrape / scour / wipe</td>\n",
       "      <td>scrub / scrape / scour / wipe</td>\n",
       "      <td>1</td>\n",
       "      <td>1.021</td>\n",
       "    </tr>\n",
       "    <tr>\n",
       "      <th>P01_01_4</th>\n",
       "      <td>P01</td>\n",
       "      <td>P01_01</td>\n",
       "      <td>00:00:15.148</td>\n",
       "      <td>00:00:19.729</td>\n",
       "      <td>363552</td>\n",
       "      <td>473496</td>\n",
       "      <td>paper rustle</td>\n",
       "      <td>rustle</td>\n",
       "      <td>4</td>\n",
       "      <td>4.581</td>\n",
       "    </tr>\n",
       "  </tbody>\n",
       "</table>\n",
       "</div>"
      ],
      "text/plain": [
       "              participant_id video_id start_timestamp stop_timestamp  \\\n",
       "annotation_id                                                          \n",
       "P01_01_0                 P01   P01_01    00:00:02.466   00:00:05.315   \n",
       "P01_01_1                 P01   P01_01    00:00:08.981   00:00:09.871   \n",
       "P01_01_2                 P01   P01_01    00:00:10.190   00:00:12.731   \n",
       "P01_01_3                 P01   P01_01    00:00:14.023   00:00:15.044   \n",
       "P01_01_4                 P01   P01_01    00:00:15.148   00:00:19.729   \n",
       "\n",
       "               start_sample  stop_sample                    description  \\\n",
       "annotation_id                                                             \n",
       "P01_01_0              59184       127560                clang / clatter   \n",
       "P01_01_1             215544       236904          put object on surface   \n",
       "P01_01_2             244560       305544                       footstep   \n",
       "P01_01_3             336552       361056  scrub / scrape / scour / wipe   \n",
       "P01_01_4             363552       473496                   paper rustle   \n",
       "\n",
       "                                       class  class_id  duration_in_s  \n",
       "annotation_id                                                          \n",
       "P01_01_0              plastic-only collision         6          2.849  \n",
       "P01_01_1                        open / close         3          0.890  \n",
       "P01_01_2                            footstep         7          2.541  \n",
       "P01_01_3       scrub / scrape / scour / wipe         1          1.021  \n",
       "P01_01_4                              rustle         4          4.581  "
      ]
     },
     "execution_count": 6,
     "metadata": {},
     "output_type": "execute_result"
    }
   ],
   "source": [
    "es_train_path = \"../data/epic-sounds-annotations/EPIC_Sounds_train.csv\"\n",
    "\n",
    "es_train_df = pd.read_csv(es_train_path, header=0, index_col=0)\n",
    "es_train_df[\"start_ts_td\"] = pd.to_timedelta(es_train_df[\"start_timestamp\"])\n",
    "es_train_df[\"stop_ts_td\"] = pd.to_timedelta(es_train_df[\"stop_timestamp\"])\n",
    "es_train_df[\"duration_in_s\"] = (\n",
    "    es_train_df[\"stop_ts_td\"] - es_train_df[\"start_ts_td\"]\n",
    ").dt.total_seconds()\n",
    "del es_train_df[\"start_ts_td\"]\n",
    "del es_train_df[\"stop_ts_td\"]\n",
    "\n",
    "es_train_df.head()"
   ]
  },
  {
   "cell_type": "code",
   "execution_count": 7,
   "metadata": {},
   "outputs": [
    {
     "data": {
      "text/html": [
       "<div>\n",
       "<style scoped>\n",
       "    .dataframe tbody tr th:only-of-type {\n",
       "        vertical-align: middle;\n",
       "    }\n",
       "\n",
       "    .dataframe tbody tr th {\n",
       "        vertical-align: top;\n",
       "    }\n",
       "\n",
       "    .dataframe thead th {\n",
       "        text-align: right;\n",
       "    }\n",
       "</style>\n",
       "<table border=\"1\" class=\"dataframe\">\n",
       "  <thead>\n",
       "    <tr style=\"text-align: right;\">\n",
       "      <th></th>\n",
       "      <th>participant_id</th>\n",
       "      <th>video_id</th>\n",
       "      <th>start_timestamp</th>\n",
       "      <th>stop_timestamp</th>\n",
       "      <th>start_sample</th>\n",
       "      <th>stop_sample</th>\n",
       "      <th>description</th>\n",
       "      <th>class</th>\n",
       "      <th>class_id</th>\n",
       "      <th>duration_in_s</th>\n",
       "    </tr>\n",
       "    <tr>\n",
       "      <th>annotation_id</th>\n",
       "      <th></th>\n",
       "      <th></th>\n",
       "      <th></th>\n",
       "      <th></th>\n",
       "      <th></th>\n",
       "      <th></th>\n",
       "      <th></th>\n",
       "      <th></th>\n",
       "      <th></th>\n",
       "      <th></th>\n",
       "    </tr>\n",
       "  </thead>\n",
       "  <tbody>\n",
       "    <tr>\n",
       "      <th>P01_11_0</th>\n",
       "      <td>P01</td>\n",
       "      <td>P01_11</td>\n",
       "      <td>00:00:02.069</td>\n",
       "      <td>00:00:02.993</td>\n",
       "      <td>49656</td>\n",
       "      <td>71832</td>\n",
       "      <td>clang / clatter</td>\n",
       "      <td>ceramic / wood collision</td>\n",
       "      <td>34</td>\n",
       "      <td>0.924</td>\n",
       "    </tr>\n",
       "    <tr>\n",
       "      <th>P01_11_1</th>\n",
       "      <td>P01</td>\n",
       "      <td>P01_11</td>\n",
       "      <td>00:00:03.065</td>\n",
       "      <td>00:00:14.447</td>\n",
       "      <td>73560</td>\n",
       "      <td>346728</td>\n",
       "      <td>paper rustle</td>\n",
       "      <td>rustle</td>\n",
       "      <td>4</td>\n",
       "      <td>11.382</td>\n",
       "    </tr>\n",
       "    <tr>\n",
       "      <th>P01_11_2</th>\n",
       "      <td>P01</td>\n",
       "      <td>P01_11</td>\n",
       "      <td>00:00:16.706</td>\n",
       "      <td>00:00:32.406</td>\n",
       "      <td>400944</td>\n",
       "      <td>777744</td>\n",
       "      <td>paper rustle</td>\n",
       "      <td>rustle</td>\n",
       "      <td>4</td>\n",
       "      <td>15.700</td>\n",
       "    </tr>\n",
       "    <tr>\n",
       "      <th>P01_11_3</th>\n",
       "      <td>P01</td>\n",
       "      <td>P01_11</td>\n",
       "      <td>00:00:21.163</td>\n",
       "      <td>00:00:21.783</td>\n",
       "      <td>507912</td>\n",
       "      <td>522792</td>\n",
       "      <td>sniffle</td>\n",
       "      <td>human</td>\n",
       "      <td>24</td>\n",
       "      <td>0.620</td>\n",
       "    </tr>\n",
       "    <tr>\n",
       "      <th>P01_11_4</th>\n",
       "      <td>P01</td>\n",
       "      <td>P01_11</td>\n",
       "      <td>00:00:33.533</td>\n",
       "      <td>00:00:33.993</td>\n",
       "      <td>804792</td>\n",
       "      <td>815832</td>\n",
       "      <td>sniffle</td>\n",
       "      <td>human</td>\n",
       "      <td>24</td>\n",
       "      <td>0.460</td>\n",
       "    </tr>\n",
       "  </tbody>\n",
       "</table>\n",
       "</div>"
      ],
      "text/plain": [
       "              participant_id video_id start_timestamp stop_timestamp  \\\n",
       "annotation_id                                                          \n",
       "P01_11_0                 P01   P01_11    00:00:02.069   00:00:02.993   \n",
       "P01_11_1                 P01   P01_11    00:00:03.065   00:00:14.447   \n",
       "P01_11_2                 P01   P01_11    00:00:16.706   00:00:32.406   \n",
       "P01_11_3                 P01   P01_11    00:00:21.163   00:00:21.783   \n",
       "P01_11_4                 P01   P01_11    00:00:33.533   00:00:33.993   \n",
       "\n",
       "               start_sample  stop_sample      description  \\\n",
       "annotation_id                                               \n",
       "P01_11_0              49656        71832  clang / clatter   \n",
       "P01_11_1              73560       346728     paper rustle   \n",
       "P01_11_2             400944       777744     paper rustle   \n",
       "P01_11_3             507912       522792          sniffle   \n",
       "P01_11_4             804792       815832          sniffle   \n",
       "\n",
       "                                  class  class_id  duration_in_s  \n",
       "annotation_id                                                     \n",
       "P01_11_0       ceramic / wood collision        34          0.924  \n",
       "P01_11_1                         rustle         4         11.382  \n",
       "P01_11_2                         rustle         4         15.700  \n",
       "P01_11_3                          human        24          0.620  \n",
       "P01_11_4                          human        24          0.460  "
      ]
     },
     "execution_count": 7,
     "metadata": {},
     "output_type": "execute_result"
    }
   ],
   "source": [
    "es_val_path = \"../data/epic-sounds-annotations/EPIC_Sounds_validation.csv\"\n",
    "\n",
    "es_val_df = pd.read_csv(es_val_path, header=0, index_col=0)\n",
    "es_val_df[\"start_ts_td\"] = pd.to_timedelta(es_val_df[\"start_timestamp\"])\n",
    "es_val_df[\"stop_ts_td\"] = pd.to_timedelta(es_val_df[\"stop_timestamp\"])\n",
    "es_val_df[\"duration_in_s\"] = (\n",
    "    es_val_df[\"stop_ts_td\"] - es_val_df[\"start_ts_td\"]\n",
    ").dt.total_seconds()\n",
    "del es_val_df[\"start_ts_td\"]\n",
    "del es_val_df[\"stop_ts_td\"]\n",
    "\n",
    "es_val_df.head()"
   ]
  },
  {
   "cell_type": "code",
   "execution_count": 11,
   "metadata": {},
   "outputs": [],
   "source": [
    "import os\n",
    "from tqdm import tqdm\n",
    "import plotly.express as px\n",
    "import pandas as pd\n",
    "\n",
    "\n",
    "def _count_overlaps(row_k: pd.Series, df_es: pd.DataFrame, strict: bool = False) -> bool:\n",
    "    video_id = row_k[\"video_id\"]\n",
    "    s_k, e_k = row_k[\"start_timestamp\"], row_k[\"stop_timestamp\"]\n",
    "    query = \"video_id == @video_id and start_timestamp >= @s_k and \" \n",
    "\n",
    "    query += (\"stop_timestamp <= @e_k\" if strict else \"start_timestamp <= @e_k\")\n",
    "    \n",
    "    return df_es.query(query).shape[0]\n",
    "\n",
    "def plot_overlaps(overlaps: pd.DataFrame, split: str, height: int = 600, width: int = 800):\n",
    "    # Make a pie chart of the first 10 most common overlap counts\n",
    "    fig1 = px.pie(\n",
    "        overlaps.n_overlap_loose.value_counts().iloc[:10].reset_index(),\n",
    "        values=\"count\",\n",
    "        names=\"n_overlap_loose\",\n",
    "        title=f\"Number of sound annotations loosely contained in action annotations<br>timestamps in {split} set of EPIC-KITCHENS\",\n",
    "        color_discrete_sequence=px.colors.sequential.Oranges_r if split == \"train\" else px.colors.sequential.Blues_r,\n",
    "        labels={\"n_overlap_loose\": \"Number of overlapping sound annotations\", \"count\": \"Number of actions\"},\n",
    "        height=height,\n",
    "        width=width,\n",
    "    )\n",
    "    fig1.update_traces(textinfo='label+percent+value', textposition='inside')\n",
    "    fig1.update_layout(font_family=\"CMU Serif\")\n",
    "    fig1.write_image(f\"../res/dataset/overlaps/ek_es_{split}_loose_overlaps_pie.png\", scale=2.0)\n",
    "    fig1.write_image(f\"../res/dataset/overlaps/pdf/ek_es_{split}_loose_overlaps_pie.pdf\")\n",
    "\n",
    "    fig1.show()\n",
    "    \n",
    "    # Make a pie chart of the first 10 most common overlap counts\n",
    "    fig2 = px.pie(\n",
    "        overlaps.n_overlap_strict.value_counts().iloc[:10].reset_index(),\n",
    "        values=\"count\",\n",
    "        names=\"n_overlap_strict\",\n",
    "        title=f\"<b>Number of sound annotations strictly contained in action annotations<br>timestamps in {split} set of EPIC-KITCHENS</b>\",\n",
    "        color_discrete_sequence=px.colors.sequential.Reds_r if split == \"train\" else px.colors.sequential.Greens_r,\n",
    "        labels={\"n_overlap_loose\": \"Number of overlapping sound annotations\", \"count\": \"Number of actions\"},\n",
    "        height=height,\n",
    "        width=width,\n",
    "    )\n",
    "    fig2.update_traces(textinfo='label+percent+value', textposition='inside')\n",
    "    fig2.update_layout(font_family=\"CMU Serif\")\n",
    "    fig2.write_image(f\"../res/dataset/overlaps/ek_es_{split}_strict_overlaps_pie.png\", scale=2.0)\n",
    "    fig2.write_image(f\"../res/dataset/overlaps/pdf/ek_es_{split}_strict_overlaps_pie.pdf\")\n",
    "\n",
    "    fig2.show()\n",
    "\n",
    "\n",
    "def count_overlaps(ek: pd.DataFrame, es: pd.DataFrame, output: str):\n",
    "    overlaps = ek.copy()\n",
    "\n",
    "    # Run this cell only if the output file does not exist\n",
    "    overlaps[\"n_overlap\"] = 0\n",
    "\n",
    "    for i, row_k in tqdm(\n",
    "        overlaps.iterrows(),\n",
    "        total=len(overlaps),\n",
    "        desc=\"EPIC-KITCHENS\",\n",
    "        unit=\"row\",\n",
    "    ):\n",
    "        overlaps.loc[i, \"n_overlap_strict\"] = _count_overlaps(row_k=row_k, df_es=es, strict=True)\n",
    "        overlaps.loc[i, \"n_overlap_loose\"] = _count_overlaps(row_k=row_k, df_es=es, strict=False)\n",
    "\n",
    "    os.makedirs(\"../res/dataset/overlaps\", exist_ok=True)\n",
    "    os.makedirs(\"../res/dataset/overlaps/pdf\", exist_ok=True)\n",
    "    overlaps.to_csv(f\"../res/dataset/overlaps/{output}\")\n",
    "\n",
    "    return overlaps"
   ]
  },
  {
   "cell_type": "code",
   "execution_count": 13,
   "metadata": {},
   "outputs": [],
   "source": [
    "os.makedirs(\"../res/dataset/overlaps\", exist_ok=True)\n",
    "if not os.path.exists(\"../res/dataset/overlaps/ek_es_train.csv\"):\n",
    "    train_overlaps = count_overlaps(ek_train_df, es_train_df, \"ek_es_train.csv\")\n",
    "else:\n",
    "    train_overlaps = pd.read_csv(\"../res/dataset/overlaps/ek_es_train.csv\", index_col=0)\n",
    "\n",
    "\n",
    "if not os.path.exists(\"../res/dataset/overlaps/ek_es_val.csv\"):\n",
    "    val_overlaps = count_overlaps(ek_val_df, es_val_df, \"ek_es_val.csv\")\n",
    "else:\n",
    "    val_overlaps = pd.read_csv(\"../res/dataset/overlaps/ek_es_val.csv\", index_col=0)"
   ]
  },
  {
   "cell_type": "code",
   "execution_count": 14,
   "metadata": {},
   "outputs": [
    {
     "data": {
      "application/vnd.plotly.v1+json": {
       "config": {
        "plotlyServerURL": "https://plot.ly"
       },
       "data": [
        {
         "domain": {
          "x": [
           0,
           1
          ],
          "y": [
           0,
           1
          ]
         },
         "hovertemplate": "Number of overlapping sound annotations=%{label}<br>Number of actions=%{value}<extra></extra>",
         "labels": [
          0,
          1,
          2,
          3,
          4,
          5,
          6,
          7,
          8,
          9
         ],
         "legendgroup": "",
         "name": "",
         "showlegend": true,
         "textinfo": "label+percent+value",
         "textposition": "inside",
         "type": "pie",
         "values": [
          37062,
          22106,
          4929,
          1404,
          636,
          339,
          226,
          122,
          94,
          68
         ]
        }
       ],
       "layout": {
        "font": {
         "family": "CMU Serif"
        },
        "height": 600,
        "legend": {
         "tracegroupgap": 0
        },
        "piecolorway": [
         "rgb(127,39,4)",
         "rgb(166,54,3)",
         "rgb(217,72,1)",
         "rgb(241,105,19)",
         "rgb(253,141,60)",
         "rgb(253,174,107)",
         "rgb(253,208,162)",
         "rgb(254,230,206)",
         "rgb(255,245,235)"
        ],
        "template": {
         "data": {
          "bar": [
           {
            "error_x": {
             "color": "#2a3f5f"
            },
            "error_y": {
             "color": "#2a3f5f"
            },
            "marker": {
             "line": {
              "color": "#E5ECF6",
              "width": 0.5
             },
             "pattern": {
              "fillmode": "overlay",
              "size": 10,
              "solidity": 0.2
             }
            },
            "type": "bar"
           }
          ],
          "barpolar": [
           {
            "marker": {
             "line": {
              "color": "#E5ECF6",
              "width": 0.5
             },
             "pattern": {
              "fillmode": "overlay",
              "size": 10,
              "solidity": 0.2
             }
            },
            "type": "barpolar"
           }
          ],
          "carpet": [
           {
            "aaxis": {
             "endlinecolor": "#2a3f5f",
             "gridcolor": "white",
             "linecolor": "white",
             "minorgridcolor": "white",
             "startlinecolor": "#2a3f5f"
            },
            "baxis": {
             "endlinecolor": "#2a3f5f",
             "gridcolor": "white",
             "linecolor": "white",
             "minorgridcolor": "white",
             "startlinecolor": "#2a3f5f"
            },
            "type": "carpet"
           }
          ],
          "choropleth": [
           {
            "colorbar": {
             "outlinewidth": 0,
             "ticks": ""
            },
            "type": "choropleth"
           }
          ],
          "contour": [
           {
            "colorbar": {
             "outlinewidth": 0,
             "ticks": ""
            },
            "colorscale": [
             [
              0,
              "#0d0887"
             ],
             [
              0.1111111111111111,
              "#46039f"
             ],
             [
              0.2222222222222222,
              "#7201a8"
             ],
             [
              0.3333333333333333,
              "#9c179e"
             ],
             [
              0.4444444444444444,
              "#bd3786"
             ],
             [
              0.5555555555555556,
              "#d8576b"
             ],
             [
              0.6666666666666666,
              "#ed7953"
             ],
             [
              0.7777777777777778,
              "#fb9f3a"
             ],
             [
              0.8888888888888888,
              "#fdca26"
             ],
             [
              1,
              "#f0f921"
             ]
            ],
            "type": "contour"
           }
          ],
          "contourcarpet": [
           {
            "colorbar": {
             "outlinewidth": 0,
             "ticks": ""
            },
            "type": "contourcarpet"
           }
          ],
          "heatmap": [
           {
            "colorbar": {
             "outlinewidth": 0,
             "ticks": ""
            },
            "colorscale": [
             [
              0,
              "#0d0887"
             ],
             [
              0.1111111111111111,
              "#46039f"
             ],
             [
              0.2222222222222222,
              "#7201a8"
             ],
             [
              0.3333333333333333,
              "#9c179e"
             ],
             [
              0.4444444444444444,
              "#bd3786"
             ],
             [
              0.5555555555555556,
              "#d8576b"
             ],
             [
              0.6666666666666666,
              "#ed7953"
             ],
             [
              0.7777777777777778,
              "#fb9f3a"
             ],
             [
              0.8888888888888888,
              "#fdca26"
             ],
             [
              1,
              "#f0f921"
             ]
            ],
            "type": "heatmap"
           }
          ],
          "heatmapgl": [
           {
            "colorbar": {
             "outlinewidth": 0,
             "ticks": ""
            },
            "colorscale": [
             [
              0,
              "#0d0887"
             ],
             [
              0.1111111111111111,
              "#46039f"
             ],
             [
              0.2222222222222222,
              "#7201a8"
             ],
             [
              0.3333333333333333,
              "#9c179e"
             ],
             [
              0.4444444444444444,
              "#bd3786"
             ],
             [
              0.5555555555555556,
              "#d8576b"
             ],
             [
              0.6666666666666666,
              "#ed7953"
             ],
             [
              0.7777777777777778,
              "#fb9f3a"
             ],
             [
              0.8888888888888888,
              "#fdca26"
             ],
             [
              1,
              "#f0f921"
             ]
            ],
            "type": "heatmapgl"
           }
          ],
          "histogram": [
           {
            "marker": {
             "pattern": {
              "fillmode": "overlay",
              "size": 10,
              "solidity": 0.2
             }
            },
            "type": "histogram"
           }
          ],
          "histogram2d": [
           {
            "colorbar": {
             "outlinewidth": 0,
             "ticks": ""
            },
            "colorscale": [
             [
              0,
              "#0d0887"
             ],
             [
              0.1111111111111111,
              "#46039f"
             ],
             [
              0.2222222222222222,
              "#7201a8"
             ],
             [
              0.3333333333333333,
              "#9c179e"
             ],
             [
              0.4444444444444444,
              "#bd3786"
             ],
             [
              0.5555555555555556,
              "#d8576b"
             ],
             [
              0.6666666666666666,
              "#ed7953"
             ],
             [
              0.7777777777777778,
              "#fb9f3a"
             ],
             [
              0.8888888888888888,
              "#fdca26"
             ],
             [
              1,
              "#f0f921"
             ]
            ],
            "type": "histogram2d"
           }
          ],
          "histogram2dcontour": [
           {
            "colorbar": {
             "outlinewidth": 0,
             "ticks": ""
            },
            "colorscale": [
             [
              0,
              "#0d0887"
             ],
             [
              0.1111111111111111,
              "#46039f"
             ],
             [
              0.2222222222222222,
              "#7201a8"
             ],
             [
              0.3333333333333333,
              "#9c179e"
             ],
             [
              0.4444444444444444,
              "#bd3786"
             ],
             [
              0.5555555555555556,
              "#d8576b"
             ],
             [
              0.6666666666666666,
              "#ed7953"
             ],
             [
              0.7777777777777778,
              "#fb9f3a"
             ],
             [
              0.8888888888888888,
              "#fdca26"
             ],
             [
              1,
              "#f0f921"
             ]
            ],
            "type": "histogram2dcontour"
           }
          ],
          "mesh3d": [
           {
            "colorbar": {
             "outlinewidth": 0,
             "ticks": ""
            },
            "type": "mesh3d"
           }
          ],
          "parcoords": [
           {
            "line": {
             "colorbar": {
              "outlinewidth": 0,
              "ticks": ""
             }
            },
            "type": "parcoords"
           }
          ],
          "pie": [
           {
            "automargin": true,
            "type": "pie"
           }
          ],
          "scatter": [
           {
            "fillpattern": {
             "fillmode": "overlay",
             "size": 10,
             "solidity": 0.2
            },
            "type": "scatter"
           }
          ],
          "scatter3d": [
           {
            "line": {
             "colorbar": {
              "outlinewidth": 0,
              "ticks": ""
             }
            },
            "marker": {
             "colorbar": {
              "outlinewidth": 0,
              "ticks": ""
             }
            },
            "type": "scatter3d"
           }
          ],
          "scattercarpet": [
           {
            "marker": {
             "colorbar": {
              "outlinewidth": 0,
              "ticks": ""
             }
            },
            "type": "scattercarpet"
           }
          ],
          "scattergeo": [
           {
            "marker": {
             "colorbar": {
              "outlinewidth": 0,
              "ticks": ""
             }
            },
            "type": "scattergeo"
           }
          ],
          "scattergl": [
           {
            "marker": {
             "colorbar": {
              "outlinewidth": 0,
              "ticks": ""
             }
            },
            "type": "scattergl"
           }
          ],
          "scattermapbox": [
           {
            "marker": {
             "colorbar": {
              "outlinewidth": 0,
              "ticks": ""
             }
            },
            "type": "scattermapbox"
           }
          ],
          "scatterpolar": [
           {
            "marker": {
             "colorbar": {
              "outlinewidth": 0,
              "ticks": ""
             }
            },
            "type": "scatterpolar"
           }
          ],
          "scatterpolargl": [
           {
            "marker": {
             "colorbar": {
              "outlinewidth": 0,
              "ticks": ""
             }
            },
            "type": "scatterpolargl"
           }
          ],
          "scatterternary": [
           {
            "marker": {
             "colorbar": {
              "outlinewidth": 0,
              "ticks": ""
             }
            },
            "type": "scatterternary"
           }
          ],
          "surface": [
           {
            "colorbar": {
             "outlinewidth": 0,
             "ticks": ""
            },
            "colorscale": [
             [
              0,
              "#0d0887"
             ],
             [
              0.1111111111111111,
              "#46039f"
             ],
             [
              0.2222222222222222,
              "#7201a8"
             ],
             [
              0.3333333333333333,
              "#9c179e"
             ],
             [
              0.4444444444444444,
              "#bd3786"
             ],
             [
              0.5555555555555556,
              "#d8576b"
             ],
             [
              0.6666666666666666,
              "#ed7953"
             ],
             [
              0.7777777777777778,
              "#fb9f3a"
             ],
             [
              0.8888888888888888,
              "#fdca26"
             ],
             [
              1,
              "#f0f921"
             ]
            ],
            "type": "surface"
           }
          ],
          "table": [
           {
            "cells": {
             "fill": {
              "color": "#EBF0F8"
             },
             "line": {
              "color": "white"
             }
            },
            "header": {
             "fill": {
              "color": "#C8D4E3"
             },
             "line": {
              "color": "white"
             }
            },
            "type": "table"
           }
          ]
         },
         "layout": {
          "annotationdefaults": {
           "arrowcolor": "#2a3f5f",
           "arrowhead": 0,
           "arrowwidth": 1
          },
          "autotypenumbers": "strict",
          "coloraxis": {
           "colorbar": {
            "outlinewidth": 0,
            "ticks": ""
           }
          },
          "colorscale": {
           "diverging": [
            [
             0,
             "#8e0152"
            ],
            [
             0.1,
             "#c51b7d"
            ],
            [
             0.2,
             "#de77ae"
            ],
            [
             0.3,
             "#f1b6da"
            ],
            [
             0.4,
             "#fde0ef"
            ],
            [
             0.5,
             "#f7f7f7"
            ],
            [
             0.6,
             "#e6f5d0"
            ],
            [
             0.7,
             "#b8e186"
            ],
            [
             0.8,
             "#7fbc41"
            ],
            [
             0.9,
             "#4d9221"
            ],
            [
             1,
             "#276419"
            ]
           ],
           "sequential": [
            [
             0,
             "#0d0887"
            ],
            [
             0.1111111111111111,
             "#46039f"
            ],
            [
             0.2222222222222222,
             "#7201a8"
            ],
            [
             0.3333333333333333,
             "#9c179e"
            ],
            [
             0.4444444444444444,
             "#bd3786"
            ],
            [
             0.5555555555555556,
             "#d8576b"
            ],
            [
             0.6666666666666666,
             "#ed7953"
            ],
            [
             0.7777777777777778,
             "#fb9f3a"
            ],
            [
             0.8888888888888888,
             "#fdca26"
            ],
            [
             1,
             "#f0f921"
            ]
           ],
           "sequentialminus": [
            [
             0,
             "#0d0887"
            ],
            [
             0.1111111111111111,
             "#46039f"
            ],
            [
             0.2222222222222222,
             "#7201a8"
            ],
            [
             0.3333333333333333,
             "#9c179e"
            ],
            [
             0.4444444444444444,
             "#bd3786"
            ],
            [
             0.5555555555555556,
             "#d8576b"
            ],
            [
             0.6666666666666666,
             "#ed7953"
            ],
            [
             0.7777777777777778,
             "#fb9f3a"
            ],
            [
             0.8888888888888888,
             "#fdca26"
            ],
            [
             1,
             "#f0f921"
            ]
           ]
          },
          "colorway": [
           "#636efa",
           "#EF553B",
           "#00cc96",
           "#ab63fa",
           "#FFA15A",
           "#19d3f3",
           "#FF6692",
           "#B6E880",
           "#FF97FF",
           "#FECB52"
          ],
          "font": {
           "color": "#2a3f5f"
          },
          "geo": {
           "bgcolor": "white",
           "lakecolor": "white",
           "landcolor": "#E5ECF6",
           "showlakes": true,
           "showland": true,
           "subunitcolor": "white"
          },
          "hoverlabel": {
           "align": "left"
          },
          "hovermode": "closest",
          "mapbox": {
           "style": "light"
          },
          "paper_bgcolor": "white",
          "plot_bgcolor": "#E5ECF6",
          "polar": {
           "angularaxis": {
            "gridcolor": "white",
            "linecolor": "white",
            "ticks": ""
           },
           "bgcolor": "#E5ECF6",
           "radialaxis": {
            "gridcolor": "white",
            "linecolor": "white",
            "ticks": ""
           }
          },
          "scene": {
           "xaxis": {
            "backgroundcolor": "#E5ECF6",
            "gridcolor": "white",
            "gridwidth": 2,
            "linecolor": "white",
            "showbackground": true,
            "ticks": "",
            "zerolinecolor": "white"
           },
           "yaxis": {
            "backgroundcolor": "#E5ECF6",
            "gridcolor": "white",
            "gridwidth": 2,
            "linecolor": "white",
            "showbackground": true,
            "ticks": "",
            "zerolinecolor": "white"
           },
           "zaxis": {
            "backgroundcolor": "#E5ECF6",
            "gridcolor": "white",
            "gridwidth": 2,
            "linecolor": "white",
            "showbackground": true,
            "ticks": "",
            "zerolinecolor": "white"
           }
          },
          "shapedefaults": {
           "line": {
            "color": "#2a3f5f"
           }
          },
          "ternary": {
           "aaxis": {
            "gridcolor": "white",
            "linecolor": "white",
            "ticks": ""
           },
           "baxis": {
            "gridcolor": "white",
            "linecolor": "white",
            "ticks": ""
           },
           "bgcolor": "#E5ECF6",
           "caxis": {
            "gridcolor": "white",
            "linecolor": "white",
            "ticks": ""
           }
          },
          "title": {
           "x": 0.05
          },
          "xaxis": {
           "automargin": true,
           "gridcolor": "white",
           "linecolor": "white",
           "ticks": "",
           "title": {
            "standoff": 15
           },
           "zerolinecolor": "white",
           "zerolinewidth": 2
          },
          "yaxis": {
           "automargin": true,
           "gridcolor": "white",
           "linecolor": "white",
           "ticks": "",
           "title": {
            "standoff": 15
           },
           "zerolinecolor": "white",
           "zerolinewidth": 2
          }
         }
        },
        "title": {
         "text": "Number of sound annotations loosely contained in action annotations<br>timestamps in train set of EPIC-KITCHENS"
        },
        "width": 800
       }
      }
     },
     "metadata": {},
     "output_type": "display_data"
    },
    {
     "data": {
      "application/vnd.plotly.v1+json": {
       "config": {
        "plotlyServerURL": "https://plot.ly"
       },
       "data": [
        {
         "domain": {
          "x": [
           0,
           1
          ],
          "y": [
           0,
           1
          ]
         },
         "hovertemplate": "n_overlap_strict=%{label}<br>Number of actions=%{value}<extra></extra>",
         "labels": [
          0,
          1,
          2,
          3,
          4,
          5,
          6,
          7,
          8,
          9
         ],
         "legendgroup": "",
         "name": "",
         "showlegend": true,
         "textinfo": "label+percent+value",
         "textposition": "inside",
         "type": "pie",
         "values": [
          50852,
          11641,
          2495,
          858,
          471,
          288,
          159,
          109,
          70,
          65
         ]
        }
       ],
       "layout": {
        "font": {
         "family": "CMU Serif"
        },
        "height": 600,
        "legend": {
         "tracegroupgap": 0
        },
        "piecolorway": [
         "rgb(103,0,13)",
         "rgb(165,15,21)",
         "rgb(203,24,29)",
         "rgb(239,59,44)",
         "rgb(251,106,74)",
         "rgb(252,146,114)",
         "rgb(252,187,161)",
         "rgb(254,224,210)",
         "rgb(255,245,240)"
        ],
        "template": {
         "data": {
          "bar": [
           {
            "error_x": {
             "color": "#2a3f5f"
            },
            "error_y": {
             "color": "#2a3f5f"
            },
            "marker": {
             "line": {
              "color": "#E5ECF6",
              "width": 0.5
             },
             "pattern": {
              "fillmode": "overlay",
              "size": 10,
              "solidity": 0.2
             }
            },
            "type": "bar"
           }
          ],
          "barpolar": [
           {
            "marker": {
             "line": {
              "color": "#E5ECF6",
              "width": 0.5
             },
             "pattern": {
              "fillmode": "overlay",
              "size": 10,
              "solidity": 0.2
             }
            },
            "type": "barpolar"
           }
          ],
          "carpet": [
           {
            "aaxis": {
             "endlinecolor": "#2a3f5f",
             "gridcolor": "white",
             "linecolor": "white",
             "minorgridcolor": "white",
             "startlinecolor": "#2a3f5f"
            },
            "baxis": {
             "endlinecolor": "#2a3f5f",
             "gridcolor": "white",
             "linecolor": "white",
             "minorgridcolor": "white",
             "startlinecolor": "#2a3f5f"
            },
            "type": "carpet"
           }
          ],
          "choropleth": [
           {
            "colorbar": {
             "outlinewidth": 0,
             "ticks": ""
            },
            "type": "choropleth"
           }
          ],
          "contour": [
           {
            "colorbar": {
             "outlinewidth": 0,
             "ticks": ""
            },
            "colorscale": [
             [
              0,
              "#0d0887"
             ],
             [
              0.1111111111111111,
              "#46039f"
             ],
             [
              0.2222222222222222,
              "#7201a8"
             ],
             [
              0.3333333333333333,
              "#9c179e"
             ],
             [
              0.4444444444444444,
              "#bd3786"
             ],
             [
              0.5555555555555556,
              "#d8576b"
             ],
             [
              0.6666666666666666,
              "#ed7953"
             ],
             [
              0.7777777777777778,
              "#fb9f3a"
             ],
             [
              0.8888888888888888,
              "#fdca26"
             ],
             [
              1,
              "#f0f921"
             ]
            ],
            "type": "contour"
           }
          ],
          "contourcarpet": [
           {
            "colorbar": {
             "outlinewidth": 0,
             "ticks": ""
            },
            "type": "contourcarpet"
           }
          ],
          "heatmap": [
           {
            "colorbar": {
             "outlinewidth": 0,
             "ticks": ""
            },
            "colorscale": [
             [
              0,
              "#0d0887"
             ],
             [
              0.1111111111111111,
              "#46039f"
             ],
             [
              0.2222222222222222,
              "#7201a8"
             ],
             [
              0.3333333333333333,
              "#9c179e"
             ],
             [
              0.4444444444444444,
              "#bd3786"
             ],
             [
              0.5555555555555556,
              "#d8576b"
             ],
             [
              0.6666666666666666,
              "#ed7953"
             ],
             [
              0.7777777777777778,
              "#fb9f3a"
             ],
             [
              0.8888888888888888,
              "#fdca26"
             ],
             [
              1,
              "#f0f921"
             ]
            ],
            "type": "heatmap"
           }
          ],
          "heatmapgl": [
           {
            "colorbar": {
             "outlinewidth": 0,
             "ticks": ""
            },
            "colorscale": [
             [
              0,
              "#0d0887"
             ],
             [
              0.1111111111111111,
              "#46039f"
             ],
             [
              0.2222222222222222,
              "#7201a8"
             ],
             [
              0.3333333333333333,
              "#9c179e"
             ],
             [
              0.4444444444444444,
              "#bd3786"
             ],
             [
              0.5555555555555556,
              "#d8576b"
             ],
             [
              0.6666666666666666,
              "#ed7953"
             ],
             [
              0.7777777777777778,
              "#fb9f3a"
             ],
             [
              0.8888888888888888,
              "#fdca26"
             ],
             [
              1,
              "#f0f921"
             ]
            ],
            "type": "heatmapgl"
           }
          ],
          "histogram": [
           {
            "marker": {
             "pattern": {
              "fillmode": "overlay",
              "size": 10,
              "solidity": 0.2
             }
            },
            "type": "histogram"
           }
          ],
          "histogram2d": [
           {
            "colorbar": {
             "outlinewidth": 0,
             "ticks": ""
            },
            "colorscale": [
             [
              0,
              "#0d0887"
             ],
             [
              0.1111111111111111,
              "#46039f"
             ],
             [
              0.2222222222222222,
              "#7201a8"
             ],
             [
              0.3333333333333333,
              "#9c179e"
             ],
             [
              0.4444444444444444,
              "#bd3786"
             ],
             [
              0.5555555555555556,
              "#d8576b"
             ],
             [
              0.6666666666666666,
              "#ed7953"
             ],
             [
              0.7777777777777778,
              "#fb9f3a"
             ],
             [
              0.8888888888888888,
              "#fdca26"
             ],
             [
              1,
              "#f0f921"
             ]
            ],
            "type": "histogram2d"
           }
          ],
          "histogram2dcontour": [
           {
            "colorbar": {
             "outlinewidth": 0,
             "ticks": ""
            },
            "colorscale": [
             [
              0,
              "#0d0887"
             ],
             [
              0.1111111111111111,
              "#46039f"
             ],
             [
              0.2222222222222222,
              "#7201a8"
             ],
             [
              0.3333333333333333,
              "#9c179e"
             ],
             [
              0.4444444444444444,
              "#bd3786"
             ],
             [
              0.5555555555555556,
              "#d8576b"
             ],
             [
              0.6666666666666666,
              "#ed7953"
             ],
             [
              0.7777777777777778,
              "#fb9f3a"
             ],
             [
              0.8888888888888888,
              "#fdca26"
             ],
             [
              1,
              "#f0f921"
             ]
            ],
            "type": "histogram2dcontour"
           }
          ],
          "mesh3d": [
           {
            "colorbar": {
             "outlinewidth": 0,
             "ticks": ""
            },
            "type": "mesh3d"
           }
          ],
          "parcoords": [
           {
            "line": {
             "colorbar": {
              "outlinewidth": 0,
              "ticks": ""
             }
            },
            "type": "parcoords"
           }
          ],
          "pie": [
           {
            "automargin": true,
            "type": "pie"
           }
          ],
          "scatter": [
           {
            "fillpattern": {
             "fillmode": "overlay",
             "size": 10,
             "solidity": 0.2
            },
            "type": "scatter"
           }
          ],
          "scatter3d": [
           {
            "line": {
             "colorbar": {
              "outlinewidth": 0,
              "ticks": ""
             }
            },
            "marker": {
             "colorbar": {
              "outlinewidth": 0,
              "ticks": ""
             }
            },
            "type": "scatter3d"
           }
          ],
          "scattercarpet": [
           {
            "marker": {
             "colorbar": {
              "outlinewidth": 0,
              "ticks": ""
             }
            },
            "type": "scattercarpet"
           }
          ],
          "scattergeo": [
           {
            "marker": {
             "colorbar": {
              "outlinewidth": 0,
              "ticks": ""
             }
            },
            "type": "scattergeo"
           }
          ],
          "scattergl": [
           {
            "marker": {
             "colorbar": {
              "outlinewidth": 0,
              "ticks": ""
             }
            },
            "type": "scattergl"
           }
          ],
          "scattermapbox": [
           {
            "marker": {
             "colorbar": {
              "outlinewidth": 0,
              "ticks": ""
             }
            },
            "type": "scattermapbox"
           }
          ],
          "scatterpolar": [
           {
            "marker": {
             "colorbar": {
              "outlinewidth": 0,
              "ticks": ""
             }
            },
            "type": "scatterpolar"
           }
          ],
          "scatterpolargl": [
           {
            "marker": {
             "colorbar": {
              "outlinewidth": 0,
              "ticks": ""
             }
            },
            "type": "scatterpolargl"
           }
          ],
          "scatterternary": [
           {
            "marker": {
             "colorbar": {
              "outlinewidth": 0,
              "ticks": ""
             }
            },
            "type": "scatterternary"
           }
          ],
          "surface": [
           {
            "colorbar": {
             "outlinewidth": 0,
             "ticks": ""
            },
            "colorscale": [
             [
              0,
              "#0d0887"
             ],
             [
              0.1111111111111111,
              "#46039f"
             ],
             [
              0.2222222222222222,
              "#7201a8"
             ],
             [
              0.3333333333333333,
              "#9c179e"
             ],
             [
              0.4444444444444444,
              "#bd3786"
             ],
             [
              0.5555555555555556,
              "#d8576b"
             ],
             [
              0.6666666666666666,
              "#ed7953"
             ],
             [
              0.7777777777777778,
              "#fb9f3a"
             ],
             [
              0.8888888888888888,
              "#fdca26"
             ],
             [
              1,
              "#f0f921"
             ]
            ],
            "type": "surface"
           }
          ],
          "table": [
           {
            "cells": {
             "fill": {
              "color": "#EBF0F8"
             },
             "line": {
              "color": "white"
             }
            },
            "header": {
             "fill": {
              "color": "#C8D4E3"
             },
             "line": {
              "color": "white"
             }
            },
            "type": "table"
           }
          ]
         },
         "layout": {
          "annotationdefaults": {
           "arrowcolor": "#2a3f5f",
           "arrowhead": 0,
           "arrowwidth": 1
          },
          "autotypenumbers": "strict",
          "coloraxis": {
           "colorbar": {
            "outlinewidth": 0,
            "ticks": ""
           }
          },
          "colorscale": {
           "diverging": [
            [
             0,
             "#8e0152"
            ],
            [
             0.1,
             "#c51b7d"
            ],
            [
             0.2,
             "#de77ae"
            ],
            [
             0.3,
             "#f1b6da"
            ],
            [
             0.4,
             "#fde0ef"
            ],
            [
             0.5,
             "#f7f7f7"
            ],
            [
             0.6,
             "#e6f5d0"
            ],
            [
             0.7,
             "#b8e186"
            ],
            [
             0.8,
             "#7fbc41"
            ],
            [
             0.9,
             "#4d9221"
            ],
            [
             1,
             "#276419"
            ]
           ],
           "sequential": [
            [
             0,
             "#0d0887"
            ],
            [
             0.1111111111111111,
             "#46039f"
            ],
            [
             0.2222222222222222,
             "#7201a8"
            ],
            [
             0.3333333333333333,
             "#9c179e"
            ],
            [
             0.4444444444444444,
             "#bd3786"
            ],
            [
             0.5555555555555556,
             "#d8576b"
            ],
            [
             0.6666666666666666,
             "#ed7953"
            ],
            [
             0.7777777777777778,
             "#fb9f3a"
            ],
            [
             0.8888888888888888,
             "#fdca26"
            ],
            [
             1,
             "#f0f921"
            ]
           ],
           "sequentialminus": [
            [
             0,
             "#0d0887"
            ],
            [
             0.1111111111111111,
             "#46039f"
            ],
            [
             0.2222222222222222,
             "#7201a8"
            ],
            [
             0.3333333333333333,
             "#9c179e"
            ],
            [
             0.4444444444444444,
             "#bd3786"
            ],
            [
             0.5555555555555556,
             "#d8576b"
            ],
            [
             0.6666666666666666,
             "#ed7953"
            ],
            [
             0.7777777777777778,
             "#fb9f3a"
            ],
            [
             0.8888888888888888,
             "#fdca26"
            ],
            [
             1,
             "#f0f921"
            ]
           ]
          },
          "colorway": [
           "#636efa",
           "#EF553B",
           "#00cc96",
           "#ab63fa",
           "#FFA15A",
           "#19d3f3",
           "#FF6692",
           "#B6E880",
           "#FF97FF",
           "#FECB52"
          ],
          "font": {
           "color": "#2a3f5f"
          },
          "geo": {
           "bgcolor": "white",
           "lakecolor": "white",
           "landcolor": "#E5ECF6",
           "showlakes": true,
           "showland": true,
           "subunitcolor": "white"
          },
          "hoverlabel": {
           "align": "left"
          },
          "hovermode": "closest",
          "mapbox": {
           "style": "light"
          },
          "paper_bgcolor": "white",
          "plot_bgcolor": "#E5ECF6",
          "polar": {
           "angularaxis": {
            "gridcolor": "white",
            "linecolor": "white",
            "ticks": ""
           },
           "bgcolor": "#E5ECF6",
           "radialaxis": {
            "gridcolor": "white",
            "linecolor": "white",
            "ticks": ""
           }
          },
          "scene": {
           "xaxis": {
            "backgroundcolor": "#E5ECF6",
            "gridcolor": "white",
            "gridwidth": 2,
            "linecolor": "white",
            "showbackground": true,
            "ticks": "",
            "zerolinecolor": "white"
           },
           "yaxis": {
            "backgroundcolor": "#E5ECF6",
            "gridcolor": "white",
            "gridwidth": 2,
            "linecolor": "white",
            "showbackground": true,
            "ticks": "",
            "zerolinecolor": "white"
           },
           "zaxis": {
            "backgroundcolor": "#E5ECF6",
            "gridcolor": "white",
            "gridwidth": 2,
            "linecolor": "white",
            "showbackground": true,
            "ticks": "",
            "zerolinecolor": "white"
           }
          },
          "shapedefaults": {
           "line": {
            "color": "#2a3f5f"
           }
          },
          "ternary": {
           "aaxis": {
            "gridcolor": "white",
            "linecolor": "white",
            "ticks": ""
           },
           "baxis": {
            "gridcolor": "white",
            "linecolor": "white",
            "ticks": ""
           },
           "bgcolor": "#E5ECF6",
           "caxis": {
            "gridcolor": "white",
            "linecolor": "white",
            "ticks": ""
           }
          },
          "title": {
           "x": 0.05
          },
          "xaxis": {
           "automargin": true,
           "gridcolor": "white",
           "linecolor": "white",
           "ticks": "",
           "title": {
            "standoff": 15
           },
           "zerolinecolor": "white",
           "zerolinewidth": 2
          },
          "yaxis": {
           "automargin": true,
           "gridcolor": "white",
           "linecolor": "white",
           "ticks": "",
           "title": {
            "standoff": 15
           },
           "zerolinecolor": "white",
           "zerolinewidth": 2
          }
         }
        },
        "title": {
         "text": "<b>Number of sound annotations strictly contained in action annotations<br>timestamps in train set of EPIC-KITCHENS</b>"
        },
        "width": 800
       }
      }
     },
     "metadata": {},
     "output_type": "display_data"
    },
    {
     "data": {
      "application/vnd.plotly.v1+json": {
       "config": {
        "plotlyServerURL": "https://plot.ly"
       },
       "data": [
        {
         "domain": {
          "x": [
           0,
           1
          ],
          "y": [
           0,
           1
          ]
         },
         "hovertemplate": "Number of overlapping sound annotations=%{label}<br>Number of actions=%{value}<extra></extra>",
         "labels": [
          0,
          1,
          2,
          3,
          4,
          5,
          6,
          8,
          7,
          9
         ],
         "legendgroup": "",
         "name": "",
         "showlegend": true,
         "textinfo": "label+percent+value",
         "textposition": "inside",
         "type": "pie",
         "values": [
          5543,
          3120,
          640,
          189,
          80,
          29,
          16,
          11,
          10,
          9
         ]
        }
       ],
       "layout": {
        "font": {
         "family": "CMU Serif"
        },
        "height": 600,
        "legend": {
         "tracegroupgap": 0
        },
        "piecolorway": [
         "rgb(8,48,107)",
         "rgb(8,81,156)",
         "rgb(33,113,181)",
         "rgb(66,146,198)",
         "rgb(107,174,214)",
         "rgb(158,202,225)",
         "rgb(198,219,239)",
         "rgb(222,235,247)",
         "rgb(247,251,255)"
        ],
        "template": {
         "data": {
          "bar": [
           {
            "error_x": {
             "color": "#2a3f5f"
            },
            "error_y": {
             "color": "#2a3f5f"
            },
            "marker": {
             "line": {
              "color": "#E5ECF6",
              "width": 0.5
             },
             "pattern": {
              "fillmode": "overlay",
              "size": 10,
              "solidity": 0.2
             }
            },
            "type": "bar"
           }
          ],
          "barpolar": [
           {
            "marker": {
             "line": {
              "color": "#E5ECF6",
              "width": 0.5
             },
             "pattern": {
              "fillmode": "overlay",
              "size": 10,
              "solidity": 0.2
             }
            },
            "type": "barpolar"
           }
          ],
          "carpet": [
           {
            "aaxis": {
             "endlinecolor": "#2a3f5f",
             "gridcolor": "white",
             "linecolor": "white",
             "minorgridcolor": "white",
             "startlinecolor": "#2a3f5f"
            },
            "baxis": {
             "endlinecolor": "#2a3f5f",
             "gridcolor": "white",
             "linecolor": "white",
             "minorgridcolor": "white",
             "startlinecolor": "#2a3f5f"
            },
            "type": "carpet"
           }
          ],
          "choropleth": [
           {
            "colorbar": {
             "outlinewidth": 0,
             "ticks": ""
            },
            "type": "choropleth"
           }
          ],
          "contour": [
           {
            "colorbar": {
             "outlinewidth": 0,
             "ticks": ""
            },
            "colorscale": [
             [
              0,
              "#0d0887"
             ],
             [
              0.1111111111111111,
              "#46039f"
             ],
             [
              0.2222222222222222,
              "#7201a8"
             ],
             [
              0.3333333333333333,
              "#9c179e"
             ],
             [
              0.4444444444444444,
              "#bd3786"
             ],
             [
              0.5555555555555556,
              "#d8576b"
             ],
             [
              0.6666666666666666,
              "#ed7953"
             ],
             [
              0.7777777777777778,
              "#fb9f3a"
             ],
             [
              0.8888888888888888,
              "#fdca26"
             ],
             [
              1,
              "#f0f921"
             ]
            ],
            "type": "contour"
           }
          ],
          "contourcarpet": [
           {
            "colorbar": {
             "outlinewidth": 0,
             "ticks": ""
            },
            "type": "contourcarpet"
           }
          ],
          "heatmap": [
           {
            "colorbar": {
             "outlinewidth": 0,
             "ticks": ""
            },
            "colorscale": [
             [
              0,
              "#0d0887"
             ],
             [
              0.1111111111111111,
              "#46039f"
             ],
             [
              0.2222222222222222,
              "#7201a8"
             ],
             [
              0.3333333333333333,
              "#9c179e"
             ],
             [
              0.4444444444444444,
              "#bd3786"
             ],
             [
              0.5555555555555556,
              "#d8576b"
             ],
             [
              0.6666666666666666,
              "#ed7953"
             ],
             [
              0.7777777777777778,
              "#fb9f3a"
             ],
             [
              0.8888888888888888,
              "#fdca26"
             ],
             [
              1,
              "#f0f921"
             ]
            ],
            "type": "heatmap"
           }
          ],
          "heatmapgl": [
           {
            "colorbar": {
             "outlinewidth": 0,
             "ticks": ""
            },
            "colorscale": [
             [
              0,
              "#0d0887"
             ],
             [
              0.1111111111111111,
              "#46039f"
             ],
             [
              0.2222222222222222,
              "#7201a8"
             ],
             [
              0.3333333333333333,
              "#9c179e"
             ],
             [
              0.4444444444444444,
              "#bd3786"
             ],
             [
              0.5555555555555556,
              "#d8576b"
             ],
             [
              0.6666666666666666,
              "#ed7953"
             ],
             [
              0.7777777777777778,
              "#fb9f3a"
             ],
             [
              0.8888888888888888,
              "#fdca26"
             ],
             [
              1,
              "#f0f921"
             ]
            ],
            "type": "heatmapgl"
           }
          ],
          "histogram": [
           {
            "marker": {
             "pattern": {
              "fillmode": "overlay",
              "size": 10,
              "solidity": 0.2
             }
            },
            "type": "histogram"
           }
          ],
          "histogram2d": [
           {
            "colorbar": {
             "outlinewidth": 0,
             "ticks": ""
            },
            "colorscale": [
             [
              0,
              "#0d0887"
             ],
             [
              0.1111111111111111,
              "#46039f"
             ],
             [
              0.2222222222222222,
              "#7201a8"
             ],
             [
              0.3333333333333333,
              "#9c179e"
             ],
             [
              0.4444444444444444,
              "#bd3786"
             ],
             [
              0.5555555555555556,
              "#d8576b"
             ],
             [
              0.6666666666666666,
              "#ed7953"
             ],
             [
              0.7777777777777778,
              "#fb9f3a"
             ],
             [
              0.8888888888888888,
              "#fdca26"
             ],
             [
              1,
              "#f0f921"
             ]
            ],
            "type": "histogram2d"
           }
          ],
          "histogram2dcontour": [
           {
            "colorbar": {
             "outlinewidth": 0,
             "ticks": ""
            },
            "colorscale": [
             [
              0,
              "#0d0887"
             ],
             [
              0.1111111111111111,
              "#46039f"
             ],
             [
              0.2222222222222222,
              "#7201a8"
             ],
             [
              0.3333333333333333,
              "#9c179e"
             ],
             [
              0.4444444444444444,
              "#bd3786"
             ],
             [
              0.5555555555555556,
              "#d8576b"
             ],
             [
              0.6666666666666666,
              "#ed7953"
             ],
             [
              0.7777777777777778,
              "#fb9f3a"
             ],
             [
              0.8888888888888888,
              "#fdca26"
             ],
             [
              1,
              "#f0f921"
             ]
            ],
            "type": "histogram2dcontour"
           }
          ],
          "mesh3d": [
           {
            "colorbar": {
             "outlinewidth": 0,
             "ticks": ""
            },
            "type": "mesh3d"
           }
          ],
          "parcoords": [
           {
            "line": {
             "colorbar": {
              "outlinewidth": 0,
              "ticks": ""
             }
            },
            "type": "parcoords"
           }
          ],
          "pie": [
           {
            "automargin": true,
            "type": "pie"
           }
          ],
          "scatter": [
           {
            "fillpattern": {
             "fillmode": "overlay",
             "size": 10,
             "solidity": 0.2
            },
            "type": "scatter"
           }
          ],
          "scatter3d": [
           {
            "line": {
             "colorbar": {
              "outlinewidth": 0,
              "ticks": ""
             }
            },
            "marker": {
             "colorbar": {
              "outlinewidth": 0,
              "ticks": ""
             }
            },
            "type": "scatter3d"
           }
          ],
          "scattercarpet": [
           {
            "marker": {
             "colorbar": {
              "outlinewidth": 0,
              "ticks": ""
             }
            },
            "type": "scattercarpet"
           }
          ],
          "scattergeo": [
           {
            "marker": {
             "colorbar": {
              "outlinewidth": 0,
              "ticks": ""
             }
            },
            "type": "scattergeo"
           }
          ],
          "scattergl": [
           {
            "marker": {
             "colorbar": {
              "outlinewidth": 0,
              "ticks": ""
             }
            },
            "type": "scattergl"
           }
          ],
          "scattermapbox": [
           {
            "marker": {
             "colorbar": {
              "outlinewidth": 0,
              "ticks": ""
             }
            },
            "type": "scattermapbox"
           }
          ],
          "scatterpolar": [
           {
            "marker": {
             "colorbar": {
              "outlinewidth": 0,
              "ticks": ""
             }
            },
            "type": "scatterpolar"
           }
          ],
          "scatterpolargl": [
           {
            "marker": {
             "colorbar": {
              "outlinewidth": 0,
              "ticks": ""
             }
            },
            "type": "scatterpolargl"
           }
          ],
          "scatterternary": [
           {
            "marker": {
             "colorbar": {
              "outlinewidth": 0,
              "ticks": ""
             }
            },
            "type": "scatterternary"
           }
          ],
          "surface": [
           {
            "colorbar": {
             "outlinewidth": 0,
             "ticks": ""
            },
            "colorscale": [
             [
              0,
              "#0d0887"
             ],
             [
              0.1111111111111111,
              "#46039f"
             ],
             [
              0.2222222222222222,
              "#7201a8"
             ],
             [
              0.3333333333333333,
              "#9c179e"
             ],
             [
              0.4444444444444444,
              "#bd3786"
             ],
             [
              0.5555555555555556,
              "#d8576b"
             ],
             [
              0.6666666666666666,
              "#ed7953"
             ],
             [
              0.7777777777777778,
              "#fb9f3a"
             ],
             [
              0.8888888888888888,
              "#fdca26"
             ],
             [
              1,
              "#f0f921"
             ]
            ],
            "type": "surface"
           }
          ],
          "table": [
           {
            "cells": {
             "fill": {
              "color": "#EBF0F8"
             },
             "line": {
              "color": "white"
             }
            },
            "header": {
             "fill": {
              "color": "#C8D4E3"
             },
             "line": {
              "color": "white"
             }
            },
            "type": "table"
           }
          ]
         },
         "layout": {
          "annotationdefaults": {
           "arrowcolor": "#2a3f5f",
           "arrowhead": 0,
           "arrowwidth": 1
          },
          "autotypenumbers": "strict",
          "coloraxis": {
           "colorbar": {
            "outlinewidth": 0,
            "ticks": ""
           }
          },
          "colorscale": {
           "diverging": [
            [
             0,
             "#8e0152"
            ],
            [
             0.1,
             "#c51b7d"
            ],
            [
             0.2,
             "#de77ae"
            ],
            [
             0.3,
             "#f1b6da"
            ],
            [
             0.4,
             "#fde0ef"
            ],
            [
             0.5,
             "#f7f7f7"
            ],
            [
             0.6,
             "#e6f5d0"
            ],
            [
             0.7,
             "#b8e186"
            ],
            [
             0.8,
             "#7fbc41"
            ],
            [
             0.9,
             "#4d9221"
            ],
            [
             1,
             "#276419"
            ]
           ],
           "sequential": [
            [
             0,
             "#0d0887"
            ],
            [
             0.1111111111111111,
             "#46039f"
            ],
            [
             0.2222222222222222,
             "#7201a8"
            ],
            [
             0.3333333333333333,
             "#9c179e"
            ],
            [
             0.4444444444444444,
             "#bd3786"
            ],
            [
             0.5555555555555556,
             "#d8576b"
            ],
            [
             0.6666666666666666,
             "#ed7953"
            ],
            [
             0.7777777777777778,
             "#fb9f3a"
            ],
            [
             0.8888888888888888,
             "#fdca26"
            ],
            [
             1,
             "#f0f921"
            ]
           ],
           "sequentialminus": [
            [
             0,
             "#0d0887"
            ],
            [
             0.1111111111111111,
             "#46039f"
            ],
            [
             0.2222222222222222,
             "#7201a8"
            ],
            [
             0.3333333333333333,
             "#9c179e"
            ],
            [
             0.4444444444444444,
             "#bd3786"
            ],
            [
             0.5555555555555556,
             "#d8576b"
            ],
            [
             0.6666666666666666,
             "#ed7953"
            ],
            [
             0.7777777777777778,
             "#fb9f3a"
            ],
            [
             0.8888888888888888,
             "#fdca26"
            ],
            [
             1,
             "#f0f921"
            ]
           ]
          },
          "colorway": [
           "#636efa",
           "#EF553B",
           "#00cc96",
           "#ab63fa",
           "#FFA15A",
           "#19d3f3",
           "#FF6692",
           "#B6E880",
           "#FF97FF",
           "#FECB52"
          ],
          "font": {
           "color": "#2a3f5f"
          },
          "geo": {
           "bgcolor": "white",
           "lakecolor": "white",
           "landcolor": "#E5ECF6",
           "showlakes": true,
           "showland": true,
           "subunitcolor": "white"
          },
          "hoverlabel": {
           "align": "left"
          },
          "hovermode": "closest",
          "mapbox": {
           "style": "light"
          },
          "paper_bgcolor": "white",
          "plot_bgcolor": "#E5ECF6",
          "polar": {
           "angularaxis": {
            "gridcolor": "white",
            "linecolor": "white",
            "ticks": ""
           },
           "bgcolor": "#E5ECF6",
           "radialaxis": {
            "gridcolor": "white",
            "linecolor": "white",
            "ticks": ""
           }
          },
          "scene": {
           "xaxis": {
            "backgroundcolor": "#E5ECF6",
            "gridcolor": "white",
            "gridwidth": 2,
            "linecolor": "white",
            "showbackground": true,
            "ticks": "",
            "zerolinecolor": "white"
           },
           "yaxis": {
            "backgroundcolor": "#E5ECF6",
            "gridcolor": "white",
            "gridwidth": 2,
            "linecolor": "white",
            "showbackground": true,
            "ticks": "",
            "zerolinecolor": "white"
           },
           "zaxis": {
            "backgroundcolor": "#E5ECF6",
            "gridcolor": "white",
            "gridwidth": 2,
            "linecolor": "white",
            "showbackground": true,
            "ticks": "",
            "zerolinecolor": "white"
           }
          },
          "shapedefaults": {
           "line": {
            "color": "#2a3f5f"
           }
          },
          "ternary": {
           "aaxis": {
            "gridcolor": "white",
            "linecolor": "white",
            "ticks": ""
           },
           "baxis": {
            "gridcolor": "white",
            "linecolor": "white",
            "ticks": ""
           },
           "bgcolor": "#E5ECF6",
           "caxis": {
            "gridcolor": "white",
            "linecolor": "white",
            "ticks": ""
           }
          },
          "title": {
           "x": 0.05
          },
          "xaxis": {
           "automargin": true,
           "gridcolor": "white",
           "linecolor": "white",
           "ticks": "",
           "title": {
            "standoff": 15
           },
           "zerolinecolor": "white",
           "zerolinewidth": 2
          },
          "yaxis": {
           "automargin": true,
           "gridcolor": "white",
           "linecolor": "white",
           "ticks": "",
           "title": {
            "standoff": 15
           },
           "zerolinecolor": "white",
           "zerolinewidth": 2
          }
         }
        },
        "title": {
         "text": "Number of sound annotations loosely contained in action annotations<br>timestamps in validation set of EPIC-KITCHENS"
        },
        "width": 800
       }
      }
     },
     "metadata": {},
     "output_type": "display_data"
    },
    {
     "data": {
      "application/vnd.plotly.v1+json": {
       "config": {
        "plotlyServerURL": "https://plot.ly"
       },
       "data": [
        {
         "domain": {
          "x": [
           0,
           1
          ],
          "y": [
           0,
           1
          ]
         },
         "hovertemplate": "n_overlap_strict=%{label}<br>Number of actions=%{value}<extra></extra>",
         "labels": [
          0,
          1,
          2,
          3,
          4,
          5,
          7,
          6,
          9,
          8
         ],
         "legendgroup": "",
         "name": "",
         "showlegend": true,
         "textinfo": "label+percent+value",
         "textposition": "inside",
         "type": "pie",
         "values": [
          7379,
          1675,
          357,
          127,
          48,
          24,
          12,
          10,
          9,
          8
         ]
        }
       ],
       "layout": {
        "font": {
         "family": "CMU Serif"
        },
        "height": 600,
        "legend": {
         "tracegroupgap": 0
        },
        "piecolorway": [
         "rgb(0,68,27)",
         "rgb(0,109,44)",
         "rgb(35,139,69)",
         "rgb(65,171,93)",
         "rgb(116,196,118)",
         "rgb(161,217,155)",
         "rgb(199,233,192)",
         "rgb(229,245,224)",
         "rgb(247,252,245)"
        ],
        "template": {
         "data": {
          "bar": [
           {
            "error_x": {
             "color": "#2a3f5f"
            },
            "error_y": {
             "color": "#2a3f5f"
            },
            "marker": {
             "line": {
              "color": "#E5ECF6",
              "width": 0.5
             },
             "pattern": {
              "fillmode": "overlay",
              "size": 10,
              "solidity": 0.2
             }
            },
            "type": "bar"
           }
          ],
          "barpolar": [
           {
            "marker": {
             "line": {
              "color": "#E5ECF6",
              "width": 0.5
             },
             "pattern": {
              "fillmode": "overlay",
              "size": 10,
              "solidity": 0.2
             }
            },
            "type": "barpolar"
           }
          ],
          "carpet": [
           {
            "aaxis": {
             "endlinecolor": "#2a3f5f",
             "gridcolor": "white",
             "linecolor": "white",
             "minorgridcolor": "white",
             "startlinecolor": "#2a3f5f"
            },
            "baxis": {
             "endlinecolor": "#2a3f5f",
             "gridcolor": "white",
             "linecolor": "white",
             "minorgridcolor": "white",
             "startlinecolor": "#2a3f5f"
            },
            "type": "carpet"
           }
          ],
          "choropleth": [
           {
            "colorbar": {
             "outlinewidth": 0,
             "ticks": ""
            },
            "type": "choropleth"
           }
          ],
          "contour": [
           {
            "colorbar": {
             "outlinewidth": 0,
             "ticks": ""
            },
            "colorscale": [
             [
              0,
              "#0d0887"
             ],
             [
              0.1111111111111111,
              "#46039f"
             ],
             [
              0.2222222222222222,
              "#7201a8"
             ],
             [
              0.3333333333333333,
              "#9c179e"
             ],
             [
              0.4444444444444444,
              "#bd3786"
             ],
             [
              0.5555555555555556,
              "#d8576b"
             ],
             [
              0.6666666666666666,
              "#ed7953"
             ],
             [
              0.7777777777777778,
              "#fb9f3a"
             ],
             [
              0.8888888888888888,
              "#fdca26"
             ],
             [
              1,
              "#f0f921"
             ]
            ],
            "type": "contour"
           }
          ],
          "contourcarpet": [
           {
            "colorbar": {
             "outlinewidth": 0,
             "ticks": ""
            },
            "type": "contourcarpet"
           }
          ],
          "heatmap": [
           {
            "colorbar": {
             "outlinewidth": 0,
             "ticks": ""
            },
            "colorscale": [
             [
              0,
              "#0d0887"
             ],
             [
              0.1111111111111111,
              "#46039f"
             ],
             [
              0.2222222222222222,
              "#7201a8"
             ],
             [
              0.3333333333333333,
              "#9c179e"
             ],
             [
              0.4444444444444444,
              "#bd3786"
             ],
             [
              0.5555555555555556,
              "#d8576b"
             ],
             [
              0.6666666666666666,
              "#ed7953"
             ],
             [
              0.7777777777777778,
              "#fb9f3a"
             ],
             [
              0.8888888888888888,
              "#fdca26"
             ],
             [
              1,
              "#f0f921"
             ]
            ],
            "type": "heatmap"
           }
          ],
          "heatmapgl": [
           {
            "colorbar": {
             "outlinewidth": 0,
             "ticks": ""
            },
            "colorscale": [
             [
              0,
              "#0d0887"
             ],
             [
              0.1111111111111111,
              "#46039f"
             ],
             [
              0.2222222222222222,
              "#7201a8"
             ],
             [
              0.3333333333333333,
              "#9c179e"
             ],
             [
              0.4444444444444444,
              "#bd3786"
             ],
             [
              0.5555555555555556,
              "#d8576b"
             ],
             [
              0.6666666666666666,
              "#ed7953"
             ],
             [
              0.7777777777777778,
              "#fb9f3a"
             ],
             [
              0.8888888888888888,
              "#fdca26"
             ],
             [
              1,
              "#f0f921"
             ]
            ],
            "type": "heatmapgl"
           }
          ],
          "histogram": [
           {
            "marker": {
             "pattern": {
              "fillmode": "overlay",
              "size": 10,
              "solidity": 0.2
             }
            },
            "type": "histogram"
           }
          ],
          "histogram2d": [
           {
            "colorbar": {
             "outlinewidth": 0,
             "ticks": ""
            },
            "colorscale": [
             [
              0,
              "#0d0887"
             ],
             [
              0.1111111111111111,
              "#46039f"
             ],
             [
              0.2222222222222222,
              "#7201a8"
             ],
             [
              0.3333333333333333,
              "#9c179e"
             ],
             [
              0.4444444444444444,
              "#bd3786"
             ],
             [
              0.5555555555555556,
              "#d8576b"
             ],
             [
              0.6666666666666666,
              "#ed7953"
             ],
             [
              0.7777777777777778,
              "#fb9f3a"
             ],
             [
              0.8888888888888888,
              "#fdca26"
             ],
             [
              1,
              "#f0f921"
             ]
            ],
            "type": "histogram2d"
           }
          ],
          "histogram2dcontour": [
           {
            "colorbar": {
             "outlinewidth": 0,
             "ticks": ""
            },
            "colorscale": [
             [
              0,
              "#0d0887"
             ],
             [
              0.1111111111111111,
              "#46039f"
             ],
             [
              0.2222222222222222,
              "#7201a8"
             ],
             [
              0.3333333333333333,
              "#9c179e"
             ],
             [
              0.4444444444444444,
              "#bd3786"
             ],
             [
              0.5555555555555556,
              "#d8576b"
             ],
             [
              0.6666666666666666,
              "#ed7953"
             ],
             [
              0.7777777777777778,
              "#fb9f3a"
             ],
             [
              0.8888888888888888,
              "#fdca26"
             ],
             [
              1,
              "#f0f921"
             ]
            ],
            "type": "histogram2dcontour"
           }
          ],
          "mesh3d": [
           {
            "colorbar": {
             "outlinewidth": 0,
             "ticks": ""
            },
            "type": "mesh3d"
           }
          ],
          "parcoords": [
           {
            "line": {
             "colorbar": {
              "outlinewidth": 0,
              "ticks": ""
             }
            },
            "type": "parcoords"
           }
          ],
          "pie": [
           {
            "automargin": true,
            "type": "pie"
           }
          ],
          "scatter": [
           {
            "fillpattern": {
             "fillmode": "overlay",
             "size": 10,
             "solidity": 0.2
            },
            "type": "scatter"
           }
          ],
          "scatter3d": [
           {
            "line": {
             "colorbar": {
              "outlinewidth": 0,
              "ticks": ""
             }
            },
            "marker": {
             "colorbar": {
              "outlinewidth": 0,
              "ticks": ""
             }
            },
            "type": "scatter3d"
           }
          ],
          "scattercarpet": [
           {
            "marker": {
             "colorbar": {
              "outlinewidth": 0,
              "ticks": ""
             }
            },
            "type": "scattercarpet"
           }
          ],
          "scattergeo": [
           {
            "marker": {
             "colorbar": {
              "outlinewidth": 0,
              "ticks": ""
             }
            },
            "type": "scattergeo"
           }
          ],
          "scattergl": [
           {
            "marker": {
             "colorbar": {
              "outlinewidth": 0,
              "ticks": ""
             }
            },
            "type": "scattergl"
           }
          ],
          "scattermapbox": [
           {
            "marker": {
             "colorbar": {
              "outlinewidth": 0,
              "ticks": ""
             }
            },
            "type": "scattermapbox"
           }
          ],
          "scatterpolar": [
           {
            "marker": {
             "colorbar": {
              "outlinewidth": 0,
              "ticks": ""
             }
            },
            "type": "scatterpolar"
           }
          ],
          "scatterpolargl": [
           {
            "marker": {
             "colorbar": {
              "outlinewidth": 0,
              "ticks": ""
             }
            },
            "type": "scatterpolargl"
           }
          ],
          "scatterternary": [
           {
            "marker": {
             "colorbar": {
              "outlinewidth": 0,
              "ticks": ""
             }
            },
            "type": "scatterternary"
           }
          ],
          "surface": [
           {
            "colorbar": {
             "outlinewidth": 0,
             "ticks": ""
            },
            "colorscale": [
             [
              0,
              "#0d0887"
             ],
             [
              0.1111111111111111,
              "#46039f"
             ],
             [
              0.2222222222222222,
              "#7201a8"
             ],
             [
              0.3333333333333333,
              "#9c179e"
             ],
             [
              0.4444444444444444,
              "#bd3786"
             ],
             [
              0.5555555555555556,
              "#d8576b"
             ],
             [
              0.6666666666666666,
              "#ed7953"
             ],
             [
              0.7777777777777778,
              "#fb9f3a"
             ],
             [
              0.8888888888888888,
              "#fdca26"
             ],
             [
              1,
              "#f0f921"
             ]
            ],
            "type": "surface"
           }
          ],
          "table": [
           {
            "cells": {
             "fill": {
              "color": "#EBF0F8"
             },
             "line": {
              "color": "white"
             }
            },
            "header": {
             "fill": {
              "color": "#C8D4E3"
             },
             "line": {
              "color": "white"
             }
            },
            "type": "table"
           }
          ]
         },
         "layout": {
          "annotationdefaults": {
           "arrowcolor": "#2a3f5f",
           "arrowhead": 0,
           "arrowwidth": 1
          },
          "autotypenumbers": "strict",
          "coloraxis": {
           "colorbar": {
            "outlinewidth": 0,
            "ticks": ""
           }
          },
          "colorscale": {
           "diverging": [
            [
             0,
             "#8e0152"
            ],
            [
             0.1,
             "#c51b7d"
            ],
            [
             0.2,
             "#de77ae"
            ],
            [
             0.3,
             "#f1b6da"
            ],
            [
             0.4,
             "#fde0ef"
            ],
            [
             0.5,
             "#f7f7f7"
            ],
            [
             0.6,
             "#e6f5d0"
            ],
            [
             0.7,
             "#b8e186"
            ],
            [
             0.8,
             "#7fbc41"
            ],
            [
             0.9,
             "#4d9221"
            ],
            [
             1,
             "#276419"
            ]
           ],
           "sequential": [
            [
             0,
             "#0d0887"
            ],
            [
             0.1111111111111111,
             "#46039f"
            ],
            [
             0.2222222222222222,
             "#7201a8"
            ],
            [
             0.3333333333333333,
             "#9c179e"
            ],
            [
             0.4444444444444444,
             "#bd3786"
            ],
            [
             0.5555555555555556,
             "#d8576b"
            ],
            [
             0.6666666666666666,
             "#ed7953"
            ],
            [
             0.7777777777777778,
             "#fb9f3a"
            ],
            [
             0.8888888888888888,
             "#fdca26"
            ],
            [
             1,
             "#f0f921"
            ]
           ],
           "sequentialminus": [
            [
             0,
             "#0d0887"
            ],
            [
             0.1111111111111111,
             "#46039f"
            ],
            [
             0.2222222222222222,
             "#7201a8"
            ],
            [
             0.3333333333333333,
             "#9c179e"
            ],
            [
             0.4444444444444444,
             "#bd3786"
            ],
            [
             0.5555555555555556,
             "#d8576b"
            ],
            [
             0.6666666666666666,
             "#ed7953"
            ],
            [
             0.7777777777777778,
             "#fb9f3a"
            ],
            [
             0.8888888888888888,
             "#fdca26"
            ],
            [
             1,
             "#f0f921"
            ]
           ]
          },
          "colorway": [
           "#636efa",
           "#EF553B",
           "#00cc96",
           "#ab63fa",
           "#FFA15A",
           "#19d3f3",
           "#FF6692",
           "#B6E880",
           "#FF97FF",
           "#FECB52"
          ],
          "font": {
           "color": "#2a3f5f"
          },
          "geo": {
           "bgcolor": "white",
           "lakecolor": "white",
           "landcolor": "#E5ECF6",
           "showlakes": true,
           "showland": true,
           "subunitcolor": "white"
          },
          "hoverlabel": {
           "align": "left"
          },
          "hovermode": "closest",
          "mapbox": {
           "style": "light"
          },
          "paper_bgcolor": "white",
          "plot_bgcolor": "#E5ECF6",
          "polar": {
           "angularaxis": {
            "gridcolor": "white",
            "linecolor": "white",
            "ticks": ""
           },
           "bgcolor": "#E5ECF6",
           "radialaxis": {
            "gridcolor": "white",
            "linecolor": "white",
            "ticks": ""
           }
          },
          "scene": {
           "xaxis": {
            "backgroundcolor": "#E5ECF6",
            "gridcolor": "white",
            "gridwidth": 2,
            "linecolor": "white",
            "showbackground": true,
            "ticks": "",
            "zerolinecolor": "white"
           },
           "yaxis": {
            "backgroundcolor": "#E5ECF6",
            "gridcolor": "white",
            "gridwidth": 2,
            "linecolor": "white",
            "showbackground": true,
            "ticks": "",
            "zerolinecolor": "white"
           },
           "zaxis": {
            "backgroundcolor": "#E5ECF6",
            "gridcolor": "white",
            "gridwidth": 2,
            "linecolor": "white",
            "showbackground": true,
            "ticks": "",
            "zerolinecolor": "white"
           }
          },
          "shapedefaults": {
           "line": {
            "color": "#2a3f5f"
           }
          },
          "ternary": {
           "aaxis": {
            "gridcolor": "white",
            "linecolor": "white",
            "ticks": ""
           },
           "baxis": {
            "gridcolor": "white",
            "linecolor": "white",
            "ticks": ""
           },
           "bgcolor": "#E5ECF6",
           "caxis": {
            "gridcolor": "white",
            "linecolor": "white",
            "ticks": ""
           }
          },
          "title": {
           "x": 0.05
          },
          "xaxis": {
           "automargin": true,
           "gridcolor": "white",
           "linecolor": "white",
           "ticks": "",
           "title": {
            "standoff": 15
           },
           "zerolinecolor": "white",
           "zerolinewidth": 2
          },
          "yaxis": {
           "automargin": true,
           "gridcolor": "white",
           "linecolor": "white",
           "ticks": "",
           "title": {
            "standoff": 15
           },
           "zerolinecolor": "white",
           "zerolinewidth": 2
          }
         }
        },
        "title": {
         "text": "<b>Number of sound annotations strictly contained in action annotations<br>timestamps in validation set of EPIC-KITCHENS</b>"
        },
        "width": 800
       }
      }
     },
     "metadata": {},
     "output_type": "display_data"
    }
   ],
   "source": [
    "plot_overlaps(train_overlaps, \"train\")\n",
    "plot_overlaps(val_overlaps, \"validation\")"
   ]
  },
  {
   "cell_type": "markdown",
   "metadata": {},
   "source": [
    "- **Strict** overlap $\\rightarrow$ at least $1$ sound annotation starts **after** the action annotation started and ends **before** the action annotation ended\n",
    "- **Loose** overlap $\\rightarrow$ at least $1$ sound annotation starts **after** the action annotation started and starts **before** the action annotation ended"
   ]
  },
  {
   "cell_type": "code",
   "execution_count": 16,
   "metadata": {},
   "outputs": [
    {
     "data": {
      "application/vnd.plotly.v1+json": {
       "config": {
        "plotlyServerURL": "https://plot.ly"
       },
       "data": [
        {
         "alignmentgroup": "True",
         "hovertemplate": "Verb class=%{x}<br>Number of data points=%{text}<extra></extra>",
         "legendgroup": "",
         "marker": {
          "color": "orange",
          "pattern": {
           "shape": ""
          }
         },
         "name": "",
         "offsetgroup": "",
         "orientation": "v",
         "showlegend": false,
         "text": [
          9914,
          9507,
          5836,
          4893,
          4649,
          3906,
          2988,
          2645,
          2608,
          2538,
          1451,
          1303,
          1285,
          928,
          685,
          568,
          523,
          473,
          472,
          346,
          317,
          314,
          275,
          243,
          154,
          148,
          124,
          123,
          121,
          106,
          101,
          84,
          82,
          57,
          51,
          50,
          43,
          42,
          34,
          29,
          18,
          12,
          6,
          3
         ],
         "textposition": "outside",
         "texttemplate": "%{text:.2s}",
         "type": "bar",
         "x": [
          "scrub / scrape / scour / wipe",
          "metal-only collision",
          "cut / chop",
          "open / close",
          "rustle",
          "water",
          "plastic-only collision",
          "footstep",
          "stir / mix / whisk",
          "slide object",
          "metal / wood collision",
          "metal / ceramic collision",
          "metal / plastic collision",
          "background",
          "ceramic-only collision",
          "click",
          "beep",
          "paper-only collision",
          "metal / glass collision",
          "glass-only collision",
          "pour",
          "wood-only collision",
          "plastic / paper collision",
          "metal / paper collision",
          "metal / cloth collision",
          "human",
          "plastic / ceramic collision",
          "plastic / wood collision",
          "ceramic / glass collision",
          "sizzling / boiling",
          "metal / marble collision",
          "plastic / marble collision",
          "plastic / glass collision",
          "ceramic / wood collision",
          "kettle / mixer / appliance",
          "cloth-only collision",
          "ceramic / marble collision",
          "glass / marble collision",
          "kneading",
          "wood / glass collision",
          "spray",
          "hoover / fan",
          "zip",
          "drink / eat"
         ],
         "xaxis": "x",
         "y": [
          9914,
          9507,
          5836,
          4893,
          4649,
          3906,
          2988,
          2645,
          2608,
          2538,
          1451,
          1303,
          1285,
          928,
          685,
          568,
          523,
          473,
          472,
          346,
          317,
          314,
          275,
          243,
          154,
          148,
          124,
          123,
          121,
          106,
          101,
          84,
          82,
          57,
          51,
          50,
          43,
          42,
          34,
          29,
          18,
          12,
          6,
          3
         ],
         "yaxis": "y"
        }
       ],
       "layout": {
        "barmode": "relative",
        "height": 600,
        "legend": {
         "tracegroupgap": 0
        },
        "template": {
         "data": {
          "bar": [
           {
            "error_x": {
             "color": "#2a3f5f"
            },
            "error_y": {
             "color": "#2a3f5f"
            },
            "marker": {
             "line": {
              "color": "#E5ECF6",
              "width": 0.5
             },
             "pattern": {
              "fillmode": "overlay",
              "size": 10,
              "solidity": 0.2
             }
            },
            "type": "bar"
           }
          ],
          "barpolar": [
           {
            "marker": {
             "line": {
              "color": "#E5ECF6",
              "width": 0.5
             },
             "pattern": {
              "fillmode": "overlay",
              "size": 10,
              "solidity": 0.2
             }
            },
            "type": "barpolar"
           }
          ],
          "carpet": [
           {
            "aaxis": {
             "endlinecolor": "#2a3f5f",
             "gridcolor": "white",
             "linecolor": "white",
             "minorgridcolor": "white",
             "startlinecolor": "#2a3f5f"
            },
            "baxis": {
             "endlinecolor": "#2a3f5f",
             "gridcolor": "white",
             "linecolor": "white",
             "minorgridcolor": "white",
             "startlinecolor": "#2a3f5f"
            },
            "type": "carpet"
           }
          ],
          "choropleth": [
           {
            "colorbar": {
             "outlinewidth": 0,
             "ticks": ""
            },
            "type": "choropleth"
           }
          ],
          "contour": [
           {
            "colorbar": {
             "outlinewidth": 0,
             "ticks": ""
            },
            "colorscale": [
             [
              0,
              "#0d0887"
             ],
             [
              0.1111111111111111,
              "#46039f"
             ],
             [
              0.2222222222222222,
              "#7201a8"
             ],
             [
              0.3333333333333333,
              "#9c179e"
             ],
             [
              0.4444444444444444,
              "#bd3786"
             ],
             [
              0.5555555555555556,
              "#d8576b"
             ],
             [
              0.6666666666666666,
              "#ed7953"
             ],
             [
              0.7777777777777778,
              "#fb9f3a"
             ],
             [
              0.8888888888888888,
              "#fdca26"
             ],
             [
              1,
              "#f0f921"
             ]
            ],
            "type": "contour"
           }
          ],
          "contourcarpet": [
           {
            "colorbar": {
             "outlinewidth": 0,
             "ticks": ""
            },
            "type": "contourcarpet"
           }
          ],
          "heatmap": [
           {
            "colorbar": {
             "outlinewidth": 0,
             "ticks": ""
            },
            "colorscale": [
             [
              0,
              "#0d0887"
             ],
             [
              0.1111111111111111,
              "#46039f"
             ],
             [
              0.2222222222222222,
              "#7201a8"
             ],
             [
              0.3333333333333333,
              "#9c179e"
             ],
             [
              0.4444444444444444,
              "#bd3786"
             ],
             [
              0.5555555555555556,
              "#d8576b"
             ],
             [
              0.6666666666666666,
              "#ed7953"
             ],
             [
              0.7777777777777778,
              "#fb9f3a"
             ],
             [
              0.8888888888888888,
              "#fdca26"
             ],
             [
              1,
              "#f0f921"
             ]
            ],
            "type": "heatmap"
           }
          ],
          "heatmapgl": [
           {
            "colorbar": {
             "outlinewidth": 0,
             "ticks": ""
            },
            "colorscale": [
             [
              0,
              "#0d0887"
             ],
             [
              0.1111111111111111,
              "#46039f"
             ],
             [
              0.2222222222222222,
              "#7201a8"
             ],
             [
              0.3333333333333333,
              "#9c179e"
             ],
             [
              0.4444444444444444,
              "#bd3786"
             ],
             [
              0.5555555555555556,
              "#d8576b"
             ],
             [
              0.6666666666666666,
              "#ed7953"
             ],
             [
              0.7777777777777778,
              "#fb9f3a"
             ],
             [
              0.8888888888888888,
              "#fdca26"
             ],
             [
              1,
              "#f0f921"
             ]
            ],
            "type": "heatmapgl"
           }
          ],
          "histogram": [
           {
            "marker": {
             "pattern": {
              "fillmode": "overlay",
              "size": 10,
              "solidity": 0.2
             }
            },
            "type": "histogram"
           }
          ],
          "histogram2d": [
           {
            "colorbar": {
             "outlinewidth": 0,
             "ticks": ""
            },
            "colorscale": [
             [
              0,
              "#0d0887"
             ],
             [
              0.1111111111111111,
              "#46039f"
             ],
             [
              0.2222222222222222,
              "#7201a8"
             ],
             [
              0.3333333333333333,
              "#9c179e"
             ],
             [
              0.4444444444444444,
              "#bd3786"
             ],
             [
              0.5555555555555556,
              "#d8576b"
             ],
             [
              0.6666666666666666,
              "#ed7953"
             ],
             [
              0.7777777777777778,
              "#fb9f3a"
             ],
             [
              0.8888888888888888,
              "#fdca26"
             ],
             [
              1,
              "#f0f921"
             ]
            ],
            "type": "histogram2d"
           }
          ],
          "histogram2dcontour": [
           {
            "colorbar": {
             "outlinewidth": 0,
             "ticks": ""
            },
            "colorscale": [
             [
              0,
              "#0d0887"
             ],
             [
              0.1111111111111111,
              "#46039f"
             ],
             [
              0.2222222222222222,
              "#7201a8"
             ],
             [
              0.3333333333333333,
              "#9c179e"
             ],
             [
              0.4444444444444444,
              "#bd3786"
             ],
             [
              0.5555555555555556,
              "#d8576b"
             ],
             [
              0.6666666666666666,
              "#ed7953"
             ],
             [
              0.7777777777777778,
              "#fb9f3a"
             ],
             [
              0.8888888888888888,
              "#fdca26"
             ],
             [
              1,
              "#f0f921"
             ]
            ],
            "type": "histogram2dcontour"
           }
          ],
          "mesh3d": [
           {
            "colorbar": {
             "outlinewidth": 0,
             "ticks": ""
            },
            "type": "mesh3d"
           }
          ],
          "parcoords": [
           {
            "line": {
             "colorbar": {
              "outlinewidth": 0,
              "ticks": ""
             }
            },
            "type": "parcoords"
           }
          ],
          "pie": [
           {
            "automargin": true,
            "type": "pie"
           }
          ],
          "scatter": [
           {
            "fillpattern": {
             "fillmode": "overlay",
             "size": 10,
             "solidity": 0.2
            },
            "type": "scatter"
           }
          ],
          "scatter3d": [
           {
            "line": {
             "colorbar": {
              "outlinewidth": 0,
              "ticks": ""
             }
            },
            "marker": {
             "colorbar": {
              "outlinewidth": 0,
              "ticks": ""
             }
            },
            "type": "scatter3d"
           }
          ],
          "scattercarpet": [
           {
            "marker": {
             "colorbar": {
              "outlinewidth": 0,
              "ticks": ""
             }
            },
            "type": "scattercarpet"
           }
          ],
          "scattergeo": [
           {
            "marker": {
             "colorbar": {
              "outlinewidth": 0,
              "ticks": ""
             }
            },
            "type": "scattergeo"
           }
          ],
          "scattergl": [
           {
            "marker": {
             "colorbar": {
              "outlinewidth": 0,
              "ticks": ""
             }
            },
            "type": "scattergl"
           }
          ],
          "scattermapbox": [
           {
            "marker": {
             "colorbar": {
              "outlinewidth": 0,
              "ticks": ""
             }
            },
            "type": "scattermapbox"
           }
          ],
          "scatterpolar": [
           {
            "marker": {
             "colorbar": {
              "outlinewidth": 0,
              "ticks": ""
             }
            },
            "type": "scatterpolar"
           }
          ],
          "scatterpolargl": [
           {
            "marker": {
             "colorbar": {
              "outlinewidth": 0,
              "ticks": ""
             }
            },
            "type": "scatterpolargl"
           }
          ],
          "scatterternary": [
           {
            "marker": {
             "colorbar": {
              "outlinewidth": 0,
              "ticks": ""
             }
            },
            "type": "scatterternary"
           }
          ],
          "surface": [
           {
            "colorbar": {
             "outlinewidth": 0,
             "ticks": ""
            },
            "colorscale": [
             [
              0,
              "#0d0887"
             ],
             [
              0.1111111111111111,
              "#46039f"
             ],
             [
              0.2222222222222222,
              "#7201a8"
             ],
             [
              0.3333333333333333,
              "#9c179e"
             ],
             [
              0.4444444444444444,
              "#bd3786"
             ],
             [
              0.5555555555555556,
              "#d8576b"
             ],
             [
              0.6666666666666666,
              "#ed7953"
             ],
             [
              0.7777777777777778,
              "#fb9f3a"
             ],
             [
              0.8888888888888888,
              "#fdca26"
             ],
             [
              1,
              "#f0f921"
             ]
            ],
            "type": "surface"
           }
          ],
          "table": [
           {
            "cells": {
             "fill": {
              "color": "#EBF0F8"
             },
             "line": {
              "color": "white"
             }
            },
            "header": {
             "fill": {
              "color": "#C8D4E3"
             },
             "line": {
              "color": "white"
             }
            },
            "type": "table"
           }
          ]
         },
         "layout": {
          "annotationdefaults": {
           "arrowcolor": "#2a3f5f",
           "arrowhead": 0,
           "arrowwidth": 1
          },
          "autotypenumbers": "strict",
          "coloraxis": {
           "colorbar": {
            "outlinewidth": 0,
            "ticks": ""
           }
          },
          "colorscale": {
           "diverging": [
            [
             0,
             "#8e0152"
            ],
            [
             0.1,
             "#c51b7d"
            ],
            [
             0.2,
             "#de77ae"
            ],
            [
             0.3,
             "#f1b6da"
            ],
            [
             0.4,
             "#fde0ef"
            ],
            [
             0.5,
             "#f7f7f7"
            ],
            [
             0.6,
             "#e6f5d0"
            ],
            [
             0.7,
             "#b8e186"
            ],
            [
             0.8,
             "#7fbc41"
            ],
            [
             0.9,
             "#4d9221"
            ],
            [
             1,
             "#276419"
            ]
           ],
           "sequential": [
            [
             0,
             "#0d0887"
            ],
            [
             0.1111111111111111,
             "#46039f"
            ],
            [
             0.2222222222222222,
             "#7201a8"
            ],
            [
             0.3333333333333333,
             "#9c179e"
            ],
            [
             0.4444444444444444,
             "#bd3786"
            ],
            [
             0.5555555555555556,
             "#d8576b"
            ],
            [
             0.6666666666666666,
             "#ed7953"
            ],
            [
             0.7777777777777778,
             "#fb9f3a"
            ],
            [
             0.8888888888888888,
             "#fdca26"
            ],
            [
             1,
             "#f0f921"
            ]
           ],
           "sequentialminus": [
            [
             0,
             "#0d0887"
            ],
            [
             0.1111111111111111,
             "#46039f"
            ],
            [
             0.2222222222222222,
             "#7201a8"
            ],
            [
             0.3333333333333333,
             "#9c179e"
            ],
            [
             0.4444444444444444,
             "#bd3786"
            ],
            [
             0.5555555555555556,
             "#d8576b"
            ],
            [
             0.6666666666666666,
             "#ed7953"
            ],
            [
             0.7777777777777778,
             "#fb9f3a"
            ],
            [
             0.8888888888888888,
             "#fdca26"
            ],
            [
             1,
             "#f0f921"
            ]
           ]
          },
          "colorway": [
           "#636efa",
           "#EF553B",
           "#00cc96",
           "#ab63fa",
           "#FFA15A",
           "#19d3f3",
           "#FF6692",
           "#B6E880",
           "#FF97FF",
           "#FECB52"
          ],
          "font": {
           "color": "#2a3f5f"
          },
          "geo": {
           "bgcolor": "white",
           "lakecolor": "white",
           "landcolor": "#E5ECF6",
           "showlakes": true,
           "showland": true,
           "subunitcolor": "white"
          },
          "hoverlabel": {
           "align": "left"
          },
          "hovermode": "closest",
          "mapbox": {
           "style": "light"
          },
          "paper_bgcolor": "white",
          "plot_bgcolor": "#E5ECF6",
          "polar": {
           "angularaxis": {
            "gridcolor": "white",
            "linecolor": "white",
            "ticks": ""
           },
           "bgcolor": "#E5ECF6",
           "radialaxis": {
            "gridcolor": "white",
            "linecolor": "white",
            "ticks": ""
           }
          },
          "scene": {
           "xaxis": {
            "backgroundcolor": "#E5ECF6",
            "gridcolor": "white",
            "gridwidth": 2,
            "linecolor": "white",
            "showbackground": true,
            "ticks": "",
            "zerolinecolor": "white"
           },
           "yaxis": {
            "backgroundcolor": "#E5ECF6",
            "gridcolor": "white",
            "gridwidth": 2,
            "linecolor": "white",
            "showbackground": true,
            "ticks": "",
            "zerolinecolor": "white"
           },
           "zaxis": {
            "backgroundcolor": "#E5ECF6",
            "gridcolor": "white",
            "gridwidth": 2,
            "linecolor": "white",
            "showbackground": true,
            "ticks": "",
            "zerolinecolor": "white"
           }
          },
          "shapedefaults": {
           "line": {
            "color": "#2a3f5f"
           }
          },
          "ternary": {
           "aaxis": {
            "gridcolor": "white",
            "linecolor": "white",
            "ticks": ""
           },
           "baxis": {
            "gridcolor": "white",
            "linecolor": "white",
            "ticks": ""
           },
           "bgcolor": "#E5ECF6",
           "caxis": {
            "gridcolor": "white",
            "linecolor": "white",
            "ticks": ""
           }
          },
          "title": {
           "x": 0.05
          },
          "xaxis": {
           "automargin": true,
           "gridcolor": "white",
           "linecolor": "white",
           "ticks": "",
           "title": {
            "standoff": 15
           },
           "zerolinecolor": "white",
           "zerolinewidth": 2
          },
          "yaxis": {
           "automargin": true,
           "gridcolor": "white",
           "linecolor": "white",
           "ticks": "",
           "title": {
            "standoff": 15
           },
           "zerolinecolor": "white",
           "zerolinewidth": 2
          }
         }
        },
        "title": {
         "text": "<b>Verb classes distribution in EPIC-SOUNDS</b>"
        },
        "width": 1200,
        "xaxis": {
         "anchor": "y",
         "domain": [
          0,
          1
         ],
         "title": {
          "text": "Verb class"
         }
        },
        "yaxis": {
         "anchor": "x",
         "domain": [
          0,
          1
         ],
         "title": {
          "text": "Number of data points"
         }
        }
       }
      }
     },
     "metadata": {},
     "output_type": "display_data"
    }
   ],
   "source": [
    "# Plot this as a bar chart\n",
    "es_classes_df = pd.DataFrame(es_train_df[\"class\"].value_counts()).reset_index()\n",
    "\n",
    "fig = px.bar(\n",
    "        es_classes_df,\n",
    "        x=\"class\",\n",
    "        y=\"count\",\n",
    "        title=f\"<b>Verb classes distribution in EPIC-SOUNDS</b>\",\n",
    "        labels={\"class\": \"Verb class\", \"count\": \"Number of data points\"},\n",
    "        height=600,\n",
    "        width=1200,\n",
    "        text_auto=True,\n",
    "        text=\"count\",\n",
    "    )\n",
    "fig.update_traces(\n",
    "    texttemplate=\"%{text:.2s}\",\n",
    "    textposition=\"outside\",\n",
    "    marker_color=\"orange\",\n",
    ")\n",
    "fig.show()\n",
    "\n",
    "fig.write_image(f\"../res/dataset/overlaps/es_verbs_distribution.png\", scale=2.0)\n",
    "fig.write_image(f\"../res/dataset/overlaps/pdf/es_verbs_distribution.pdf\")"
   ]
  },
  {
   "cell_type": "markdown",
   "metadata": {},
   "source": [
    "## Now see which verbs are the most present with a single sound annotation"
   ]
  },
  {
   "cell_type": "code",
   "execution_count": 17,
   "metadata": {},
   "outputs": [],
   "source": [
    "from itertools import product\n",
    "\n",
    "def plot_frequent_verbs(\n",
    "    df: pd.DataFrame,\n",
    "    verbs_df: pd.DataFrame,\n",
    "    split: str,\n",
    "    top_n: int = 10,\n",
    "    n_overlaps: int = 1,\n",
    "    all_verbs: bool = False,\n",
    "    height: int = 600,\n",
    "    width: int = 1000,\n",
    "):\n",
    "    top_n_df = (\n",
    "        df.query(\"n_overlap_loose == @n_overlaps\")[[\"verb_class\", \"n_overlap_loose\"]]\n",
    "        .groupby(\"verb_class\")\n",
    "        .count()\n",
    "        .sort_values(\"n_overlap_loose\", ascending=False)\n",
    "    )\n",
    "\n",
    "    if not all_verbs:\n",
    "        top_n_df = top_n_df.iloc[:top_n]\n",
    "    \n",
    "\n",
    "    # Get actual verb names\n",
    "    top_n_df = top_n_df.reset_index()\n",
    "    top_n_df[\"verb_name\"] = top_n_df[\"verb_class\"].apply(lambda x: verbs_df.loc[x, \"key\"])\n",
    "\n",
    "    top_n_df\n",
    "    # Plot top_n_df as a bar chart using plotly express\n",
    "    fig = px.bar(\n",
    "        top_n_df,\n",
    "        x=\"verb_name\",\n",
    "        y=\"n_overlap_loose\",\n",
    "        title=f\"<b>{('Top ' + str(top_n) + ' most frequent') if not all_verbs else 'All'} verbs having <b>{n_overlaps}</b> annotation overlap in <b>{split}</b> set of EPIC datasets</b>\",\n",
    "        labels={\"verb_name\": \"Verb class\", \"n_overlap_loose\": \"Number of actions\"},\n",
    "        height=height,\n",
    "        width=width,\n",
    "        text_auto=True,\n",
    "        text=\"n_overlap_loose\",\n",
    "    )\n",
    "    fig.update_traces(\n",
    "        texttemplate=\"%{text:.2s}\",\n",
    "        textposition=\"outside\",\n",
    "        marker_color=\"blue\" if split == \"train\" else \"green\",\n",
    "    )\n",
    "    fig.update_layout(font_family=\"CMU Serif\")\n",
    "    fig.write_image(f\"../res/dataset/overlaps/ek_es_{split}_{top_n if not all_verbs else 'all'}_{n_overlaps}_overlaps_frequent_verbs.png\", scale=2.0)\n",
    "    fig.write_image(f\"../res/dataset/overlaps/pdf/ek_es_{split}_{top_n if not all_verbs else 'all'}_{n_overlaps}_overlaps_frequent_verbs.pdf\")\n",
    "\n",
    "\n",
    "for n, n_overlaps in product([10, 30, 40], [0, 1, 2, 3]):\n",
    "    plot_frequent_verbs(train_overlaps, verbs_df, split=\"train\", top_n=n, n_overlaps=n_overlaps, width=1200)\n",
    "    plot_frequent_verbs(val_overlaps, verbs_df, split=\"validation\", top_n=n, n_overlaps=n_overlaps, width=1200)\n",
    "\n",
    "plot_frequent_verbs(train_overlaps, verbs_df, split=\"train\", all_verbs=True, width=1200)\n",
    "plot_frequent_verbs(val_overlaps, verbs_df, split=\"validation\", all_verbs=True, width=1200)"
   ]
  },
  {
   "cell_type": "markdown",
   "metadata": {},
   "source": [
    "## Plot when it happens"
   ]
  },
  {
   "cell_type": "code",
   "execution_count": 18,
   "metadata": {},
   "outputs": [
    {
     "data": {
      "text/html": [
       "<div>\n",
       "<style scoped>\n",
       "    .dataframe tbody tr th:only-of-type {\n",
       "        vertical-align: middle;\n",
       "    }\n",
       "\n",
       "    .dataframe tbody tr th {\n",
       "        vertical-align: top;\n",
       "    }\n",
       "\n",
       "    .dataframe thead th {\n",
       "        text-align: right;\n",
       "    }\n",
       "</style>\n",
       "<table border=\"1\" class=\"dataframe\">\n",
       "  <thead>\n",
       "    <tr style=\"text-align: right;\">\n",
       "      <th></th>\n",
       "      <th>participant_id</th>\n",
       "      <th>video_id</th>\n",
       "      <th>start_timestamp</th>\n",
       "      <th>stop_timestamp</th>\n",
       "      <th>start_sample</th>\n",
       "      <th>stop_sample</th>\n",
       "      <th>description</th>\n",
       "      <th>class</th>\n",
       "      <th>class_id</th>\n",
       "      <th>duration_in_s</th>\n",
       "    </tr>\n",
       "    <tr>\n",
       "      <th>annotation_id</th>\n",
       "      <th></th>\n",
       "      <th></th>\n",
       "      <th></th>\n",
       "      <th></th>\n",
       "      <th></th>\n",
       "      <th></th>\n",
       "      <th></th>\n",
       "      <th></th>\n",
       "      <th></th>\n",
       "      <th></th>\n",
       "    </tr>\n",
       "  </thead>\n",
       "  <tbody>\n",
       "    <tr>\n",
       "      <th>P01_01_0</th>\n",
       "      <td>P01</td>\n",
       "      <td>P01_01</td>\n",
       "      <td>00:00:02.466</td>\n",
       "      <td>00:00:05.315</td>\n",
       "      <td>59184</td>\n",
       "      <td>127560</td>\n",
       "      <td>clang / clatter</td>\n",
       "      <td>plastic-only collision</td>\n",
       "      <td>6</td>\n",
       "      <td>2.849</td>\n",
       "    </tr>\n",
       "    <tr>\n",
       "      <th>P01_01_1</th>\n",
       "      <td>P01</td>\n",
       "      <td>P01_01</td>\n",
       "      <td>00:00:08.981</td>\n",
       "      <td>00:00:09.871</td>\n",
       "      <td>215544</td>\n",
       "      <td>236904</td>\n",
       "      <td>put object on surface</td>\n",
       "      <td>open / close</td>\n",
       "      <td>3</td>\n",
       "      <td>0.890</td>\n",
       "    </tr>\n",
       "    <tr>\n",
       "      <th>P01_01_2</th>\n",
       "      <td>P01</td>\n",
       "      <td>P01_01</td>\n",
       "      <td>00:00:10.190</td>\n",
       "      <td>00:00:12.731</td>\n",
       "      <td>244560</td>\n",
       "      <td>305544</td>\n",
       "      <td>footstep</td>\n",
       "      <td>footstep</td>\n",
       "      <td>7</td>\n",
       "      <td>2.541</td>\n",
       "    </tr>\n",
       "    <tr>\n",
       "      <th>P01_01_3</th>\n",
       "      <td>P01</td>\n",
       "      <td>P01_01</td>\n",
       "      <td>00:00:14.023</td>\n",
       "      <td>00:00:15.044</td>\n",
       "      <td>336552</td>\n",
       "      <td>361056</td>\n",
       "      <td>scrub / scrape / scour / wipe</td>\n",
       "      <td>scrub / scrape / scour / wipe</td>\n",
       "      <td>1</td>\n",
       "      <td>1.021</td>\n",
       "    </tr>\n",
       "    <tr>\n",
       "      <th>P01_01_4</th>\n",
       "      <td>P01</td>\n",
       "      <td>P01_01</td>\n",
       "      <td>00:00:15.148</td>\n",
       "      <td>00:00:19.729</td>\n",
       "      <td>363552</td>\n",
       "      <td>473496</td>\n",
       "      <td>paper rustle</td>\n",
       "      <td>rustle</td>\n",
       "      <td>4</td>\n",
       "      <td>4.581</td>\n",
       "    </tr>\n",
       "  </tbody>\n",
       "</table>\n",
       "</div>"
      ],
      "text/plain": [
       "              participant_id video_id start_timestamp stop_timestamp  \\\n",
       "annotation_id                                                          \n",
       "P01_01_0                 P01   P01_01    00:00:02.466   00:00:05.315   \n",
       "P01_01_1                 P01   P01_01    00:00:08.981   00:00:09.871   \n",
       "P01_01_2                 P01   P01_01    00:00:10.190   00:00:12.731   \n",
       "P01_01_3                 P01   P01_01    00:00:14.023   00:00:15.044   \n",
       "P01_01_4                 P01   P01_01    00:00:15.148   00:00:19.729   \n",
       "\n",
       "               start_sample  stop_sample                    description  \\\n",
       "annotation_id                                                             \n",
       "P01_01_0              59184       127560                clang / clatter   \n",
       "P01_01_1             215544       236904          put object on surface   \n",
       "P01_01_2             244560       305544                       footstep   \n",
       "P01_01_3             336552       361056  scrub / scrape / scour / wipe   \n",
       "P01_01_4             363552       473496                   paper rustle   \n",
       "\n",
       "                                       class  class_id  duration_in_s  \n",
       "annotation_id                                                          \n",
       "P01_01_0              plastic-only collision         6          2.849  \n",
       "P01_01_1                        open / close         3          0.890  \n",
       "P01_01_2                            footstep         7          2.541  \n",
       "P01_01_3       scrub / scrape / scour / wipe         1          1.021  \n",
       "P01_01_4                              rustle         4          4.581  "
      ]
     },
     "execution_count": 18,
     "metadata": {},
     "output_type": "execute_result"
    }
   ],
   "source": [
    "es_train_df.head()"
   ]
  },
  {
   "cell_type": "code",
   "execution_count": 19,
   "metadata": {},
   "outputs": [],
   "source": [
    "def _return_annotations(row_k: pd.Series, df_es: pd.DataFrame, strict: bool = False) -> bool:\n",
    "    video_id = row_k[\"video_id\"]\n",
    "    s_k, e_k = row_k[\"start_timestamp\"], row_k[\"stop_timestamp\"]\n",
    "    duration_k = row_k[\"duration_in_s\"]\n",
    "    action_class_id = row_k[\"verb_class\"]\n",
    "    if strict:\n",
    "        query = \"video_id == @video_id and start_timestamp >= @s_k and stop_timestamp <= @e_k\"\n",
    "    else:\n",
    "        query = \"video_id == @video_id and start_timestamp >= @s_k and start_timestamp <= @e_k\"\n",
    "\n",
    "    result_df = df_es.query(query).copy()\n",
    "    result_df[\"verb_class_ek\"] = action_class_id\n",
    "    result_df[\"s_k\"] = s_k\n",
    "    result_df[\"e_k\"] = e_k\n",
    "    result_df[\"duration_in_s_k\"] = duration_k\n",
    "\n",
    "    del result_df[\"start_sample\"]\n",
    "    del result_df[\"stop_sample\"]\n",
    "\n",
    "    return result_df.rename(\n",
    "        {\n",
    "            \"start_timestamp\": \"s_s\",\n",
    "            \"stop_timestamp\": \"e_s\",\n",
    "            \"verb_class\": \"verb_class_s\",\n",
    "            \"duration_in_s\": \"duration_in_s_s\"\n",
    "        },\n",
    "        axis=1,\n",
    "    )\n",
    "\n",
    "def normalize_td(row: pd.Series) -> pd.Series:\n",
    "    min_value, max_value = row[\"s_k\"].total_seconds(), row[\"e_k\"].total_seconds()\n",
    "    row[\"s_s_norm\"] = (\n",
    "        row[\"s_s\"].total_seconds() - min_value\n",
    "    ) / (max_value - min_value)\n",
    "    row[\"e_s_norm\"] = (\n",
    "        row[\"e_s\"].total_seconds() - min_value\n",
    "    ) / (max_value - min_value)\n",
    "\n",
    "    return row\n",
    "\n",
    "\n",
    "def return_overlaps(\n",
    "    overlaps_df: pd.DataFrame,\n",
    "    es: pd.DataFrame,\n",
    "    n_overlaps: int = 1,\n",
    "    strict: bool = False,\n",
    "):\n",
    "    dfs = []\n",
    "    query = f\"n_overlap_strict == {n_overlaps}\" if strict else f\"n_overlap_loose == {n_overlaps}\"\n",
    "    w_df = overlaps_df.query(query).copy()\n",
    "\n",
    "    for _, row_k in tqdm(\n",
    "        w_df.iterrows(),\n",
    "        total=len(w_df),\n",
    "        desc=\"EPIC-KITCHENS\",\n",
    "        unit=\"row\",\n",
    "    ):\n",
    "        dfs.append(\n",
    "            _return_annotations(\n",
    "                row_k=row_k,\n",
    "                df_es=es,\n",
    "                strict=strict,\n",
    "            )\n",
    "        )\n",
    "\n",
    "    df = pd.concat(dfs)\n",
    "    df[\"s_s\"] = pd.to_timedelta(df[\"s_s\"])\n",
    "    df[\"s_k\"] = pd.to_timedelta(df[\"s_k\"])\n",
    "    df[\"e_s\"] = pd.to_timedelta(df[\"e_s\"])\n",
    "    df[\"e_k\"] = pd.to_timedelta(df[\"e_k\"])\n",
    "\n",
    "    df = df.apply(normalize_td, axis=1)\n",
    "\n",
    "    return df"
   ]
  },
  {
   "cell_type": "code",
   "execution_count": 20,
   "metadata": {},
   "outputs": [
    {
     "name": "stderr",
     "output_type": "stream",
     "text": [
      "EPIC-KITCHENS:   0%|          | 0/11641 [00:00<?, ?row/s]"
     ]
    },
    {
     "name": "stderr",
     "output_type": "stream",
     "text": [
      "EPIC-KITCHENS: 100%|██████████| 11641/11641 [01:13<00:00, 157.80row/s]\n"
     ]
    },
    {
     "data": {
      "text/html": [
       "<div>\n",
       "<style scoped>\n",
       "    .dataframe tbody tr th:only-of-type {\n",
       "        vertical-align: middle;\n",
       "    }\n",
       "\n",
       "    .dataframe tbody tr th {\n",
       "        vertical-align: top;\n",
       "    }\n",
       "\n",
       "    .dataframe thead th {\n",
       "        text-align: right;\n",
       "    }\n",
       "</style>\n",
       "<table border=\"1\" class=\"dataframe\">\n",
       "  <thead>\n",
       "    <tr style=\"text-align: right;\">\n",
       "      <th></th>\n",
       "      <th>participant_id</th>\n",
       "      <th>video_id</th>\n",
       "      <th>s_s</th>\n",
       "      <th>e_s</th>\n",
       "      <th>description</th>\n",
       "      <th>class</th>\n",
       "      <th>class_id</th>\n",
       "      <th>duration_in_s_s</th>\n",
       "      <th>verb_class_ek</th>\n",
       "      <th>s_k</th>\n",
       "      <th>e_k</th>\n",
       "      <th>duration_in_s_k</th>\n",
       "      <th>s_s_norm</th>\n",
       "      <th>e_s_norm</th>\n",
       "    </tr>\n",
       "    <tr>\n",
       "      <th>annotation_id</th>\n",
       "      <th></th>\n",
       "      <th></th>\n",
       "      <th></th>\n",
       "      <th></th>\n",
       "      <th></th>\n",
       "      <th></th>\n",
       "      <th></th>\n",
       "      <th></th>\n",
       "      <th></th>\n",
       "      <th></th>\n",
       "      <th></th>\n",
       "      <th></th>\n",
       "      <th></th>\n",
       "      <th></th>\n",
       "    </tr>\n",
       "  </thead>\n",
       "  <tbody>\n",
       "    <tr>\n",
       "      <th>P01_01_107</th>\n",
       "      <td>P01</td>\n",
       "      <td>P01_01</td>\n",
       "      <td>0 days 00:08:25.434000</td>\n",
       "      <td>0 days 00:08:27.260000</td>\n",
       "      <td>drag / move / pull object</td>\n",
       "      <td>slide object</td>\n",
       "      <td>9</td>\n",
       "      <td>1.826</td>\n",
       "      <td>1</td>\n",
       "      <td>0 days 00:08:24.660000</td>\n",
       "      <td>0 days 00:08:27.920000</td>\n",
       "      <td>3.26</td>\n",
       "      <td>0.237423</td>\n",
       "      <td>0.797546</td>\n",
       "    </tr>\n",
       "    <tr>\n",
       "      <th>P01_01_109</th>\n",
       "      <td>P01</td>\n",
       "      <td>P01_01</td>\n",
       "      <td>0 days 00:08:30.717000</td>\n",
       "      <td>0 days 00:08:31.477000</td>\n",
       "      <td>clang / clatter</td>\n",
       "      <td>metal-only collision</td>\n",
       "      <td>0</td>\n",
       "      <td>0.760</td>\n",
       "      <td>0</td>\n",
       "      <td>0 days 00:08:29.290000</td>\n",
       "      <td>0 days 00:08:31.540000</td>\n",
       "      <td>2.25</td>\n",
       "      <td>0.634222</td>\n",
       "      <td>0.972000</td>\n",
       "    </tr>\n",
       "    <tr>\n",
       "      <th>P01_01_110</th>\n",
       "      <td>P01</td>\n",
       "      <td>P01_01</td>\n",
       "      <td>0 days 00:08:43.906000</td>\n",
       "      <td>0 days 00:08:48.177000</td>\n",
       "      <td>stir / mix / whisk food</td>\n",
       "      <td>stir / mix / whisk</td>\n",
       "      <td>8</td>\n",
       "      <td>4.271</td>\n",
       "      <td>10</td>\n",
       "      <td>0 days 00:08:41.920000</td>\n",
       "      <td>0 days 00:08:48.560000</td>\n",
       "      <td>6.64</td>\n",
       "      <td>0.299096</td>\n",
       "      <td>0.942319</td>\n",
       "    </tr>\n",
       "    <tr>\n",
       "      <th>P01_01_12</th>\n",
       "      <td>P01</td>\n",
       "      <td>P01_01</td>\n",
       "      <td>0 days 00:00:37.002000</td>\n",
       "      <td>0 days 00:00:37.742000</td>\n",
       "      <td>scrub / scrape / scour / wipe</td>\n",
       "      <td>scrub / scrape / scour / wipe</td>\n",
       "      <td>1</td>\n",
       "      <td>0.740</td>\n",
       "      <td>1</td>\n",
       "      <td>0 days 00:00:36.680000</td>\n",
       "      <td>0 days 00:00:37.780000</td>\n",
       "      <td>1.10</td>\n",
       "      <td>0.292727</td>\n",
       "      <td>0.965455</td>\n",
       "    </tr>\n",
       "    <tr>\n",
       "      <th>P01_01_115</th>\n",
       "      <td>P01</td>\n",
       "      <td>P01_01</td>\n",
       "      <td>0 days 00:09:07.760000</td>\n",
       "      <td>0 days 00:09:08.760000</td>\n",
       "      <td>clang / clatter</td>\n",
       "      <td>plastic-only collision</td>\n",
       "      <td>6</td>\n",
       "      <td>1.000</td>\n",
       "      <td>5</td>\n",
       "      <td>0 days 00:09:07.400000</td>\n",
       "      <td>0 days 00:09:09.010000</td>\n",
       "      <td>1.61</td>\n",
       "      <td>0.223602</td>\n",
       "      <td>0.844720</td>\n",
       "    </tr>\n",
       "    <tr>\n",
       "      <th>...</th>\n",
       "      <td>...</td>\n",
       "      <td>...</td>\n",
       "      <td>...</td>\n",
       "      <td>...</td>\n",
       "      <td>...</td>\n",
       "      <td>...</td>\n",
       "      <td>...</td>\n",
       "      <td>...</td>\n",
       "      <td>...</td>\n",
       "      <td>...</td>\n",
       "      <td>...</td>\n",
       "      <td>...</td>\n",
       "      <td>...</td>\n",
       "      <td>...</td>\n",
       "    </tr>\n",
       "    <tr>\n",
       "      <th>P37_103_11</th>\n",
       "      <td>P37</td>\n",
       "      <td>P37_103</td>\n",
       "      <td>0 days 00:05:30.514000</td>\n",
       "      <td>0 days 00:05:32.597000</td>\n",
       "      <td>paper rustle</td>\n",
       "      <td>rustle</td>\n",
       "      <td>4</td>\n",
       "      <td>2.083</td>\n",
       "      <td>30</td>\n",
       "      <td>0 days 00:05:30</td>\n",
       "      <td>0 days 00:05:36.640000</td>\n",
       "      <td>6.64</td>\n",
       "      <td>0.077410</td>\n",
       "      <td>0.391114</td>\n",
       "    </tr>\n",
       "    <tr>\n",
       "      <th>P37_103_12</th>\n",
       "      <td>P37</td>\n",
       "      <td>P37_103</td>\n",
       "      <td>0 days 00:05:37.381000</td>\n",
       "      <td>0 days 00:05:38.914000</td>\n",
       "      <td>paper rustle</td>\n",
       "      <td>rustle</td>\n",
       "      <td>4</td>\n",
       "      <td>1.533</td>\n",
       "      <td>30</td>\n",
       "      <td>0 days 00:05:36.740000</td>\n",
       "      <td>0 days 00:05:40.780000</td>\n",
       "      <td>4.04</td>\n",
       "      <td>0.158663</td>\n",
       "      <td>0.538119</td>\n",
       "    </tr>\n",
       "    <tr>\n",
       "      <th>P37_103_13</th>\n",
       "      <td>P37</td>\n",
       "      <td>P37_103</td>\n",
       "      <td>0 days 00:05:57.726000</td>\n",
       "      <td>0 days 00:05:58.269000</td>\n",
       "      <td>open / close drawer</td>\n",
       "      <td>open / close</td>\n",
       "      <td>3</td>\n",
       "      <td>0.543</td>\n",
       "      <td>1</td>\n",
       "      <td>0 days 00:05:56.560000</td>\n",
       "      <td>0 days 00:05:58.440000</td>\n",
       "      <td>1.88</td>\n",
       "      <td>0.620213</td>\n",
       "      <td>0.909043</td>\n",
       "    </tr>\n",
       "    <tr>\n",
       "      <th>P37_103_18</th>\n",
       "      <td>P37</td>\n",
       "      <td>P37_103</td>\n",
       "      <td>0 days 00:06:14.036000</td>\n",
       "      <td>0 days 00:06:15.095000</td>\n",
       "      <td>water splash</td>\n",
       "      <td>water</td>\n",
       "      <td>5</td>\n",
       "      <td>1.059</td>\n",
       "      <td>18</td>\n",
       "      <td>0 days 00:06:13.680000</td>\n",
       "      <td>0 days 00:06:15.480000</td>\n",
       "      <td>1.80</td>\n",
       "      <td>0.197778</td>\n",
       "      <td>0.786111</td>\n",
       "    </tr>\n",
       "    <tr>\n",
       "      <th>P37_103_21</th>\n",
       "      <td>P37</td>\n",
       "      <td>P37_103</td>\n",
       "      <td>0 days 00:06:19.132000</td>\n",
       "      <td>0 days 00:06:19.395000</td>\n",
       "      <td>footstep</td>\n",
       "      <td>footstep</td>\n",
       "      <td>7</td>\n",
       "      <td>0.263</td>\n",
       "      <td>0</td>\n",
       "      <td>0 days 00:06:17.860000</td>\n",
       "      <td>0 days 00:06:23.770000</td>\n",
       "      <td>5.91</td>\n",
       "      <td>0.215228</td>\n",
       "      <td>0.259729</td>\n",
       "    </tr>\n",
       "  </tbody>\n",
       "</table>\n",
       "<p>11641 rows × 14 columns</p>\n",
       "</div>"
      ],
      "text/plain": [
       "              participant_id video_id                    s_s  \\\n",
       "annotation_id                                                  \n",
       "P01_01_107               P01   P01_01 0 days 00:08:25.434000   \n",
       "P01_01_109               P01   P01_01 0 days 00:08:30.717000   \n",
       "P01_01_110               P01   P01_01 0 days 00:08:43.906000   \n",
       "P01_01_12                P01   P01_01 0 days 00:00:37.002000   \n",
       "P01_01_115               P01   P01_01 0 days 00:09:07.760000   \n",
       "...                      ...      ...                    ...   \n",
       "P37_103_11               P37  P37_103 0 days 00:05:30.514000   \n",
       "P37_103_12               P37  P37_103 0 days 00:05:37.381000   \n",
       "P37_103_13               P37  P37_103 0 days 00:05:57.726000   \n",
       "P37_103_18               P37  P37_103 0 days 00:06:14.036000   \n",
       "P37_103_21               P37  P37_103 0 days 00:06:19.132000   \n",
       "\n",
       "                                 e_s                    description  \\\n",
       "annotation_id                                                         \n",
       "P01_01_107    0 days 00:08:27.260000      drag / move / pull object   \n",
       "P01_01_109    0 days 00:08:31.477000                clang / clatter   \n",
       "P01_01_110    0 days 00:08:48.177000        stir / mix / whisk food   \n",
       "P01_01_12     0 days 00:00:37.742000  scrub / scrape / scour / wipe   \n",
       "P01_01_115    0 days 00:09:08.760000                clang / clatter   \n",
       "...                              ...                            ...   \n",
       "P37_103_11    0 days 00:05:32.597000                   paper rustle   \n",
       "P37_103_12    0 days 00:05:38.914000                   paper rustle   \n",
       "P37_103_13    0 days 00:05:58.269000            open / close drawer   \n",
       "P37_103_18    0 days 00:06:15.095000                   water splash   \n",
       "P37_103_21    0 days 00:06:19.395000                       footstep   \n",
       "\n",
       "                                       class  class_id  duration_in_s_s  \\\n",
       "annotation_id                                                             \n",
       "P01_01_107                      slide object         9            1.826   \n",
       "P01_01_109              metal-only collision         0            0.760   \n",
       "P01_01_110                stir / mix / whisk         8            4.271   \n",
       "P01_01_12      scrub / scrape / scour / wipe         1            0.740   \n",
       "P01_01_115            plastic-only collision         6            1.000   \n",
       "...                                      ...       ...              ...   \n",
       "P37_103_11                            rustle         4            2.083   \n",
       "P37_103_12                            rustle         4            1.533   \n",
       "P37_103_13                      open / close         3            0.543   \n",
       "P37_103_18                             water         5            1.059   \n",
       "P37_103_21                          footstep         7            0.263   \n",
       "\n",
       "               verb_class_ek                    s_k                    e_k  \\\n",
       "annotation_id                                                                \n",
       "P01_01_107                 1 0 days 00:08:24.660000 0 days 00:08:27.920000   \n",
       "P01_01_109                 0 0 days 00:08:29.290000 0 days 00:08:31.540000   \n",
       "P01_01_110                10 0 days 00:08:41.920000 0 days 00:08:48.560000   \n",
       "P01_01_12                  1 0 days 00:00:36.680000 0 days 00:00:37.780000   \n",
       "P01_01_115                 5 0 days 00:09:07.400000 0 days 00:09:09.010000   \n",
       "...                      ...                    ...                    ...   \n",
       "P37_103_11                30        0 days 00:05:30 0 days 00:05:36.640000   \n",
       "P37_103_12                30 0 days 00:05:36.740000 0 days 00:05:40.780000   \n",
       "P37_103_13                 1 0 days 00:05:56.560000 0 days 00:05:58.440000   \n",
       "P37_103_18                18 0 days 00:06:13.680000 0 days 00:06:15.480000   \n",
       "P37_103_21                 0 0 days 00:06:17.860000 0 days 00:06:23.770000   \n",
       "\n",
       "               duration_in_s_k  s_s_norm  e_s_norm  \n",
       "annotation_id                                       \n",
       "P01_01_107                3.26  0.237423  0.797546  \n",
       "P01_01_109                2.25  0.634222  0.972000  \n",
       "P01_01_110                6.64  0.299096  0.942319  \n",
       "P01_01_12                 1.10  0.292727  0.965455  \n",
       "P01_01_115                1.61  0.223602  0.844720  \n",
       "...                        ...       ...       ...  \n",
       "P37_103_11                6.64  0.077410  0.391114  \n",
       "P37_103_12                4.04  0.158663  0.538119  \n",
       "P37_103_13                1.88  0.620213  0.909043  \n",
       "P37_103_18                1.80  0.197778  0.786111  \n",
       "P37_103_21                5.91  0.215228  0.259729  \n",
       "\n",
       "[11641 rows x 14 columns]"
      ]
     },
     "execution_count": 20,
     "metadata": {},
     "output_type": "execute_result"
    }
   ],
   "source": [
    "\n",
    "detailed_overlaps = return_overlaps(\n",
    "    overlaps_df=train_overlaps,\n",
    "    es=es_train_df,\n",
    "    n_overlaps=1,\n",
    "    strict=True,\n",
    ")\n",
    "detailed_overlaps"
   ]
  },
  {
   "cell_type": "code",
   "execution_count": 22,
   "metadata": {},
   "outputs": [],
   "source": [
    "from loguru import logger\n",
    "import pandas as pd\n",
    "import plotly.graph_objects as go\n",
    "import plotly.subplots as sp\n",
    "import plotly.express as px\n",
    "\n",
    "\n",
    "def plot_annotations_alignment_per_class(df: pd.DataFrame, class_id: int, class_name: str):\n",
    "    values = df.query(\"verb_class_ek == @class_id\").rename(\n",
    "        {\"s_s_norm\": \"Norm. start timestamp\", \"e_s_norm\": \"Norm. end timestamp\"}, axis=1\n",
    "    )\n",
    "    fig = go.Figure()\n",
    "    fig.add_trace(\n",
    "        go.Histogram(\n",
    "            x=values[\"Norm. start timestamp\"],\n",
    "            name=\"Norm. start timestamp\",\n",
    "            marker_color=\"orange\",\n",
    "            nbinsx=40,\n",
    "        )\n",
    "    )\n",
    "    fig.add_trace(\n",
    "        go.Histogram(\n",
    "            x=values[\"Norm. end timestamp\"],\n",
    "            name=\"Norm. end timestamp\",\n",
    "            marker_color=\"red\",\n",
    "            nbinsx=40,\n",
    "        )\n",
    "    )\n",
    "\n",
    "    fig.update_layout(\n",
    "        title=f\"Alignment of sound annotations with action annotations for class <br><b>{class_name}</b> in EPIC-KITCHENS\",\n",
    "        xaxis_title=\"Normalized action duration\",\n",
    "        yaxis_title=\"Count\",\n",
    "        height=600,\n",
    "        width=1000,\n",
    "        font_family=\"CMU Serif\",\n",
    "    \n",
    "    )\n",
    "    # fig.show()\n",
    "    fig.write_image(f\"../res/dataset/alignment/{class_name}_global_alignment.png\", scale=2.0)\n",
    "    fig.write_image(f\"../res/dataset/alignment/pdf/{class_name}_global_alignment.pdf\")\n",
    "\n",
    "\n",
    "os.makedirs('../res/dataset/alignment', exist_ok=True)\n",
    "os.makedirs('../res/dataset/alignment/pdf', exist_ok=True)\n",
    "for class_ in detailed_overlaps.class_id.unique():\n",
    "    plot_annotations_alignment_per_class(\n",
    "        df=detailed_overlaps,\n",
    "        class_id=class_,\n",
    "        class_name=verbs_df.loc[class_, \"key\"],\n",
    "    )"
   ]
  },
  {
   "cell_type": "code",
   "execution_count": null,
   "metadata": {},
   "outputs": [],
   "source": []
  }
 ],
 "metadata": {
  "kernelspec": {
   "display_name": "auditory-slow-fast-4TKuBWLx-py3.10",
   "language": "python",
   "name": "python3"
  },
  "language_info": {
   "codemirror_mode": {
    "name": "ipython",
    "version": 3
   },
   "file_extension": ".py",
   "mimetype": "text/x-python",
   "name": "python",
   "nbconvert_exporter": "python",
   "pygments_lexer": "ipython3",
   "version": "3.10.12"
  }
 },
 "nbformat": 4,
 "nbformat_minor": 2
}
