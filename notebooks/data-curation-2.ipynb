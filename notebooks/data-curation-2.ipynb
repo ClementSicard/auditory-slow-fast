{
 "cells": [
  {
   "cell_type": "code",
   "execution_count": 2,
   "metadata": {},
   "outputs": [],
   "source": [
    "import pandas as pd"
   ]
  },
  {
   "cell_type": "code",
   "execution_count": 2,
   "metadata": {},
   "outputs": [
    {
     "data": {
      "text/html": [
       "<div>\n",
       "<style scoped>\n",
       "    .dataframe tbody tr th:only-of-type {\n",
       "        vertical-align: middle;\n",
       "    }\n",
       "\n",
       "    .dataframe tbody tr th {\n",
       "        vertical-align: top;\n",
       "    }\n",
       "\n",
       "    .dataframe thead th {\n",
       "        text-align: right;\n",
       "    }\n",
       "</style>\n",
       "<table border=\"1\" class=\"dataframe\">\n",
       "  <thead>\n",
       "    <tr style=\"text-align: right;\">\n",
       "      <th></th>\n",
       "      <th>key</th>\n",
       "      <th>instances</th>\n",
       "      <th>category</th>\n",
       "    </tr>\n",
       "    <tr>\n",
       "      <th>id</th>\n",
       "      <th></th>\n",
       "      <th></th>\n",
       "      <th></th>\n",
       "    </tr>\n",
       "  </thead>\n",
       "  <tbody>\n",
       "    <tr>\n",
       "      <th>0</th>\n",
       "      <td>take</td>\n",
       "      <td>['collect-from', 'collect-into', 'draw', 'fetc...</td>\n",
       "      <td>retrieve</td>\n",
       "    </tr>\n",
       "    <tr>\n",
       "      <th>1</th>\n",
       "      <td>put</td>\n",
       "      <td>['create', 'dose', 'lay', 'lay-down', 'lay-on'...</td>\n",
       "      <td>leave</td>\n",
       "    </tr>\n",
       "    <tr>\n",
       "      <th>2</th>\n",
       "      <td>wash</td>\n",
       "      <td>['clean', 'clean-around', 'clean-from', 'clean...</td>\n",
       "      <td>clean</td>\n",
       "    </tr>\n",
       "    <tr>\n",
       "      <th>3</th>\n",
       "      <td>open</td>\n",
       "      <td>['lever-open', 'open', 'open-in', 'open-on', '...</td>\n",
       "      <td>access</td>\n",
       "    </tr>\n",
       "    <tr>\n",
       "      <th>4</th>\n",
       "      <td>close</td>\n",
       "      <td>['close', 'close-off', 'close-with', 'screw-on...</td>\n",
       "      <td>block</td>\n",
       "    </tr>\n",
       "  </tbody>\n",
       "</table>\n",
       "</div>"
      ],
      "text/plain": [
       "      key                                          instances  category\n",
       "id                                                                    \n",
       "0    take  ['collect-from', 'collect-into', 'draw', 'fetc...  retrieve\n",
       "1     put  ['create', 'dose', 'lay', 'lay-down', 'lay-on'...     leave\n",
       "2    wash  ['clean', 'clean-around', 'clean-from', 'clean...     clean\n",
       "3    open  ['lever-open', 'open', 'open-in', 'open-on', '...    access\n",
       "4   close  ['close', 'close-off', 'close-with', 'screw-on...     block"
      ]
     },
     "execution_count": 2,
     "metadata": {},
     "output_type": "execute_result"
    }
   ],
   "source": [
    "ek_verbs_path = \"../data/epic-kitchens-100-annotations/EPIC_100_verb_classes.csv\"\n",
    "\n",
    "verbs_df = pd.read_csv(ek_verbs_path, header=0, index_col=0)\n",
    "verbs_df.head()"
   ]
  },
  {
   "cell_type": "code",
   "execution_count": 3,
   "metadata": {},
   "outputs": [
    {
     "data": {
      "text/html": [
       "<div>\n",
       "<style scoped>\n",
       "    .dataframe tbody tr th:only-of-type {\n",
       "        vertical-align: middle;\n",
       "    }\n",
       "\n",
       "    .dataframe tbody tr th {\n",
       "        vertical-align: top;\n",
       "    }\n",
       "\n",
       "    .dataframe thead th {\n",
       "        text-align: right;\n",
       "    }\n",
       "</style>\n",
       "<table border=\"1\" class=\"dataframe\">\n",
       "  <thead>\n",
       "    <tr style=\"text-align: right;\">\n",
       "      <th></th>\n",
       "      <th>participant_id</th>\n",
       "      <th>video_id</th>\n",
       "      <th>narration_timestamp</th>\n",
       "      <th>start_timestamp</th>\n",
       "      <th>stop_timestamp</th>\n",
       "      <th>start_frame</th>\n",
       "      <th>stop_frame</th>\n",
       "      <th>narration</th>\n",
       "      <th>verb</th>\n",
       "      <th>verb_class</th>\n",
       "      <th>noun</th>\n",
       "      <th>noun_class</th>\n",
       "      <th>all_nouns</th>\n",
       "      <th>all_noun_classes</th>\n",
       "      <th>duration_in_s</th>\n",
       "    </tr>\n",
       "    <tr>\n",
       "      <th>narration_id</th>\n",
       "      <th></th>\n",
       "      <th></th>\n",
       "      <th></th>\n",
       "      <th></th>\n",
       "      <th></th>\n",
       "      <th></th>\n",
       "      <th></th>\n",
       "      <th></th>\n",
       "      <th></th>\n",
       "      <th></th>\n",
       "      <th></th>\n",
       "      <th></th>\n",
       "      <th></th>\n",
       "      <th></th>\n",
       "      <th></th>\n",
       "    </tr>\n",
       "  </thead>\n",
       "  <tbody>\n",
       "    <tr>\n",
       "      <th>P01_01_0</th>\n",
       "      <td>P01</td>\n",
       "      <td>P01_01</td>\n",
       "      <td>00:00:01.089</td>\n",
       "      <td>00:00:00.14</td>\n",
       "      <td>00:00:03.37</td>\n",
       "      <td>8</td>\n",
       "      <td>202</td>\n",
       "      <td>open door</td>\n",
       "      <td>open</td>\n",
       "      <td>3</td>\n",
       "      <td>door</td>\n",
       "      <td>3</td>\n",
       "      <td>[door]</td>\n",
       "      <td>[3]</td>\n",
       "      <td>3.23</td>\n",
       "    </tr>\n",
       "    <tr>\n",
       "      <th>P01_01_1</th>\n",
       "      <td>P01</td>\n",
       "      <td>P01_01</td>\n",
       "      <td>00:00:02.629</td>\n",
       "      <td>00:00:04.37</td>\n",
       "      <td>00:00:06.17</td>\n",
       "      <td>262</td>\n",
       "      <td>370</td>\n",
       "      <td>turn on light</td>\n",
       "      <td>turn-on</td>\n",
       "      <td>6</td>\n",
       "      <td>light</td>\n",
       "      <td>114</td>\n",
       "      <td>[light]</td>\n",
       "      <td>[114]</td>\n",
       "      <td>1.80</td>\n",
       "    </tr>\n",
       "    <tr>\n",
       "      <th>P01_01_10</th>\n",
       "      <td>P01</td>\n",
       "      <td>P01_01</td>\n",
       "      <td>00:00:23.340</td>\n",
       "      <td>00:00:24.97</td>\n",
       "      <td>00:00:26.20</td>\n",
       "      <td>1498</td>\n",
       "      <td>1572</td>\n",
       "      <td>open drawer</td>\n",
       "      <td>open</td>\n",
       "      <td>3</td>\n",
       "      <td>drawer</td>\n",
       "      <td>8</td>\n",
       "      <td>[drawer]</td>\n",
       "      <td>[8]</td>\n",
       "      <td>1.23</td>\n",
       "    </tr>\n",
       "    <tr>\n",
       "      <th>P01_01_100</th>\n",
       "      <td>P01</td>\n",
       "      <td>P01_01</td>\n",
       "      <td>00:07:57.919</td>\n",
       "      <td>00:07:59.75</td>\n",
       "      <td>00:08:00.88</td>\n",
       "      <td>28785</td>\n",
       "      <td>28852</td>\n",
       "      <td>take cup</td>\n",
       "      <td>take</td>\n",
       "      <td>0</td>\n",
       "      <td>cup</td>\n",
       "      <td>13</td>\n",
       "      <td>[cup]</td>\n",
       "      <td>[13]</td>\n",
       "      <td>1.13</td>\n",
       "    </tr>\n",
       "    <tr>\n",
       "      <th>P01_01_101</th>\n",
       "      <td>P01</td>\n",
       "      <td>P01_01</td>\n",
       "      <td>00:08:00.020</td>\n",
       "      <td>00:08:01.47</td>\n",
       "      <td>00:08:02.21</td>\n",
       "      <td>28888</td>\n",
       "      <td>28932</td>\n",
       "      <td>open cupboard</td>\n",
       "      <td>open</td>\n",
       "      <td>3</td>\n",
       "      <td>cupboard</td>\n",
       "      <td>3</td>\n",
       "      <td>[cupboard]</td>\n",
       "      <td>[3]</td>\n",
       "      <td>0.74</td>\n",
       "    </tr>\n",
       "  </tbody>\n",
       "</table>\n",
       "</div>"
      ],
      "text/plain": [
       "             participant_id video_id narration_timestamp start_timestamp  \\\n",
       "narration_id                                                               \n",
       "P01_01_0                P01   P01_01        00:00:01.089     00:00:00.14   \n",
       "P01_01_1                P01   P01_01        00:00:02.629     00:00:04.37   \n",
       "P01_01_10               P01   P01_01        00:00:23.340     00:00:24.97   \n",
       "P01_01_100              P01   P01_01        00:07:57.919     00:07:59.75   \n",
       "P01_01_101              P01   P01_01        00:08:00.020     00:08:01.47   \n",
       "\n",
       "             stop_timestamp  start_frame  stop_frame      narration     verb  \\\n",
       "narration_id                                                                   \n",
       "P01_01_0        00:00:03.37            8         202      open door     open   \n",
       "P01_01_1        00:00:06.17          262         370  turn on light  turn-on   \n",
       "P01_01_10       00:00:26.20         1498        1572    open drawer     open   \n",
       "P01_01_100      00:08:00.88        28785       28852       take cup     take   \n",
       "P01_01_101      00:08:02.21        28888       28932  open cupboard     open   \n",
       "\n",
       "              verb_class      noun  noun_class   all_nouns all_noun_classes  \\\n",
       "narration_id                                                                  \n",
       "P01_01_0               3      door           3      [door]              [3]   \n",
       "P01_01_1               6     light         114     [light]            [114]   \n",
       "P01_01_10              3    drawer           8    [drawer]              [8]   \n",
       "P01_01_100             0       cup          13       [cup]             [13]   \n",
       "P01_01_101             3  cupboard           3  [cupboard]              [3]   \n",
       "\n",
       "              duration_in_s  \n",
       "narration_id                 \n",
       "P01_01_0               3.23  \n",
       "P01_01_1               1.80  \n",
       "P01_01_10              1.23  \n",
       "P01_01_100             1.13  \n",
       "P01_01_101             0.74  "
      ]
     },
     "execution_count": 3,
     "metadata": {},
     "output_type": "execute_result"
    }
   ],
   "source": [
    "ek_train_path = \"../data/epic-kitchens-100-annotations/EPIC_100_train.pkl\"\n",
    "\n",
    "ek_train_df = pd.read_pickle(ek_train_path)\n",
    "ek_train_df[\"start_ts_td\"] = pd.to_timedelta(ek_train_df[\"start_timestamp\"])\n",
    "ek_train_df[\"stop_ts_td\"] = pd.to_timedelta(ek_train_df[\"stop_timestamp\"])\n",
    "ek_train_df[\"duration_in_s\"] = (ek_train_df[\"stop_ts_td\"] - ek_train_df[\"start_ts_td\"]).dt.total_seconds()\n",
    "del ek_train_df[\"start_ts_td\"]\n",
    "del ek_train_df[\"stop_ts_td\"]\n",
    "\n",
    "ek_train_df.head()"
   ]
  },
  {
   "cell_type": "code",
   "execution_count": 4,
   "metadata": {},
   "outputs": [
    {
     "data": {
      "text/html": [
       "<div>\n",
       "<style scoped>\n",
       "    .dataframe tbody tr th:only-of-type {\n",
       "        vertical-align: middle;\n",
       "    }\n",
       "\n",
       "    .dataframe tbody tr th {\n",
       "        vertical-align: top;\n",
       "    }\n",
       "\n",
       "    .dataframe thead th {\n",
       "        text-align: right;\n",
       "    }\n",
       "</style>\n",
       "<table border=\"1\" class=\"dataframe\">\n",
       "  <thead>\n",
       "    <tr style=\"text-align: right;\">\n",
       "      <th></th>\n",
       "      <th>participant_id</th>\n",
       "      <th>video_id</th>\n",
       "      <th>narration_timestamp</th>\n",
       "      <th>start_timestamp</th>\n",
       "      <th>stop_timestamp</th>\n",
       "      <th>start_frame</th>\n",
       "      <th>stop_frame</th>\n",
       "      <th>narration</th>\n",
       "      <th>verb</th>\n",
       "      <th>verb_class</th>\n",
       "      <th>noun</th>\n",
       "      <th>noun_class</th>\n",
       "      <th>all_nouns</th>\n",
       "      <th>all_noun_classes</th>\n",
       "      <th>duration_in_s</th>\n",
       "    </tr>\n",
       "    <tr>\n",
       "      <th>narration_id</th>\n",
       "      <th></th>\n",
       "      <th></th>\n",
       "      <th></th>\n",
       "      <th></th>\n",
       "      <th></th>\n",
       "      <th></th>\n",
       "      <th></th>\n",
       "      <th></th>\n",
       "      <th></th>\n",
       "      <th></th>\n",
       "      <th></th>\n",
       "      <th></th>\n",
       "      <th></th>\n",
       "      <th></th>\n",
       "      <th></th>\n",
       "    </tr>\n",
       "  </thead>\n",
       "  <tbody>\n",
       "    <tr>\n",
       "      <th>P01_11_0</th>\n",
       "      <td>P01</td>\n",
       "      <td>P01_11</td>\n",
       "      <td>00:00:00.560</td>\n",
       "      <td>00:00:00.00</td>\n",
       "      <td>00:00:01.89</td>\n",
       "      <td>1</td>\n",
       "      <td>113</td>\n",
       "      <td>take plate</td>\n",
       "      <td>take</td>\n",
       "      <td>0</td>\n",
       "      <td>plate</td>\n",
       "      <td>2</td>\n",
       "      <td>[plate]</td>\n",
       "      <td>[2]</td>\n",
       "      <td>1.89</td>\n",
       "    </tr>\n",
       "    <tr>\n",
       "      <th>P01_11_1</th>\n",
       "      <td>P01</td>\n",
       "      <td>P01_11</td>\n",
       "      <td>00:00:01.700</td>\n",
       "      <td>00:00:01.56</td>\n",
       "      <td>00:00:02.45</td>\n",
       "      <td>93</td>\n",
       "      <td>147</td>\n",
       "      <td>put down plate</td>\n",
       "      <td>put-down</td>\n",
       "      <td>1</td>\n",
       "      <td>plate</td>\n",
       "      <td>2</td>\n",
       "      <td>[plate]</td>\n",
       "      <td>[2]</td>\n",
       "      <td>0.89</td>\n",
       "    </tr>\n",
       "    <tr>\n",
       "      <th>P01_11_10</th>\n",
       "      <td>P01</td>\n",
       "      <td>P01_11</td>\n",
       "      <td>00:00:48.500</td>\n",
       "      <td>00:00:49.15</td>\n",
       "      <td>00:00:50.95</td>\n",
       "      <td>2949</td>\n",
       "      <td>3057</td>\n",
       "      <td>take paper</td>\n",
       "      <td>take</td>\n",
       "      <td>0</td>\n",
       "      <td>paper</td>\n",
       "      <td>49</td>\n",
       "      <td>[paper]</td>\n",
       "      <td>[49]</td>\n",
       "      <td>1.80</td>\n",
       "    </tr>\n",
       "    <tr>\n",
       "      <th>P01_11_100</th>\n",
       "      <td>P01</td>\n",
       "      <td>P01_11</td>\n",
       "      <td>00:05:27.840</td>\n",
       "      <td>00:05:27.28</td>\n",
       "      <td>00:05:31.97</td>\n",
       "      <td>19636</td>\n",
       "      <td>19918</td>\n",
       "      <td>wash cloth</td>\n",
       "      <td>wash</td>\n",
       "      <td>2</td>\n",
       "      <td>cloth</td>\n",
       "      <td>17</td>\n",
       "      <td>[cloth]</td>\n",
       "      <td>[17]</td>\n",
       "      <td>4.69</td>\n",
       "    </tr>\n",
       "    <tr>\n",
       "      <th>P01_11_101</th>\n",
       "      <td>P01</td>\n",
       "      <td>P01_11</td>\n",
       "      <td>00:05:26.840</td>\n",
       "      <td>00:05:27.37</td>\n",
       "      <td>00:05:29.86</td>\n",
       "      <td>19642</td>\n",
       "      <td>19791</td>\n",
       "      <td>take cloth</td>\n",
       "      <td>take</td>\n",
       "      <td>0</td>\n",
       "      <td>cloth</td>\n",
       "      <td>17</td>\n",
       "      <td>[cloth]</td>\n",
       "      <td>[17]</td>\n",
       "      <td>2.49</td>\n",
       "    </tr>\n",
       "  </tbody>\n",
       "</table>\n",
       "</div>"
      ],
      "text/plain": [
       "             participant_id video_id narration_timestamp start_timestamp  \\\n",
       "narration_id                                                               \n",
       "P01_11_0                P01   P01_11        00:00:00.560     00:00:00.00   \n",
       "P01_11_1                P01   P01_11        00:00:01.700     00:00:01.56   \n",
       "P01_11_10               P01   P01_11        00:00:48.500     00:00:49.15   \n",
       "P01_11_100              P01   P01_11        00:05:27.840     00:05:27.28   \n",
       "P01_11_101              P01   P01_11        00:05:26.840     00:05:27.37   \n",
       "\n",
       "             stop_timestamp  start_frame  stop_frame       narration  \\\n",
       "narration_id                                                           \n",
       "P01_11_0        00:00:01.89            1         113      take plate   \n",
       "P01_11_1        00:00:02.45           93         147  put down plate   \n",
       "P01_11_10       00:00:50.95         2949        3057      take paper   \n",
       "P01_11_100      00:05:31.97        19636       19918      wash cloth   \n",
       "P01_11_101      00:05:29.86        19642       19791      take cloth   \n",
       "\n",
       "                  verb  verb_class   noun  noun_class all_nouns  \\\n",
       "narration_id                                                      \n",
       "P01_11_0          take           0  plate           2   [plate]   \n",
       "P01_11_1      put-down           1  plate           2   [plate]   \n",
       "P01_11_10         take           0  paper          49   [paper]   \n",
       "P01_11_100        wash           2  cloth          17   [cloth]   \n",
       "P01_11_101        take           0  cloth          17   [cloth]   \n",
       "\n",
       "             all_noun_classes  duration_in_s  \n",
       "narration_id                                  \n",
       "P01_11_0                  [2]           1.89  \n",
       "P01_11_1                  [2]           0.89  \n",
       "P01_11_10                [49]           1.80  \n",
       "P01_11_100               [17]           4.69  \n",
       "P01_11_101               [17]           2.49  "
      ]
     },
     "execution_count": 4,
     "metadata": {},
     "output_type": "execute_result"
    }
   ],
   "source": [
    "ek_val_path = \"../data/epic-kitchens-100-annotations/EPIC_100_validation.pkl\"\n",
    "\n",
    "ek_val_df = pd.read_pickle(ek_val_path)\n",
    "ek_val_df[\"start_ts_td\"] = pd.to_timedelta(ek_val_df[\"start_timestamp\"])\n",
    "ek_val_df[\"stop_ts_td\"] = pd.to_timedelta(ek_val_df[\"stop_timestamp\"])\n",
    "ek_val_df[\"duration_in_s\"] = (ek_val_df[\"stop_ts_td\"] - ek_val_df[\"start_ts_td\"]).dt.total_seconds()\n",
    "del ek_val_df[\"start_ts_td\"]\n",
    "del ek_val_df[\"stop_ts_td\"]\n",
    "\n",
    "ek_val_df.head()"
   ]
  },
  {
   "cell_type": "code",
   "execution_count": 8,
   "metadata": {},
   "outputs": [
    {
     "data": {
      "text/html": [
       "<div>\n",
       "<style scoped>\n",
       "    .dataframe tbody tr th:only-of-type {\n",
       "        vertical-align: middle;\n",
       "    }\n",
       "\n",
       "    .dataframe tbody tr th {\n",
       "        vertical-align: top;\n",
       "    }\n",
       "\n",
       "    .dataframe thead th {\n",
       "        text-align: right;\n",
       "    }\n",
       "</style>\n",
       "<table border=\"1\" class=\"dataframe\">\n",
       "  <thead>\n",
       "    <tr style=\"text-align: right;\">\n",
       "      <th></th>\n",
       "      <th>participant_id</th>\n",
       "      <th>video_id</th>\n",
       "      <th>start_timestamp</th>\n",
       "      <th>stop_timestamp</th>\n",
       "      <th>start_sample</th>\n",
       "      <th>stop_sample</th>\n",
       "      <th>description</th>\n",
       "      <th>class</th>\n",
       "      <th>class_id</th>\n",
       "    </tr>\n",
       "    <tr>\n",
       "      <th>annotation_id</th>\n",
       "      <th></th>\n",
       "      <th></th>\n",
       "      <th></th>\n",
       "      <th></th>\n",
       "      <th></th>\n",
       "      <th></th>\n",
       "      <th></th>\n",
       "      <th></th>\n",
       "      <th></th>\n",
       "    </tr>\n",
       "  </thead>\n",
       "  <tbody>\n",
       "  </tbody>\n",
       "</table>\n",
       "</div>"
      ],
      "text/plain": [
       "Empty DataFrame\n",
       "Columns: [participant_id, video_id, start_timestamp, stop_timestamp, start_sample, stop_sample, description, class, class_id]\n",
       "Index: []"
      ]
     },
     "execution_count": 8,
     "metadata": {},
     "output_type": "execute_result"
    }
   ],
   "source": [
    "es_train_path = \"../data/epic-sounds-annotations/EPIC_Sounds_train.csv\"\n",
    "\n",
    "es_train_df = pd.read_csv(es_train_path, header=0, index_col=0)\n",
    "a = es_train_df[es_train_df[\"video_id\"] == \"P01_01\"]\n",
    "a[a[\"start_timestamp\"] == \"00:00:00.000\"]\n"
   ]
  },
  {
   "cell_type": "code",
   "execution_count": null,
   "metadata": {},
   "outputs": [],
   "source": [
    "es_train_df[\"start_ts_td\"] = pd.to_timedelta(es_train_df[\"start_timestamp\"])\n",
    "es_train_df[\"stop_ts_td\"] = pd.to_timedelta(es_train_df[\"stop_timestamp\"])\n",
    "es_train_df[\"duration_in_s\"] = (\n",
    "    es_train_df[\"stop_ts_td\"] - es_train_df[\"start_ts_td\"]\n",
    ").dt.total_seconds()\n",
    "del es_train_df[\"start_ts_td\"]\n",
    "del es_train_df[\"stop_ts_td\"]\n",
    "\n",
    "es_train_df.head()"
   ]
  },
  {
   "cell_type": "code",
   "execution_count": 1,
   "metadata": {},
   "outputs": [
    {
     "ename": "NameError",
     "evalue": "name 'pd' is not defined",
     "output_type": "error",
     "traceback": [
      "\u001b[0;31m---------------------------------------------------------------------------\u001b[0m",
      "\u001b[0;31mNameError\u001b[0m                                 Traceback (most recent call last)",
      "Cell \u001b[0;32mIn[1], line 3\u001b[0m\n\u001b[1;32m      1\u001b[0m es_val_path \u001b[38;5;241m=\u001b[39m \u001b[38;5;124m\"\u001b[39m\u001b[38;5;124m../data/epic-sounds-annotations/EPIC_Sounds_validation.csv\u001b[39m\u001b[38;5;124m\"\u001b[39m\n\u001b[0;32m----> 3\u001b[0m es_val_df \u001b[38;5;241m=\u001b[39m \u001b[43mpd\u001b[49m\u001b[38;5;241m.\u001b[39mread_csv(es_val_path, header\u001b[38;5;241m=\u001b[39m\u001b[38;5;241m0\u001b[39m, index_col\u001b[38;5;241m=\u001b[39m\u001b[38;5;241m0\u001b[39m)\n\u001b[1;32m      4\u001b[0m es_val_df[\u001b[38;5;124m\"\u001b[39m\u001b[38;5;124mstart_ts_td\u001b[39m\u001b[38;5;124m\"\u001b[39m] \u001b[38;5;241m=\u001b[39m pd\u001b[38;5;241m.\u001b[39mto_timedelta(es_val_df[\u001b[38;5;124m\"\u001b[39m\u001b[38;5;124mstart_timestamp\u001b[39m\u001b[38;5;124m\"\u001b[39m])\n\u001b[1;32m      5\u001b[0m es_val_df[\u001b[38;5;124m\"\u001b[39m\u001b[38;5;124mstop_ts_td\u001b[39m\u001b[38;5;124m\"\u001b[39m] \u001b[38;5;241m=\u001b[39m pd\u001b[38;5;241m.\u001b[39mto_timedelta(es_val_df[\u001b[38;5;124m\"\u001b[39m\u001b[38;5;124mstop_timestamp\u001b[39m\u001b[38;5;124m\"\u001b[39m])\n",
      "\u001b[0;31mNameError\u001b[0m: name 'pd' is not defined"
     ]
    }
   ],
   "source": [
    "es_val_path = \"../data/epic-sounds-annotations/EPIC_Sounds_validation.csv\"\n",
    "\n",
    "es_val_df = pd.read_csv(es_val_path, header=0, index_col=0)\n",
    "es_val_df[\"start_ts_td\"] = pd.to_timedelta(es_val_df[\"start_timestamp\"])\n",
    "es_val_df[\"stop_ts_td\"] = pd.to_timedelta(es_val_df[\"stop_timestamp\"])\n",
    "es_val_df[\"duration_in_s\"] = (\n",
    "    es_val_df[\"stop_ts_td\"] - es_val_df[\"start_ts_td\"]\n",
    ").dt.total_seconds()\n",
    "del es_val_df[\"start_ts_td\"]\n",
    "del es_val_df[\"stop_ts_td\"]\n",
    "\n",
    "es_val_df.head()"
   ]
  },
  {
   "cell_type": "code",
   "execution_count": 7,
   "metadata": {},
   "outputs": [],
   "source": [
    "def check_overlap(sk, ek, ss, es, strict: bool = False) -> bool:\n",
    "    if strict:\n",
    "        # In strict mode, the second interval must be fully contained within the first\n",
    "        return (sk <= ss) and (es <= ek)\n",
    "    else:\n",
    "        # In loose mode, we only need to check if one interval starts before the other ends\n",
    "        return (ss <= ek) and (sk <= es)\n",
    "\n",
    "assert check_overlap(1, 3, 0, 2) == True\n",
    "assert check_overlap(1, 3, 2, 2.5) == True\n",
    "assert check_overlap(1, 3, 2, 4) == True\n",
    "assert check_overlap(1, 3, 0, 0.5) == False\n",
    "\n",
    "assert check_overlap(1, 3, 0, 2, strict=True) == False\n",
    "assert check_overlap(1, 3, 2, 2.5, strict=True) == True\n",
    "assert check_overlap(1, 3, 2, 4, strict=True) == False\n",
    "assert check_overlap(1, 3, 0, 1, strict=True) == False\n"
   ]
  },
  {
   "cell_type": "code",
   "execution_count": 8,
   "metadata": {},
   "outputs": [],
   "source": [
    "import os\n",
    "from tqdm import tqdm\n",
    "import plotly.express as px\n",
    "import pandas as pd\n",
    "\n",
    "\n",
    "def _count_overlaps(row_k: pd.Series, df_es: pd.DataFrame, strict: bool = False) -> bool:\n",
    "    video_id = row_k[\"video_id\"]\n",
    "    s_k, e_k = row_k[\"start_timestamp\"], row_k[\"stop_timestamp\"]\n",
    "    query = \"video_id == @video_id and \"\n",
    "    if strict:\n",
    "        query += \"@s_k <= start_timestamp and stop_timestamp <= @e_k\"\n",
    "    else:\n",
    "        query += \"start_timestamp <= @e_k and @s_k <= stop_timestamp\"\n",
    "    \n",
    "    return df_es.query(query).shape[0]\n",
    "\n",
    "def plot_overlaps(overlaps: pd.DataFrame, split: str, height: int = 600, width: int = 800):\n",
    "    # Make a pie chart of the first 10 most common overlap counts\n",
    "    fig1 = px.pie(\n",
    "        overlaps.n_overlap_loose.value_counts().iloc[:10].reset_index(),\n",
    "        values=\"count\",\n",
    "        names=\"n_overlap_loose\",\n",
    "        title=f\"Number of sound annotations <b>loosely</b> contained in action annotations<br>timestamps in {split} set of EPIC-KITCHENS\",\n",
    "        color_discrete_sequence=px.colors.sequential.Oranges_r if split == \"train\" else px.colors.sequential.Blues_r,\n",
    "        labels={\"n_overlap_loose\": \"Number of overlapping sound annotations\", \"count\": \"Number of actions\"},\n",
    "        height=height,\n",
    "        width=width,\n",
    "    )\n",
    "    fig1.update_traces(textinfo='label+percent+value', textposition='inside')\n",
    "    fig1.update_layout(font_family=\"CMU Serif\")\n",
    "    fig1.write_image(f\"../res/dataset/overlaps/ek_es_{split}_loose_overlaps_pie.png\", scale=3.0)\n",
    "    fig1.write_image(f\"../res/dataset/overlaps/pdf/ek_es_{split}_loose_overlaps_pie.pdf\")\n",
    "\n",
    "    fig1.show()\n",
    "    \n",
    "    # Make a pie chart of the first 10 most common overlap counts\n",
    "    fig2 = px.pie(\n",
    "        overlaps.n_overlap_strict.value_counts().iloc[:10].reset_index(),\n",
    "        values=\"count\",\n",
    "        names=\"n_overlap_strict\",\n",
    "        title=f\"Number of sound annotations <b>strictly</b> contained in action annotations<br>timestamps in {split} set of EPIC-KITCHENS\",\n",
    "        color_discrete_sequence=px.colors.sequential.Reds_r if split == \"train\" else px.colors.sequential.Greens_r,\n",
    "        labels={\"n_overlap_loose\": \"Number of overlapping sound annotations\", \"count\": \"Number of actions\"},\n",
    "        height=height,\n",
    "        width=width,\n",
    "    )\n",
    "    fig2.update_traces(textinfo='label+percent+value', textposition='inside')\n",
    "    fig2.update_layout(font_family=\"CMU Serif\")\n",
    "    fig2.write_image(f\"../res/dataset/overlaps/ek_es_{split}_strict_overlaps_pie.png\", scale=3.0)\n",
    "    fig2.write_image(f\"../res/dataset/overlaps/pdf/ek_es_{split}_strict_overlaps_pie.pdf\")\n",
    "\n",
    "    fig2.show()\n",
    "\n",
    "\n",
    "def count_overlaps(ek: pd.DataFrame, es: pd.DataFrame, output: str):\n",
    "    overlaps = ek.copy()\n",
    "\n",
    "    # Run this cell only if the output file does not exist\n",
    "    overlaps[\"n_overlap\"] = 0\n",
    "\n",
    "    for i, row_k in tqdm(\n",
    "        overlaps.iterrows(),\n",
    "        total=len(overlaps),\n",
    "        desc=\"EPIC-KITCHENS\",\n",
    "        unit=\"row\",\n",
    "    ):\n",
    "        overlaps.loc[i, \"n_overlap_strict\"] = _count_overlaps(row_k=row_k, df_es=es, strict=True)\n",
    "        overlaps.loc[i, \"n_overlap_loose\"] = _count_overlaps(row_k=row_k, df_es=es, strict=False)\n",
    "\n",
    "    os.makedirs(\"../res/dataset/overlaps\", exist_ok=True)\n",
    "    os.makedirs(\"../res/dataset/overlaps/pdf\", exist_ok=True)\n",
    "    overlaps.to_csv(f\"../res/dataset/overlaps/{output}\")\n",
    "\n",
    "    return overlaps"
   ]
  },
  {
   "cell_type": "code",
   "execution_count": 9,
   "metadata": {},
   "outputs": [],
   "source": [
    "overlaps_dir = \"../res/dataset/overlaps\"\n",
    "train_name = \"ek_es_train.csv\"\n",
    "val_name = \"ek_es_val.csv\"\n",
    "\n",
    "os.makedirs(overlaps_dir, exist_ok=True)\n",
    "if not os.path.exists(f\"{overlaps_dir}/{train_name}\"):\n",
    "    train_overlaps = count_overlaps(ek_train_df, es_train_df, train_name)\n",
    "else:\n",
    "    train_overlaps = pd.read_csv(f\"{overlaps_dir}/{train_name}\", index_col=0)\n",
    "\n",
    "\n",
    "if not os.path.exists(f\"{overlaps_dir}/{val_name}\"):\n",
    "    val_overlaps = count_overlaps(ek_val_df, es_val_df, val_name)\n",
    "else:\n",
    "    val_overlaps = pd.read_csv(f\"{overlaps_dir}/{val_name}\", index_col=0)"
   ]
  },
  {
   "cell_type": "code",
   "execution_count": 10,
   "metadata": {},
   "outputs": [
    {
     "data": {
      "application/vnd.plotly.v1+json": {
       "config": {
        "plotlyServerURL": "https://plot.ly"
       },
       "data": [
        {
         "domain": {
          "x": [
           0,
           1
          ],
          "y": [
           0,
           1
          ]
         },
         "hovertemplate": "Number of overlapping sound annotations=%{label}<br>Number of actions=%{value}<extra></extra>",
         "labels": [
          1,
          2,
          3,
          0,
          4,
          5,
          6,
          7,
          8,
          9
         ],
         "legendgroup": "",
         "name": "",
         "showlegend": true,
         "textinfo": "label+percent+value",
         "textposition": "inside",
         "type": "pie",
         "values": [
          27808,
          22113,
          7466,
          5922,
          1999,
          741,
          389,
          226,
          142,
          115
         ]
        }
       ],
       "layout": {
        "font": {
         "family": "CMU Serif"
        },
        "height": 600,
        "legend": {
         "tracegroupgap": 0
        },
        "piecolorway": [
         "rgb(127,39,4)",
         "rgb(166,54,3)",
         "rgb(217,72,1)",
         "rgb(241,105,19)",
         "rgb(253,141,60)",
         "rgb(253,174,107)",
         "rgb(253,208,162)",
         "rgb(254,230,206)",
         "rgb(255,245,235)"
        ],
        "template": {
         "data": {
          "bar": [
           {
            "error_x": {
             "color": "#2a3f5f"
            },
            "error_y": {
             "color": "#2a3f5f"
            },
            "marker": {
             "line": {
              "color": "#E5ECF6",
              "width": 0.5
             },
             "pattern": {
              "fillmode": "overlay",
              "size": 10,
              "solidity": 0.2
             }
            },
            "type": "bar"
           }
          ],
          "barpolar": [
           {
            "marker": {
             "line": {
              "color": "#E5ECF6",
              "width": 0.5
             },
             "pattern": {
              "fillmode": "overlay",
              "size": 10,
              "solidity": 0.2
             }
            },
            "type": "barpolar"
           }
          ],
          "carpet": [
           {
            "aaxis": {
             "endlinecolor": "#2a3f5f",
             "gridcolor": "white",
             "linecolor": "white",
             "minorgridcolor": "white",
             "startlinecolor": "#2a3f5f"
            },
            "baxis": {
             "endlinecolor": "#2a3f5f",
             "gridcolor": "white",
             "linecolor": "white",
             "minorgridcolor": "white",
             "startlinecolor": "#2a3f5f"
            },
            "type": "carpet"
           }
          ],
          "choropleth": [
           {
            "colorbar": {
             "outlinewidth": 0,
             "ticks": ""
            },
            "type": "choropleth"
           }
          ],
          "contour": [
           {
            "colorbar": {
             "outlinewidth": 0,
             "ticks": ""
            },
            "colorscale": [
             [
              0,
              "#0d0887"
             ],
             [
              0.1111111111111111,
              "#46039f"
             ],
             [
              0.2222222222222222,
              "#7201a8"
             ],
             [
              0.3333333333333333,
              "#9c179e"
             ],
             [
              0.4444444444444444,
              "#bd3786"
             ],
             [
              0.5555555555555556,
              "#d8576b"
             ],
             [
              0.6666666666666666,
              "#ed7953"
             ],
             [
              0.7777777777777778,
              "#fb9f3a"
             ],
             [
              0.8888888888888888,
              "#fdca26"
             ],
             [
              1,
              "#f0f921"
             ]
            ],
            "type": "contour"
           }
          ],
          "contourcarpet": [
           {
            "colorbar": {
             "outlinewidth": 0,
             "ticks": ""
            },
            "type": "contourcarpet"
           }
          ],
          "heatmap": [
           {
            "colorbar": {
             "outlinewidth": 0,
             "ticks": ""
            },
            "colorscale": [
             [
              0,
              "#0d0887"
             ],
             [
              0.1111111111111111,
              "#46039f"
             ],
             [
              0.2222222222222222,
              "#7201a8"
             ],
             [
              0.3333333333333333,
              "#9c179e"
             ],
             [
              0.4444444444444444,
              "#bd3786"
             ],
             [
              0.5555555555555556,
              "#d8576b"
             ],
             [
              0.6666666666666666,
              "#ed7953"
             ],
             [
              0.7777777777777778,
              "#fb9f3a"
             ],
             [
              0.8888888888888888,
              "#fdca26"
             ],
             [
              1,
              "#f0f921"
             ]
            ],
            "type": "heatmap"
           }
          ],
          "heatmapgl": [
           {
            "colorbar": {
             "outlinewidth": 0,
             "ticks": ""
            },
            "colorscale": [
             [
              0,
              "#0d0887"
             ],
             [
              0.1111111111111111,
              "#46039f"
             ],
             [
              0.2222222222222222,
              "#7201a8"
             ],
             [
              0.3333333333333333,
              "#9c179e"
             ],
             [
              0.4444444444444444,
              "#bd3786"
             ],
             [
              0.5555555555555556,
              "#d8576b"
             ],
             [
              0.6666666666666666,
              "#ed7953"
             ],
             [
              0.7777777777777778,
              "#fb9f3a"
             ],
             [
              0.8888888888888888,
              "#fdca26"
             ],
             [
              1,
              "#f0f921"
             ]
            ],
            "type": "heatmapgl"
           }
          ],
          "histogram": [
           {
            "marker": {
             "pattern": {
              "fillmode": "overlay",
              "size": 10,
              "solidity": 0.2
             }
            },
            "type": "histogram"
           }
          ],
          "histogram2d": [
           {
            "colorbar": {
             "outlinewidth": 0,
             "ticks": ""
            },
            "colorscale": [
             [
              0,
              "#0d0887"
             ],
             [
              0.1111111111111111,
              "#46039f"
             ],
             [
              0.2222222222222222,
              "#7201a8"
             ],
             [
              0.3333333333333333,
              "#9c179e"
             ],
             [
              0.4444444444444444,
              "#bd3786"
             ],
             [
              0.5555555555555556,
              "#d8576b"
             ],
             [
              0.6666666666666666,
              "#ed7953"
             ],
             [
              0.7777777777777778,
              "#fb9f3a"
             ],
             [
              0.8888888888888888,
              "#fdca26"
             ],
             [
              1,
              "#f0f921"
             ]
            ],
            "type": "histogram2d"
           }
          ],
          "histogram2dcontour": [
           {
            "colorbar": {
             "outlinewidth": 0,
             "ticks": ""
            },
            "colorscale": [
             [
              0,
              "#0d0887"
             ],
             [
              0.1111111111111111,
              "#46039f"
             ],
             [
              0.2222222222222222,
              "#7201a8"
             ],
             [
              0.3333333333333333,
              "#9c179e"
             ],
             [
              0.4444444444444444,
              "#bd3786"
             ],
             [
              0.5555555555555556,
              "#d8576b"
             ],
             [
              0.6666666666666666,
              "#ed7953"
             ],
             [
              0.7777777777777778,
              "#fb9f3a"
             ],
             [
              0.8888888888888888,
              "#fdca26"
             ],
             [
              1,
              "#f0f921"
             ]
            ],
            "type": "histogram2dcontour"
           }
          ],
          "mesh3d": [
           {
            "colorbar": {
             "outlinewidth": 0,
             "ticks": ""
            },
            "type": "mesh3d"
           }
          ],
          "parcoords": [
           {
            "line": {
             "colorbar": {
              "outlinewidth": 0,
              "ticks": ""
             }
            },
            "type": "parcoords"
           }
          ],
          "pie": [
           {
            "automargin": true,
            "type": "pie"
           }
          ],
          "scatter": [
           {
            "fillpattern": {
             "fillmode": "overlay",
             "size": 10,
             "solidity": 0.2
            },
            "type": "scatter"
           }
          ],
          "scatter3d": [
           {
            "line": {
             "colorbar": {
              "outlinewidth": 0,
              "ticks": ""
             }
            },
            "marker": {
             "colorbar": {
              "outlinewidth": 0,
              "ticks": ""
             }
            },
            "type": "scatter3d"
           }
          ],
          "scattercarpet": [
           {
            "marker": {
             "colorbar": {
              "outlinewidth": 0,
              "ticks": ""
             }
            },
            "type": "scattercarpet"
           }
          ],
          "scattergeo": [
           {
            "marker": {
             "colorbar": {
              "outlinewidth": 0,
              "ticks": ""
             }
            },
            "type": "scattergeo"
           }
          ],
          "scattergl": [
           {
            "marker": {
             "colorbar": {
              "outlinewidth": 0,
              "ticks": ""
             }
            },
            "type": "scattergl"
           }
          ],
          "scattermapbox": [
           {
            "marker": {
             "colorbar": {
              "outlinewidth": 0,
              "ticks": ""
             }
            },
            "type": "scattermapbox"
           }
          ],
          "scatterpolar": [
           {
            "marker": {
             "colorbar": {
              "outlinewidth": 0,
              "ticks": ""
             }
            },
            "type": "scatterpolar"
           }
          ],
          "scatterpolargl": [
           {
            "marker": {
             "colorbar": {
              "outlinewidth": 0,
              "ticks": ""
             }
            },
            "type": "scatterpolargl"
           }
          ],
          "scatterternary": [
           {
            "marker": {
             "colorbar": {
              "outlinewidth": 0,
              "ticks": ""
             }
            },
            "type": "scatterternary"
           }
          ],
          "surface": [
           {
            "colorbar": {
             "outlinewidth": 0,
             "ticks": ""
            },
            "colorscale": [
             [
              0,
              "#0d0887"
             ],
             [
              0.1111111111111111,
              "#46039f"
             ],
             [
              0.2222222222222222,
              "#7201a8"
             ],
             [
              0.3333333333333333,
              "#9c179e"
             ],
             [
              0.4444444444444444,
              "#bd3786"
             ],
             [
              0.5555555555555556,
              "#d8576b"
             ],
             [
              0.6666666666666666,
              "#ed7953"
             ],
             [
              0.7777777777777778,
              "#fb9f3a"
             ],
             [
              0.8888888888888888,
              "#fdca26"
             ],
             [
              1,
              "#f0f921"
             ]
            ],
            "type": "surface"
           }
          ],
          "table": [
           {
            "cells": {
             "fill": {
              "color": "#EBF0F8"
             },
             "line": {
              "color": "white"
             }
            },
            "header": {
             "fill": {
              "color": "#C8D4E3"
             },
             "line": {
              "color": "white"
             }
            },
            "type": "table"
           }
          ]
         },
         "layout": {
          "annotationdefaults": {
           "arrowcolor": "#2a3f5f",
           "arrowhead": 0,
           "arrowwidth": 1
          },
          "autotypenumbers": "strict",
          "coloraxis": {
           "colorbar": {
            "outlinewidth": 0,
            "ticks": ""
           }
          },
          "colorscale": {
           "diverging": [
            [
             0,
             "#8e0152"
            ],
            [
             0.1,
             "#c51b7d"
            ],
            [
             0.2,
             "#de77ae"
            ],
            [
             0.3,
             "#f1b6da"
            ],
            [
             0.4,
             "#fde0ef"
            ],
            [
             0.5,
             "#f7f7f7"
            ],
            [
             0.6,
             "#e6f5d0"
            ],
            [
             0.7,
             "#b8e186"
            ],
            [
             0.8,
             "#7fbc41"
            ],
            [
             0.9,
             "#4d9221"
            ],
            [
             1,
             "#276419"
            ]
           ],
           "sequential": [
            [
             0,
             "#0d0887"
            ],
            [
             0.1111111111111111,
             "#46039f"
            ],
            [
             0.2222222222222222,
             "#7201a8"
            ],
            [
             0.3333333333333333,
             "#9c179e"
            ],
            [
             0.4444444444444444,
             "#bd3786"
            ],
            [
             0.5555555555555556,
             "#d8576b"
            ],
            [
             0.6666666666666666,
             "#ed7953"
            ],
            [
             0.7777777777777778,
             "#fb9f3a"
            ],
            [
             0.8888888888888888,
             "#fdca26"
            ],
            [
             1,
             "#f0f921"
            ]
           ],
           "sequentialminus": [
            [
             0,
             "#0d0887"
            ],
            [
             0.1111111111111111,
             "#46039f"
            ],
            [
             0.2222222222222222,
             "#7201a8"
            ],
            [
             0.3333333333333333,
             "#9c179e"
            ],
            [
             0.4444444444444444,
             "#bd3786"
            ],
            [
             0.5555555555555556,
             "#d8576b"
            ],
            [
             0.6666666666666666,
             "#ed7953"
            ],
            [
             0.7777777777777778,
             "#fb9f3a"
            ],
            [
             0.8888888888888888,
             "#fdca26"
            ],
            [
             1,
             "#f0f921"
            ]
           ]
          },
          "colorway": [
           "#636efa",
           "#EF553B",
           "#00cc96",
           "#ab63fa",
           "#FFA15A",
           "#19d3f3",
           "#FF6692",
           "#B6E880",
           "#FF97FF",
           "#FECB52"
          ],
          "font": {
           "color": "#2a3f5f"
          },
          "geo": {
           "bgcolor": "white",
           "lakecolor": "white",
           "landcolor": "#E5ECF6",
           "showlakes": true,
           "showland": true,
           "subunitcolor": "white"
          },
          "hoverlabel": {
           "align": "left"
          },
          "hovermode": "closest",
          "mapbox": {
           "style": "light"
          },
          "paper_bgcolor": "white",
          "plot_bgcolor": "#E5ECF6",
          "polar": {
           "angularaxis": {
            "gridcolor": "white",
            "linecolor": "white",
            "ticks": ""
           },
           "bgcolor": "#E5ECF6",
           "radialaxis": {
            "gridcolor": "white",
            "linecolor": "white",
            "ticks": ""
           }
          },
          "scene": {
           "xaxis": {
            "backgroundcolor": "#E5ECF6",
            "gridcolor": "white",
            "gridwidth": 2,
            "linecolor": "white",
            "showbackground": true,
            "ticks": "",
            "zerolinecolor": "white"
           },
           "yaxis": {
            "backgroundcolor": "#E5ECF6",
            "gridcolor": "white",
            "gridwidth": 2,
            "linecolor": "white",
            "showbackground": true,
            "ticks": "",
            "zerolinecolor": "white"
           },
           "zaxis": {
            "backgroundcolor": "#E5ECF6",
            "gridcolor": "white",
            "gridwidth": 2,
            "linecolor": "white",
            "showbackground": true,
            "ticks": "",
            "zerolinecolor": "white"
           }
          },
          "shapedefaults": {
           "line": {
            "color": "#2a3f5f"
           }
          },
          "ternary": {
           "aaxis": {
            "gridcolor": "white",
            "linecolor": "white",
            "ticks": ""
           },
           "baxis": {
            "gridcolor": "white",
            "linecolor": "white",
            "ticks": ""
           },
           "bgcolor": "#E5ECF6",
           "caxis": {
            "gridcolor": "white",
            "linecolor": "white",
            "ticks": ""
           }
          },
          "title": {
           "x": 0.05
          },
          "xaxis": {
           "automargin": true,
           "gridcolor": "white",
           "linecolor": "white",
           "ticks": "",
           "title": {
            "standoff": 15
           },
           "zerolinecolor": "white",
           "zerolinewidth": 2
          },
          "yaxis": {
           "automargin": true,
           "gridcolor": "white",
           "linecolor": "white",
           "ticks": "",
           "title": {
            "standoff": 15
           },
           "zerolinecolor": "white",
           "zerolinewidth": 2
          }
         }
        },
        "title": {
         "text": "Number of sound annotations <b>loosely</b> contained in action annotations<br>timestamps in train set of EPIC-KITCHENS"
        },
        "width": 800
       }
      }
     },
     "metadata": {},
     "output_type": "display_data"
    },
    {
     "data": {
      "application/vnd.plotly.v1+json": {
       "config": {
        "plotlyServerURL": "https://plot.ly"
       },
       "data": [
        {
         "domain": {
          "x": [
           0,
           1
          ],
          "y": [
           0,
           1
          ]
         },
         "hovertemplate": "n_overlap_strict=%{label}<br>Number of actions=%{value}<extra></extra>",
         "labels": [
          0,
          1,
          2,
          3,
          4,
          5,
          6,
          7,
          8,
          9
         ],
         "legendgroup": "",
         "name": "",
         "showlegend": true,
         "textinfo": "label+percent+value",
         "textposition": "inside",
         "type": "pie",
         "values": [
          50852,
          11641,
          2495,
          858,
          471,
          288,
          159,
          109,
          70,
          65
         ]
        }
       ],
       "layout": {
        "font": {
         "family": "CMU Serif"
        },
        "height": 600,
        "legend": {
         "tracegroupgap": 0
        },
        "piecolorway": [
         "rgb(103,0,13)",
         "rgb(165,15,21)",
         "rgb(203,24,29)",
         "rgb(239,59,44)",
         "rgb(251,106,74)",
         "rgb(252,146,114)",
         "rgb(252,187,161)",
         "rgb(254,224,210)",
         "rgb(255,245,240)"
        ],
        "template": {
         "data": {
          "bar": [
           {
            "error_x": {
             "color": "#2a3f5f"
            },
            "error_y": {
             "color": "#2a3f5f"
            },
            "marker": {
             "line": {
              "color": "#E5ECF6",
              "width": 0.5
             },
             "pattern": {
              "fillmode": "overlay",
              "size": 10,
              "solidity": 0.2
             }
            },
            "type": "bar"
           }
          ],
          "barpolar": [
           {
            "marker": {
             "line": {
              "color": "#E5ECF6",
              "width": 0.5
             },
             "pattern": {
              "fillmode": "overlay",
              "size": 10,
              "solidity": 0.2
             }
            },
            "type": "barpolar"
           }
          ],
          "carpet": [
           {
            "aaxis": {
             "endlinecolor": "#2a3f5f",
             "gridcolor": "white",
             "linecolor": "white",
             "minorgridcolor": "white",
             "startlinecolor": "#2a3f5f"
            },
            "baxis": {
             "endlinecolor": "#2a3f5f",
             "gridcolor": "white",
             "linecolor": "white",
             "minorgridcolor": "white",
             "startlinecolor": "#2a3f5f"
            },
            "type": "carpet"
           }
          ],
          "choropleth": [
           {
            "colorbar": {
             "outlinewidth": 0,
             "ticks": ""
            },
            "type": "choropleth"
           }
          ],
          "contour": [
           {
            "colorbar": {
             "outlinewidth": 0,
             "ticks": ""
            },
            "colorscale": [
             [
              0,
              "#0d0887"
             ],
             [
              0.1111111111111111,
              "#46039f"
             ],
             [
              0.2222222222222222,
              "#7201a8"
             ],
             [
              0.3333333333333333,
              "#9c179e"
             ],
             [
              0.4444444444444444,
              "#bd3786"
             ],
             [
              0.5555555555555556,
              "#d8576b"
             ],
             [
              0.6666666666666666,
              "#ed7953"
             ],
             [
              0.7777777777777778,
              "#fb9f3a"
             ],
             [
              0.8888888888888888,
              "#fdca26"
             ],
             [
              1,
              "#f0f921"
             ]
            ],
            "type": "contour"
           }
          ],
          "contourcarpet": [
           {
            "colorbar": {
             "outlinewidth": 0,
             "ticks": ""
            },
            "type": "contourcarpet"
           }
          ],
          "heatmap": [
           {
            "colorbar": {
             "outlinewidth": 0,
             "ticks": ""
            },
            "colorscale": [
             [
              0,
              "#0d0887"
             ],
             [
              0.1111111111111111,
              "#46039f"
             ],
             [
              0.2222222222222222,
              "#7201a8"
             ],
             [
              0.3333333333333333,
              "#9c179e"
             ],
             [
              0.4444444444444444,
              "#bd3786"
             ],
             [
              0.5555555555555556,
              "#d8576b"
             ],
             [
              0.6666666666666666,
              "#ed7953"
             ],
             [
              0.7777777777777778,
              "#fb9f3a"
             ],
             [
              0.8888888888888888,
              "#fdca26"
             ],
             [
              1,
              "#f0f921"
             ]
            ],
            "type": "heatmap"
           }
          ],
          "heatmapgl": [
           {
            "colorbar": {
             "outlinewidth": 0,
             "ticks": ""
            },
            "colorscale": [
             [
              0,
              "#0d0887"
             ],
             [
              0.1111111111111111,
              "#46039f"
             ],
             [
              0.2222222222222222,
              "#7201a8"
             ],
             [
              0.3333333333333333,
              "#9c179e"
             ],
             [
              0.4444444444444444,
              "#bd3786"
             ],
             [
              0.5555555555555556,
              "#d8576b"
             ],
             [
              0.6666666666666666,
              "#ed7953"
             ],
             [
              0.7777777777777778,
              "#fb9f3a"
             ],
             [
              0.8888888888888888,
              "#fdca26"
             ],
             [
              1,
              "#f0f921"
             ]
            ],
            "type": "heatmapgl"
           }
          ],
          "histogram": [
           {
            "marker": {
             "pattern": {
              "fillmode": "overlay",
              "size": 10,
              "solidity": 0.2
             }
            },
            "type": "histogram"
           }
          ],
          "histogram2d": [
           {
            "colorbar": {
             "outlinewidth": 0,
             "ticks": ""
            },
            "colorscale": [
             [
              0,
              "#0d0887"
             ],
             [
              0.1111111111111111,
              "#46039f"
             ],
             [
              0.2222222222222222,
              "#7201a8"
             ],
             [
              0.3333333333333333,
              "#9c179e"
             ],
             [
              0.4444444444444444,
              "#bd3786"
             ],
             [
              0.5555555555555556,
              "#d8576b"
             ],
             [
              0.6666666666666666,
              "#ed7953"
             ],
             [
              0.7777777777777778,
              "#fb9f3a"
             ],
             [
              0.8888888888888888,
              "#fdca26"
             ],
             [
              1,
              "#f0f921"
             ]
            ],
            "type": "histogram2d"
           }
          ],
          "histogram2dcontour": [
           {
            "colorbar": {
             "outlinewidth": 0,
             "ticks": ""
            },
            "colorscale": [
             [
              0,
              "#0d0887"
             ],
             [
              0.1111111111111111,
              "#46039f"
             ],
             [
              0.2222222222222222,
              "#7201a8"
             ],
             [
              0.3333333333333333,
              "#9c179e"
             ],
             [
              0.4444444444444444,
              "#bd3786"
             ],
             [
              0.5555555555555556,
              "#d8576b"
             ],
             [
              0.6666666666666666,
              "#ed7953"
             ],
             [
              0.7777777777777778,
              "#fb9f3a"
             ],
             [
              0.8888888888888888,
              "#fdca26"
             ],
             [
              1,
              "#f0f921"
             ]
            ],
            "type": "histogram2dcontour"
           }
          ],
          "mesh3d": [
           {
            "colorbar": {
             "outlinewidth": 0,
             "ticks": ""
            },
            "type": "mesh3d"
           }
          ],
          "parcoords": [
           {
            "line": {
             "colorbar": {
              "outlinewidth": 0,
              "ticks": ""
             }
            },
            "type": "parcoords"
           }
          ],
          "pie": [
           {
            "automargin": true,
            "type": "pie"
           }
          ],
          "scatter": [
           {
            "fillpattern": {
             "fillmode": "overlay",
             "size": 10,
             "solidity": 0.2
            },
            "type": "scatter"
           }
          ],
          "scatter3d": [
           {
            "line": {
             "colorbar": {
              "outlinewidth": 0,
              "ticks": ""
             }
            },
            "marker": {
             "colorbar": {
              "outlinewidth": 0,
              "ticks": ""
             }
            },
            "type": "scatter3d"
           }
          ],
          "scattercarpet": [
           {
            "marker": {
             "colorbar": {
              "outlinewidth": 0,
              "ticks": ""
             }
            },
            "type": "scattercarpet"
           }
          ],
          "scattergeo": [
           {
            "marker": {
             "colorbar": {
              "outlinewidth": 0,
              "ticks": ""
             }
            },
            "type": "scattergeo"
           }
          ],
          "scattergl": [
           {
            "marker": {
             "colorbar": {
              "outlinewidth": 0,
              "ticks": ""
             }
            },
            "type": "scattergl"
           }
          ],
          "scattermapbox": [
           {
            "marker": {
             "colorbar": {
              "outlinewidth": 0,
              "ticks": ""
             }
            },
            "type": "scattermapbox"
           }
          ],
          "scatterpolar": [
           {
            "marker": {
             "colorbar": {
              "outlinewidth": 0,
              "ticks": ""
             }
            },
            "type": "scatterpolar"
           }
          ],
          "scatterpolargl": [
           {
            "marker": {
             "colorbar": {
              "outlinewidth": 0,
              "ticks": ""
             }
            },
            "type": "scatterpolargl"
           }
          ],
          "scatterternary": [
           {
            "marker": {
             "colorbar": {
              "outlinewidth": 0,
              "ticks": ""
             }
            },
            "type": "scatterternary"
           }
          ],
          "surface": [
           {
            "colorbar": {
             "outlinewidth": 0,
             "ticks": ""
            },
            "colorscale": [
             [
              0,
              "#0d0887"
             ],
             [
              0.1111111111111111,
              "#46039f"
             ],
             [
              0.2222222222222222,
              "#7201a8"
             ],
             [
              0.3333333333333333,
              "#9c179e"
             ],
             [
              0.4444444444444444,
              "#bd3786"
             ],
             [
              0.5555555555555556,
              "#d8576b"
             ],
             [
              0.6666666666666666,
              "#ed7953"
             ],
             [
              0.7777777777777778,
              "#fb9f3a"
             ],
             [
              0.8888888888888888,
              "#fdca26"
             ],
             [
              1,
              "#f0f921"
             ]
            ],
            "type": "surface"
           }
          ],
          "table": [
           {
            "cells": {
             "fill": {
              "color": "#EBF0F8"
             },
             "line": {
              "color": "white"
             }
            },
            "header": {
             "fill": {
              "color": "#C8D4E3"
             },
             "line": {
              "color": "white"
             }
            },
            "type": "table"
           }
          ]
         },
         "layout": {
          "annotationdefaults": {
           "arrowcolor": "#2a3f5f",
           "arrowhead": 0,
           "arrowwidth": 1
          },
          "autotypenumbers": "strict",
          "coloraxis": {
           "colorbar": {
            "outlinewidth": 0,
            "ticks": ""
           }
          },
          "colorscale": {
           "diverging": [
            [
             0,
             "#8e0152"
            ],
            [
             0.1,
             "#c51b7d"
            ],
            [
             0.2,
             "#de77ae"
            ],
            [
             0.3,
             "#f1b6da"
            ],
            [
             0.4,
             "#fde0ef"
            ],
            [
             0.5,
             "#f7f7f7"
            ],
            [
             0.6,
             "#e6f5d0"
            ],
            [
             0.7,
             "#b8e186"
            ],
            [
             0.8,
             "#7fbc41"
            ],
            [
             0.9,
             "#4d9221"
            ],
            [
             1,
             "#276419"
            ]
           ],
           "sequential": [
            [
             0,
             "#0d0887"
            ],
            [
             0.1111111111111111,
             "#46039f"
            ],
            [
             0.2222222222222222,
             "#7201a8"
            ],
            [
             0.3333333333333333,
             "#9c179e"
            ],
            [
             0.4444444444444444,
             "#bd3786"
            ],
            [
             0.5555555555555556,
             "#d8576b"
            ],
            [
             0.6666666666666666,
             "#ed7953"
            ],
            [
             0.7777777777777778,
             "#fb9f3a"
            ],
            [
             0.8888888888888888,
             "#fdca26"
            ],
            [
             1,
             "#f0f921"
            ]
           ],
           "sequentialminus": [
            [
             0,
             "#0d0887"
            ],
            [
             0.1111111111111111,
             "#46039f"
            ],
            [
             0.2222222222222222,
             "#7201a8"
            ],
            [
             0.3333333333333333,
             "#9c179e"
            ],
            [
             0.4444444444444444,
             "#bd3786"
            ],
            [
             0.5555555555555556,
             "#d8576b"
            ],
            [
             0.6666666666666666,
             "#ed7953"
            ],
            [
             0.7777777777777778,
             "#fb9f3a"
            ],
            [
             0.8888888888888888,
             "#fdca26"
            ],
            [
             1,
             "#f0f921"
            ]
           ]
          },
          "colorway": [
           "#636efa",
           "#EF553B",
           "#00cc96",
           "#ab63fa",
           "#FFA15A",
           "#19d3f3",
           "#FF6692",
           "#B6E880",
           "#FF97FF",
           "#FECB52"
          ],
          "font": {
           "color": "#2a3f5f"
          },
          "geo": {
           "bgcolor": "white",
           "lakecolor": "white",
           "landcolor": "#E5ECF6",
           "showlakes": true,
           "showland": true,
           "subunitcolor": "white"
          },
          "hoverlabel": {
           "align": "left"
          },
          "hovermode": "closest",
          "mapbox": {
           "style": "light"
          },
          "paper_bgcolor": "white",
          "plot_bgcolor": "#E5ECF6",
          "polar": {
           "angularaxis": {
            "gridcolor": "white",
            "linecolor": "white",
            "ticks": ""
           },
           "bgcolor": "#E5ECF6",
           "radialaxis": {
            "gridcolor": "white",
            "linecolor": "white",
            "ticks": ""
           }
          },
          "scene": {
           "xaxis": {
            "backgroundcolor": "#E5ECF6",
            "gridcolor": "white",
            "gridwidth": 2,
            "linecolor": "white",
            "showbackground": true,
            "ticks": "",
            "zerolinecolor": "white"
           },
           "yaxis": {
            "backgroundcolor": "#E5ECF6",
            "gridcolor": "white",
            "gridwidth": 2,
            "linecolor": "white",
            "showbackground": true,
            "ticks": "",
            "zerolinecolor": "white"
           },
           "zaxis": {
            "backgroundcolor": "#E5ECF6",
            "gridcolor": "white",
            "gridwidth": 2,
            "linecolor": "white",
            "showbackground": true,
            "ticks": "",
            "zerolinecolor": "white"
           }
          },
          "shapedefaults": {
           "line": {
            "color": "#2a3f5f"
           }
          },
          "ternary": {
           "aaxis": {
            "gridcolor": "white",
            "linecolor": "white",
            "ticks": ""
           },
           "baxis": {
            "gridcolor": "white",
            "linecolor": "white",
            "ticks": ""
           },
           "bgcolor": "#E5ECF6",
           "caxis": {
            "gridcolor": "white",
            "linecolor": "white",
            "ticks": ""
           }
          },
          "title": {
           "x": 0.05
          },
          "xaxis": {
           "automargin": true,
           "gridcolor": "white",
           "linecolor": "white",
           "ticks": "",
           "title": {
            "standoff": 15
           },
           "zerolinecolor": "white",
           "zerolinewidth": 2
          },
          "yaxis": {
           "automargin": true,
           "gridcolor": "white",
           "linecolor": "white",
           "ticks": "",
           "title": {
            "standoff": 15
           },
           "zerolinecolor": "white",
           "zerolinewidth": 2
          }
         }
        },
        "title": {
         "text": "Number of sound annotations <b>strictly</b> contained in action annotations<br>timestamps in train set of EPIC-KITCHENS"
        },
        "width": 800
       }
      }
     },
     "metadata": {},
     "output_type": "display_data"
    },
    {
     "data": {
      "application/vnd.plotly.v1+json": {
       "config": {
        "plotlyServerURL": "https://plot.ly"
       },
       "data": [
        {
         "domain": {
          "x": [
           0,
           1
          ],
          "y": [
           0,
           1
          ]
         },
         "hovertemplate": "Number of overlapping sound annotations=%{label}<br>Number of actions=%{value}<extra></extra>",
         "labels": [
          1,
          2,
          0,
          3,
          4,
          5,
          6,
          7,
          9,
          10
         ],
         "legendgroup": "",
         "name": "",
         "showlegend": true,
         "textinfo": "label+percent+value",
         "textposition": "inside",
         "type": "pie",
         "values": [
          4399,
          2286,
          1745,
          806,
          247,
          80,
          42,
          16,
          11,
          11
         ]
        }
       ],
       "layout": {
        "font": {
         "family": "CMU Serif"
        },
        "height": 600,
        "legend": {
         "tracegroupgap": 0
        },
        "piecolorway": [
         "rgb(8,48,107)",
         "rgb(8,81,156)",
         "rgb(33,113,181)",
         "rgb(66,146,198)",
         "rgb(107,174,214)",
         "rgb(158,202,225)",
         "rgb(198,219,239)",
         "rgb(222,235,247)",
         "rgb(247,251,255)"
        ],
        "template": {
         "data": {
          "bar": [
           {
            "error_x": {
             "color": "#2a3f5f"
            },
            "error_y": {
             "color": "#2a3f5f"
            },
            "marker": {
             "line": {
              "color": "#E5ECF6",
              "width": 0.5
             },
             "pattern": {
              "fillmode": "overlay",
              "size": 10,
              "solidity": 0.2
             }
            },
            "type": "bar"
           }
          ],
          "barpolar": [
           {
            "marker": {
             "line": {
              "color": "#E5ECF6",
              "width": 0.5
             },
             "pattern": {
              "fillmode": "overlay",
              "size": 10,
              "solidity": 0.2
             }
            },
            "type": "barpolar"
           }
          ],
          "carpet": [
           {
            "aaxis": {
             "endlinecolor": "#2a3f5f",
             "gridcolor": "white",
             "linecolor": "white",
             "minorgridcolor": "white",
             "startlinecolor": "#2a3f5f"
            },
            "baxis": {
             "endlinecolor": "#2a3f5f",
             "gridcolor": "white",
             "linecolor": "white",
             "minorgridcolor": "white",
             "startlinecolor": "#2a3f5f"
            },
            "type": "carpet"
           }
          ],
          "choropleth": [
           {
            "colorbar": {
             "outlinewidth": 0,
             "ticks": ""
            },
            "type": "choropleth"
           }
          ],
          "contour": [
           {
            "colorbar": {
             "outlinewidth": 0,
             "ticks": ""
            },
            "colorscale": [
             [
              0,
              "#0d0887"
             ],
             [
              0.1111111111111111,
              "#46039f"
             ],
             [
              0.2222222222222222,
              "#7201a8"
             ],
             [
              0.3333333333333333,
              "#9c179e"
             ],
             [
              0.4444444444444444,
              "#bd3786"
             ],
             [
              0.5555555555555556,
              "#d8576b"
             ],
             [
              0.6666666666666666,
              "#ed7953"
             ],
             [
              0.7777777777777778,
              "#fb9f3a"
             ],
             [
              0.8888888888888888,
              "#fdca26"
             ],
             [
              1,
              "#f0f921"
             ]
            ],
            "type": "contour"
           }
          ],
          "contourcarpet": [
           {
            "colorbar": {
             "outlinewidth": 0,
             "ticks": ""
            },
            "type": "contourcarpet"
           }
          ],
          "heatmap": [
           {
            "colorbar": {
             "outlinewidth": 0,
             "ticks": ""
            },
            "colorscale": [
             [
              0,
              "#0d0887"
             ],
             [
              0.1111111111111111,
              "#46039f"
             ],
             [
              0.2222222222222222,
              "#7201a8"
             ],
             [
              0.3333333333333333,
              "#9c179e"
             ],
             [
              0.4444444444444444,
              "#bd3786"
             ],
             [
              0.5555555555555556,
              "#d8576b"
             ],
             [
              0.6666666666666666,
              "#ed7953"
             ],
             [
              0.7777777777777778,
              "#fb9f3a"
             ],
             [
              0.8888888888888888,
              "#fdca26"
             ],
             [
              1,
              "#f0f921"
             ]
            ],
            "type": "heatmap"
           }
          ],
          "heatmapgl": [
           {
            "colorbar": {
             "outlinewidth": 0,
             "ticks": ""
            },
            "colorscale": [
             [
              0,
              "#0d0887"
             ],
             [
              0.1111111111111111,
              "#46039f"
             ],
             [
              0.2222222222222222,
              "#7201a8"
             ],
             [
              0.3333333333333333,
              "#9c179e"
             ],
             [
              0.4444444444444444,
              "#bd3786"
             ],
             [
              0.5555555555555556,
              "#d8576b"
             ],
             [
              0.6666666666666666,
              "#ed7953"
             ],
             [
              0.7777777777777778,
              "#fb9f3a"
             ],
             [
              0.8888888888888888,
              "#fdca26"
             ],
             [
              1,
              "#f0f921"
             ]
            ],
            "type": "heatmapgl"
           }
          ],
          "histogram": [
           {
            "marker": {
             "pattern": {
              "fillmode": "overlay",
              "size": 10,
              "solidity": 0.2
             }
            },
            "type": "histogram"
           }
          ],
          "histogram2d": [
           {
            "colorbar": {
             "outlinewidth": 0,
             "ticks": ""
            },
            "colorscale": [
             [
              0,
              "#0d0887"
             ],
             [
              0.1111111111111111,
              "#46039f"
             ],
             [
              0.2222222222222222,
              "#7201a8"
             ],
             [
              0.3333333333333333,
              "#9c179e"
             ],
             [
              0.4444444444444444,
              "#bd3786"
             ],
             [
              0.5555555555555556,
              "#d8576b"
             ],
             [
              0.6666666666666666,
              "#ed7953"
             ],
             [
              0.7777777777777778,
              "#fb9f3a"
             ],
             [
              0.8888888888888888,
              "#fdca26"
             ],
             [
              1,
              "#f0f921"
             ]
            ],
            "type": "histogram2d"
           }
          ],
          "histogram2dcontour": [
           {
            "colorbar": {
             "outlinewidth": 0,
             "ticks": ""
            },
            "colorscale": [
             [
              0,
              "#0d0887"
             ],
             [
              0.1111111111111111,
              "#46039f"
             ],
             [
              0.2222222222222222,
              "#7201a8"
             ],
             [
              0.3333333333333333,
              "#9c179e"
             ],
             [
              0.4444444444444444,
              "#bd3786"
             ],
             [
              0.5555555555555556,
              "#d8576b"
             ],
             [
              0.6666666666666666,
              "#ed7953"
             ],
             [
              0.7777777777777778,
              "#fb9f3a"
             ],
             [
              0.8888888888888888,
              "#fdca26"
             ],
             [
              1,
              "#f0f921"
             ]
            ],
            "type": "histogram2dcontour"
           }
          ],
          "mesh3d": [
           {
            "colorbar": {
             "outlinewidth": 0,
             "ticks": ""
            },
            "type": "mesh3d"
           }
          ],
          "parcoords": [
           {
            "line": {
             "colorbar": {
              "outlinewidth": 0,
              "ticks": ""
             }
            },
            "type": "parcoords"
           }
          ],
          "pie": [
           {
            "automargin": true,
            "type": "pie"
           }
          ],
          "scatter": [
           {
            "fillpattern": {
             "fillmode": "overlay",
             "size": 10,
             "solidity": 0.2
            },
            "type": "scatter"
           }
          ],
          "scatter3d": [
           {
            "line": {
             "colorbar": {
              "outlinewidth": 0,
              "ticks": ""
             }
            },
            "marker": {
             "colorbar": {
              "outlinewidth": 0,
              "ticks": ""
             }
            },
            "type": "scatter3d"
           }
          ],
          "scattercarpet": [
           {
            "marker": {
             "colorbar": {
              "outlinewidth": 0,
              "ticks": ""
             }
            },
            "type": "scattercarpet"
           }
          ],
          "scattergeo": [
           {
            "marker": {
             "colorbar": {
              "outlinewidth": 0,
              "ticks": ""
             }
            },
            "type": "scattergeo"
           }
          ],
          "scattergl": [
           {
            "marker": {
             "colorbar": {
              "outlinewidth": 0,
              "ticks": ""
             }
            },
            "type": "scattergl"
           }
          ],
          "scattermapbox": [
           {
            "marker": {
             "colorbar": {
              "outlinewidth": 0,
              "ticks": ""
             }
            },
            "type": "scattermapbox"
           }
          ],
          "scatterpolar": [
           {
            "marker": {
             "colorbar": {
              "outlinewidth": 0,
              "ticks": ""
             }
            },
            "type": "scatterpolar"
           }
          ],
          "scatterpolargl": [
           {
            "marker": {
             "colorbar": {
              "outlinewidth": 0,
              "ticks": ""
             }
            },
            "type": "scatterpolargl"
           }
          ],
          "scatterternary": [
           {
            "marker": {
             "colorbar": {
              "outlinewidth": 0,
              "ticks": ""
             }
            },
            "type": "scatterternary"
           }
          ],
          "surface": [
           {
            "colorbar": {
             "outlinewidth": 0,
             "ticks": ""
            },
            "colorscale": [
             [
              0,
              "#0d0887"
             ],
             [
              0.1111111111111111,
              "#46039f"
             ],
             [
              0.2222222222222222,
              "#7201a8"
             ],
             [
              0.3333333333333333,
              "#9c179e"
             ],
             [
              0.4444444444444444,
              "#bd3786"
             ],
             [
              0.5555555555555556,
              "#d8576b"
             ],
             [
              0.6666666666666666,
              "#ed7953"
             ],
             [
              0.7777777777777778,
              "#fb9f3a"
             ],
             [
              0.8888888888888888,
              "#fdca26"
             ],
             [
              1,
              "#f0f921"
             ]
            ],
            "type": "surface"
           }
          ],
          "table": [
           {
            "cells": {
             "fill": {
              "color": "#EBF0F8"
             },
             "line": {
              "color": "white"
             }
            },
            "header": {
             "fill": {
              "color": "#C8D4E3"
             },
             "line": {
              "color": "white"
             }
            },
            "type": "table"
           }
          ]
         },
         "layout": {
          "annotationdefaults": {
           "arrowcolor": "#2a3f5f",
           "arrowhead": 0,
           "arrowwidth": 1
          },
          "autotypenumbers": "strict",
          "coloraxis": {
           "colorbar": {
            "outlinewidth": 0,
            "ticks": ""
           }
          },
          "colorscale": {
           "diverging": [
            [
             0,
             "#8e0152"
            ],
            [
             0.1,
             "#c51b7d"
            ],
            [
             0.2,
             "#de77ae"
            ],
            [
             0.3,
             "#f1b6da"
            ],
            [
             0.4,
             "#fde0ef"
            ],
            [
             0.5,
             "#f7f7f7"
            ],
            [
             0.6,
             "#e6f5d0"
            ],
            [
             0.7,
             "#b8e186"
            ],
            [
             0.8,
             "#7fbc41"
            ],
            [
             0.9,
             "#4d9221"
            ],
            [
             1,
             "#276419"
            ]
           ],
           "sequential": [
            [
             0,
             "#0d0887"
            ],
            [
             0.1111111111111111,
             "#46039f"
            ],
            [
             0.2222222222222222,
             "#7201a8"
            ],
            [
             0.3333333333333333,
             "#9c179e"
            ],
            [
             0.4444444444444444,
             "#bd3786"
            ],
            [
             0.5555555555555556,
             "#d8576b"
            ],
            [
             0.6666666666666666,
             "#ed7953"
            ],
            [
             0.7777777777777778,
             "#fb9f3a"
            ],
            [
             0.8888888888888888,
             "#fdca26"
            ],
            [
             1,
             "#f0f921"
            ]
           ],
           "sequentialminus": [
            [
             0,
             "#0d0887"
            ],
            [
             0.1111111111111111,
             "#46039f"
            ],
            [
             0.2222222222222222,
             "#7201a8"
            ],
            [
             0.3333333333333333,
             "#9c179e"
            ],
            [
             0.4444444444444444,
             "#bd3786"
            ],
            [
             0.5555555555555556,
             "#d8576b"
            ],
            [
             0.6666666666666666,
             "#ed7953"
            ],
            [
             0.7777777777777778,
             "#fb9f3a"
            ],
            [
             0.8888888888888888,
             "#fdca26"
            ],
            [
             1,
             "#f0f921"
            ]
           ]
          },
          "colorway": [
           "#636efa",
           "#EF553B",
           "#00cc96",
           "#ab63fa",
           "#FFA15A",
           "#19d3f3",
           "#FF6692",
           "#B6E880",
           "#FF97FF",
           "#FECB52"
          ],
          "font": {
           "color": "#2a3f5f"
          },
          "geo": {
           "bgcolor": "white",
           "lakecolor": "white",
           "landcolor": "#E5ECF6",
           "showlakes": true,
           "showland": true,
           "subunitcolor": "white"
          },
          "hoverlabel": {
           "align": "left"
          },
          "hovermode": "closest",
          "mapbox": {
           "style": "light"
          },
          "paper_bgcolor": "white",
          "plot_bgcolor": "#E5ECF6",
          "polar": {
           "angularaxis": {
            "gridcolor": "white",
            "linecolor": "white",
            "ticks": ""
           },
           "bgcolor": "#E5ECF6",
           "radialaxis": {
            "gridcolor": "white",
            "linecolor": "white",
            "ticks": ""
           }
          },
          "scene": {
           "xaxis": {
            "backgroundcolor": "#E5ECF6",
            "gridcolor": "white",
            "gridwidth": 2,
            "linecolor": "white",
            "showbackground": true,
            "ticks": "",
            "zerolinecolor": "white"
           },
           "yaxis": {
            "backgroundcolor": "#E5ECF6",
            "gridcolor": "white",
            "gridwidth": 2,
            "linecolor": "white",
            "showbackground": true,
            "ticks": "",
            "zerolinecolor": "white"
           },
           "zaxis": {
            "backgroundcolor": "#E5ECF6",
            "gridcolor": "white",
            "gridwidth": 2,
            "linecolor": "white",
            "showbackground": true,
            "ticks": "",
            "zerolinecolor": "white"
           }
          },
          "shapedefaults": {
           "line": {
            "color": "#2a3f5f"
           }
          },
          "ternary": {
           "aaxis": {
            "gridcolor": "white",
            "linecolor": "white",
            "ticks": ""
           },
           "baxis": {
            "gridcolor": "white",
            "linecolor": "white",
            "ticks": ""
           },
           "bgcolor": "#E5ECF6",
           "caxis": {
            "gridcolor": "white",
            "linecolor": "white",
            "ticks": ""
           }
          },
          "title": {
           "x": 0.05
          },
          "xaxis": {
           "automargin": true,
           "gridcolor": "white",
           "linecolor": "white",
           "ticks": "",
           "title": {
            "standoff": 15
           },
           "zerolinecolor": "white",
           "zerolinewidth": 2
          },
          "yaxis": {
           "automargin": true,
           "gridcolor": "white",
           "linecolor": "white",
           "ticks": "",
           "title": {
            "standoff": 15
           },
           "zerolinecolor": "white",
           "zerolinewidth": 2
          }
         }
        },
        "title": {
         "text": "Number of sound annotations <b>loosely</b> contained in action annotations<br>timestamps in validation set of EPIC-KITCHENS"
        },
        "width": 800
       }
      }
     },
     "metadata": {},
     "output_type": "display_data"
    },
    {
     "data": {
      "application/vnd.plotly.v1+json": {
       "config": {
        "plotlyServerURL": "https://plot.ly"
       },
       "data": [
        {
         "domain": {
          "x": [
           0,
           1
          ],
          "y": [
           0,
           1
          ]
         },
         "hovertemplate": "n_overlap_strict=%{label}<br>Number of actions=%{value}<extra></extra>",
         "labels": [
          0,
          1,
          2,
          3,
          4,
          5,
          7,
          6,
          9,
          8
         ],
         "legendgroup": "",
         "name": "",
         "showlegend": true,
         "textinfo": "label+percent+value",
         "textposition": "inside",
         "type": "pie",
         "values": [
          7379,
          1675,
          357,
          127,
          48,
          24,
          12,
          10,
          9,
          8
         ]
        }
       ],
       "layout": {
        "font": {
         "family": "CMU Serif"
        },
        "height": 600,
        "legend": {
         "tracegroupgap": 0
        },
        "piecolorway": [
         "rgb(0,68,27)",
         "rgb(0,109,44)",
         "rgb(35,139,69)",
         "rgb(65,171,93)",
         "rgb(116,196,118)",
         "rgb(161,217,155)",
         "rgb(199,233,192)",
         "rgb(229,245,224)",
         "rgb(247,252,245)"
        ],
        "template": {
         "data": {
          "bar": [
           {
            "error_x": {
             "color": "#2a3f5f"
            },
            "error_y": {
             "color": "#2a3f5f"
            },
            "marker": {
             "line": {
              "color": "#E5ECF6",
              "width": 0.5
             },
             "pattern": {
              "fillmode": "overlay",
              "size": 10,
              "solidity": 0.2
             }
            },
            "type": "bar"
           }
          ],
          "barpolar": [
           {
            "marker": {
             "line": {
              "color": "#E5ECF6",
              "width": 0.5
             },
             "pattern": {
              "fillmode": "overlay",
              "size": 10,
              "solidity": 0.2
             }
            },
            "type": "barpolar"
           }
          ],
          "carpet": [
           {
            "aaxis": {
             "endlinecolor": "#2a3f5f",
             "gridcolor": "white",
             "linecolor": "white",
             "minorgridcolor": "white",
             "startlinecolor": "#2a3f5f"
            },
            "baxis": {
             "endlinecolor": "#2a3f5f",
             "gridcolor": "white",
             "linecolor": "white",
             "minorgridcolor": "white",
             "startlinecolor": "#2a3f5f"
            },
            "type": "carpet"
           }
          ],
          "choropleth": [
           {
            "colorbar": {
             "outlinewidth": 0,
             "ticks": ""
            },
            "type": "choropleth"
           }
          ],
          "contour": [
           {
            "colorbar": {
             "outlinewidth": 0,
             "ticks": ""
            },
            "colorscale": [
             [
              0,
              "#0d0887"
             ],
             [
              0.1111111111111111,
              "#46039f"
             ],
             [
              0.2222222222222222,
              "#7201a8"
             ],
             [
              0.3333333333333333,
              "#9c179e"
             ],
             [
              0.4444444444444444,
              "#bd3786"
             ],
             [
              0.5555555555555556,
              "#d8576b"
             ],
             [
              0.6666666666666666,
              "#ed7953"
             ],
             [
              0.7777777777777778,
              "#fb9f3a"
             ],
             [
              0.8888888888888888,
              "#fdca26"
             ],
             [
              1,
              "#f0f921"
             ]
            ],
            "type": "contour"
           }
          ],
          "contourcarpet": [
           {
            "colorbar": {
             "outlinewidth": 0,
             "ticks": ""
            },
            "type": "contourcarpet"
           }
          ],
          "heatmap": [
           {
            "colorbar": {
             "outlinewidth": 0,
             "ticks": ""
            },
            "colorscale": [
             [
              0,
              "#0d0887"
             ],
             [
              0.1111111111111111,
              "#46039f"
             ],
             [
              0.2222222222222222,
              "#7201a8"
             ],
             [
              0.3333333333333333,
              "#9c179e"
             ],
             [
              0.4444444444444444,
              "#bd3786"
             ],
             [
              0.5555555555555556,
              "#d8576b"
             ],
             [
              0.6666666666666666,
              "#ed7953"
             ],
             [
              0.7777777777777778,
              "#fb9f3a"
             ],
             [
              0.8888888888888888,
              "#fdca26"
             ],
             [
              1,
              "#f0f921"
             ]
            ],
            "type": "heatmap"
           }
          ],
          "heatmapgl": [
           {
            "colorbar": {
             "outlinewidth": 0,
             "ticks": ""
            },
            "colorscale": [
             [
              0,
              "#0d0887"
             ],
             [
              0.1111111111111111,
              "#46039f"
             ],
             [
              0.2222222222222222,
              "#7201a8"
             ],
             [
              0.3333333333333333,
              "#9c179e"
             ],
             [
              0.4444444444444444,
              "#bd3786"
             ],
             [
              0.5555555555555556,
              "#d8576b"
             ],
             [
              0.6666666666666666,
              "#ed7953"
             ],
             [
              0.7777777777777778,
              "#fb9f3a"
             ],
             [
              0.8888888888888888,
              "#fdca26"
             ],
             [
              1,
              "#f0f921"
             ]
            ],
            "type": "heatmapgl"
           }
          ],
          "histogram": [
           {
            "marker": {
             "pattern": {
              "fillmode": "overlay",
              "size": 10,
              "solidity": 0.2
             }
            },
            "type": "histogram"
           }
          ],
          "histogram2d": [
           {
            "colorbar": {
             "outlinewidth": 0,
             "ticks": ""
            },
            "colorscale": [
             [
              0,
              "#0d0887"
             ],
             [
              0.1111111111111111,
              "#46039f"
             ],
             [
              0.2222222222222222,
              "#7201a8"
             ],
             [
              0.3333333333333333,
              "#9c179e"
             ],
             [
              0.4444444444444444,
              "#bd3786"
             ],
             [
              0.5555555555555556,
              "#d8576b"
             ],
             [
              0.6666666666666666,
              "#ed7953"
             ],
             [
              0.7777777777777778,
              "#fb9f3a"
             ],
             [
              0.8888888888888888,
              "#fdca26"
             ],
             [
              1,
              "#f0f921"
             ]
            ],
            "type": "histogram2d"
           }
          ],
          "histogram2dcontour": [
           {
            "colorbar": {
             "outlinewidth": 0,
             "ticks": ""
            },
            "colorscale": [
             [
              0,
              "#0d0887"
             ],
             [
              0.1111111111111111,
              "#46039f"
             ],
             [
              0.2222222222222222,
              "#7201a8"
             ],
             [
              0.3333333333333333,
              "#9c179e"
             ],
             [
              0.4444444444444444,
              "#bd3786"
             ],
             [
              0.5555555555555556,
              "#d8576b"
             ],
             [
              0.6666666666666666,
              "#ed7953"
             ],
             [
              0.7777777777777778,
              "#fb9f3a"
             ],
             [
              0.8888888888888888,
              "#fdca26"
             ],
             [
              1,
              "#f0f921"
             ]
            ],
            "type": "histogram2dcontour"
           }
          ],
          "mesh3d": [
           {
            "colorbar": {
             "outlinewidth": 0,
             "ticks": ""
            },
            "type": "mesh3d"
           }
          ],
          "parcoords": [
           {
            "line": {
             "colorbar": {
              "outlinewidth": 0,
              "ticks": ""
             }
            },
            "type": "parcoords"
           }
          ],
          "pie": [
           {
            "automargin": true,
            "type": "pie"
           }
          ],
          "scatter": [
           {
            "fillpattern": {
             "fillmode": "overlay",
             "size": 10,
             "solidity": 0.2
            },
            "type": "scatter"
           }
          ],
          "scatter3d": [
           {
            "line": {
             "colorbar": {
              "outlinewidth": 0,
              "ticks": ""
             }
            },
            "marker": {
             "colorbar": {
              "outlinewidth": 0,
              "ticks": ""
             }
            },
            "type": "scatter3d"
           }
          ],
          "scattercarpet": [
           {
            "marker": {
             "colorbar": {
              "outlinewidth": 0,
              "ticks": ""
             }
            },
            "type": "scattercarpet"
           }
          ],
          "scattergeo": [
           {
            "marker": {
             "colorbar": {
              "outlinewidth": 0,
              "ticks": ""
             }
            },
            "type": "scattergeo"
           }
          ],
          "scattergl": [
           {
            "marker": {
             "colorbar": {
              "outlinewidth": 0,
              "ticks": ""
             }
            },
            "type": "scattergl"
           }
          ],
          "scattermapbox": [
           {
            "marker": {
             "colorbar": {
              "outlinewidth": 0,
              "ticks": ""
             }
            },
            "type": "scattermapbox"
           }
          ],
          "scatterpolar": [
           {
            "marker": {
             "colorbar": {
              "outlinewidth": 0,
              "ticks": ""
             }
            },
            "type": "scatterpolar"
           }
          ],
          "scatterpolargl": [
           {
            "marker": {
             "colorbar": {
              "outlinewidth": 0,
              "ticks": ""
             }
            },
            "type": "scatterpolargl"
           }
          ],
          "scatterternary": [
           {
            "marker": {
             "colorbar": {
              "outlinewidth": 0,
              "ticks": ""
             }
            },
            "type": "scatterternary"
           }
          ],
          "surface": [
           {
            "colorbar": {
             "outlinewidth": 0,
             "ticks": ""
            },
            "colorscale": [
             [
              0,
              "#0d0887"
             ],
             [
              0.1111111111111111,
              "#46039f"
             ],
             [
              0.2222222222222222,
              "#7201a8"
             ],
             [
              0.3333333333333333,
              "#9c179e"
             ],
             [
              0.4444444444444444,
              "#bd3786"
             ],
             [
              0.5555555555555556,
              "#d8576b"
             ],
             [
              0.6666666666666666,
              "#ed7953"
             ],
             [
              0.7777777777777778,
              "#fb9f3a"
             ],
             [
              0.8888888888888888,
              "#fdca26"
             ],
             [
              1,
              "#f0f921"
             ]
            ],
            "type": "surface"
           }
          ],
          "table": [
           {
            "cells": {
             "fill": {
              "color": "#EBF0F8"
             },
             "line": {
              "color": "white"
             }
            },
            "header": {
             "fill": {
              "color": "#C8D4E3"
             },
             "line": {
              "color": "white"
             }
            },
            "type": "table"
           }
          ]
         },
         "layout": {
          "annotationdefaults": {
           "arrowcolor": "#2a3f5f",
           "arrowhead": 0,
           "arrowwidth": 1
          },
          "autotypenumbers": "strict",
          "coloraxis": {
           "colorbar": {
            "outlinewidth": 0,
            "ticks": ""
           }
          },
          "colorscale": {
           "diverging": [
            [
             0,
             "#8e0152"
            ],
            [
             0.1,
             "#c51b7d"
            ],
            [
             0.2,
             "#de77ae"
            ],
            [
             0.3,
             "#f1b6da"
            ],
            [
             0.4,
             "#fde0ef"
            ],
            [
             0.5,
             "#f7f7f7"
            ],
            [
             0.6,
             "#e6f5d0"
            ],
            [
             0.7,
             "#b8e186"
            ],
            [
             0.8,
             "#7fbc41"
            ],
            [
             0.9,
             "#4d9221"
            ],
            [
             1,
             "#276419"
            ]
           ],
           "sequential": [
            [
             0,
             "#0d0887"
            ],
            [
             0.1111111111111111,
             "#46039f"
            ],
            [
             0.2222222222222222,
             "#7201a8"
            ],
            [
             0.3333333333333333,
             "#9c179e"
            ],
            [
             0.4444444444444444,
             "#bd3786"
            ],
            [
             0.5555555555555556,
             "#d8576b"
            ],
            [
             0.6666666666666666,
             "#ed7953"
            ],
            [
             0.7777777777777778,
             "#fb9f3a"
            ],
            [
             0.8888888888888888,
             "#fdca26"
            ],
            [
             1,
             "#f0f921"
            ]
           ],
           "sequentialminus": [
            [
             0,
             "#0d0887"
            ],
            [
             0.1111111111111111,
             "#46039f"
            ],
            [
             0.2222222222222222,
             "#7201a8"
            ],
            [
             0.3333333333333333,
             "#9c179e"
            ],
            [
             0.4444444444444444,
             "#bd3786"
            ],
            [
             0.5555555555555556,
             "#d8576b"
            ],
            [
             0.6666666666666666,
             "#ed7953"
            ],
            [
             0.7777777777777778,
             "#fb9f3a"
            ],
            [
             0.8888888888888888,
             "#fdca26"
            ],
            [
             1,
             "#f0f921"
            ]
           ]
          },
          "colorway": [
           "#636efa",
           "#EF553B",
           "#00cc96",
           "#ab63fa",
           "#FFA15A",
           "#19d3f3",
           "#FF6692",
           "#B6E880",
           "#FF97FF",
           "#FECB52"
          ],
          "font": {
           "color": "#2a3f5f"
          },
          "geo": {
           "bgcolor": "white",
           "lakecolor": "white",
           "landcolor": "#E5ECF6",
           "showlakes": true,
           "showland": true,
           "subunitcolor": "white"
          },
          "hoverlabel": {
           "align": "left"
          },
          "hovermode": "closest",
          "mapbox": {
           "style": "light"
          },
          "paper_bgcolor": "white",
          "plot_bgcolor": "#E5ECF6",
          "polar": {
           "angularaxis": {
            "gridcolor": "white",
            "linecolor": "white",
            "ticks": ""
           },
           "bgcolor": "#E5ECF6",
           "radialaxis": {
            "gridcolor": "white",
            "linecolor": "white",
            "ticks": ""
           }
          },
          "scene": {
           "xaxis": {
            "backgroundcolor": "#E5ECF6",
            "gridcolor": "white",
            "gridwidth": 2,
            "linecolor": "white",
            "showbackground": true,
            "ticks": "",
            "zerolinecolor": "white"
           },
           "yaxis": {
            "backgroundcolor": "#E5ECF6",
            "gridcolor": "white",
            "gridwidth": 2,
            "linecolor": "white",
            "showbackground": true,
            "ticks": "",
            "zerolinecolor": "white"
           },
           "zaxis": {
            "backgroundcolor": "#E5ECF6",
            "gridcolor": "white",
            "gridwidth": 2,
            "linecolor": "white",
            "showbackground": true,
            "ticks": "",
            "zerolinecolor": "white"
           }
          },
          "shapedefaults": {
           "line": {
            "color": "#2a3f5f"
           }
          },
          "ternary": {
           "aaxis": {
            "gridcolor": "white",
            "linecolor": "white",
            "ticks": ""
           },
           "baxis": {
            "gridcolor": "white",
            "linecolor": "white",
            "ticks": ""
           },
           "bgcolor": "#E5ECF6",
           "caxis": {
            "gridcolor": "white",
            "linecolor": "white",
            "ticks": ""
           }
          },
          "title": {
           "x": 0.05
          },
          "xaxis": {
           "automargin": true,
           "gridcolor": "white",
           "linecolor": "white",
           "ticks": "",
           "title": {
            "standoff": 15
           },
           "zerolinecolor": "white",
           "zerolinewidth": 2
          },
          "yaxis": {
           "automargin": true,
           "gridcolor": "white",
           "linecolor": "white",
           "ticks": "",
           "title": {
            "standoff": 15
           },
           "zerolinecolor": "white",
           "zerolinewidth": 2
          }
         }
        },
        "title": {
         "text": "Number of sound annotations <b>strictly</b> contained in action annotations<br>timestamps in validation set of EPIC-KITCHENS"
        },
        "width": 800
       }
      }
     },
     "metadata": {},
     "output_type": "display_data"
    }
   ],
   "source": [
    "plot_overlaps(train_overlaps, \"train\")\n",
    "plot_overlaps(val_overlaps, \"validation\")"
   ]
  },
  {
   "cell_type": "markdown",
   "metadata": {},
   "source": [
    "- **Strict** overlap $\\rightarrow$ at least $1$ sound annotation starts **after** the action annotation started and ends **before** the action annotation ended\n",
    "- **Loose** overlap $\\rightarrow$ at least $1$ sound annotation starts **after** the action annotation started and starts **before** the action annotation ended"
   ]
  },
  {
   "cell_type": "code",
   "execution_count": 11,
   "metadata": {},
   "outputs": [
    {
     "data": {
      "application/vnd.plotly.v1+json": {
       "config": {
        "plotlyServerURL": "https://plot.ly"
       },
       "data": [
        {
         "alignmentgroup": "True",
         "hovertemplate": "Verb class=%{x}<br>Number of data points=%{text}<extra></extra>",
         "legendgroup": "",
         "marker": {
          "color": "orange",
          "pattern": {
           "shape": ""
          }
         },
         "name": "",
         "offsetgroup": "",
         "orientation": "v",
         "showlegend": false,
         "text": [
          9914,
          9507,
          5836,
          4893,
          4649,
          3906,
          2988,
          2645,
          2608,
          2538,
          1451,
          1303,
          1285,
          928,
          685,
          568,
          523,
          473,
          472,
          346,
          317,
          314,
          275,
          243,
          154,
          148,
          124,
          123,
          121,
          106,
          101,
          84,
          82,
          57,
          51,
          50,
          43,
          42,
          34,
          29,
          18,
          12,
          6,
          3
         ],
         "textposition": "outside",
         "texttemplate": "%{text:.2s}",
         "type": "bar",
         "x": [
          "scrub / scrape / scour / wipe",
          "metal-only collision",
          "cut / chop",
          "open / close",
          "rustle",
          "water",
          "plastic-only collision",
          "footstep",
          "stir / mix / whisk",
          "slide object",
          "metal / wood collision",
          "metal / ceramic collision",
          "metal / plastic collision",
          "background",
          "ceramic-only collision",
          "click",
          "beep",
          "paper-only collision",
          "metal / glass collision",
          "glass-only collision",
          "pour",
          "wood-only collision",
          "plastic / paper collision",
          "metal / paper collision",
          "metal / cloth collision",
          "human",
          "plastic / ceramic collision",
          "plastic / wood collision",
          "ceramic / glass collision",
          "sizzling / boiling",
          "metal / marble collision",
          "plastic / marble collision",
          "plastic / glass collision",
          "ceramic / wood collision",
          "kettle / mixer / appliance",
          "cloth-only collision",
          "ceramic / marble collision",
          "glass / marble collision",
          "kneading",
          "wood / glass collision",
          "spray",
          "hoover / fan",
          "zip",
          "drink / eat"
         ],
         "xaxis": "x",
         "y": [
          9914,
          9507,
          5836,
          4893,
          4649,
          3906,
          2988,
          2645,
          2608,
          2538,
          1451,
          1303,
          1285,
          928,
          685,
          568,
          523,
          473,
          472,
          346,
          317,
          314,
          275,
          243,
          154,
          148,
          124,
          123,
          121,
          106,
          101,
          84,
          82,
          57,
          51,
          50,
          43,
          42,
          34,
          29,
          18,
          12,
          6,
          3
         ],
         "yaxis": "y"
        }
       ],
       "layout": {
        "barmode": "relative",
        "height": 600,
        "legend": {
         "tracegroupgap": 0
        },
        "template": {
         "data": {
          "bar": [
           {
            "error_x": {
             "color": "#2a3f5f"
            },
            "error_y": {
             "color": "#2a3f5f"
            },
            "marker": {
             "line": {
              "color": "#E5ECF6",
              "width": 0.5
             },
             "pattern": {
              "fillmode": "overlay",
              "size": 10,
              "solidity": 0.2
             }
            },
            "type": "bar"
           }
          ],
          "barpolar": [
           {
            "marker": {
             "line": {
              "color": "#E5ECF6",
              "width": 0.5
             },
             "pattern": {
              "fillmode": "overlay",
              "size": 10,
              "solidity": 0.2
             }
            },
            "type": "barpolar"
           }
          ],
          "carpet": [
           {
            "aaxis": {
             "endlinecolor": "#2a3f5f",
             "gridcolor": "white",
             "linecolor": "white",
             "minorgridcolor": "white",
             "startlinecolor": "#2a3f5f"
            },
            "baxis": {
             "endlinecolor": "#2a3f5f",
             "gridcolor": "white",
             "linecolor": "white",
             "minorgridcolor": "white",
             "startlinecolor": "#2a3f5f"
            },
            "type": "carpet"
           }
          ],
          "choropleth": [
           {
            "colorbar": {
             "outlinewidth": 0,
             "ticks": ""
            },
            "type": "choropleth"
           }
          ],
          "contour": [
           {
            "colorbar": {
             "outlinewidth": 0,
             "ticks": ""
            },
            "colorscale": [
             [
              0,
              "#0d0887"
             ],
             [
              0.1111111111111111,
              "#46039f"
             ],
             [
              0.2222222222222222,
              "#7201a8"
             ],
             [
              0.3333333333333333,
              "#9c179e"
             ],
             [
              0.4444444444444444,
              "#bd3786"
             ],
             [
              0.5555555555555556,
              "#d8576b"
             ],
             [
              0.6666666666666666,
              "#ed7953"
             ],
             [
              0.7777777777777778,
              "#fb9f3a"
             ],
             [
              0.8888888888888888,
              "#fdca26"
             ],
             [
              1,
              "#f0f921"
             ]
            ],
            "type": "contour"
           }
          ],
          "contourcarpet": [
           {
            "colorbar": {
             "outlinewidth": 0,
             "ticks": ""
            },
            "type": "contourcarpet"
           }
          ],
          "heatmap": [
           {
            "colorbar": {
             "outlinewidth": 0,
             "ticks": ""
            },
            "colorscale": [
             [
              0,
              "#0d0887"
             ],
             [
              0.1111111111111111,
              "#46039f"
             ],
             [
              0.2222222222222222,
              "#7201a8"
             ],
             [
              0.3333333333333333,
              "#9c179e"
             ],
             [
              0.4444444444444444,
              "#bd3786"
             ],
             [
              0.5555555555555556,
              "#d8576b"
             ],
             [
              0.6666666666666666,
              "#ed7953"
             ],
             [
              0.7777777777777778,
              "#fb9f3a"
             ],
             [
              0.8888888888888888,
              "#fdca26"
             ],
             [
              1,
              "#f0f921"
             ]
            ],
            "type": "heatmap"
           }
          ],
          "heatmapgl": [
           {
            "colorbar": {
             "outlinewidth": 0,
             "ticks": ""
            },
            "colorscale": [
             [
              0,
              "#0d0887"
             ],
             [
              0.1111111111111111,
              "#46039f"
             ],
             [
              0.2222222222222222,
              "#7201a8"
             ],
             [
              0.3333333333333333,
              "#9c179e"
             ],
             [
              0.4444444444444444,
              "#bd3786"
             ],
             [
              0.5555555555555556,
              "#d8576b"
             ],
             [
              0.6666666666666666,
              "#ed7953"
             ],
             [
              0.7777777777777778,
              "#fb9f3a"
             ],
             [
              0.8888888888888888,
              "#fdca26"
             ],
             [
              1,
              "#f0f921"
             ]
            ],
            "type": "heatmapgl"
           }
          ],
          "histogram": [
           {
            "marker": {
             "pattern": {
              "fillmode": "overlay",
              "size": 10,
              "solidity": 0.2
             }
            },
            "type": "histogram"
           }
          ],
          "histogram2d": [
           {
            "colorbar": {
             "outlinewidth": 0,
             "ticks": ""
            },
            "colorscale": [
             [
              0,
              "#0d0887"
             ],
             [
              0.1111111111111111,
              "#46039f"
             ],
             [
              0.2222222222222222,
              "#7201a8"
             ],
             [
              0.3333333333333333,
              "#9c179e"
             ],
             [
              0.4444444444444444,
              "#bd3786"
             ],
             [
              0.5555555555555556,
              "#d8576b"
             ],
             [
              0.6666666666666666,
              "#ed7953"
             ],
             [
              0.7777777777777778,
              "#fb9f3a"
             ],
             [
              0.8888888888888888,
              "#fdca26"
             ],
             [
              1,
              "#f0f921"
             ]
            ],
            "type": "histogram2d"
           }
          ],
          "histogram2dcontour": [
           {
            "colorbar": {
             "outlinewidth": 0,
             "ticks": ""
            },
            "colorscale": [
             [
              0,
              "#0d0887"
             ],
             [
              0.1111111111111111,
              "#46039f"
             ],
             [
              0.2222222222222222,
              "#7201a8"
             ],
             [
              0.3333333333333333,
              "#9c179e"
             ],
             [
              0.4444444444444444,
              "#bd3786"
             ],
             [
              0.5555555555555556,
              "#d8576b"
             ],
             [
              0.6666666666666666,
              "#ed7953"
             ],
             [
              0.7777777777777778,
              "#fb9f3a"
             ],
             [
              0.8888888888888888,
              "#fdca26"
             ],
             [
              1,
              "#f0f921"
             ]
            ],
            "type": "histogram2dcontour"
           }
          ],
          "mesh3d": [
           {
            "colorbar": {
             "outlinewidth": 0,
             "ticks": ""
            },
            "type": "mesh3d"
           }
          ],
          "parcoords": [
           {
            "line": {
             "colorbar": {
              "outlinewidth": 0,
              "ticks": ""
             }
            },
            "type": "parcoords"
           }
          ],
          "pie": [
           {
            "automargin": true,
            "type": "pie"
           }
          ],
          "scatter": [
           {
            "fillpattern": {
             "fillmode": "overlay",
             "size": 10,
             "solidity": 0.2
            },
            "type": "scatter"
           }
          ],
          "scatter3d": [
           {
            "line": {
             "colorbar": {
              "outlinewidth": 0,
              "ticks": ""
             }
            },
            "marker": {
             "colorbar": {
              "outlinewidth": 0,
              "ticks": ""
             }
            },
            "type": "scatter3d"
           }
          ],
          "scattercarpet": [
           {
            "marker": {
             "colorbar": {
              "outlinewidth": 0,
              "ticks": ""
             }
            },
            "type": "scattercarpet"
           }
          ],
          "scattergeo": [
           {
            "marker": {
             "colorbar": {
              "outlinewidth": 0,
              "ticks": ""
             }
            },
            "type": "scattergeo"
           }
          ],
          "scattergl": [
           {
            "marker": {
             "colorbar": {
              "outlinewidth": 0,
              "ticks": ""
             }
            },
            "type": "scattergl"
           }
          ],
          "scattermapbox": [
           {
            "marker": {
             "colorbar": {
              "outlinewidth": 0,
              "ticks": ""
             }
            },
            "type": "scattermapbox"
           }
          ],
          "scatterpolar": [
           {
            "marker": {
             "colorbar": {
              "outlinewidth": 0,
              "ticks": ""
             }
            },
            "type": "scatterpolar"
           }
          ],
          "scatterpolargl": [
           {
            "marker": {
             "colorbar": {
              "outlinewidth": 0,
              "ticks": ""
             }
            },
            "type": "scatterpolargl"
           }
          ],
          "scatterternary": [
           {
            "marker": {
             "colorbar": {
              "outlinewidth": 0,
              "ticks": ""
             }
            },
            "type": "scatterternary"
           }
          ],
          "surface": [
           {
            "colorbar": {
             "outlinewidth": 0,
             "ticks": ""
            },
            "colorscale": [
             [
              0,
              "#0d0887"
             ],
             [
              0.1111111111111111,
              "#46039f"
             ],
             [
              0.2222222222222222,
              "#7201a8"
             ],
             [
              0.3333333333333333,
              "#9c179e"
             ],
             [
              0.4444444444444444,
              "#bd3786"
             ],
             [
              0.5555555555555556,
              "#d8576b"
             ],
             [
              0.6666666666666666,
              "#ed7953"
             ],
             [
              0.7777777777777778,
              "#fb9f3a"
             ],
             [
              0.8888888888888888,
              "#fdca26"
             ],
             [
              1,
              "#f0f921"
             ]
            ],
            "type": "surface"
           }
          ],
          "table": [
           {
            "cells": {
             "fill": {
              "color": "#EBF0F8"
             },
             "line": {
              "color": "white"
             }
            },
            "header": {
             "fill": {
              "color": "#C8D4E3"
             },
             "line": {
              "color": "white"
             }
            },
            "type": "table"
           }
          ]
         },
         "layout": {
          "annotationdefaults": {
           "arrowcolor": "#2a3f5f",
           "arrowhead": 0,
           "arrowwidth": 1
          },
          "autotypenumbers": "strict",
          "coloraxis": {
           "colorbar": {
            "outlinewidth": 0,
            "ticks": ""
           }
          },
          "colorscale": {
           "diverging": [
            [
             0,
             "#8e0152"
            ],
            [
             0.1,
             "#c51b7d"
            ],
            [
             0.2,
             "#de77ae"
            ],
            [
             0.3,
             "#f1b6da"
            ],
            [
             0.4,
             "#fde0ef"
            ],
            [
             0.5,
             "#f7f7f7"
            ],
            [
             0.6,
             "#e6f5d0"
            ],
            [
             0.7,
             "#b8e186"
            ],
            [
             0.8,
             "#7fbc41"
            ],
            [
             0.9,
             "#4d9221"
            ],
            [
             1,
             "#276419"
            ]
           ],
           "sequential": [
            [
             0,
             "#0d0887"
            ],
            [
             0.1111111111111111,
             "#46039f"
            ],
            [
             0.2222222222222222,
             "#7201a8"
            ],
            [
             0.3333333333333333,
             "#9c179e"
            ],
            [
             0.4444444444444444,
             "#bd3786"
            ],
            [
             0.5555555555555556,
             "#d8576b"
            ],
            [
             0.6666666666666666,
             "#ed7953"
            ],
            [
             0.7777777777777778,
             "#fb9f3a"
            ],
            [
             0.8888888888888888,
             "#fdca26"
            ],
            [
             1,
             "#f0f921"
            ]
           ],
           "sequentialminus": [
            [
             0,
             "#0d0887"
            ],
            [
             0.1111111111111111,
             "#46039f"
            ],
            [
             0.2222222222222222,
             "#7201a8"
            ],
            [
             0.3333333333333333,
             "#9c179e"
            ],
            [
             0.4444444444444444,
             "#bd3786"
            ],
            [
             0.5555555555555556,
             "#d8576b"
            ],
            [
             0.6666666666666666,
             "#ed7953"
            ],
            [
             0.7777777777777778,
             "#fb9f3a"
            ],
            [
             0.8888888888888888,
             "#fdca26"
            ],
            [
             1,
             "#f0f921"
            ]
           ]
          },
          "colorway": [
           "#636efa",
           "#EF553B",
           "#00cc96",
           "#ab63fa",
           "#FFA15A",
           "#19d3f3",
           "#FF6692",
           "#B6E880",
           "#FF97FF",
           "#FECB52"
          ],
          "font": {
           "color": "#2a3f5f"
          },
          "geo": {
           "bgcolor": "white",
           "lakecolor": "white",
           "landcolor": "#E5ECF6",
           "showlakes": true,
           "showland": true,
           "subunitcolor": "white"
          },
          "hoverlabel": {
           "align": "left"
          },
          "hovermode": "closest",
          "mapbox": {
           "style": "light"
          },
          "paper_bgcolor": "white",
          "plot_bgcolor": "#E5ECF6",
          "polar": {
           "angularaxis": {
            "gridcolor": "white",
            "linecolor": "white",
            "ticks": ""
           },
           "bgcolor": "#E5ECF6",
           "radialaxis": {
            "gridcolor": "white",
            "linecolor": "white",
            "ticks": ""
           }
          },
          "scene": {
           "xaxis": {
            "backgroundcolor": "#E5ECF6",
            "gridcolor": "white",
            "gridwidth": 2,
            "linecolor": "white",
            "showbackground": true,
            "ticks": "",
            "zerolinecolor": "white"
           },
           "yaxis": {
            "backgroundcolor": "#E5ECF6",
            "gridcolor": "white",
            "gridwidth": 2,
            "linecolor": "white",
            "showbackground": true,
            "ticks": "",
            "zerolinecolor": "white"
           },
           "zaxis": {
            "backgroundcolor": "#E5ECF6",
            "gridcolor": "white",
            "gridwidth": 2,
            "linecolor": "white",
            "showbackground": true,
            "ticks": "",
            "zerolinecolor": "white"
           }
          },
          "shapedefaults": {
           "line": {
            "color": "#2a3f5f"
           }
          },
          "ternary": {
           "aaxis": {
            "gridcolor": "white",
            "linecolor": "white",
            "ticks": ""
           },
           "baxis": {
            "gridcolor": "white",
            "linecolor": "white",
            "ticks": ""
           },
           "bgcolor": "#E5ECF6",
           "caxis": {
            "gridcolor": "white",
            "linecolor": "white",
            "ticks": ""
           }
          },
          "title": {
           "x": 0.05
          },
          "xaxis": {
           "automargin": true,
           "gridcolor": "white",
           "linecolor": "white",
           "ticks": "",
           "title": {
            "standoff": 15
           },
           "zerolinecolor": "white",
           "zerolinewidth": 2
          },
          "yaxis": {
           "automargin": true,
           "gridcolor": "white",
           "linecolor": "white",
           "ticks": "",
           "title": {
            "standoff": 15
           },
           "zerolinecolor": "white",
           "zerolinewidth": 2
          }
         }
        },
        "title": {
         "text": "<b>Verb classes distribution in EPIC-SOUNDS</b>"
        },
        "width": 1200,
        "xaxis": {
         "anchor": "y",
         "domain": [
          0,
          1
         ],
         "title": {
          "text": "Verb class"
         }
        },
        "yaxis": {
         "anchor": "x",
         "domain": [
          0,
          1
         ],
         "title": {
          "text": "Number of data points"
         }
        }
       }
      }
     },
     "metadata": {},
     "output_type": "display_data"
    }
   ],
   "source": [
    "# Plot this as a bar chart\n",
    "es_classes_df = pd.DataFrame(es_train_df[\"class\"].value_counts()).reset_index()\n",
    "\n",
    "fig = px.bar(\n",
    "        es_classes_df,\n",
    "        x=\"class\",\n",
    "        y=\"count\",\n",
    "        title=f\"<b>Verb classes distribution in EPIC-SOUNDS</b>\",\n",
    "        labels={\"class\": \"Verb class\", \"count\": \"Number of data points\"},\n",
    "        height=600,\n",
    "        width=1200,\n",
    "        text_auto=True,\n",
    "        text=\"count\",\n",
    "    )\n",
    "fig.update_traces(\n",
    "    texttemplate=\"%{text:.2s}\",\n",
    "    textposition=\"outside\",\n",
    "    marker_color=\"orange\",\n",
    ")\n",
    "fig.show()\n",
    "\n",
    "fig.write_image(f\"../res/dataset/overlaps/es_verbs_distribution.png\", scale=3.0)\n",
    "fig.write_image(f\"../res/dataset/overlaps/pdf/es_verbs_distribution.pdf\")"
   ]
  },
  {
   "cell_type": "markdown",
   "metadata": {},
   "source": [
    "## Now see which verbs are the most present with a single sound annotation"
   ]
  },
  {
   "cell_type": "code",
   "execution_count": 12,
   "metadata": {},
   "outputs": [
    {
     "name": "stderr",
     "output_type": "stream",
     "text": [
      "  0%|          | 0/12 [00:00<?, ?it/s]"
     ]
    },
    {
     "name": "stderr",
     "output_type": "stream",
     "text": [
      "100%|██████████| 12/12 [00:03<00:00,  3.30it/s]\n"
     ]
    }
   ],
   "source": [
    "from itertools import product\n",
    "\n",
    "def plot_frequent_verbs(\n",
    "    df: pd.DataFrame,\n",
    "    verbs_df: pd.DataFrame,\n",
    "    split: str,\n",
    "    top_n: int = 10,\n",
    "    n_overlaps: int = 1,\n",
    "    all_verbs: bool = False,\n",
    "    height: int = 600,\n",
    "    width: int = 1000,\n",
    "):\n",
    "    top_n_df = (\n",
    "        df.query(\"n_overlap_loose == @n_overlaps\")[[\"verb_class\", \"n_overlap_loose\"]]\n",
    "        .groupby(\"verb_class\")\n",
    "        .count()\n",
    "        .sort_values(\"n_overlap_loose\", ascending=False)\n",
    "    )\n",
    "\n",
    "    if not all_verbs:\n",
    "        top_n_df = top_n_df.iloc[:top_n]\n",
    "    \n",
    "\n",
    "    # Get actual verb names\n",
    "    top_n_df = top_n_df.reset_index()\n",
    "    top_n_df[\"verb_name\"] = top_n_df[\"verb_class\"].apply(lambda x: verbs_df.loc[x, \"key\"])\n",
    "\n",
    "    top_n_df\n",
    "    # Plot top_n_df as a bar chart using plotly express\n",
    "    fig = px.bar(\n",
    "        top_n_df,\n",
    "        x=\"verb_name\",\n",
    "        y=\"n_overlap_loose\",\n",
    "        title=f\"<b>{('Top ' + str(top_n) + ' most frequent') if not all_verbs else 'All'} verbs having <b>{n_overlaps}</b> annotation overlap in <b>{split}</b> set of EPIC datasets</b>\",\n",
    "        labels={\"verb_name\": \"Verb class\", \"n_overlap_loose\": \"Number of actions\"},\n",
    "        height=height,\n",
    "        width=width,\n",
    "        text_auto=True,\n",
    "        text=\"n_overlap_loose\",\n",
    "    )\n",
    "    fig.update_traces(\n",
    "        texttemplate=\"%{text:.2s}\",\n",
    "        textposition=\"outside\",\n",
    "        marker_color=\"blue\" if split == \"train\" else \"green\",\n",
    "    )\n",
    "    fig.update_layout(font_family=\"CMU Serif\")\n",
    "    fig.write_image(f\"../res/dataset/overlaps/ek_es_{split}_{top_n if not all_verbs else 'all'}_{n_overlaps}_overlaps_frequent_verbs.png\", scale=3.0)\n",
    "    fig.write_image(f\"../res/dataset/overlaps/pdf/ek_es_{split}_{top_n if not all_verbs else 'all'}_{n_overlaps}_overlaps_frequent_verbs.pdf\")\n",
    "\n",
    "combinations = list(product([10, 30, 40], [0, 1, 2, 3]))\n",
    "for n, n_overlaps in tqdm(combinations):\n",
    "    plot_frequent_verbs(train_overlaps, verbs_df, split=\"train\", top_n=n, n_overlaps=n_overlaps, width=1200)\n",
    "    plot_frequent_verbs(val_overlaps, verbs_df, split=\"validation\", top_n=n, n_overlaps=n_overlaps, width=1200)\n",
    "\n",
    "plot_frequent_verbs(train_overlaps, verbs_df, split=\"train\", all_verbs=True, width=1200)\n",
    "plot_frequent_verbs(val_overlaps, verbs_df, split=\"validation\", all_verbs=True, width=1200)"
   ]
  },
  {
   "cell_type": "markdown",
   "metadata": {},
   "source": [
    "## Plot when it happens"
   ]
  },
  {
   "cell_type": "code",
   "execution_count": 13,
   "metadata": {},
   "outputs": [
    {
     "data": {
      "text/html": [
       "<div>\n",
       "<style scoped>\n",
       "    .dataframe tbody tr th:only-of-type {\n",
       "        vertical-align: middle;\n",
       "    }\n",
       "\n",
       "    .dataframe tbody tr th {\n",
       "        vertical-align: top;\n",
       "    }\n",
       "\n",
       "    .dataframe thead th {\n",
       "        text-align: right;\n",
       "    }\n",
       "</style>\n",
       "<table border=\"1\" class=\"dataframe\">\n",
       "  <thead>\n",
       "    <tr style=\"text-align: right;\">\n",
       "      <th></th>\n",
       "      <th>participant_id</th>\n",
       "      <th>video_id</th>\n",
       "      <th>start_timestamp</th>\n",
       "      <th>stop_timestamp</th>\n",
       "      <th>start_sample</th>\n",
       "      <th>stop_sample</th>\n",
       "      <th>description</th>\n",
       "      <th>class</th>\n",
       "      <th>class_id</th>\n",
       "      <th>duration_in_s</th>\n",
       "    </tr>\n",
       "    <tr>\n",
       "      <th>annotation_id</th>\n",
       "      <th></th>\n",
       "      <th></th>\n",
       "      <th></th>\n",
       "      <th></th>\n",
       "      <th></th>\n",
       "      <th></th>\n",
       "      <th></th>\n",
       "      <th></th>\n",
       "      <th></th>\n",
       "      <th></th>\n",
       "    </tr>\n",
       "  </thead>\n",
       "  <tbody>\n",
       "    <tr>\n",
       "      <th>P01_01_0</th>\n",
       "      <td>P01</td>\n",
       "      <td>P01_01</td>\n",
       "      <td>00:00:02.466</td>\n",
       "      <td>00:00:05.315</td>\n",
       "      <td>59184</td>\n",
       "      <td>127560</td>\n",
       "      <td>clang / clatter</td>\n",
       "      <td>plastic-only collision</td>\n",
       "      <td>6</td>\n",
       "      <td>2.849</td>\n",
       "    </tr>\n",
       "    <tr>\n",
       "      <th>P01_01_1</th>\n",
       "      <td>P01</td>\n",
       "      <td>P01_01</td>\n",
       "      <td>00:00:08.981</td>\n",
       "      <td>00:00:09.871</td>\n",
       "      <td>215544</td>\n",
       "      <td>236904</td>\n",
       "      <td>put object on surface</td>\n",
       "      <td>open / close</td>\n",
       "      <td>3</td>\n",
       "      <td>0.890</td>\n",
       "    </tr>\n",
       "    <tr>\n",
       "      <th>P01_01_2</th>\n",
       "      <td>P01</td>\n",
       "      <td>P01_01</td>\n",
       "      <td>00:00:10.190</td>\n",
       "      <td>00:00:12.731</td>\n",
       "      <td>244560</td>\n",
       "      <td>305544</td>\n",
       "      <td>footstep</td>\n",
       "      <td>footstep</td>\n",
       "      <td>7</td>\n",
       "      <td>2.541</td>\n",
       "    </tr>\n",
       "    <tr>\n",
       "      <th>P01_01_3</th>\n",
       "      <td>P01</td>\n",
       "      <td>P01_01</td>\n",
       "      <td>00:00:14.023</td>\n",
       "      <td>00:00:15.044</td>\n",
       "      <td>336552</td>\n",
       "      <td>361056</td>\n",
       "      <td>scrub / scrape / scour / wipe</td>\n",
       "      <td>scrub / scrape / scour / wipe</td>\n",
       "      <td>1</td>\n",
       "      <td>1.021</td>\n",
       "    </tr>\n",
       "    <tr>\n",
       "      <th>P01_01_4</th>\n",
       "      <td>P01</td>\n",
       "      <td>P01_01</td>\n",
       "      <td>00:00:15.148</td>\n",
       "      <td>00:00:19.729</td>\n",
       "      <td>363552</td>\n",
       "      <td>473496</td>\n",
       "      <td>paper rustle</td>\n",
       "      <td>rustle</td>\n",
       "      <td>4</td>\n",
       "      <td>4.581</td>\n",
       "    </tr>\n",
       "  </tbody>\n",
       "</table>\n",
       "</div>"
      ],
      "text/plain": [
       "              participant_id video_id start_timestamp stop_timestamp  \\\n",
       "annotation_id                                                          \n",
       "P01_01_0                 P01   P01_01    00:00:02.466   00:00:05.315   \n",
       "P01_01_1                 P01   P01_01    00:00:08.981   00:00:09.871   \n",
       "P01_01_2                 P01   P01_01    00:00:10.190   00:00:12.731   \n",
       "P01_01_3                 P01   P01_01    00:00:14.023   00:00:15.044   \n",
       "P01_01_4                 P01   P01_01    00:00:15.148   00:00:19.729   \n",
       "\n",
       "               start_sample  stop_sample                    description  \\\n",
       "annotation_id                                                             \n",
       "P01_01_0              59184       127560                clang / clatter   \n",
       "P01_01_1             215544       236904          put object on surface   \n",
       "P01_01_2             244560       305544                       footstep   \n",
       "P01_01_3             336552       361056  scrub / scrape / scour / wipe   \n",
       "P01_01_4             363552       473496                   paper rustle   \n",
       "\n",
       "                                       class  class_id  duration_in_s  \n",
       "annotation_id                                                          \n",
       "P01_01_0              plastic-only collision         6          2.849  \n",
       "P01_01_1                        open / close         3          0.890  \n",
       "P01_01_2                            footstep         7          2.541  \n",
       "P01_01_3       scrub / scrape / scour / wipe         1          1.021  \n",
       "P01_01_4                              rustle         4          4.581  "
      ]
     },
     "execution_count": 13,
     "metadata": {},
     "output_type": "execute_result"
    }
   ],
   "source": [
    "es_train_df.head()"
   ]
  },
  {
   "cell_type": "code",
   "execution_count": 14,
   "metadata": {},
   "outputs": [],
   "source": [
    "def _return_annotations(row_k: pd.Series, df_es: pd.DataFrame, strict: bool = False) -> bool:\n",
    "    video_id = row_k[\"video_id\"]\n",
    "    s_k, e_k = row_k[\"start_timestamp\"], row_k[\"stop_timestamp\"]\n",
    "    duration_k = row_k[\"duration_in_s\"]\n",
    "    action_class_id = row_k[\"verb_class\"]\n",
    "    query = \"video_id == @video_id and \"\n",
    "    if strict:\n",
    "        query += \"@s_k <= start_timestamp and stop_timestamp <= @e_k\"\n",
    "    else:\n",
    "        query += \"start_timestamp <= @e_k and @s_k <= stop_timestamp\"\n",
    "\n",
    "    result_df = df_es.query(query).copy()\n",
    "    result_df[\"verb_class_ek\"] = action_class_id\n",
    "    result_df[\"s_k\"] = s_k\n",
    "    result_df[\"e_k\"] = e_k\n",
    "    result_df[\"duration_in_s_k\"] = duration_k\n",
    "\n",
    "    del result_df[\"start_sample\"]\n",
    "    del result_df[\"stop_sample\"]\n",
    "\n",
    "    return result_df.rename(\n",
    "        {\n",
    "            \"start_timestamp\": \"s_s\",\n",
    "            \"stop_timestamp\": \"e_s\",\n",
    "            \"verb_class\": \"verb_class_s\",\n",
    "            \"duration_in_s\": \"duration_in_s_s\"\n",
    "        },\n",
    "        axis=1,\n",
    "    )\n",
    "\n",
    "def normalize_td(row: pd.Series) -> pd.Series:\n",
    "    min_value, max_value = row[\"s_k\"].total_seconds(), row[\"e_k\"].total_seconds()\n",
    "    row[\"s_s_norm\"] = (\n",
    "        row[\"s_s\"].total_seconds() - min_value\n",
    "    ) / (max_value - min_value)\n",
    "    row[\"e_s_norm\"] = (\n",
    "        row[\"e_s\"].total_seconds() - min_value\n",
    "    ) / (max_value - min_value)\n",
    "\n",
    "    return row\n",
    "\n",
    "\n",
    "def return_overlaps(\n",
    "    overlaps_df: pd.DataFrame,\n",
    "    es: pd.DataFrame,\n",
    "    n_overlaps: int = 1,\n",
    "    strict: bool = False,\n",
    "):\n",
    "    dfs = []\n",
    "    query = f\"n_overlap_strict == {n_overlaps}\" if strict else f\"n_overlap_loose == {n_overlaps}\"\n",
    "    w_df = overlaps_df.query(query).copy()\n",
    "\n",
    "    for _, row_k in tqdm(\n",
    "        w_df.iterrows(),\n",
    "        total=len(w_df),\n",
    "        desc=f\"EPIC-KITCHENS for {'strict' if strict else 'loose'} overlaps\",\n",
    "        unit=\"row\",\n",
    "    ):\n",
    "        dfs.append(\n",
    "            _return_annotations(\n",
    "                row_k=row_k,\n",
    "                df_es=es,\n",
    "                strict=strict,\n",
    "            )\n",
    "        )\n",
    "\n",
    "    df = pd.concat(dfs)\n",
    "    df[\"s_s\"] = pd.to_timedelta(df[\"s_s\"])\n",
    "    df[\"s_k\"] = pd.to_timedelta(df[\"s_k\"])\n",
    "    df[\"e_s\"] = pd.to_timedelta(df[\"e_s\"])\n",
    "    df[\"e_k\"] = pd.to_timedelta(df[\"e_k\"])\n",
    "\n",
    "    df = df.apply(normalize_td, axis=1)\n",
    "\n",
    "    return df"
   ]
  },
  {
   "cell_type": "code",
   "execution_count": 15,
   "metadata": {},
   "outputs": [
    {
     "name": "stderr",
     "output_type": "stream",
     "text": [
      "EPIC-KITCHENS for loose overlaps: 100%|██████████| 27808/27808 [02:48<00:00, 164.81row/s]\n",
      "EPIC-KITCHENS for strict overlaps: 100%|██████████| 11641/11641 [01:14<00:00, 156.95row/s]\n"
     ]
    },
    {
     "data": {
      "text/html": [
       "<div>\n",
       "<style scoped>\n",
       "    .dataframe tbody tr th:only-of-type {\n",
       "        vertical-align: middle;\n",
       "    }\n",
       "\n",
       "    .dataframe tbody tr th {\n",
       "        vertical-align: top;\n",
       "    }\n",
       "\n",
       "    .dataframe thead th {\n",
       "        text-align: right;\n",
       "    }\n",
       "</style>\n",
       "<table border=\"1\" class=\"dataframe\">\n",
       "  <thead>\n",
       "    <tr style=\"text-align: right;\">\n",
       "      <th></th>\n",
       "      <th>participant_id</th>\n",
       "      <th>video_id</th>\n",
       "      <th>s_s</th>\n",
       "      <th>e_s</th>\n",
       "      <th>description</th>\n",
       "      <th>class</th>\n",
       "      <th>class_id</th>\n",
       "      <th>duration_in_s_s</th>\n",
       "      <th>verb_class_ek</th>\n",
       "      <th>s_k</th>\n",
       "      <th>e_k</th>\n",
       "      <th>duration_in_s_k</th>\n",
       "      <th>s_s_norm</th>\n",
       "      <th>e_s_norm</th>\n",
       "    </tr>\n",
       "    <tr>\n",
       "      <th>annotation_id</th>\n",
       "      <th></th>\n",
       "      <th></th>\n",
       "      <th></th>\n",
       "      <th></th>\n",
       "      <th></th>\n",
       "      <th></th>\n",
       "      <th></th>\n",
       "      <th></th>\n",
       "      <th></th>\n",
       "      <th></th>\n",
       "      <th></th>\n",
       "      <th></th>\n",
       "      <th></th>\n",
       "      <th></th>\n",
       "    </tr>\n",
       "  </thead>\n",
       "  <tbody>\n",
       "    <tr>\n",
       "      <th>P01_01_0</th>\n",
       "      <td>P01</td>\n",
       "      <td>P01_01</td>\n",
       "      <td>0 days 00:00:02.466000</td>\n",
       "      <td>0 days 00:00:05.315000</td>\n",
       "      <td>clang / clatter</td>\n",
       "      <td>plastic-only collision</td>\n",
       "      <td>6</td>\n",
       "      <td>2.849</td>\n",
       "      <td>3</td>\n",
       "      <td>0 days 00:00:00.140000</td>\n",
       "      <td>0 days 00:00:03.370000</td>\n",
       "      <td>3.23</td>\n",
       "      <td>0.720124</td>\n",
       "      <td>1.602167</td>\n",
       "    </tr>\n",
       "    <tr>\n",
       "      <th>P01_01_0</th>\n",
       "      <td>P01</td>\n",
       "      <td>P01_01</td>\n",
       "      <td>0 days 00:00:02.466000</td>\n",
       "      <td>0 days 00:00:05.315000</td>\n",
       "      <td>clang / clatter</td>\n",
       "      <td>plastic-only collision</td>\n",
       "      <td>6</td>\n",
       "      <td>2.849</td>\n",
       "      <td>6</td>\n",
       "      <td>0 days 00:00:04.370000</td>\n",
       "      <td>0 days 00:00:06.170000</td>\n",
       "      <td>1.80</td>\n",
       "      <td>-1.057778</td>\n",
       "      <td>0.525000</td>\n",
       "    </tr>\n",
       "    <tr>\n",
       "      <th>P01_01_7</th>\n",
       "      <td>P01</td>\n",
       "      <td>P01_01</td>\n",
       "      <td>0 days 00:00:24.836000</td>\n",
       "      <td>0 days 00:00:27.002000</td>\n",
       "      <td>clang / clatter</td>\n",
       "      <td>plastic-only collision</td>\n",
       "      <td>6</td>\n",
       "      <td>2.166</td>\n",
       "      <td>3</td>\n",
       "      <td>0 days 00:00:24.970000</td>\n",
       "      <td>0 days 00:00:26.200000</td>\n",
       "      <td>1.23</td>\n",
       "      <td>-0.108943</td>\n",
       "      <td>1.652033</td>\n",
       "    </tr>\n",
       "    <tr>\n",
       "      <th>P01_01_103</th>\n",
       "      <td>P01</td>\n",
       "      <td>P01_01</td>\n",
       "      <td>0 days 00:07:58.509000</td>\n",
       "      <td>0 days 00:08:00.949000</td>\n",
       "      <td>open / close drawer</td>\n",
       "      <td>open / close</td>\n",
       "      <td>3</td>\n",
       "      <td>2.440</td>\n",
       "      <td>0</td>\n",
       "      <td>0 days 00:07:59.750000</td>\n",
       "      <td>0 days 00:08:00.880000</td>\n",
       "      <td>1.13</td>\n",
       "      <td>-1.098230</td>\n",
       "      <td>1.061062</td>\n",
       "    </tr>\n",
       "    <tr>\n",
       "      <th>P01_01_104</th>\n",
       "      <td>P01</td>\n",
       "      <td>P01_01</td>\n",
       "      <td>0 days 00:08:03.760000</td>\n",
       "      <td>0 days 00:08:09.300000</td>\n",
       "      <td>open / close drawer</td>\n",
       "      <td>open / close</td>\n",
       "      <td>3</td>\n",
       "      <td>5.540</td>\n",
       "      <td>0</td>\n",
       "      <td>0 days 00:08:05.220000</td>\n",
       "      <td>0 days 00:08:07.210000</td>\n",
       "      <td>1.99</td>\n",
       "      <td>-0.733668</td>\n",
       "      <td>2.050251</td>\n",
       "    </tr>\n",
       "  </tbody>\n",
       "</table>\n",
       "</div>"
      ],
      "text/plain": [
       "              participant_id video_id                    s_s  \\\n",
       "annotation_id                                                  \n",
       "P01_01_0                 P01   P01_01 0 days 00:00:02.466000   \n",
       "P01_01_0                 P01   P01_01 0 days 00:00:02.466000   \n",
       "P01_01_7                 P01   P01_01 0 days 00:00:24.836000   \n",
       "P01_01_103               P01   P01_01 0 days 00:07:58.509000   \n",
       "P01_01_104               P01   P01_01 0 days 00:08:03.760000   \n",
       "\n",
       "                                 e_s          description  \\\n",
       "annotation_id                                               \n",
       "P01_01_0      0 days 00:00:05.315000      clang / clatter   \n",
       "P01_01_0      0 days 00:00:05.315000      clang / clatter   \n",
       "P01_01_7      0 days 00:00:27.002000      clang / clatter   \n",
       "P01_01_103    0 days 00:08:00.949000  open / close drawer   \n",
       "P01_01_104    0 days 00:08:09.300000  open / close drawer   \n",
       "\n",
       "                                class  class_id  duration_in_s_s  \\\n",
       "annotation_id                                                      \n",
       "P01_01_0       plastic-only collision         6            2.849   \n",
       "P01_01_0       plastic-only collision         6            2.849   \n",
       "P01_01_7       plastic-only collision         6            2.166   \n",
       "P01_01_103               open / close         3            2.440   \n",
       "P01_01_104               open / close         3            5.540   \n",
       "\n",
       "               verb_class_ek                    s_k                    e_k  \\\n",
       "annotation_id                                                                \n",
       "P01_01_0                   3 0 days 00:00:00.140000 0 days 00:00:03.370000   \n",
       "P01_01_0                   6 0 days 00:00:04.370000 0 days 00:00:06.170000   \n",
       "P01_01_7                   3 0 days 00:00:24.970000 0 days 00:00:26.200000   \n",
       "P01_01_103                 0 0 days 00:07:59.750000 0 days 00:08:00.880000   \n",
       "P01_01_104                 0 0 days 00:08:05.220000 0 days 00:08:07.210000   \n",
       "\n",
       "               duration_in_s_k  s_s_norm  e_s_norm  \n",
       "annotation_id                                       \n",
       "P01_01_0                  3.23  0.720124  1.602167  \n",
       "P01_01_0                  1.80 -1.057778  0.525000  \n",
       "P01_01_7                  1.23 -0.108943  1.652033  \n",
       "P01_01_103                1.13 -1.098230  1.061062  \n",
       "P01_01_104                1.99 -0.733668  2.050251  "
      ]
     },
     "execution_count": 15,
     "metadata": {},
     "output_type": "execute_result"
    }
   ],
   "source": [
    "\n",
    "loose_detailed_overlaps = return_overlaps(\n",
    "    overlaps_df=train_overlaps,\n",
    "    es=es_train_df,\n",
    "    n_overlaps=1,\n",
    "    strict=False,\n",
    ")\n",
    "strict_detailed_overlaps = return_overlaps(\n",
    "    overlaps_df=train_overlaps,\n",
    "    es=es_train_df,\n",
    "    n_overlaps=1,\n",
    "    strict=True,\n",
    ")\n",
    "\n",
    "loose_detailed_overlaps.head()"
   ]
  },
  {
   "cell_type": "code",
   "execution_count": 16,
   "metadata": {},
   "outputs": [
    {
     "name": "stderr",
     "output_type": "stream",
     "text": [
      "Going through all action annotations classes for loose overlaps...: 100%|██████████| 44/44 [00:08<00:00,  5.10class/s]\n"
     ]
    }
   ],
   "source": [
    "from loguru import logger\n",
    "import pandas as pd\n",
    "import plotly.graph_objects as go\n",
    "\n",
    "\n",
    "from plotly.subplots import make_subplots\n",
    "\n",
    "\n",
    "def plot_annotations_alignment_per_class(df: pd.DataFrame, class_id: int, class_name: str, strict: bool = False):\n",
    "    values = df.query(\"verb_class_ek == @class_id\").rename(\n",
    "        {\n",
    "            \"s_s_norm\": \"Norm. start timestamp\",\n",
    "            \"e_s_norm\": \"Norm. end timestamp\",\n",
    "        },\n",
    "        axis=1,\n",
    "    )\n",
    "    n_bins = 10 if strict else 30\n",
    "    std_start = values[\"Norm. start timestamp\"].std()\n",
    "    mean_start = values[\"Norm. start timestamp\"].mean()\n",
    "    std_end = values[\"Norm. end timestamp\"].std()\n",
    "    mean_end = values[\"Norm. end timestamp\"].mean()\n",
    "    n_samples = values.shape[0]\n",
    "\n",
    "    values = values[(values[\"Norm. start timestamp\"] >= -1) & (values[\"Norm. end timestamp\"] <= 2)]\n",
    "\n",
    "    # Get the count of most frequent sound annotation classes\n",
    "    sound_class_counts = values[\"class\"].value_counts().nlargest(10)\n",
    "\n",
    "    # Create a subplot layout with 1 row and 2 columns\n",
    "    fig = make_subplots(\n",
    "        rows=1,\n",
    "        cols=2,\n",
    "        subplot_titles=[\"Normalized action duration\", \"Most frequent sound annotation classes\"],\n",
    "        column_widths=[0.66, 0.33],\n",
    "    )\n",
    "\n",
    "    # First subplot for the normalized action duration histograms\n",
    "    fig.add_trace(\n",
    "        go.Histogram(\n",
    "            x=values[\"Norm. start timestamp\"],\n",
    "            name=\"Norm. start timestamp\",\n",
    "            marker_color=\"orange\" if strict else \"blue\",\n",
    "            nbinsx=n_bins,\n",
    "        ),\n",
    "        row=1,\n",
    "        col=1,\n",
    "    )\n",
    "    fig.add_trace(\n",
    "        go.Histogram(\n",
    "            x=values[\"Norm. end timestamp\"],\n",
    "            name=\"Norm. end timestamp\",\n",
    "            marker_color=\"red\",\n",
    "            nbinsx=n_bins,\n",
    "        ),\n",
    "        row=1,\n",
    "        col=1,\n",
    "    )\n",
    "\n",
    "    # Second subplot for the most frequent sound annotation classes histogram\n",
    "    fig.add_trace(\n",
    "        go.Bar(\n",
    "            x=sound_class_counts.index,\n",
    "            y=sound_class_counts.values,\n",
    "            marker_color=\"lightblue\",\n",
    "            name=\"Frequency\",\n",
    "        ),\n",
    "        row=1,\n",
    "        col=2,\n",
    "    )\n",
    "\n",
    "    # Update layout for the subplots\n",
    "    fig.update_layout(\n",
    "        title=f\"Alignment of sound annotations with action annotation <b>{class_name}</b> in EPIC-KITCHENS (<b>n={n_samples}</b>)<br>with <b>1 {'strict' if strict else 'loose'}</b> sound annotation overlap\",\n",
    "        height=600,\n",
    "        width=1200,\n",
    "        annotations=[\n",
    "            go.layout.Annotation(\n",
    "                text=f\"µ start: <b>{mean_start:.3f}</b><br>σ start: <b>{std_start:.3f}</b><br>µ end: <b>{mean_end:.3f}</b><br>σ end: <b>{std_end:.3f}</b>\",\n",
    "                align=\"right\",\n",
    "                showarrow=False,\n",
    "                xref=\"paper\",\n",
    "                yref=\"paper\",\n",
    "                x=1.12,\n",
    "                y=0.4,\n",
    "                bordercolor=\"orange\",\n",
    "                borderwidth=2,\n",
    "                borderpad=5,\n",
    "            )\n",
    "        ],\n",
    "    )\n",
    "    fig.update_xaxes(title_text=\"Normalized action duration\", row=1, col=1)\n",
    "    fig.update_yaxes(title_text=\"Count\", row=1, col=1)\n",
    "    fig.update_xaxes(title_text=\"Sound annotation classes\", row=1, col=2)\n",
    "    fig.update_yaxes(title_text=\"Sound class frequency\", row=1, col=2)\n",
    "\n",
    "    # fig.show()\n",
    "    fig.write_image(\n",
    "        f\"../res/dataset/alignment/{class_name}_{'strict' if strict else 'loose'}_global_alignment.png\", scale=3.0\n",
    "    )\n",
    "    fig.write_image(f\"../res/dataset/alignment/pdf/{class_name}_{'strict' if strict else 'loose'}_global_alignment.pdf\")\n",
    "\n",
    "\n",
    "os.makedirs(\"../res/dataset/alignment\", exist_ok=True)\n",
    "os.makedirs(\"../res/dataset/alignment/pdf\", exist_ok=True)\n",
    "\n",
    "for class_ in tqdm(\n",
    "    loose_detailed_overlaps.class_id.unique(),\n",
    "    unit=\"class\",\n",
    "    desc=\"Going through all action annotations classes for loose overlaps...\",\n",
    "):\n",
    "    plot_annotations_alignment_per_class(\n",
    "        df=loose_detailed_overlaps,\n",
    "        class_id=class_,\n",
    "        class_name=verbs_df.loc[class_, \"key\"],\n",
    "        strict=False,\n",
    "    )\n",
    "# for class_ in tqdm(\n",
    "#     loose_detailed_overlaps.class_id.unique(),\n",
    "#     unit=\"class\",\n",
    "#     desc=\"Going through all action annotations classes for strict overlaps...\",\n",
    "# ):\n",
    "#     plot_annotations_alignment_per_class(\n",
    "#         df=strict_detailed_overlaps,\n",
    "#         class_id=class_,\n",
    "#         class_name=verbs_df.loc[class_, \"key\"],\n",
    "#         strict=True,\n",
    "#     )"
   ]
  },
  {
   "cell_type": "code",
   "execution_count": null,
   "metadata": {},
   "outputs": [
    {
     "data": {
      "text/html": [
       "<div>\n",
       "<style scoped>\n",
       "    .dataframe tbody tr th:only-of-type {\n",
       "        vertical-align: middle;\n",
       "    }\n",
       "\n",
       "    .dataframe tbody tr th {\n",
       "        vertical-align: top;\n",
       "    }\n",
       "\n",
       "    .dataframe thead th {\n",
       "        text-align: right;\n",
       "    }\n",
       "</style>\n",
       "<table border=\"1\" class=\"dataframe\">\n",
       "  <thead>\n",
       "    <tr style=\"text-align: right;\">\n",
       "      <th></th>\n",
       "      <th>participant_id</th>\n",
       "      <th>video_id</th>\n",
       "      <th>narration_timestamp</th>\n",
       "      <th>start_timestamp</th>\n",
       "      <th>stop_timestamp</th>\n",
       "      <th>start_frame</th>\n",
       "      <th>stop_frame</th>\n",
       "      <th>narration</th>\n",
       "      <th>verb</th>\n",
       "      <th>verb_class</th>\n",
       "      <th>noun</th>\n",
       "      <th>noun_class</th>\n",
       "      <th>all_nouns</th>\n",
       "      <th>all_noun_classes</th>\n",
       "      <th>duration_in_s</th>\n",
       "      <th>n_overlap</th>\n",
       "      <th>n_overlap_strict</th>\n",
       "      <th>n_overlap_loose</th>\n",
       "    </tr>\n",
       "    <tr>\n",
       "      <th>narration_id</th>\n",
       "      <th></th>\n",
       "      <th></th>\n",
       "      <th></th>\n",
       "      <th></th>\n",
       "      <th></th>\n",
       "      <th></th>\n",
       "      <th></th>\n",
       "      <th></th>\n",
       "      <th></th>\n",
       "      <th></th>\n",
       "      <th></th>\n",
       "      <th></th>\n",
       "      <th></th>\n",
       "      <th></th>\n",
       "      <th></th>\n",
       "      <th></th>\n",
       "      <th></th>\n",
       "      <th></th>\n",
       "    </tr>\n",
       "  </thead>\n",
       "  <tbody>\n",
       "    <tr>\n",
       "      <th>P01_01_0</th>\n",
       "      <td>P01</td>\n",
       "      <td>P01_01</td>\n",
       "      <td>00:00:01.089</td>\n",
       "      <td>00:00:00.14</td>\n",
       "      <td>00:00:03.37</td>\n",
       "      <td>8</td>\n",
       "      <td>202</td>\n",
       "      <td>open door</td>\n",
       "      <td>open</td>\n",
       "      <td>3</td>\n",
       "      <td>door</td>\n",
       "      <td>3</td>\n",
       "      <td>['door']</td>\n",
       "      <td>[3]</td>\n",
       "      <td>3.23</td>\n",
       "      <td>0</td>\n",
       "      <td>0.0</td>\n",
       "      <td>1.0</td>\n",
       "    </tr>\n",
       "    <tr>\n",
       "      <th>P01_01_1</th>\n",
       "      <td>P01</td>\n",
       "      <td>P01_01</td>\n",
       "      <td>00:00:02.629</td>\n",
       "      <td>00:00:04.37</td>\n",
       "      <td>00:00:06.17</td>\n",
       "      <td>262</td>\n",
       "      <td>370</td>\n",
       "      <td>turn on light</td>\n",
       "      <td>turn-on</td>\n",
       "      <td>6</td>\n",
       "      <td>light</td>\n",
       "      <td>114</td>\n",
       "      <td>['light']</td>\n",
       "      <td>[114]</td>\n",
       "      <td>1.80</td>\n",
       "      <td>0</td>\n",
       "      <td>0.0</td>\n",
       "      <td>0.0</td>\n",
       "    </tr>\n",
       "    <tr>\n",
       "      <th>P01_01_10</th>\n",
       "      <td>P01</td>\n",
       "      <td>P01_01</td>\n",
       "      <td>00:00:23.340</td>\n",
       "      <td>00:00:24.97</td>\n",
       "      <td>00:00:26.20</td>\n",
       "      <td>1498</td>\n",
       "      <td>1572</td>\n",
       "      <td>open drawer</td>\n",
       "      <td>open</td>\n",
       "      <td>3</td>\n",
       "      <td>drawer</td>\n",
       "      <td>8</td>\n",
       "      <td>['drawer']</td>\n",
       "      <td>[8]</td>\n",
       "      <td>1.23</td>\n",
       "      <td>0</td>\n",
       "      <td>0.0</td>\n",
       "      <td>0.0</td>\n",
       "    </tr>\n",
       "    <tr>\n",
       "      <th>P01_01_100</th>\n",
       "      <td>P01</td>\n",
       "      <td>P01_01</td>\n",
       "      <td>00:07:57.919</td>\n",
       "      <td>00:07:59.75</td>\n",
       "      <td>00:08:00.88</td>\n",
       "      <td>28785</td>\n",
       "      <td>28852</td>\n",
       "      <td>take cup</td>\n",
       "      <td>take</td>\n",
       "      <td>0</td>\n",
       "      <td>cup</td>\n",
       "      <td>13</td>\n",
       "      <td>['cup']</td>\n",
       "      <td>[13]</td>\n",
       "      <td>1.13</td>\n",
       "      <td>0</td>\n",
       "      <td>0.0</td>\n",
       "      <td>0.0</td>\n",
       "    </tr>\n",
       "    <tr>\n",
       "      <th>P01_01_101</th>\n",
       "      <td>P01</td>\n",
       "      <td>P01_01</td>\n",
       "      <td>00:08:00.020</td>\n",
       "      <td>00:08:01.47</td>\n",
       "      <td>00:08:02.21</td>\n",
       "      <td>28888</td>\n",
       "      <td>28932</td>\n",
       "      <td>open cupboard</td>\n",
       "      <td>open</td>\n",
       "      <td>3</td>\n",
       "      <td>cupboard</td>\n",
       "      <td>3</td>\n",
       "      <td>['cupboard']</td>\n",
       "      <td>[3]</td>\n",
       "      <td>0.74</td>\n",
       "      <td>0</td>\n",
       "      <td>0.0</td>\n",
       "      <td>0.0</td>\n",
       "    </tr>\n",
       "  </tbody>\n",
       "</table>\n",
       "</div>"
      ],
      "text/plain": [
       "             participant_id video_id narration_timestamp start_timestamp  \\\n",
       "narration_id                                                               \n",
       "P01_01_0                P01   P01_01        00:00:01.089     00:00:00.14   \n",
       "P01_01_1                P01   P01_01        00:00:02.629     00:00:04.37   \n",
       "P01_01_10               P01   P01_01        00:00:23.340     00:00:24.97   \n",
       "P01_01_100              P01   P01_01        00:07:57.919     00:07:59.75   \n",
       "P01_01_101              P01   P01_01        00:08:00.020     00:08:01.47   \n",
       "\n",
       "             stop_timestamp  start_frame  stop_frame      narration     verb  \\\n",
       "narration_id                                                                   \n",
       "P01_01_0        00:00:03.37            8         202      open door     open   \n",
       "P01_01_1        00:00:06.17          262         370  turn on light  turn-on   \n",
       "P01_01_10       00:00:26.20         1498        1572    open drawer     open   \n",
       "P01_01_100      00:08:00.88        28785       28852       take cup     take   \n",
       "P01_01_101      00:08:02.21        28888       28932  open cupboard     open   \n",
       "\n",
       "              verb_class      noun  noun_class     all_nouns all_noun_classes  \\\n",
       "narration_id                                                                    \n",
       "P01_01_0               3      door           3      ['door']              [3]   \n",
       "P01_01_1               6     light         114     ['light']            [114]   \n",
       "P01_01_10              3    drawer           8    ['drawer']              [8]   \n",
       "P01_01_100             0       cup          13       ['cup']             [13]   \n",
       "P01_01_101             3  cupboard           3  ['cupboard']              [3]   \n",
       "\n",
       "              duration_in_s  n_overlap  n_overlap_strict  n_overlap_loose  \n",
       "narration_id                                                               \n",
       "P01_01_0               3.23          0               0.0              1.0  \n",
       "P01_01_1               1.80          0               0.0              0.0  \n",
       "P01_01_10              1.23          0               0.0              0.0  \n",
       "P01_01_100             1.13          0               0.0              0.0  \n",
       "P01_01_101             0.74          0               0.0              0.0  "
      ]
     },
     "execution_count": 25,
     "metadata": {},
     "output_type": "execute_result"
    }
   ],
   "source": [
    "train_overlaps.head()"
   ]
  },
  {
   "cell_type": "code",
   "execution_count": null,
   "metadata": {},
   "outputs": [
    {
     "data": {
      "text/html": [
       "<div>\n",
       "<style scoped>\n",
       "    .dataframe tbody tr th:only-of-type {\n",
       "        vertical-align: middle;\n",
       "    }\n",
       "\n",
       "    .dataframe tbody tr th {\n",
       "        vertical-align: top;\n",
       "    }\n",
       "\n",
       "    .dataframe thead th {\n",
       "        text-align: right;\n",
       "    }\n",
       "</style>\n",
       "<table border=\"1\" class=\"dataframe\">\n",
       "  <thead>\n",
       "    <tr style=\"text-align: right;\">\n",
       "      <th></th>\n",
       "      <th>verb_class</th>\n",
       "      <th>count</th>\n",
       "      <th>class</th>\n",
       "      <th>n_overlaps</th>\n",
       "      <th>count_by_class</th>\n",
       "    </tr>\n",
       "  </thead>\n",
       "  <tbody>\n",
       "    <tr>\n",
       "      <th>54</th>\n",
       "      <td>0</td>\n",
       "      <td>63</td>\n",
       "      <td>take</td>\n",
       "      <td>4+</td>\n",
       "      <td>14847</td>\n",
       "    </tr>\n",
       "    <tr>\n",
       "      <th>3</th>\n",
       "      <td>0</td>\n",
       "      <td>171</td>\n",
       "      <td>take</td>\n",
       "      <td>3</td>\n",
       "      <td>14847</td>\n",
       "    </tr>\n",
       "    <tr>\n",
       "      <th>2</th>\n",
       "      <td>0</td>\n",
       "      <td>777</td>\n",
       "      <td>take</td>\n",
       "      <td>2</td>\n",
       "      <td>14847</td>\n",
       "    </tr>\n",
       "    <tr>\n",
       "      <th>1</th>\n",
       "      <td>0</td>\n",
       "      <td>4580</td>\n",
       "      <td>take</td>\n",
       "      <td>1</td>\n",
       "      <td>14847</td>\n",
       "    </tr>\n",
       "    <tr>\n",
       "      <th>0</th>\n",
       "      <td>0</td>\n",
       "      <td>9256</td>\n",
       "      <td>take</td>\n",
       "      <td>0</td>\n",
       "      <td>14847</td>\n",
       "    </tr>\n",
       "    <tr>\n",
       "      <th>...</th>\n",
       "      <td>...</td>\n",
       "      <td>...</td>\n",
       "      <td>...</td>\n",
       "      <td>...</td>\n",
       "      <td>...</td>\n",
       "    </tr>\n",
       "    <tr>\n",
       "      <th>631</th>\n",
       "      <td>90</td>\n",
       "      <td>1</td>\n",
       "      <td>season</td>\n",
       "      <td>0</td>\n",
       "      <td>2</td>\n",
       "    </tr>\n",
       "    <tr>\n",
       "      <th>641</th>\n",
       "      <td>94</td>\n",
       "      <td>2</td>\n",
       "      <td>mark</td>\n",
       "      <td>0</td>\n",
       "      <td>2</td>\n",
       "    </tr>\n",
       "    <tr>\n",
       "      <th>643</th>\n",
       "      <td>95</td>\n",
       "      <td>2</td>\n",
       "      <td>bend</td>\n",
       "      <td>0</td>\n",
       "      <td>2</td>\n",
       "    </tr>\n",
       "    <tr>\n",
       "      <th>644</th>\n",
       "      <td>96</td>\n",
       "      <td>1</td>\n",
       "      <td>unfreeze</td>\n",
       "      <td>0</td>\n",
       "      <td>2</td>\n",
       "    </tr>\n",
       "    <tr>\n",
       "      <th>640</th>\n",
       "      <td>93</td>\n",
       "      <td>1</td>\n",
       "      <td>bake</td>\n",
       "      <td>1</td>\n",
       "      <td>1</td>\n",
       "    </tr>\n",
       "  </tbody>\n",
       "</table>\n",
       "<p>412 rows × 5 columns</p>\n",
       "</div>"
      ],
      "text/plain": [
       "     verb_class  count     class n_overlaps  count_by_class\n",
       "54            0     63      take         4+           14847\n",
       "3             0    171      take          3           14847\n",
       "2             0    777      take          2           14847\n",
       "1             0   4580      take          1           14847\n",
       "0             0   9256      take          0           14847\n",
       "..          ...    ...       ...        ...             ...\n",
       "631          90      1    season          0               2\n",
       "641          94      2      mark          0               2\n",
       "643          95      2      bend          0               2\n",
       "644          96      1  unfreeze          0               2\n",
       "640          93      1      bake          1               1\n",
       "\n",
       "[412 rows x 5 columns]"
      ]
     },
     "execution_count": 175,
     "metadata": {},
     "output_type": "execute_result"
    }
   ],
   "source": [
    "a_df = train_overlaps[[\"verb_class\", \"n_overlap_loose\", \"participant_id\"]].groupby(\n",
    "    by=[\"verb_class\", \"n_overlap_loose\"]\n",
    ").count().reset_index(allow_duplicates=False).rename(\n",
    "    {\"participant_id\": \"count\"},\n",
    "    axis=1,\n",
    ").query(\"n_overlap_loose < 10\")\n",
    "\n",
    "a_df[\"class\"] = a_df[\"verb_class\"].apply(lambda x: verbs_df.loc[x, \"key\"])\n",
    "\n",
    "a_df[\"n_overlap_loose\"] = a_df[\"n_overlap_loose\"].astype(int)\n",
    "lower_than_4 = a_df[a_df[\"n_overlap_loose\"] < 4].copy()\n",
    "larger_than_4 = a_df[a_df[\"n_overlap_loose\"] >= 4].copy()\n",
    "\n",
    "\n",
    "larger_than_4.groupby([\"class\"]).sum()\n",
    "\n",
    "larger_than_4[\"n_overlaps\"] = \"4+\"\n",
    "lower_than_4[\"n_overlaps\"] = lower_than_4[\"n_overlap_loose\"]\n",
    "\n",
    "lower_than_4\n",
    "larger_than_4.reset_index(drop=True, inplace=True)\n",
    "larger_than_4 = larger_than_4.groupby([\"class\", \"verb_class\", \"n_overlaps\"]).sum().reset_index()\n",
    "larger_than_4\n",
    "a_df = pd.concat([lower_than_4, larger_than_4]).drop([\"n_overlap_loose\"], axis=1)\n",
    "a_df\n",
    "\n",
    "a_df[\"count_by_class\"] = a_df[\"count\"].groupby(a_df[\"class\"]).transform(\"sum\")\n",
    "a_df = a_df.sort_values(by=[\"count_by_class\", \"n_overlaps\"], ascending=False)\n",
    "a_df"
   ]
  },
  {
   "cell_type": "code",
   "execution_count": null,
   "metadata": {},
   "outputs": [],
   "source": [
    "def plot_overlaps_per_class(df: pd.DataFrame, split: str) -> None:\n",
    "    a_df = df[[\"verb_class\", \"n_overlap_loose\", \"participant_id\"]].groupby(\n",
    "        by=[\"verb_class\", \"n_overlap_loose\"]\n",
    "    ).count().reset_index(allow_duplicates=False).rename(\n",
    "        {\"participant_id\": \"count\"},\n",
    "        axis=1,\n",
    "    ).query(\"n_overlap_loose < 10\")\n",
    "\n",
    "    a_df[\"class\"] = a_df[\"verb_class\"].apply(lambda x: verbs_df.loc[x, \"key\"])\n",
    "\n",
    "    a_df[\"n_overlap_loose\"] = a_df[\"n_overlap_loose\"].astype(int)\n",
    "    lower_than_4 = a_df[a_df[\"n_overlap_loose\"] < 4].copy()\n",
    "    larger_than_4 = a_df[a_df[\"n_overlap_loose\"] >= 4].copy()\n",
    "\n",
    "\n",
    "    larger_than_4.groupby([\"class\"]).sum()\n",
    "\n",
    "    larger_than_4[\"n_overlaps\"] = \"4+\"\n",
    "    lower_than_4[\"n_overlaps\"] = lower_than_4[\"n_overlap_loose\"]\n",
    "\n",
    "    larger_than_4.reset_index(drop=True, inplace=True)\n",
    "    larger_than_4 = larger_than_4.groupby([\"class\", \"verb_class\", \"n_overlaps\"]).sum().reset_index()\n",
    "    larger_than_4\n",
    "    a_df = pd.concat([lower_than_4, larger_than_4]).drop([\"n_overlap_loose\"], axis=1)\n",
    "\n",
    "    a_df[\"count_by_class\"] = a_df[\"count\"].groupby(a_df[\"class\"]).transform(\"sum\")\n",
    "    a_df = a_df.sort_values(by=[\"count_by_class\", \"n_overlaps\"], ascending=False)\n",
    "\n",
    "    fig = px.bar(\n",
    "        a_df,\n",
    "        x=\"class\",\n",
    "        y=\"count\",\n",
    "        color=\"n_overlaps\",\n",
    "        color_discrete_sequence=px.colors.sequential.Oranges_r if split == \"training\" else px.colors.sequential.Blues_r,\n",
    "        labels={\"class\": \"Verb class\", \"count\": \"Nb. of actions\", \"n_overlaps\": \"Nb. of overlapping<br>sound annotations\"},\n",
    "        title=f\"Annotation overlaps per class in <b>{split}</b> set of EPIC datasets\",\n",
    "        height=600,\n",
    "        width=1200,\n",
    "    )\n",
    "\n",
    "    fig.update_layout(\n",
    "        legend=dict(\n",
    "            orientation=\"h\",\n",
    "            yanchor=\"bottom\",\n",
    "            y=1.02,\n",
    "            xanchor=\"right\",\n",
    "            x=1,\n",
    "        ),\n",
    "    )\n",
    "    fig.show()\n",
    "\n",
    "    fig.write_image(f\"../res/dataset/overlaps/ek_es_{split}_overlaps_per_class.png\", scale=3.0)\n",
    "    fig.write_image(f\"../res/dataset/overlaps/pdf/ek_es_{split}_overlaps_per_class.pdf\")"
   ]
  },
  {
   "cell_type": "code",
   "execution_count": null,
   "metadata": {},
   "outputs": [
    {
     "data": {
      "application/vnd.plotly.v1+json": {
       "config": {
        "plotlyServerURL": "https://plot.ly"
       },
       "data": [
        {
         "alignmentgroup": "True",
         "hovertemplate": "Nb. of overlapping<br>sound annotations=4+<br>Verb class=%{x}<br>Nb. of actions=%{y}<extra></extra>",
         "legendgroup": "4+",
         "marker": {
          "color": "rgb(127,39,4)",
          "pattern": {
           "shape": ""
          }
         },
         "name": "4+",
         "offsetgroup": "4+",
         "orientation": "v",
         "showlegend": true,
         "textposition": "auto",
         "type": "bar",
         "x": [
          "take",
          "put",
          "wash",
          "open",
          "close",
          "insert",
          "turn-on",
          "turn-off",
          "move",
          "cut",
          "pour",
          "mix",
          "remove",
          "throw",
          "dry",
          "shake",
          "adjust",
          "squeeze",
          "peel",
          "scoop",
          "press",
          "flip",
          "empty",
          "check",
          "turn",
          "fill",
          "scrape",
          "scrub",
          "apply",
          "break",
          "hold",
          "lift",
          "pat",
          "filter",
          "unroll",
          "pull",
          "sort",
          "look",
          "search",
          "sprinkle",
          "roll",
          "rip",
          "sharpen",
          "rub",
          "cook",
          "add",
          "divide",
          "set",
          "brush",
          "crush",
          "slide",
          "coat",
          "soak",
          "gather",
          "knead",
          "attach",
          "measure",
          "wear",
          "grate",
          "screw",
          "choose",
          "unwrap",
          "prepare",
          "unfreeze"
         ],
         "xaxis": "x",
         "y": [
          63,
          62,
          267,
          37,
          17,
          58,
          20,
          2,
          16,
          298,
          46,
          254,
          35,
          8,
          17,
          6,
          1,
          6,
          41,
          26,
          6,
          7,
          7,
          4,
          6,
          2,
          18,
          6,
          13,
          12,
          4,
          1,
          3,
          3,
          5,
          1,
          3,
          3,
          9,
          3,
          3,
          1,
          1,
          2,
          15,
          6,
          9,
          7,
          10,
          8,
          4,
          1,
          1,
          1,
          1,
          2,
          2,
          1,
          4,
          1,
          1,
          4,
          3,
          1
         ],
         "yaxis": "y"
        },
        {
         "alignmentgroup": "True",
         "hovertemplate": "Nb. of overlapping<br>sound annotations=3<br>Verb class=%{x}<br>Nb. of actions=%{y}<extra></extra>",
         "legendgroup": "3",
         "marker": {
          "color": "rgb(166,54,3)",
          "pattern": {
           "shape": ""
          }
         },
         "name": "3",
         "offsetgroup": "3",
         "orientation": "v",
         "showlegend": true,
         "textposition": "auto",
         "type": "bar",
         "x": [
          "take",
          "put",
          "wash",
          "open",
          "close",
          "insert",
          "turn-on",
          "turn-off",
          "move",
          "cut",
          "pour",
          "mix",
          "remove",
          "throw",
          "dry",
          "shake",
          "adjust",
          "squeeze",
          "peel",
          "scoop",
          "press",
          "flip",
          "empty",
          "check",
          "turn",
          "fill",
          "scrape",
          "scrub",
          "apply",
          "break",
          "lift",
          "pat",
          "eat",
          "filter",
          "unroll",
          "pull",
          "wrap",
          "sort",
          "look",
          "spray",
          "search",
          "sprinkle",
          "roll",
          "rip",
          "sharpen",
          "rub",
          "cook",
          "add",
          "divide",
          "set",
          "brush",
          "crush",
          "feel",
          "slide",
          "soak",
          "drink",
          "gather",
          "knead",
          "attach",
          "water",
          "measure",
          "wait",
          "increase",
          "grate",
          "screw",
          "choose",
          "serve",
          "unwrap",
          "switch",
          "stab",
          "carry"
         ],
         "xaxis": "x",
         "y": [
          171,
          133,
          257,
          56,
          23,
          78,
          32,
          2,
          24,
          148,
          53,
          123,
          25,
          15,
          18,
          9,
          6,
          4,
          20,
          15,
          6,
          9,
          7,
          9,
          10,
          6,
          5,
          12,
          9,
          12,
          3,
          2,
          4,
          7,
          3,
          1,
          4,
          1,
          2,
          4,
          6,
          5,
          2,
          3,
          1,
          3,
          5,
          5,
          4,
          1,
          7,
          3,
          1,
          2,
          1,
          2,
          4,
          3,
          1,
          1,
          2,
          1,
          1,
          2,
          1,
          2,
          3,
          1,
          1,
          1,
          1
         ],
         "yaxis": "y"
        },
        {
         "alignmentgroup": "True",
         "hovertemplate": "Nb. of overlapping<br>sound annotations=2<br>Verb class=%{x}<br>Nb. of actions=%{y}<extra></extra>",
         "legendgroup": "2",
         "marker": {
          "color": "rgb(217,72,1)",
          "pattern": {
           "shape": ""
          }
         },
         "name": "2",
         "offsetgroup": "2",
         "orientation": "v",
         "showlegend": true,
         "textposition": "auto",
         "type": "bar",
         "x": [
          "take",
          "put",
          "wash",
          "open",
          "close",
          "insert",
          "turn-on",
          "turn-off",
          "move",
          "cut",
          "pour",
          "mix",
          "remove",
          "throw",
          "dry",
          "shake",
          "adjust",
          "squeeze",
          "peel",
          "scoop",
          "press",
          "flip",
          "empty",
          "check",
          "turn",
          "fill",
          "scrape",
          "scrub",
          "apply",
          "fold",
          "break",
          "hold",
          "lift",
          "pat",
          "eat",
          "filter",
          "unroll",
          "pull",
          "wrap",
          "sort",
          "look",
          "spray",
          "hang",
          "search",
          "sprinkle",
          "roll",
          "stretch",
          "rip",
          "sharpen",
          "rub",
          "cook",
          "add",
          "divide",
          "set",
          "brush",
          "crush",
          "drop",
          "slide",
          "soak",
          "coat",
          "drink",
          "gather",
          "knead",
          "attach",
          "water",
          "transition",
          "measure",
          "wear",
          "turn-down",
          "form",
          "use",
          "wait",
          "lower",
          "increase",
          "let-go",
          "grate",
          "screw",
          "unscrew",
          "lock",
          "flatten",
          "choose",
          "serve",
          "finish",
          "unwrap",
          "switch",
          "stab",
          "uncover",
          "carry",
          "unlock",
          "season"
         ],
         "xaxis": "x",
         "y": [
          777,
          656,
          704,
          308,
          196,
          287,
          194,
          24,
          103,
          281,
          173,
          254,
          111,
          47,
          65,
          28,
          26,
          24,
          43,
          56,
          21,
          24,
          36,
          19,
          25,
          16,
          34,
          27,
          22,
          9,
          20,
          11,
          13,
          13,
          9,
          16,
          10,
          8,
          15,
          9,
          5,
          8,
          5,
          14,
          8,
          13,
          1,
          9,
          1,
          9,
          8,
          4,
          9,
          3,
          9,
          8,
          3,
          5,
          6,
          1,
          3,
          3,
          5,
          5,
          3,
          2,
          3,
          9,
          8,
          3,
          3,
          2,
          1,
          2,
          2,
          3,
          2,
          2,
          2,
          4,
          3,
          2,
          1,
          2,
          4,
          3,
          1,
          1,
          1,
          1
         ],
         "yaxis": "y"
        },
        {
         "alignmentgroup": "True",
         "hovertemplate": "Nb. of overlapping<br>sound annotations=1<br>Verb class=%{x}<br>Nb. of actions=%{y}<extra></extra>",
         "legendgroup": "1",
         "marker": {
          "color": "rgb(241,105,19)",
          "pattern": {
           "shape": ""
          }
         },
         "name": "1",
         "offsetgroup": "1",
         "orientation": "v",
         "showlegend": true,
         "textposition": "auto",
         "type": "bar",
         "x": [
          "take",
          "put",
          "wash",
          "open",
          "close",
          "insert",
          "turn-on",
          "turn-off",
          "move",
          "cut",
          "pour",
          "mix",
          "remove",
          "throw",
          "dry",
          "shake",
          "adjust",
          "squeeze",
          "peel",
          "scoop",
          "press",
          "flip",
          "empty",
          "check",
          "turn",
          "fill",
          "scrape",
          "scrub",
          "apply",
          "fold",
          "break",
          "hold",
          "lift",
          "pat",
          "eat",
          "filter",
          "unroll",
          "pull",
          "wrap",
          "sort",
          "look",
          "spray",
          "hang",
          "search",
          "sprinkle",
          "roll",
          "stretch",
          "rip",
          "sharpen",
          "rub",
          "cook",
          "add",
          "divide",
          "set",
          "brush",
          "crush",
          "feel",
          "drop",
          "slide",
          "soak",
          "coat",
          "drink",
          "gather",
          "knead",
          "attach",
          "water",
          "transition",
          "measure",
          "wear",
          "turn-down",
          "form",
          "use",
          "wait",
          "lower",
          "smell",
          "increase",
          "let-go",
          "grate",
          "screw",
          "unscrew",
          "lock",
          "flatten",
          "choose",
          "serve",
          "finish",
          "switch",
          "stab",
          "uncover",
          "carry",
          "unlock",
          "prepare",
          "bake"
         ],
         "xaxis": "x",
         "y": [
          4580,
          4546,
          1944,
          1836,
          1363,
          1061,
          1440,
          282,
          541,
          470,
          523,
          452,
          293,
          257,
          216,
          163,
          79,
          95,
          73,
          99,
          108,
          56,
          112,
          73,
          68,
          94,
          76,
          58,
          53,
          28,
          51,
          52,
          37,
          46,
          30,
          48,
          59,
          52,
          44,
          35,
          18,
          36,
          16,
          26,
          23,
          26,
          14,
          34,
          2,
          18,
          19,
          12,
          14,
          15,
          13,
          26,
          17,
          11,
          15,
          16,
          10,
          20,
          19,
          13,
          13,
          14,
          19,
          8,
          7,
          10,
          3,
          11,
          8,
          15,
          6,
          8,
          9,
          10,
          6,
          4,
          3,
          3,
          2,
          4,
          1,
          2,
          3,
          5,
          2,
          2,
          1,
          1
         ],
         "yaxis": "y"
        },
        {
         "alignmentgroup": "True",
         "hovertemplate": "Nb. of overlapping<br>sound annotations=0<br>Verb class=%{x}<br>Nb. of actions=%{y}<extra></extra>",
         "legendgroup": "0",
         "marker": {
          "color": "rgb(253,141,60)",
          "pattern": {
           "shape": ""
          }
         },
         "name": "0",
         "offsetgroup": "0",
         "orientation": "v",
         "showlegend": true,
         "textposition": "auto",
         "type": "bar",
         "x": [
          "take",
          "put",
          "wash",
          "open",
          "close",
          "insert",
          "turn-on",
          "turn-off",
          "move",
          "cut",
          "pour",
          "mix",
          "remove",
          "throw",
          "dry",
          "shake",
          "adjust",
          "squeeze",
          "peel",
          "scoop",
          "press",
          "flip",
          "empty",
          "check",
          "turn",
          "fill",
          "scrape",
          "scrub",
          "apply",
          "fold",
          "break",
          "hold",
          "lift",
          "pat",
          "eat",
          "filter",
          "unroll",
          "pull",
          "wrap",
          "sort",
          "look",
          "spray",
          "hang",
          "search",
          "sprinkle",
          "roll",
          "stretch",
          "rip",
          "sharpen",
          "rub",
          "cook",
          "add",
          "divide",
          "set",
          "brush",
          "crush",
          "feel",
          "drop",
          "slide",
          "soak",
          "coat",
          "drink",
          "gather",
          "knead",
          "attach",
          "water",
          "transition",
          "measure",
          "wear",
          "turn-down",
          "form",
          "use",
          "wait",
          "lower",
          "smell",
          "increase",
          "let-go",
          "grate",
          "screw",
          "unscrew",
          "lock",
          "flatten",
          "choose",
          "serve",
          "finish",
          "unwrap",
          "switch",
          "stab",
          "uncover",
          "carry",
          "unlock",
          "season",
          "mark",
          "bend",
          "unfreeze"
         ],
         "xaxis": "x",
         "y": [
          9256,
          6823,
          3741,
          2632,
          1883,
          1528,
          607,
          1550,
          966,
          422,
          796,
          467,
          593,
          456,
          419,
          364,
          296,
          242,
          186,
          166,
          205,
          243,
          173,
          162,
          154,
          114,
          80,
          105,
          101,
          158,
          100,
          105,
          102,
          83,
          100,
          66,
          62,
          70,
          59,
          68,
          80,
          51,
          72,
          37,
          52,
          43,
          65,
          30,
          69,
          41,
          24,
          42,
          30,
          39,
          24,
          17,
          43,
          46,
          30,
          31,
          43,
          28,
          25,
          29,
          24,
          25,
          21,
          27,
          23,
          20,
          30,
          20,
          22,
          16,
          22,
          15,
          15,
          6,
          11,
          12,
          9,
          7,
          5,
          3,
          9,
          4,
          4,
          3,
          2,
          4,
          3,
          1,
          2,
          2,
          1
         ],
         "yaxis": "y"
        }
       ],
       "layout": {
        "barmode": "relative",
        "height": 600,
        "legend": {
         "orientation": "h",
         "title": {
          "text": "Nb. of overlapping<br>sound annotations"
         },
         "tracegroupgap": 0,
         "x": 1,
         "xanchor": "right",
         "y": 1.02,
         "yanchor": "bottom"
        },
        "template": {
         "data": {
          "bar": [
           {
            "error_x": {
             "color": "#2a3f5f"
            },
            "error_y": {
             "color": "#2a3f5f"
            },
            "marker": {
             "line": {
              "color": "#E5ECF6",
              "width": 0.5
             },
             "pattern": {
              "fillmode": "overlay",
              "size": 10,
              "solidity": 0.2
             }
            },
            "type": "bar"
           }
          ],
          "barpolar": [
           {
            "marker": {
             "line": {
              "color": "#E5ECF6",
              "width": 0.5
             },
             "pattern": {
              "fillmode": "overlay",
              "size": 10,
              "solidity": 0.2
             }
            },
            "type": "barpolar"
           }
          ],
          "carpet": [
           {
            "aaxis": {
             "endlinecolor": "#2a3f5f",
             "gridcolor": "white",
             "linecolor": "white",
             "minorgridcolor": "white",
             "startlinecolor": "#2a3f5f"
            },
            "baxis": {
             "endlinecolor": "#2a3f5f",
             "gridcolor": "white",
             "linecolor": "white",
             "minorgridcolor": "white",
             "startlinecolor": "#2a3f5f"
            },
            "type": "carpet"
           }
          ],
          "choropleth": [
           {
            "colorbar": {
             "outlinewidth": 0,
             "ticks": ""
            },
            "type": "choropleth"
           }
          ],
          "contour": [
           {
            "colorbar": {
             "outlinewidth": 0,
             "ticks": ""
            },
            "colorscale": [
             [
              0,
              "#0d0887"
             ],
             [
              0.1111111111111111,
              "#46039f"
             ],
             [
              0.2222222222222222,
              "#7201a8"
             ],
             [
              0.3333333333333333,
              "#9c179e"
             ],
             [
              0.4444444444444444,
              "#bd3786"
             ],
             [
              0.5555555555555556,
              "#d8576b"
             ],
             [
              0.6666666666666666,
              "#ed7953"
             ],
             [
              0.7777777777777778,
              "#fb9f3a"
             ],
             [
              0.8888888888888888,
              "#fdca26"
             ],
             [
              1,
              "#f0f921"
             ]
            ],
            "type": "contour"
           }
          ],
          "contourcarpet": [
           {
            "colorbar": {
             "outlinewidth": 0,
             "ticks": ""
            },
            "type": "contourcarpet"
           }
          ],
          "heatmap": [
           {
            "colorbar": {
             "outlinewidth": 0,
             "ticks": ""
            },
            "colorscale": [
             [
              0,
              "#0d0887"
             ],
             [
              0.1111111111111111,
              "#46039f"
             ],
             [
              0.2222222222222222,
              "#7201a8"
             ],
             [
              0.3333333333333333,
              "#9c179e"
             ],
             [
              0.4444444444444444,
              "#bd3786"
             ],
             [
              0.5555555555555556,
              "#d8576b"
             ],
             [
              0.6666666666666666,
              "#ed7953"
             ],
             [
              0.7777777777777778,
              "#fb9f3a"
             ],
             [
              0.8888888888888888,
              "#fdca26"
             ],
             [
              1,
              "#f0f921"
             ]
            ],
            "type": "heatmap"
           }
          ],
          "heatmapgl": [
           {
            "colorbar": {
             "outlinewidth": 0,
             "ticks": ""
            },
            "colorscale": [
             [
              0,
              "#0d0887"
             ],
             [
              0.1111111111111111,
              "#46039f"
             ],
             [
              0.2222222222222222,
              "#7201a8"
             ],
             [
              0.3333333333333333,
              "#9c179e"
             ],
             [
              0.4444444444444444,
              "#bd3786"
             ],
             [
              0.5555555555555556,
              "#d8576b"
             ],
             [
              0.6666666666666666,
              "#ed7953"
             ],
             [
              0.7777777777777778,
              "#fb9f3a"
             ],
             [
              0.8888888888888888,
              "#fdca26"
             ],
             [
              1,
              "#f0f921"
             ]
            ],
            "type": "heatmapgl"
           }
          ],
          "histogram": [
           {
            "marker": {
             "pattern": {
              "fillmode": "overlay",
              "size": 10,
              "solidity": 0.2
             }
            },
            "type": "histogram"
           }
          ],
          "histogram2d": [
           {
            "colorbar": {
             "outlinewidth": 0,
             "ticks": ""
            },
            "colorscale": [
             [
              0,
              "#0d0887"
             ],
             [
              0.1111111111111111,
              "#46039f"
             ],
             [
              0.2222222222222222,
              "#7201a8"
             ],
             [
              0.3333333333333333,
              "#9c179e"
             ],
             [
              0.4444444444444444,
              "#bd3786"
             ],
             [
              0.5555555555555556,
              "#d8576b"
             ],
             [
              0.6666666666666666,
              "#ed7953"
             ],
             [
              0.7777777777777778,
              "#fb9f3a"
             ],
             [
              0.8888888888888888,
              "#fdca26"
             ],
             [
              1,
              "#f0f921"
             ]
            ],
            "type": "histogram2d"
           }
          ],
          "histogram2dcontour": [
           {
            "colorbar": {
             "outlinewidth": 0,
             "ticks": ""
            },
            "colorscale": [
             [
              0,
              "#0d0887"
             ],
             [
              0.1111111111111111,
              "#46039f"
             ],
             [
              0.2222222222222222,
              "#7201a8"
             ],
             [
              0.3333333333333333,
              "#9c179e"
             ],
             [
              0.4444444444444444,
              "#bd3786"
             ],
             [
              0.5555555555555556,
              "#d8576b"
             ],
             [
              0.6666666666666666,
              "#ed7953"
             ],
             [
              0.7777777777777778,
              "#fb9f3a"
             ],
             [
              0.8888888888888888,
              "#fdca26"
             ],
             [
              1,
              "#f0f921"
             ]
            ],
            "type": "histogram2dcontour"
           }
          ],
          "mesh3d": [
           {
            "colorbar": {
             "outlinewidth": 0,
             "ticks": ""
            },
            "type": "mesh3d"
           }
          ],
          "parcoords": [
           {
            "line": {
             "colorbar": {
              "outlinewidth": 0,
              "ticks": ""
             }
            },
            "type": "parcoords"
           }
          ],
          "pie": [
           {
            "automargin": true,
            "type": "pie"
           }
          ],
          "scatter": [
           {
            "fillpattern": {
             "fillmode": "overlay",
             "size": 10,
             "solidity": 0.2
            },
            "type": "scatter"
           }
          ],
          "scatter3d": [
           {
            "line": {
             "colorbar": {
              "outlinewidth": 0,
              "ticks": ""
             }
            },
            "marker": {
             "colorbar": {
              "outlinewidth": 0,
              "ticks": ""
             }
            },
            "type": "scatter3d"
           }
          ],
          "scattercarpet": [
           {
            "marker": {
             "colorbar": {
              "outlinewidth": 0,
              "ticks": ""
             }
            },
            "type": "scattercarpet"
           }
          ],
          "scattergeo": [
           {
            "marker": {
             "colorbar": {
              "outlinewidth": 0,
              "ticks": ""
             }
            },
            "type": "scattergeo"
           }
          ],
          "scattergl": [
           {
            "marker": {
             "colorbar": {
              "outlinewidth": 0,
              "ticks": ""
             }
            },
            "type": "scattergl"
           }
          ],
          "scattermapbox": [
           {
            "marker": {
             "colorbar": {
              "outlinewidth": 0,
              "ticks": ""
             }
            },
            "type": "scattermapbox"
           }
          ],
          "scatterpolar": [
           {
            "marker": {
             "colorbar": {
              "outlinewidth": 0,
              "ticks": ""
             }
            },
            "type": "scatterpolar"
           }
          ],
          "scatterpolargl": [
           {
            "marker": {
             "colorbar": {
              "outlinewidth": 0,
              "ticks": ""
             }
            },
            "type": "scatterpolargl"
           }
          ],
          "scatterternary": [
           {
            "marker": {
             "colorbar": {
              "outlinewidth": 0,
              "ticks": ""
             }
            },
            "type": "scatterternary"
           }
          ],
          "surface": [
           {
            "colorbar": {
             "outlinewidth": 0,
             "ticks": ""
            },
            "colorscale": [
             [
              0,
              "#0d0887"
             ],
             [
              0.1111111111111111,
              "#46039f"
             ],
             [
              0.2222222222222222,
              "#7201a8"
             ],
             [
              0.3333333333333333,
              "#9c179e"
             ],
             [
              0.4444444444444444,
              "#bd3786"
             ],
             [
              0.5555555555555556,
              "#d8576b"
             ],
             [
              0.6666666666666666,
              "#ed7953"
             ],
             [
              0.7777777777777778,
              "#fb9f3a"
             ],
             [
              0.8888888888888888,
              "#fdca26"
             ],
             [
              1,
              "#f0f921"
             ]
            ],
            "type": "surface"
           }
          ],
          "table": [
           {
            "cells": {
             "fill": {
              "color": "#EBF0F8"
             },
             "line": {
              "color": "white"
             }
            },
            "header": {
             "fill": {
              "color": "#C8D4E3"
             },
             "line": {
              "color": "white"
             }
            },
            "type": "table"
           }
          ]
         },
         "layout": {
          "annotationdefaults": {
           "arrowcolor": "#2a3f5f",
           "arrowhead": 0,
           "arrowwidth": 1
          },
          "autotypenumbers": "strict",
          "coloraxis": {
           "colorbar": {
            "outlinewidth": 0,
            "ticks": ""
           }
          },
          "colorscale": {
           "diverging": [
            [
             0,
             "#8e0152"
            ],
            [
             0.1,
             "#c51b7d"
            ],
            [
             0.2,
             "#de77ae"
            ],
            [
             0.3,
             "#f1b6da"
            ],
            [
             0.4,
             "#fde0ef"
            ],
            [
             0.5,
             "#f7f7f7"
            ],
            [
             0.6,
             "#e6f5d0"
            ],
            [
             0.7,
             "#b8e186"
            ],
            [
             0.8,
             "#7fbc41"
            ],
            [
             0.9,
             "#4d9221"
            ],
            [
             1,
             "#276419"
            ]
           ],
           "sequential": [
            [
             0,
             "#0d0887"
            ],
            [
             0.1111111111111111,
             "#46039f"
            ],
            [
             0.2222222222222222,
             "#7201a8"
            ],
            [
             0.3333333333333333,
             "#9c179e"
            ],
            [
             0.4444444444444444,
             "#bd3786"
            ],
            [
             0.5555555555555556,
             "#d8576b"
            ],
            [
             0.6666666666666666,
             "#ed7953"
            ],
            [
             0.7777777777777778,
             "#fb9f3a"
            ],
            [
             0.8888888888888888,
             "#fdca26"
            ],
            [
             1,
             "#f0f921"
            ]
           ],
           "sequentialminus": [
            [
             0,
             "#0d0887"
            ],
            [
             0.1111111111111111,
             "#46039f"
            ],
            [
             0.2222222222222222,
             "#7201a8"
            ],
            [
             0.3333333333333333,
             "#9c179e"
            ],
            [
             0.4444444444444444,
             "#bd3786"
            ],
            [
             0.5555555555555556,
             "#d8576b"
            ],
            [
             0.6666666666666666,
             "#ed7953"
            ],
            [
             0.7777777777777778,
             "#fb9f3a"
            ],
            [
             0.8888888888888888,
             "#fdca26"
            ],
            [
             1,
             "#f0f921"
            ]
           ]
          },
          "colorway": [
           "#636efa",
           "#EF553B",
           "#00cc96",
           "#ab63fa",
           "#FFA15A",
           "#19d3f3",
           "#FF6692",
           "#B6E880",
           "#FF97FF",
           "#FECB52"
          ],
          "font": {
           "color": "#2a3f5f"
          },
          "geo": {
           "bgcolor": "white",
           "lakecolor": "white",
           "landcolor": "#E5ECF6",
           "showlakes": true,
           "showland": true,
           "subunitcolor": "white"
          },
          "hoverlabel": {
           "align": "left"
          },
          "hovermode": "closest",
          "mapbox": {
           "style": "light"
          },
          "paper_bgcolor": "white",
          "plot_bgcolor": "#E5ECF6",
          "polar": {
           "angularaxis": {
            "gridcolor": "white",
            "linecolor": "white",
            "ticks": ""
           },
           "bgcolor": "#E5ECF6",
           "radialaxis": {
            "gridcolor": "white",
            "linecolor": "white",
            "ticks": ""
           }
          },
          "scene": {
           "xaxis": {
            "backgroundcolor": "#E5ECF6",
            "gridcolor": "white",
            "gridwidth": 2,
            "linecolor": "white",
            "showbackground": true,
            "ticks": "",
            "zerolinecolor": "white"
           },
           "yaxis": {
            "backgroundcolor": "#E5ECF6",
            "gridcolor": "white",
            "gridwidth": 2,
            "linecolor": "white",
            "showbackground": true,
            "ticks": "",
            "zerolinecolor": "white"
           },
           "zaxis": {
            "backgroundcolor": "#E5ECF6",
            "gridcolor": "white",
            "gridwidth": 2,
            "linecolor": "white",
            "showbackground": true,
            "ticks": "",
            "zerolinecolor": "white"
           }
          },
          "shapedefaults": {
           "line": {
            "color": "#2a3f5f"
           }
          },
          "ternary": {
           "aaxis": {
            "gridcolor": "white",
            "linecolor": "white",
            "ticks": ""
           },
           "baxis": {
            "gridcolor": "white",
            "linecolor": "white",
            "ticks": ""
           },
           "bgcolor": "#E5ECF6",
           "caxis": {
            "gridcolor": "white",
            "linecolor": "white",
            "ticks": ""
           }
          },
          "title": {
           "x": 0.05
          },
          "xaxis": {
           "automargin": true,
           "gridcolor": "white",
           "linecolor": "white",
           "ticks": "",
           "title": {
            "standoff": 15
           },
           "zerolinecolor": "white",
           "zerolinewidth": 2
          },
          "yaxis": {
           "automargin": true,
           "gridcolor": "white",
           "linecolor": "white",
           "ticks": "",
           "title": {
            "standoff": 15
           },
           "zerolinecolor": "white",
           "zerolinewidth": 2
          }
         }
        },
        "title": {
         "text": "Annotation overlaps per class in <b>training</b> set of EPIC datasets"
        },
        "width": 1200,
        "xaxis": {
         "anchor": "y",
         "domain": [
          0,
          1
         ],
         "title": {
          "text": "Verb class"
         }
        },
        "yaxis": {
         "anchor": "x",
         "domain": [
          0,
          1
         ],
         "title": {
          "text": "Nb. of actions"
         }
        }
       }
      }
     },
     "metadata": {},
     "output_type": "display_data"
    },
    {
     "data": {
      "application/vnd.plotly.v1+json": {
       "config": {
        "plotlyServerURL": "https://plot.ly"
       },
       "data": [
        {
         "alignmentgroup": "True",
         "hovertemplate": "Nb. of overlapping<br>sound annotations=4+<br>Verb class=%{x}<br>Nb. of actions=%{y}<extra></extra>",
         "legendgroup": "4+",
         "marker": {
          "color": "rgb(8,48,107)",
          "pattern": {
           "shape": ""
          }
         },
         "name": "4+",
         "offsetgroup": "4+",
         "orientation": "v",
         "showlegend": true,
         "textposition": "auto",
         "type": "bar",
         "x": [
          "take",
          "put",
          "wash",
          "open",
          "insert",
          "close",
          "turn-on",
          "mix",
          "cut",
          "pour",
          "remove",
          "move",
          "throw",
          "dry",
          "peel",
          "scoop",
          "squeeze",
          "empty",
          "apply",
          "add",
          "wrap",
          "knead",
          "filter",
          "cook",
          "sort",
          "break",
          "hold",
          "brush",
          "rip",
          "divide",
          "unwrap",
          "screw"
         ],
         "xaxis": "x",
         "y": [
          8,
          7,
          24,
          3,
          9,
          2,
          1,
          27,
          28,
          8,
          2,
          3,
          1,
          1,
          3,
          4,
          2,
          1,
          3,
          2,
          1,
          3,
          3,
          1,
          1,
          1,
          1,
          1,
          1,
          1,
          1,
          1
         ],
         "yaxis": "y"
        },
        {
         "alignmentgroup": "True",
         "hovertemplate": "Nb. of overlapping<br>sound annotations=3<br>Verb class=%{x}<br>Nb. of actions=%{y}<extra></extra>",
         "legendgroup": "3",
         "marker": {
          "color": "rgb(8,81,156)",
          "pattern": {
           "shape": ""
          }
         },
         "name": "3",
         "offsetgroup": "3",
         "orientation": "v",
         "showlegend": true,
         "textposition": "auto",
         "type": "bar",
         "x": [
          "take",
          "put",
          "wash",
          "open",
          "insert",
          "close",
          "turn-on",
          "mix",
          "cut",
          "pour",
          "remove",
          "turn-off",
          "move",
          "shake",
          "peel",
          "scoop",
          "apply",
          "turn",
          "wrap",
          "add",
          "fold",
          "filter",
          "cook",
          "crush",
          "flip",
          "brush",
          "divide",
          "unwrap",
          "serve",
          "measure",
          "attach",
          "choose"
         ],
         "xaxis": "x",
         "y": [
          13,
          24,
          34,
          5,
          18,
          2,
          5,
          22,
          23,
          6,
          5,
          1,
          1,
          1,
          7,
          2,
          1,
          3,
          1,
          1,
          1,
          1,
          1,
          3,
          1,
          1,
          1,
          1,
          1,
          1,
          1,
          1
         ],
         "yaxis": "y"
        },
        {
         "alignmentgroup": "True",
         "hovertemplate": "Nb. of overlapping<br>sound annotations=2<br>Verb class=%{x}<br>Nb. of actions=%{y}<extra></extra>",
         "legendgroup": "2",
         "marker": {
          "color": "rgb(33,113,181)",
          "pattern": {
           "shape": ""
          }
         },
         "name": "2",
         "offsetgroup": "2",
         "orientation": "v",
         "showlegend": true,
         "textposition": "auto",
         "type": "bar",
         "x": [
          "take",
          "put",
          "wash",
          "open",
          "insert",
          "close",
          "turn-on",
          "mix",
          "cut",
          "pour",
          "remove",
          "turn-off",
          "move",
          "throw",
          "dry",
          "shake",
          "adjust",
          "peel",
          "scoop",
          "squeeze",
          "empty",
          "check",
          "turn",
          "fill",
          "wrap",
          "add",
          "fold",
          "knead",
          "press",
          "eat",
          "soak",
          "sort",
          "cook",
          "crush",
          "transition",
          "flip",
          "break",
          "pull",
          "hold",
          "unscrew",
          "lift",
          "rip",
          "search",
          "unwrap",
          "season",
          "drink",
          "serve",
          "uncover",
          "attach",
          "carry"
         ],
         "xaxis": "x",
         "y": [
          110,
          66,
          86,
          33,
          53,
          24,
          30,
          60,
          39,
          22,
          14,
          3,
          10,
          17,
          1,
          4,
          4,
          5,
          7,
          2,
          1,
          2,
          3,
          3,
          2,
          2,
          1,
          6,
          2,
          1,
          1,
          1,
          3,
          1,
          4,
          1,
          1,
          1,
          1,
          1,
          1,
          1,
          3,
          1,
          1,
          1,
          1,
          1,
          1,
          1
         ],
         "yaxis": "y"
        },
        {
         "alignmentgroup": "True",
         "hovertemplate": "Nb. of overlapping<br>sound annotations=1<br>Verb class=%{x}<br>Nb. of actions=%{y}<extra></extra>",
         "legendgroup": "1",
         "marker": {
          "color": "rgb(66,146,198)",
          "pattern": {
           "shape": ""
          }
         },
         "name": "1",
         "offsetgroup": "1",
         "orientation": "v",
         "showlegend": true,
         "textposition": "auto",
         "type": "bar",
         "x": [
          "take",
          "put",
          "wash",
          "open",
          "insert",
          "close",
          "turn-on",
          "mix",
          "cut",
          "pour",
          "remove",
          "turn-off",
          "move",
          "throw",
          "dry",
          "shake",
          "adjust",
          "peel",
          "scoop",
          "squeeze",
          "empty",
          "apply",
          "check",
          "turn",
          "fill",
          "wrap",
          "add",
          "fold",
          "knead",
          "press",
          "scrub",
          "roll",
          "eat",
          "soak",
          "filter",
          "spray",
          "sort",
          "cook",
          "stab",
          "set",
          "crush",
          "transition",
          "flip",
          "break",
          "pull",
          "hold",
          "sprinkle",
          "hang",
          "brush",
          "unscrew",
          "scrape",
          "lift",
          "look",
          "rip",
          "pat",
          "search",
          "divide",
          "season",
          "serve",
          "drop",
          "gather",
          "turn-down",
          "measure",
          "attach",
          "screw",
          "finish",
          "choose",
          "unroll",
          "rub",
          "wear",
          "smell"
         ],
         "xaxis": "x",
         "y": [
          556,
          629,
          291,
          279,
          221,
          175,
          169,
          100,
          89,
          81,
          63,
          31,
          50,
          42,
          27,
          22,
          15,
          18,
          14,
          15,
          17,
          17,
          12,
          13,
          11,
          11,
          7,
          6,
          6,
          13,
          8,
          3,
          4,
          4,
          6,
          2,
          5,
          6,
          1,
          2,
          3,
          3,
          3,
          4,
          5,
          5,
          6,
          2,
          1,
          3,
          5,
          1,
          5,
          4,
          3,
          2,
          1,
          1,
          2,
          2,
          4,
          1,
          3,
          1,
          3,
          1,
          1,
          1,
          1,
          1,
          1
         ],
         "yaxis": "y"
        },
        {
         "alignmentgroup": "True",
         "hovertemplate": "Nb. of overlapping<br>sound annotations=0<br>Verb class=%{x}<br>Nb. of actions=%{y}<extra></extra>",
         "legendgroup": "0",
         "marker": {
          "color": "rgb(107,174,214)",
          "pattern": {
           "shape": ""
          }
         },
         "name": "0",
         "offsetgroup": "0",
         "orientation": "v",
         "showlegend": true,
         "textposition": "auto",
         "type": "bar",
         "x": [
          "take",
          "put",
          "wash",
          "open",
          "insert",
          "close",
          "turn-on",
          "mix",
          "cut",
          "pour",
          "remove",
          "turn-off",
          "move",
          "throw",
          "dry",
          "shake",
          "adjust",
          "peel",
          "scoop",
          "squeeze",
          "empty",
          "apply",
          "check",
          "turn",
          "fill",
          "wrap",
          "add",
          "fold",
          "knead",
          "press",
          "scrub",
          "roll",
          "eat",
          "soak",
          "filter",
          "spray",
          "sort",
          "cook",
          "stab",
          "set",
          "crush",
          "transition",
          "flip",
          "break",
          "pull",
          "hold",
          "sprinkle",
          "hang",
          "brush",
          "unscrew",
          "scrape",
          "lift",
          "look",
          "rip",
          "pat",
          "search",
          "divide",
          "unwrap",
          "season",
          "drink",
          "serve",
          "drop",
          "gather",
          "turn-down",
          "measure",
          "uncover",
          "attach",
          "finish",
          "choose",
          "unroll",
          "rub",
          "wear",
          "carry",
          "bake",
          "increase",
          "wait"
         ],
         "xaxis": "x",
         "y": [
          1250,
          982,
          705,
          490,
          305,
          311,
          98,
          76,
          105,
          125,
          138,
          176,
          76,
          59,
          68,
          61,
          45,
          29,
          26,
          31,
          29,
          18,
          24,
          12,
          17,
          14,
          17,
          15,
          8,
          6,
          12,
          17,
          14,
          12,
          6,
          14,
          8,
          4,
          13,
          11,
          4,
          4,
          5,
          4,
          4,
          3,
          4,
          7,
          6,
          5,
          3,
          6,
          3,
          2,
          4,
          2,
          4,
          4,
          5,
          5,
          2,
          3,
          1,
          4,
          1,
          4,
          1,
          3,
          2,
          2,
          2,
          2,
          1,
          2,
          1,
          1
         ],
         "yaxis": "y"
        }
       ],
       "layout": {
        "barmode": "relative",
        "height": 600,
        "legend": {
         "orientation": "h",
         "title": {
          "text": "Nb. of overlapping<br>sound annotations"
         },
         "tracegroupgap": 0,
         "x": 1,
         "xanchor": "right",
         "y": 1.02,
         "yanchor": "bottom"
        },
        "template": {
         "data": {
          "bar": [
           {
            "error_x": {
             "color": "#2a3f5f"
            },
            "error_y": {
             "color": "#2a3f5f"
            },
            "marker": {
             "line": {
              "color": "#E5ECF6",
              "width": 0.5
             },
             "pattern": {
              "fillmode": "overlay",
              "size": 10,
              "solidity": 0.2
             }
            },
            "type": "bar"
           }
          ],
          "barpolar": [
           {
            "marker": {
             "line": {
              "color": "#E5ECF6",
              "width": 0.5
             },
             "pattern": {
              "fillmode": "overlay",
              "size": 10,
              "solidity": 0.2
             }
            },
            "type": "barpolar"
           }
          ],
          "carpet": [
           {
            "aaxis": {
             "endlinecolor": "#2a3f5f",
             "gridcolor": "white",
             "linecolor": "white",
             "minorgridcolor": "white",
             "startlinecolor": "#2a3f5f"
            },
            "baxis": {
             "endlinecolor": "#2a3f5f",
             "gridcolor": "white",
             "linecolor": "white",
             "minorgridcolor": "white",
             "startlinecolor": "#2a3f5f"
            },
            "type": "carpet"
           }
          ],
          "choropleth": [
           {
            "colorbar": {
             "outlinewidth": 0,
             "ticks": ""
            },
            "type": "choropleth"
           }
          ],
          "contour": [
           {
            "colorbar": {
             "outlinewidth": 0,
             "ticks": ""
            },
            "colorscale": [
             [
              0,
              "#0d0887"
             ],
             [
              0.1111111111111111,
              "#46039f"
             ],
             [
              0.2222222222222222,
              "#7201a8"
             ],
             [
              0.3333333333333333,
              "#9c179e"
             ],
             [
              0.4444444444444444,
              "#bd3786"
             ],
             [
              0.5555555555555556,
              "#d8576b"
             ],
             [
              0.6666666666666666,
              "#ed7953"
             ],
             [
              0.7777777777777778,
              "#fb9f3a"
             ],
             [
              0.8888888888888888,
              "#fdca26"
             ],
             [
              1,
              "#f0f921"
             ]
            ],
            "type": "contour"
           }
          ],
          "contourcarpet": [
           {
            "colorbar": {
             "outlinewidth": 0,
             "ticks": ""
            },
            "type": "contourcarpet"
           }
          ],
          "heatmap": [
           {
            "colorbar": {
             "outlinewidth": 0,
             "ticks": ""
            },
            "colorscale": [
             [
              0,
              "#0d0887"
             ],
             [
              0.1111111111111111,
              "#46039f"
             ],
             [
              0.2222222222222222,
              "#7201a8"
             ],
             [
              0.3333333333333333,
              "#9c179e"
             ],
             [
              0.4444444444444444,
              "#bd3786"
             ],
             [
              0.5555555555555556,
              "#d8576b"
             ],
             [
              0.6666666666666666,
              "#ed7953"
             ],
             [
              0.7777777777777778,
              "#fb9f3a"
             ],
             [
              0.8888888888888888,
              "#fdca26"
             ],
             [
              1,
              "#f0f921"
             ]
            ],
            "type": "heatmap"
           }
          ],
          "heatmapgl": [
           {
            "colorbar": {
             "outlinewidth": 0,
             "ticks": ""
            },
            "colorscale": [
             [
              0,
              "#0d0887"
             ],
             [
              0.1111111111111111,
              "#46039f"
             ],
             [
              0.2222222222222222,
              "#7201a8"
             ],
             [
              0.3333333333333333,
              "#9c179e"
             ],
             [
              0.4444444444444444,
              "#bd3786"
             ],
             [
              0.5555555555555556,
              "#d8576b"
             ],
             [
              0.6666666666666666,
              "#ed7953"
             ],
             [
              0.7777777777777778,
              "#fb9f3a"
             ],
             [
              0.8888888888888888,
              "#fdca26"
             ],
             [
              1,
              "#f0f921"
             ]
            ],
            "type": "heatmapgl"
           }
          ],
          "histogram": [
           {
            "marker": {
             "pattern": {
              "fillmode": "overlay",
              "size": 10,
              "solidity": 0.2
             }
            },
            "type": "histogram"
           }
          ],
          "histogram2d": [
           {
            "colorbar": {
             "outlinewidth": 0,
             "ticks": ""
            },
            "colorscale": [
             [
              0,
              "#0d0887"
             ],
             [
              0.1111111111111111,
              "#46039f"
             ],
             [
              0.2222222222222222,
              "#7201a8"
             ],
             [
              0.3333333333333333,
              "#9c179e"
             ],
             [
              0.4444444444444444,
              "#bd3786"
             ],
             [
              0.5555555555555556,
              "#d8576b"
             ],
             [
              0.6666666666666666,
              "#ed7953"
             ],
             [
              0.7777777777777778,
              "#fb9f3a"
             ],
             [
              0.8888888888888888,
              "#fdca26"
             ],
             [
              1,
              "#f0f921"
             ]
            ],
            "type": "histogram2d"
           }
          ],
          "histogram2dcontour": [
           {
            "colorbar": {
             "outlinewidth": 0,
             "ticks": ""
            },
            "colorscale": [
             [
              0,
              "#0d0887"
             ],
             [
              0.1111111111111111,
              "#46039f"
             ],
             [
              0.2222222222222222,
              "#7201a8"
             ],
             [
              0.3333333333333333,
              "#9c179e"
             ],
             [
              0.4444444444444444,
              "#bd3786"
             ],
             [
              0.5555555555555556,
              "#d8576b"
             ],
             [
              0.6666666666666666,
              "#ed7953"
             ],
             [
              0.7777777777777778,
              "#fb9f3a"
             ],
             [
              0.8888888888888888,
              "#fdca26"
             ],
             [
              1,
              "#f0f921"
             ]
            ],
            "type": "histogram2dcontour"
           }
          ],
          "mesh3d": [
           {
            "colorbar": {
             "outlinewidth": 0,
             "ticks": ""
            },
            "type": "mesh3d"
           }
          ],
          "parcoords": [
           {
            "line": {
             "colorbar": {
              "outlinewidth": 0,
              "ticks": ""
             }
            },
            "type": "parcoords"
           }
          ],
          "pie": [
           {
            "automargin": true,
            "type": "pie"
           }
          ],
          "scatter": [
           {
            "fillpattern": {
             "fillmode": "overlay",
             "size": 10,
             "solidity": 0.2
            },
            "type": "scatter"
           }
          ],
          "scatter3d": [
           {
            "line": {
             "colorbar": {
              "outlinewidth": 0,
              "ticks": ""
             }
            },
            "marker": {
             "colorbar": {
              "outlinewidth": 0,
              "ticks": ""
             }
            },
            "type": "scatter3d"
           }
          ],
          "scattercarpet": [
           {
            "marker": {
             "colorbar": {
              "outlinewidth": 0,
              "ticks": ""
             }
            },
            "type": "scattercarpet"
           }
          ],
          "scattergeo": [
           {
            "marker": {
             "colorbar": {
              "outlinewidth": 0,
              "ticks": ""
             }
            },
            "type": "scattergeo"
           }
          ],
          "scattergl": [
           {
            "marker": {
             "colorbar": {
              "outlinewidth": 0,
              "ticks": ""
             }
            },
            "type": "scattergl"
           }
          ],
          "scattermapbox": [
           {
            "marker": {
             "colorbar": {
              "outlinewidth": 0,
              "ticks": ""
             }
            },
            "type": "scattermapbox"
           }
          ],
          "scatterpolar": [
           {
            "marker": {
             "colorbar": {
              "outlinewidth": 0,
              "ticks": ""
             }
            },
            "type": "scatterpolar"
           }
          ],
          "scatterpolargl": [
           {
            "marker": {
             "colorbar": {
              "outlinewidth": 0,
              "ticks": ""
             }
            },
            "type": "scatterpolargl"
           }
          ],
          "scatterternary": [
           {
            "marker": {
             "colorbar": {
              "outlinewidth": 0,
              "ticks": ""
             }
            },
            "type": "scatterternary"
           }
          ],
          "surface": [
           {
            "colorbar": {
             "outlinewidth": 0,
             "ticks": ""
            },
            "colorscale": [
             [
              0,
              "#0d0887"
             ],
             [
              0.1111111111111111,
              "#46039f"
             ],
             [
              0.2222222222222222,
              "#7201a8"
             ],
             [
              0.3333333333333333,
              "#9c179e"
             ],
             [
              0.4444444444444444,
              "#bd3786"
             ],
             [
              0.5555555555555556,
              "#d8576b"
             ],
             [
              0.6666666666666666,
              "#ed7953"
             ],
             [
              0.7777777777777778,
              "#fb9f3a"
             ],
             [
              0.8888888888888888,
              "#fdca26"
             ],
             [
              1,
              "#f0f921"
             ]
            ],
            "type": "surface"
           }
          ],
          "table": [
           {
            "cells": {
             "fill": {
              "color": "#EBF0F8"
             },
             "line": {
              "color": "white"
             }
            },
            "header": {
             "fill": {
              "color": "#C8D4E3"
             },
             "line": {
              "color": "white"
             }
            },
            "type": "table"
           }
          ]
         },
         "layout": {
          "annotationdefaults": {
           "arrowcolor": "#2a3f5f",
           "arrowhead": 0,
           "arrowwidth": 1
          },
          "autotypenumbers": "strict",
          "coloraxis": {
           "colorbar": {
            "outlinewidth": 0,
            "ticks": ""
           }
          },
          "colorscale": {
           "diverging": [
            [
             0,
             "#8e0152"
            ],
            [
             0.1,
             "#c51b7d"
            ],
            [
             0.2,
             "#de77ae"
            ],
            [
             0.3,
             "#f1b6da"
            ],
            [
             0.4,
             "#fde0ef"
            ],
            [
             0.5,
             "#f7f7f7"
            ],
            [
             0.6,
             "#e6f5d0"
            ],
            [
             0.7,
             "#b8e186"
            ],
            [
             0.8,
             "#7fbc41"
            ],
            [
             0.9,
             "#4d9221"
            ],
            [
             1,
             "#276419"
            ]
           ],
           "sequential": [
            [
             0,
             "#0d0887"
            ],
            [
             0.1111111111111111,
             "#46039f"
            ],
            [
             0.2222222222222222,
             "#7201a8"
            ],
            [
             0.3333333333333333,
             "#9c179e"
            ],
            [
             0.4444444444444444,
             "#bd3786"
            ],
            [
             0.5555555555555556,
             "#d8576b"
            ],
            [
             0.6666666666666666,
             "#ed7953"
            ],
            [
             0.7777777777777778,
             "#fb9f3a"
            ],
            [
             0.8888888888888888,
             "#fdca26"
            ],
            [
             1,
             "#f0f921"
            ]
           ],
           "sequentialminus": [
            [
             0,
             "#0d0887"
            ],
            [
             0.1111111111111111,
             "#46039f"
            ],
            [
             0.2222222222222222,
             "#7201a8"
            ],
            [
             0.3333333333333333,
             "#9c179e"
            ],
            [
             0.4444444444444444,
             "#bd3786"
            ],
            [
             0.5555555555555556,
             "#d8576b"
            ],
            [
             0.6666666666666666,
             "#ed7953"
            ],
            [
             0.7777777777777778,
             "#fb9f3a"
            ],
            [
             0.8888888888888888,
             "#fdca26"
            ],
            [
             1,
             "#f0f921"
            ]
           ]
          },
          "colorway": [
           "#636efa",
           "#EF553B",
           "#00cc96",
           "#ab63fa",
           "#FFA15A",
           "#19d3f3",
           "#FF6692",
           "#B6E880",
           "#FF97FF",
           "#FECB52"
          ],
          "font": {
           "color": "#2a3f5f"
          },
          "geo": {
           "bgcolor": "white",
           "lakecolor": "white",
           "landcolor": "#E5ECF6",
           "showlakes": true,
           "showland": true,
           "subunitcolor": "white"
          },
          "hoverlabel": {
           "align": "left"
          },
          "hovermode": "closest",
          "mapbox": {
           "style": "light"
          },
          "paper_bgcolor": "white",
          "plot_bgcolor": "#E5ECF6",
          "polar": {
           "angularaxis": {
            "gridcolor": "white",
            "linecolor": "white",
            "ticks": ""
           },
           "bgcolor": "#E5ECF6",
           "radialaxis": {
            "gridcolor": "white",
            "linecolor": "white",
            "ticks": ""
           }
          },
          "scene": {
           "xaxis": {
            "backgroundcolor": "#E5ECF6",
            "gridcolor": "white",
            "gridwidth": 2,
            "linecolor": "white",
            "showbackground": true,
            "ticks": "",
            "zerolinecolor": "white"
           },
           "yaxis": {
            "backgroundcolor": "#E5ECF6",
            "gridcolor": "white",
            "gridwidth": 2,
            "linecolor": "white",
            "showbackground": true,
            "ticks": "",
            "zerolinecolor": "white"
           },
           "zaxis": {
            "backgroundcolor": "#E5ECF6",
            "gridcolor": "white",
            "gridwidth": 2,
            "linecolor": "white",
            "showbackground": true,
            "ticks": "",
            "zerolinecolor": "white"
           }
          },
          "shapedefaults": {
           "line": {
            "color": "#2a3f5f"
           }
          },
          "ternary": {
           "aaxis": {
            "gridcolor": "white",
            "linecolor": "white",
            "ticks": ""
           },
           "baxis": {
            "gridcolor": "white",
            "linecolor": "white",
            "ticks": ""
           },
           "bgcolor": "#E5ECF6",
           "caxis": {
            "gridcolor": "white",
            "linecolor": "white",
            "ticks": ""
           }
          },
          "title": {
           "x": 0.05
          },
          "xaxis": {
           "automargin": true,
           "gridcolor": "white",
           "linecolor": "white",
           "ticks": "",
           "title": {
            "standoff": 15
           },
           "zerolinecolor": "white",
           "zerolinewidth": 2
          },
          "yaxis": {
           "automargin": true,
           "gridcolor": "white",
           "linecolor": "white",
           "ticks": "",
           "title": {
            "standoff": 15
           },
           "zerolinecolor": "white",
           "zerolinewidth": 2
          }
         }
        },
        "title": {
         "text": "Annotation overlaps per class in <b>validation</b> set of EPIC datasets"
        },
        "width": 1200,
        "xaxis": {
         "anchor": "y",
         "domain": [
          0,
          1
         ],
         "title": {
          "text": "Verb class"
         }
        },
        "yaxis": {
         "anchor": "x",
         "domain": [
          0,
          1
         ],
         "title": {
          "text": "Nb. of actions"
         }
        }
       }
      }
     },
     "metadata": {},
     "output_type": "display_data"
    }
   ],
   "source": [
    "plot_overlaps_per_class(train_overlaps, \"training\")\n",
    "plot_overlaps_per_class(val_overlaps, \"validation\")"
   ]
  },
  {
   "cell_type": "code",
   "execution_count": null,
   "metadata": {},
   "outputs": [
    {
     "data": {
      "text/plain": [
       "n_overlap_loose\n",
       "0.0     37062\n",
       "1.0     22106\n",
       "2.0      4929\n",
       "3.0      1404\n",
       "4.0       636\n",
       "5.0       339\n",
       "6.0       226\n",
       "7.0       122\n",
       "8.0        94\n",
       "9.0        68\n",
       "10.0       51\n",
       "11.0       40\n",
       "12.0       26\n",
       "13.0       15\n",
       "16.0       12\n",
       "14.0       11\n",
       "15.0       11\n",
       "18.0        9\n",
       "17.0        8\n",
       "19.0        6\n",
       "21.0        5\n",
       "22.0        5\n",
       "24.0        4\n",
       "28.0        3\n",
       "20.0        3\n",
       "71.0        3\n",
       "30.0        3\n",
       "39.0        2\n",
       "23.0        2\n",
       "35.0        2\n",
       "33.0        2\n",
       "27.0        1\n",
       "44.0        1\n",
       "31.0        1\n",
       "26.0        1\n",
       "45.0        1\n",
       "38.0        1\n",
       "59.0        1\n",
       "40.0        1\n",
       "Name: count, dtype: int64"
      ]
     },
     "execution_count": 205,
     "metadata": {},
     "output_type": "execute_result"
    }
   ],
   "source": [
    "train_overlaps[\"n_overlap_loose\"].value_counts()"
   ]
  },
  {
   "cell_type": "code",
   "execution_count": null,
   "metadata": {},
   "outputs": [
    {
     "data": {
      "text/plain": [
       "class\n",
       "cut         123\n",
       "mix          24\n",
       "wash         14\n",
       "peel          9\n",
       "remove        8\n",
       "scoop         5\n",
       "put           5\n",
       "break         4\n",
       "insert        4\n",
       "pour          4\n",
       "scrape        3\n",
       "brush         3\n",
       "turn          3\n",
       "move          2\n",
       "crush         2\n",
       "divide        2\n",
       "dry           2\n",
       "hold          1\n",
       "empty         1\n",
       "spray         1\n",
       "search        1\n",
       "wrap          1\n",
       "sharpen       1\n",
       "open          1\n",
       "turn-off      1\n",
       "take          1\n",
       "flip          1\n",
       "cook          1\n",
       "mark          1\n",
       "apply         1\n",
       "close         1\n",
       "Name: count, dtype: int64"
      ]
     },
     "execution_count": 208,
     "metadata": {},
     "output_type": "execute_result"
    }
   ],
   "source": [
    "train_overlaps.query(\"n_overlap_loose >= 10\")[\"class\"].value_counts()"
   ]
  },
  {
   "cell_type": "code",
   "execution_count": null,
   "metadata": {},
   "outputs": [],
   "source": []
  }
 ],
 "metadata": {
  "kernelspec": {
   "display_name": "auditory-slow-fast-4TKuBWLx-py3.10",
   "language": "python",
   "name": "python3"
  },
  "language_info": {
   "codemirror_mode": {
    "name": "ipython",
    "version": 3
   },
   "file_extension": ".py",
   "mimetype": "text/x-python",
   "name": "python",
   "nbconvert_exporter": "python",
   "pygments_lexer": "ipython3",
   "version": "3.10.12"
  }
 },
 "nbformat": 4,
 "nbformat_minor": 2
}
