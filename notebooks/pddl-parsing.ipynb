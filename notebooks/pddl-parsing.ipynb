{
 "cells": [
  {
   "cell_type": "code",
   "execution_count": 1,
   "metadata": {},
   "outputs": [],
   "source": [
    "import pddlpy\n",
    "import sys\n",
    "\n",
    "sys.path.append(\"..\")\n",
    "from src.pddl import Action, Predicate"
   ]
  },
  {
   "cell_type": "code",
   "execution_count": 2,
   "metadata": {},
   "outputs": [
    {
     "name": "stdout",
     "output_type": "stream",
     "text": [
      "Actions: [Action({\n",
      "  \"name\": \"break\",\n",
      "  \"preconditions\": [\n",
      "    {\n",
      "      \"attribute\": \"in-hand\",\n",
      "      \"value\": true\n",
      "    },\n",
      "    {\n",
      "      \"attribute\": \"broken\",\n",
      "      \"value\": false\n",
      "    }\n",
      "  ],\n",
      "  \"postconditions\": [\n",
      "    {\n",
      "      \"attribute\": \"broken\",\n",
      "      \"value\": true\n",
      "    }\n",
      "  ]\n",
      "}), Action({\n",
      "  \"name\": \"crush\",\n",
      "  \"preconditions\": [\n",
      "    {\n",
      "      \"attribute\": \"on-surface\",\n",
      "      \"value\": true\n",
      "    },\n",
      "    {\n",
      "      \"attribute\": \"crushed\",\n",
      "      \"value\": false\n",
      "    }\n",
      "  ],\n",
      "  \"postconditions\": [\n",
      "    {\n",
      "      \"attribute\": \"crushed\",\n",
      "      \"value\": true\n",
      "    }\n",
      "  ]\n",
      "}), Action({\n",
      "  \"name\": \"pat\",\n",
      "  \"preconditions\": [\n",
      "    {\n",
      "      \"attribute\": \"patted\",\n",
      "      \"value\": false\n",
      "    }\n",
      "  ],\n",
      "  \"postconditions\": [\n",
      "    {\n",
      "      \"attribute\": \"patted\",\n",
      "      \"value\": true\n",
      "    }\n",
      "  ]\n",
      "}), Action({\n",
      "  \"name\": \"shake\",\n",
      "  \"preconditions\": [\n",
      "    {\n",
      "      \"attribute\": \"in-hand\",\n",
      "      \"value\": true\n",
      "    },\n",
      "    {\n",
      "      \"attribute\": \"shaken\",\n",
      "      \"value\": false\n",
      "    }\n",
      "  ],\n",
      "  \"postconditions\": [\n",
      "    {\n",
      "      \"attribute\": \"in-hand\",\n",
      "      \"value\": true\n",
      "    },\n",
      "    {\n",
      "      \"attribute\": \"shaken\",\n",
      "      \"value\": true\n",
      "    }\n",
      "  ]\n",
      "}), Action({\n",
      "  \"name\": \"sharpen\",\n",
      "  \"preconditions\": [\n",
      "    {\n",
      "      \"attribute\": \"in-hand\",\n",
      "      \"value\": true\n",
      "    },\n",
      "    {\n",
      "      \"attribute\": \"blunt\",\n",
      "      \"value\": true\n",
      "    }\n",
      "  ],\n",
      "  \"postconditions\": [\n",
      "    {\n",
      "      \"attribute\": \"in-hand\",\n",
      "      \"value\": true\n",
      "    },\n",
      "    {\n",
      "      \"attribute\": \"sharp\",\n",
      "      \"value\": true\n",
      "    }\n",
      "  ]\n",
      "}), Action({\n",
      "  \"name\": \"smell\",\n",
      "  \"preconditions\": [\n",
      "    {\n",
      "      \"attribute\": \"smelled\",\n",
      "      \"value\": false\n",
      "    }\n",
      "  ],\n",
      "  \"postconditions\": [\n",
      "    {\n",
      "      \"attribute\": \"smelled\",\n",
      "      \"value\": true\n",
      "    }\n",
      "  ]\n",
      "}), Action({\n",
      "  \"name\": \"throw\",\n",
      "  \"preconditions\": [\n",
      "    {\n",
      "      \"attribute\": \"in-hand\",\n",
      "      \"value\": true\n",
      "    },\n",
      "    {\n",
      "      \"attribute\": \"thrown\",\n",
      "      \"value\": false\n",
      "    }\n",
      "  ],\n",
      "  \"postconditions\": [\n",
      "    {\n",
      "      \"attribute\": \"thrown\",\n",
      "      \"value\": true\n",
      "    },\n",
      "    {\n",
      "      \"attribute\": \"in-hand\",\n",
      "      \"value\": false\n",
      "    }\n",
      "  ]\n",
      "}), Action({\n",
      "  \"name\": \"water\",\n",
      "  \"preconditions\": [\n",
      "    {\n",
      "      \"attribute\": \"dry\",\n",
      "      \"value\": true\n",
      "    }\n",
      "  ],\n",
      "  \"postconditions\": [\n",
      "    {\n",
      "      \"attribute\": \"wet\",\n",
      "      \"value\": true\n",
      "    }\n",
      "  ]\n",
      "})]\n"
     ]
    }
   ],
   "source": [
    "domprob = pddlpy.DomainProblem(\"../pddl/domain.pddl\", \"../pddl/problem.pddl\")\n",
    "\n",
    "# Operators -> actions\n",
    "operators = domprob.operators()\n",
    "\n",
    "actions = []\n",
    "predicates = set()\n",
    "\n",
    "for op in operators:\n",
    "    pre_conds = []\n",
    "    pos_conds = []\n",
    "    operator_iterator = domprob.ground_operator(op)\n",
    "    a = next(operator_iterator)\n",
    "    pre_conds.extend(\n",
    "        [Predicate(attribute=p[0], value=True) for p in a.precondition_pos],\n",
    "    )\n",
    "    pre_conds.extend(\n",
    "        [Predicate(attribute=p[0], value=False) for p in a.precondition_neg],\n",
    "    )\n",
    "    pos_conds.extend(\n",
    "        [Predicate(attribute=p[0], value=True) for p in a.effect_pos],\n",
    "    )\n",
    "    pos_conds.extend(\n",
    "        [Predicate(attribute=p[0], value=False) for p in a.effect_neg],\n",
    "    )\n",
    "\n",
    "    actions.append(Action(name=op, preconditions=pre_conds, postconditions=pos_conds))\n",
    "\n",
    "print(f\"Actions: {actions}\")"
   ]
  },
  {
   "cell_type": "code",
   "execution_count": 3,
   "metadata": {},
   "outputs": [
    {
     "data": {
      "text/plain": [
       "True"
      ]
     },
     "execution_count": 3,
     "metadata": {},
     "output_type": "execute_result"
    }
   ],
   "source": [
    "\n",
    "Predicate(attribute='at', value=True) == Predicate(attribute='at', value=True)"
   ]
  },
  {
   "cell_type": "code",
   "execution_count": 4,
   "metadata": {},
   "outputs": [
    {
     "data": {
      "text/plain": [
       "(Action({\n",
       "   \"name\": \"water\",\n",
       "   \"preconditions\": [\n",
       "     {\n",
       "       \"attribute\": \"dry\",\n",
       "       \"value\": true\n",
       "     }\n",
       "   ],\n",
       "   \"postconditions\": [\n",
       "     {\n",
       "       \"attribute\": \"wet\",\n",
       "       \"value\": true\n",
       "     }\n",
       "   ]\n",
       " }),\n",
       " ['thrown',\n",
       "  'crushed',\n",
       "  'shaken',\n",
       "  'smelled',\n",
       "  'wet',\n",
       "  'in-hand',\n",
       "  'on-surface',\n",
       "  'dry',\n",
       "  'blunt',\n",
       "  'patted',\n",
       "  'broken',\n",
       "  'sharp'])"
      ]
     },
     "execution_count": 4,
     "metadata": {},
     "output_type": "execute_result"
    }
   ],
   "source": [
    "\n",
    "a = actions[0]\n",
    "attributes = set()\n",
    "for a in actions:\n",
    "    for p in a.preconditions:\n",
    "        attributes.add(p.attribute)\n",
    "    for p in a.postconditions:\n",
    "        attributes.add(p.attribute)\n",
    "\n",
    "attributes = list(attributes)\n",
    "a, attributes"
   ]
  },
  {
   "cell_type": "code",
   "execution_count": 12,
   "metadata": {},
   "outputs": [
    {
     "name": "stdout",
     "output_type": "stream",
     "text": [
      "name='water' preconditions=[Predicate({\n",
      "  \"attribute\": \"dry\",\n",
      "  \"value\": true\n",
      "})] postconditions=[Predicate({\n",
      "  \"attribute\": \"wet\",\n",
      "  \"value\": true\n",
      "})]\n",
      "['blunt', 'broken', 'crushed', 'dry', 'in-hand', 'on-surface', 'patted', 'shaken', 'sharp', 'smelled', 'thrown', 'wet']\n"
     ]
    },
    {
     "data": {
      "text/plain": [
       "(tensor([0., 0., 0., 1., 0., 0., 0., 0., 0., 0., 0., 0.]),\n",
       " tensor([0., 0., 0., 0., 0., 0., 0., 0., 0., 0., 0., 1.]))"
      ]
     },
     "execution_count": 12,
     "metadata": {},
     "output_type": "execute_result"
    }
   ],
   "source": [
    "attributes = sorted(attributes)\n",
    "print(a)\n",
    "print(attributes)\n",
    "\n",
    "a.vectorize(attributes)"
   ]
  },
  {
   "cell_type": "code",
   "execution_count": 22,
   "metadata": {},
   "outputs": [
    {
     "name": "stdout",
     "output_type": "stream",
     "text": [
      "Predicates: ['sharp', 'blunt', 'thrown', 'crushed', 'dry', 'wet', 'broken', 'shaken', 'on-surface', 'smelled', 'patted', 'in-hand']\n"
     ]
    }
   ],
   "source": [
    "print(f\"Predicates: {predicates}\")"
   ]
  },
  {
   "cell_type": "code",
   "execution_count": 18,
   "metadata": {},
   "outputs": [
    {
     "data": {
      "text/plain": [
       "Action({\n",
       "  \"name\": \"throw\",\n",
       "  \"preconditions\": [\n",
       "    {\n",
       "      \"attribute\": \"in-hand\",\n",
       "      \"value\": true\n",
       "    },\n",
       "    {\n",
       "      \"attribute\": \"thrown\",\n",
       "      \"value\": false\n",
       "    }\n",
       "  ],\n",
       "  \"postconditions\": [\n",
       "    {\n",
       "      \"attribute\": \"thrown\",\n",
       "      \"value\": true\n",
       "    },\n",
       "    {\n",
       "      \"attribute\": \"in-hand\",\n",
       "      \"value\": false\n",
       "    }\n",
       "  ]\n",
       "})"
      ]
     },
     "execution_count": 18,
     "metadata": {},
     "output_type": "execute_result"
    }
   ],
   "source": [
    "actions[6]"
   ]
  },
  {
   "cell_type": "code",
   "execution_count": 4,
   "metadata": {},
   "outputs": [
    {
     "data": {
      "text/plain": [
       "[Predicate({\n",
       "   \"attribute\": \"in-hand\",\n",
       "   \"value\": true\n",
       " }),\n",
       " Predicate({\n",
       "   \"attribute\": \"wet\",\n",
       "   \"value\": false\n",
       " })]"
      ]
     },
     "execution_count": 4,
     "metadata": {},
     "output_type": "execute_result"
    }
   ],
   "source": [
    "import sys\n",
    "import torch\n",
    "\n",
    "sys.path.append(\"..\")\n",
    "\n",
    "from src.pddl import Action, Predicate\n",
    "\n",
    "vec = torch.tensor([1, 0, 0, -1])\n",
    "\n",
    "attrs = [\n",
    "    \"in-hand\",\n",
    "    \"shaken\",\n",
    "    \"sharp\",\n",
    "    \"wet\",\n",
    "]\n",
    "\n",
    "Predicate.predicates_from_vector(vec, attrs)"
   ]
  },
  {
   "cell_type": "code",
   "execution_count": 6,
   "metadata": {},
   "outputs": [
    {
     "data": {
      "text/plain": [
       "True"
      ]
     },
     "execution_count": 6,
     "metadata": {},
     "output_type": "execute_result"
    }
   ],
   "source": [
    "a = [1, 2] \n",
    "b = [1, 2]\n",
    "\n",
    "a == b"
   ]
  },
  {
   "cell_type": "code",
   "execution_count": 8,
   "metadata": {},
   "outputs": [],
   "source": [
    "import pddlpy\n",
    "import sys\n",
    "\n",
    "sys.path.append(\"..\")\n",
    "from src.pddl import Action, Predicate\n",
    "\n",
    "def parse_pddl(domain_path: str, problem_path: str) -> None:\n",
    "    domprob = pddlpy.DomainProblem(domain_path, problem_path)\n",
    "\n",
    "    # Operators -> actions\n",
    "    operators = domprob.operators()\n",
    "\n",
    "    actions = []\n",
    "    attributes = set()\n",
    "\n",
    "    for op in operators:\n",
    "        pre_conds = []\n",
    "        pos_conds = []\n",
    "        operator_iterator = domprob.ground_operator(op)\n",
    "\n",
    "        a = next(operator_iterator)\n",
    "\n",
    "        attributes.update([p[0] for p in a.precondition_pos])\n",
    "        attributes.update([p[0] for p in a.precondition_neg])\n",
    "        attributes.update([p[0] for p in a.effect_pos])\n",
    "        attributes.update([p[0] for p in a.effect_neg])\n",
    "\n",
    "        pre_conds.extend(\n",
    "            [Predicate(attribute=p[0], value=True) for p in a.precondition_pos],\n",
    "        )\n",
    "        pre_conds.extend(\n",
    "            [Predicate(attribute=p[0], value=False) for p in a.precondition_neg],\n",
    "        )\n",
    "        pos_conds.extend(\n",
    "            [Predicate(attribute=p[0], value=True) for p in a.effect_pos],\n",
    "        )\n",
    "        pos_conds.extend(\n",
    "            [Predicate(attribute=p[0], value=False) for p in a.effect_neg],\n",
    "        )\n",
    "\n",
    "        actions.append(\n",
    "            Action(\n",
    "                name=op,\n",
    "                preconditions=pre_conds,\n",
    "                postconditions=pos_conds,\n",
    "            ),\n",
    "        )\n",
    "\n",
    "    attributes = sorted(attributes)\n",
    "\n",
    "    return actions, attributes\n",
    "\n",
    "actions, attributes = parse_pddl(\"../pddl/domain.pddl\", \"../pddl/problem.pddl\")"
   ]
  },
  {
   "cell_type": "code",
   "execution_count": 9,
   "metadata": {},
   "outputs": [
    {
     "data": {
      "text/plain": [
       "['blunt',\n",
       " 'broken',\n",
       " 'crushed',\n",
       " 'dry',\n",
       " 'in-hand',\n",
       " 'on-surface',\n",
       " 'patted',\n",
       " 'shaken',\n",
       " 'sharp',\n",
       " 'smelled',\n",
       " 'thrown',\n",
       " 'wet']"
      ]
     },
     "execution_count": 9,
     "metadata": {},
     "output_type": "execute_result"
    }
   ],
   "source": [
    "attributes"
   ]
  },
  {
   "cell_type": "code",
   "execution_count": 10,
   "metadata": {},
   "outputs": [
    {
     "data": {
      "text/plain": [
       "Action({\n",
       "  \"name\": \"break\",\n",
       "  \"preconditions\": [\n",
       "    {\n",
       "      \"attribute\": \"in-hand\",\n",
       "      \"value\": true\n",
       "    },\n",
       "    {\n",
       "      \"attribute\": \"broken\",\n",
       "      \"value\": false\n",
       "    }\n",
       "  ],\n",
       "  \"postconditions\": [\n",
       "    {\n",
       "      \"attribute\": \"broken\",\n",
       "      \"value\": true\n",
       "    }\n",
       "  ]\n",
       "})"
      ]
     },
     "execution_count": 10,
     "metadata": {},
     "output_type": "execute_result"
    }
   ],
   "source": [
    "actions[0]"
   ]
  },
  {
   "cell_type": "code",
   "execution_count": null,
   "metadata": {},
   "outputs": [],
   "source": []
  }
 ],
 "metadata": {
  "kernelspec": {
   "display_name": "marl-thesis-3lprv2NG-py3.10",
   "language": "python",
   "name": "python3"
  },
  "language_info": {
   "codemirror_mode": {
    "name": "ipython",
    "version": 3
   },
   "file_extension": ".py",
   "mimetype": "text/x-python",
   "name": "python",
   "nbconvert_exporter": "python",
   "pygments_lexer": "ipython3",
   "version": "3.10.13"
  },
  "orig_nbformat": 4
 },
 "nbformat": 4,
 "nbformat_minor": 2
}
