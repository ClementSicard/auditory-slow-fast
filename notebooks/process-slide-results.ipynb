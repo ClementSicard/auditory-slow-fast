{
 "cells": [
  {
   "cell_type": "code",
   "execution_count": 6,
   "metadata": {},
   "outputs": [],
   "source": [
    "import numpy as np\n",
    "import pandas as pd\n",
    "import os\n",
    "\n",
    "import sys\n",
    "\n",
    "sys.path.extend([\"../\"])\n",
    "\n",
    "from audio_slowfast.utils.metrics import topk_accuracies_slide, multitask_topk_accuracies_slide"
   ]
  },
  {
   "cell_type": "code",
   "execution_count": 7,
   "metadata": {},
   "outputs": [
    {
     "data": {
      "text/plain": [
       "True"
      ]
     },
     "execution_count": 7,
     "metadata": {},
     "output_type": "execute_result"
    }
   ],
   "source": [
    "res_path = \"../results/res-2s.pkl\"\n",
    "os.path.exists(res_path)"
   ]
  },
  {
   "cell_type": "code",
   "execution_count": 8,
   "metadata": {},
   "outputs": [],
   "source": [
    "df = pd.read_pickle(res_path)\n",
    "\n",
    "verbs_probs = df[\"verb_output\"]\n",
    "verbs_labels = df[\"verb_labels\"]\n",
    "nouns_probs = df[\"noun_output\"]\n",
    "nouns_labels = df[\"noun_labels\"]"
   ]
  },
  {
   "cell_type": "code",
   "execution_count": 9,
   "metadata": {},
   "outputs": [],
   "source": [
    "unique_pred_verb = np.argmax(verbs_probs, axis=1)\n",
    "unique_pred_noun = np.argmax(nouns_probs, axis=1)\n",
    "\n",
    "assert unique_pred_verb.shape[0] == verbs_probs.shape[0]\n",
    "assert unique_pred_noun.shape[0] == nouns_probs.shape[0]"
   ]
  },
  {
   "cell_type": "code",
   "execution_count": 10,
   "metadata": {
    "scrolled": true
   },
   "outputs": [
    {
     "data": {
      "text/plain": [
       "array([ 0,  1,  2,  3,  4,  5,  6,  7,  8,  9, 10, 11, 12, 13, 14, 15, 16,\n",
       "       17, 18, 19, 20, 21, 22, 23, 24, 25, 26, 27, 28, 29, 30, 31, 32, 35,\n",
       "       36, 37, 39, 40, 41, 42, 44, 45, 46, 47, 48, 49, 51, 53, 56, 57, 58,\n",
       "       60, 67, 68, 69, 70, 72, 74, 77])"
      ]
     },
     "execution_count": 10,
     "metadata": {},
     "output_type": "execute_result"
    }
   ],
   "source": [
    "np.unique(unique_pred_verb)"
   ]
  },
  {
   "cell_type": "markdown",
   "metadata": {},
   "source": [
    "## Get results for `WHOLE_VIDEO` mode"
   ]
  },
  {
   "cell_type": "code",
   "execution_count": 13,
   "metadata": {},
   "outputs": [
    {
     "ename": "TypeError",
     "evalue": "'int' object is not callable",
     "output_type": "error",
     "traceback": [
      "\u001b[0;31m---------------------------------------------------------------------------\u001b[0m",
      "\u001b[0;31mTypeError\u001b[0m                                 Traceback (most recent call last)",
      "Cell \u001b[0;32mIn[13], line 7\u001b[0m\n\u001b[1;32m      1\u001b[0m \u001b[38;5;66;03m# action_acc = multitask_topk_accuracies_slide(\u001b[39;00m\n\u001b[1;32m      2\u001b[0m \u001b[38;5;66;03m#     (verbs_probs, nouns_probs),\u001b[39;00m\n\u001b[1;32m      3\u001b[0m \u001b[38;5;66;03m#     (verbs_labels, nouns_labels),\u001b[39;00m\n\u001b[1;32m      4\u001b[0m \u001b[38;5;66;03m#     ks=(1,),\u001b[39;00m\n\u001b[1;32m      5\u001b[0m \u001b[38;5;66;03m#     per_action_instance=False,\u001b[39;00m\n\u001b[1;32m      6\u001b[0m \u001b[38;5;66;03m# )\u001b[39;00m\n\u001b[0;32m----> 7\u001b[0m verb_acc \u001b[38;5;241m=\u001b[39m \u001b[43mtopk_accuracies_slide\u001b[49m\u001b[43m(\u001b[49m\n\u001b[1;32m      8\u001b[0m \u001b[43m    \u001b[49m\u001b[43mverbs_probs\u001b[49m\u001b[43m,\u001b[49m\n\u001b[1;32m      9\u001b[0m \u001b[43m    \u001b[49m\u001b[43mverbs_labels\u001b[49m\u001b[43m,\u001b[49m\n\u001b[1;32m     10\u001b[0m \u001b[43m    \u001b[49m\u001b[43mks\u001b[49m\u001b[38;5;241;43m=\u001b[39;49m\u001b[43m(\u001b[49m\u001b[38;5;241;43m1\u001b[39;49m\u001b[43m,\u001b[49m\u001b[43m)\u001b[49m\u001b[43m,\u001b[49m\n\u001b[1;32m     11\u001b[0m \u001b[43m    \u001b[49m\u001b[43mper_action_instance\u001b[49m\u001b[38;5;241;43m=\u001b[39;49m\u001b[38;5;28;43;01mFalse\u001b[39;49;00m\u001b[43m,\u001b[49m\n\u001b[1;32m     12\u001b[0m \u001b[43m)\u001b[49m\n\u001b[1;32m     13\u001b[0m noun_acc \u001b[38;5;241m=\u001b[39m topk_accuracies_slide(\n\u001b[1;32m     14\u001b[0m     nouns_probs,\n\u001b[1;32m     15\u001b[0m     nouns_labels,\n\u001b[1;32m     16\u001b[0m     ks\u001b[38;5;241m=\u001b[39m(\u001b[38;5;241m1\u001b[39m,),\n\u001b[1;32m     17\u001b[0m     per_action_instance\u001b[38;5;241m=\u001b[39m\u001b[38;5;28;01mFalse\u001b[39;00m,\n\u001b[1;32m     18\u001b[0m )\n\u001b[1;32m     20\u001b[0m \u001b[38;5;28mprint\u001b[39m(\u001b[38;5;124mf\u001b[39m\u001b[38;5;124m\"\u001b[39m\u001b[38;5;124mA: \u001b[39m\u001b[38;5;132;01m{\u001b[39;00maction_acc\u001b[38;5;132;01m:\u001b[39;00m\u001b[38;5;124m.2f\u001b[39m\u001b[38;5;132;01m}\u001b[39;00m\u001b[38;5;130;01m\\t\u001b[39;00m\u001b[38;5;124mV: \u001b[39m\u001b[38;5;132;01m{\u001b[39;00mverb_acc\u001b[38;5;132;01m:\u001b[39;00m\u001b[38;5;124m.2f\u001b[39m\u001b[38;5;132;01m}\u001b[39;00m\u001b[38;5;130;01m\\t\u001b[39;00m\u001b[38;5;124mN: \u001b[39m\u001b[38;5;132;01m{\u001b[39;00mnoun_acc\u001b[38;5;132;01m:\u001b[39;00m\u001b[38;5;124m.2f\u001b[39m\u001b[38;5;132;01m}\u001b[39;00m\u001b[38;5;124m\"\u001b[39m)\n",
      "File \u001b[0;32m~/src/github.com/marl/auditory-slow-fast/notebooks/../audio_slowfast/utils/metrics.py:185\u001b[0m, in \u001b[0;36mtopk_accuracies_slide\u001b[0;34m(preds, labels, ks, per_action_instance, weight)\u001b[0m\n\u001b[1;32m    177\u001b[0m \u001b[38;5;28;01mdef\u001b[39;00m \u001b[38;5;21mtopk_accuracies_slide\u001b[39m(preds, labels, ks, per_action_instance\u001b[38;5;241m=\u001b[39m\u001b[38;5;28;01mTrue\u001b[39;00m, weight\u001b[38;5;241m=\u001b[39m\u001b[38;5;28;01mNone\u001b[39;00m):\n\u001b[1;32m    178\u001b[0m \u001b[38;5;250m    \u001b[39m\u001b[38;5;124;03m\"\"\"\u001b[39;00m\n\u001b[1;32m    179\u001b[0m \u001b[38;5;124;03m    Computes the top-k accuracy for each k.\u001b[39;00m\n\u001b[1;32m    180\u001b[0m \u001b[38;5;124;03m    Args:\u001b[39;00m\n\u001b[0;32m   (...)\u001b[0m\n\u001b[1;32m    183\u001b[0m \u001b[38;5;124;03m        ks (list): list of ks to calculate the top accuracies.\u001b[39;00m\n\u001b[1;32m    184\u001b[0m \u001b[38;5;124;03m    \"\"\"\u001b[39;00m\n\u001b[0;32m--> 185\u001b[0m     num_topks_correct \u001b[38;5;241m=\u001b[39m \u001b[43mtopks_correct_slide\u001b[49m\u001b[43m(\u001b[49m\u001b[43mpreds\u001b[49m\u001b[43m,\u001b[49m\u001b[43m \u001b[49m\u001b[43mlabels\u001b[49m\u001b[43m,\u001b[49m\u001b[43m \u001b[49m\u001b[43mks\u001b[49m\u001b[43m,\u001b[49m\u001b[43m \u001b[49m\u001b[43mper_action_instance\u001b[49m\u001b[43m,\u001b[49m\u001b[43m \u001b[49m\u001b[43mweight\u001b[49m\u001b[43m)\u001b[49m\n\u001b[1;32m    186\u001b[0m     \u001b[38;5;28;01mreturn\u001b[39;00m [x \u001b[38;5;241m*\u001b[39m \u001b[38;5;241m100.0\u001b[39m \u001b[38;5;28;01mfor\u001b[39;00m x \u001b[38;5;129;01min\u001b[39;00m num_topks_correct]\n",
      "File \u001b[0;32m~/src/github.com/marl/auditory-slow-fast/notebooks/../audio_slowfast/utils/metrics.py:59\u001b[0m, in \u001b[0;36mtopks_correct_slide\u001b[0;34m(preds, labels, ks, per_action_instance, weight)\u001b[0m\n\u001b[1;32m     43\u001b[0m \u001b[38;5;28;01mdef\u001b[39;00m \u001b[38;5;21mtopks_correct_slide\u001b[39m(preds, labels, ks, per_action_instance\u001b[38;5;241m=\u001b[39m\u001b[38;5;28;01mTrue\u001b[39;00m, weight\u001b[38;5;241m=\u001b[39m\u001b[38;5;28;01mNone\u001b[39;00m):\n\u001b[1;32m     44\u001b[0m \u001b[38;5;250m    \u001b[39m\u001b[38;5;124;03m\"\"\"\u001b[39;00m\n\u001b[1;32m     45\u001b[0m \u001b[38;5;124;03m    Given the predictions, labels, and a list of top-k values, compute the\u001b[39;00m\n\u001b[1;32m     46\u001b[0m \u001b[38;5;124;03m    number of correct predictions for each top-k value.\u001b[39;00m\n\u001b[0;32m   (...)\u001b[0m\n\u001b[1;32m     57\u001b[0m \u001b[38;5;124;03m            corresponds to the number of top-`ks[i]` correct predictions.\u001b[39;00m\n\u001b[1;32m     58\u001b[0m \u001b[38;5;124;03m    \"\"\"\u001b[39;00m\n\u001b[0;32m---> 59\u001b[0m     weight \u001b[38;5;241m=\u001b[39m torch\u001b[38;5;241m.\u001b[39mones(\u001b[43mpreds\u001b[49m\u001b[38;5;241;43m.\u001b[39;49m\u001b[43msize\u001b[49m\u001b[43m(\u001b[49m\u001b[38;5;241;43m0\u001b[39;49m\u001b[43m)\u001b[49m) \u001b[38;5;241m/\u001b[39m preds\u001b[38;5;241m.\u001b[39msize(\u001b[38;5;241m0\u001b[39m) \u001b[38;5;28;01mif\u001b[39;00m weight \u001b[38;5;241m==\u001b[39m \u001b[38;5;28;01mNone\u001b[39;00m \u001b[38;5;28;01melse\u001b[39;00m weight \u001b[38;5;241m/\u001b[39m torch\u001b[38;5;241m.\u001b[39msum(weight)\n\u001b[1;32m     60\u001b[0m     \u001b[38;5;28;01massert\u001b[39;00m preds\u001b[38;5;241m.\u001b[39msize(\u001b[38;5;241m0\u001b[39m) \u001b[38;5;241m==\u001b[39m labels\u001b[38;5;241m.\u001b[39msize(\u001b[38;5;241m0\u001b[39m), \u001b[38;5;124m\"\u001b[39m\u001b[38;5;124mBatch dim of predictions and labels must match\u001b[39m\u001b[38;5;124m\"\u001b[39m\n\u001b[1;32m     61\u001b[0m     \u001b[38;5;66;03m# Find the top max_k predictions for each sample\u001b[39;00m\n",
      "\u001b[0;31mTypeError\u001b[0m: 'int' object is not callable"
     ]
    }
   ],
   "source": [
    "action_acc = multitask_topk_accuracies_slide(\n",
    "    (verbs_probs, nouns_probs),\n",
    "    (verbs_labels, nouns_labels),\n",
    "    ks=(1,),\n",
    "    per_action_instance=False,\n",
    ")\n",
    "verb_acc = topk_accuracies_slide(\n",
    "    verbs_probs,\n",
    "    verbs_labels,\n",
    "    ks=(1,),\n",
    "    per_action_instance=False,\n",
    ")\n",
    "noun_acc = topk_accuracies_slide(\n",
    "    nouns_probs,\n",
    "    nouns_labels,\n",
    "    ks=(1,),\n",
    "    per_action_instance=False,\n",
    ")\n",
    "\n",
    "print(f\"A: {action_acc:.2f}\\tV: {verb_acc:.2f}\\tN: {noun_acc:.2f}\")"
   ]
  },
  {
   "cell_type": "markdown",
   "metadata": {},
   "source": [
    "## Get results for `IN_ACTION_BOUNDS` mode"
   ]
  },
  {
   "cell_type": "code",
   "execution_count": 57,
   "metadata": {},
   "outputs": [],
   "source": [
    "# Find rows where all elements are -1\n",
    "labels_to_discard_verbs = np.all(verbs_labels == -1, axis=1)\n",
    "labels_to_discard_nouns = np.all(nouns_labels == -1, axis=1)\n",
    "\n",
    "assert nouns_labels[~labels_to_discard_nouns].shape == verbs_labels[~labels_to_discard_verbs].shape"
   ]
  },
  {
   "cell_type": "code",
   "execution_count": null,
   "metadata": {},
   "outputs": [],
   "source": []
  }
 ],
 "metadata": {
  "kernelspec": {
   "display_name": "Python 3",
   "language": "python",
   "name": "python3"
  },
  "language_info": {
   "codemirror_mode": {
    "name": "ipython",
    "version": 3
   },
   "file_extension": ".py",
   "mimetype": "text/x-python",
   "name": "python",
   "nbconvert_exporter": "python",
   "pygments_lexer": "ipython3",
   "version": "3.10.12"
  }
 },
 "nbformat": 4,
 "nbformat_minor": 4
}
