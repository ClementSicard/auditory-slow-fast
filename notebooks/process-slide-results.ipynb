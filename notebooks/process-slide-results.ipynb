{
 "cells": [
  {
   "cell_type": "code",
   "execution_count": 1,
   "metadata": {},
   "outputs": [],
   "source": [
    "import pandas as pd\n",
    "import os\n",
    "import torch\n",
    "from typing import Tuple\n",
    "\n",
    "import sys\n",
    "\n",
    "sys.path.extend([\"../\"])\n",
    "\n",
    "from audio_slowfast.utils.metrics import topk_accuracies_slide, multitask_topk_accuracies_slide"
   ]
  },
  {
   "cell_type": "code",
   "execution_count": 2,
   "metadata": {},
   "outputs": [
    {
     "data": {
      "text/plain": [
       "True"
      ]
     },
     "execution_count": 2,
     "metadata": {},
     "output_type": "execute_result"
    }
   ],
   "source": [
    "res_path = \"../results/res-2s.pkl\"\n",
    "os.path.exists(res_path)"
   ]
  },
  {
   "cell_type": "code",
   "execution_count": 3,
   "metadata": {},
   "outputs": [],
   "source": [
    "df = pd.read_pickle(res_path)\n",
    "\n",
    "verbs_probs = torch.from_numpy(df[\"verb_output\"])\n",
    "verbs_labels = torch.from_numpy(df[\"verb_labels\"])\n",
    "nouns_probs = torch.from_numpy(df[\"noun_output\"])\n",
    "nouns_labels = torch.from_numpy(df[\"noun_labels\"])"
   ]
  },
  {
   "cell_type": "code",
   "execution_count": 4,
   "metadata": {},
   "outputs": [],
   "source": [
    "unique_pred_verb = torch.argmax(verbs_probs, axis=1)\n",
    "unique_pred_noun = torch.argmax(nouns_probs, axis=1)\n",
    "\n",
    "assert unique_pred_verb.shape[0] == verbs_probs.shape[0]\n",
    "assert unique_pred_noun.shape[0] == nouns_probs.shape[0]"
   ]
  },
  {
   "cell_type": "code",
   "execution_count": 5,
   "metadata": {
    "scrolled": true
   },
   "outputs": [
    {
     "data": {
      "text/plain": [
       "tensor([ 0,  1,  2,  3,  4,  5,  6,  7,  8,  9, 10, 11, 12, 13, 14, 15, 16, 17,\n",
       "        18, 19, 20, 21, 22, 23, 24, 25, 26, 27, 28, 29, 30, 31, 32, 35, 36, 37,\n",
       "        39, 40, 41, 42, 44, 45, 46, 47, 48, 49, 51, 53, 56, 57, 58, 60, 67, 68,\n",
       "        69, 70, 72, 74, 77])"
      ]
     },
     "execution_count": 5,
     "metadata": {},
     "output_type": "execute_result"
    }
   ],
   "source": [
    "torch.unique(unique_pred_verb)"
   ]
  },
  {
   "cell_type": "markdown",
   "metadata": {},
   "source": [
    "## Create function to compute metrics"
   ]
  },
  {
   "cell_type": "code",
   "execution_count": 6,
   "metadata": {},
   "outputs": [],
   "source": [
    "def compute_metrics(\n",
    "    verbs_probs: torch.Tensor,\n",
    "    verbs_labels: torch.Tensor,\n",
    "    nouns_probs: torch.Tensor,\n",
    "    nouns_labels: torch.Tensor,\n",
    "    per_action_instance: bool = False,\n",
    ") -> Tuple[float, float, float]:\n",
    "    action_acc = multitask_topk_accuracies_slide(\n",
    "        (verbs_probs, nouns_probs),\n",
    "        (verbs_labels, nouns_labels),\n",
    "        ks=(1,),\n",
    "        per_action_instance=per_action_instance,\n",
    "    )[0]\n",
    "    verb_acc = topk_accuracies_slide(\n",
    "        verbs_probs,\n",
    "        verbs_labels,\n",
    "        ks=(1,),\n",
    "        per_action_instance=per_action_instance,\n",
    "    )[0]\n",
    "    noun_acc = topk_accuracies_slide(\n",
    "        nouns_probs,\n",
    "        nouns_labels,\n",
    "        ks=(1,),\n",
    "        per_action_instance=per_action_instance,\n",
    "    )[0]\n",
    "\n",
    "    print(f\"A: {action_acc:.2f}\")\n",
    "    print(f\"V: {verb_acc:.2f}\")\n",
    "    print(f\"N: {noun_acc:.2f}\")\n",
    "\n",
    "    return action_acc, verb_acc, noun_acc"
   ]
  },
  {
   "cell_type": "markdown",
   "metadata": {},
   "source": [
    "## Get results for `WHOLE_VIDEO` mode"
   ]
  },
  {
   "cell_type": "code",
   "execution_count": 7,
   "metadata": {},
   "outputs": [
    {
     "name": "stdout",
     "output_type": "stream",
     "text": [
      "A: 6.10\n",
      "V: 25.56\n",
      "N: 10.63\n"
     ]
    }
   ],
   "source": [
    "a_wv, v_wv, n_wv = compute_metrics(\n",
    "    verbs_probs=verbs_probs,\n",
    "    verbs_labels=verbs_labels,\n",
    "    nouns_probs=nouns_probs,\n",
    "    nouns_labels=nouns_labels,\n",
    "    per_action_instance=False,\n",
    ")"
   ]
  },
  {
   "cell_type": "markdown",
   "metadata": {},
   "source": [
    "## Get results for `IN_ACTION_BOUNDS` mode"
   ]
  },
  {
   "cell_type": "code",
   "execution_count": 8,
   "metadata": {},
   "outputs": [],
   "source": [
    "# Find rows where all elements are -1\n",
    "labels_to_discard_verbs = torch.all(verbs_labels == -1, dim=1)\n",
    "labels_to_discard_nouns = torch.all(nouns_labels == -1, dim=1)\n",
    "\n",
    "assert nouns_labels[~labels_to_discard_nouns].shape == verbs_labels[~labels_to_discard_verbs].shape"
   ]
  },
  {
   "cell_type": "code",
   "execution_count": 9,
   "metadata": {},
   "outputs": [
    {
     "name": "stdout",
     "output_type": "stream",
     "text": [
      "A: 8.79\n",
      "V: 36.81\n",
      "N: 15.31\n"
     ]
    }
   ],
   "source": [
    "a_ab, v_ab, n_ab = compute_metrics(\n",
    "    verbs_probs=verbs_probs[~labels_to_discard_verbs],\n",
    "    verbs_labels=verbs_labels[~labels_to_discard_verbs],\n",
    "    nouns_probs=nouns_probs[~labels_to_discard_nouns],\n",
    "    nouns_labels=nouns_labels[~labels_to_discard_nouns],\n",
    "    per_action_instance=False,\n",
    ")"
   ]
  }
 ],
 "metadata": {
  "kernelspec": {
   "display_name": "Python 3",
   "language": "python",
   "name": "python3"
  },
  "language_info": {
   "codemirror_mode": {
    "name": "ipython",
    "version": 3
   },
   "file_extension": ".py",
   "mimetype": "text/x-python",
   "name": "python",
   "nbconvert_exporter": "python",
   "pygments_lexer": "ipython3",
   "version": "3.10.12"
  }
 },
 "nbformat": 4,
 "nbformat_minor": 4
}
